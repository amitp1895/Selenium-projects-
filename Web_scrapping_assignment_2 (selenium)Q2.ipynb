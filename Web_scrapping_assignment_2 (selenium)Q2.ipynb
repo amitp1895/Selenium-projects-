{
 "cells": [
  {
   "cell_type": "raw",
   "metadata": {},
   "source": [
    "Q2: Write a python program to scrape data for “Data Scientist” Job position in “Bangalore” location. You have to scrape the job-title, job-location, company_name, full job-description. You have to scrape first 10 jobs data.\n",
    "This task will be done in following steps:\n",
    "1. first get the webpage https://www.naukri.com/\n",
    "2. Enter “Data Scientist” in “Skill,Designations,Companies” field and enter “Bangalore” in “enter the location” field.\n",
    "3. Then click the search button.\n",
    "4. Then scrape the data for the first 10 jobs results you get.\n",
    "5. Finally create a dataframe of the scraped data."
   ]
  },
  {
   "cell_type": "code",
   "execution_count": 1,
   "metadata": {},
   "outputs": [],
   "source": [
    "#IMPORTING ALL THE REQUIORED LIBRARIES\n",
    "import selenium\n",
    "import pandas as pd\n",
    "from selenium import webdriver \n",
    "import numpy as np "
   ]
  },
  {
   "cell_type": "code",
   "execution_count": 2,
   "metadata": {},
   "outputs": [],
   "source": [
    "driver2=webdriver.Chrome(\"chromedriver.exe\")"
   ]
  },
  {
   "cell_type": "code",
   "execution_count": 3,
   "metadata": {},
   "outputs": [],
   "source": [
    "driver2.get(\"https://www.naukri.com/\")"
   ]
  },
  {
   "cell_type": "code",
   "execution_count": 4,
   "metadata": {},
   "outputs": [],
   "source": [
    "#entering job title in the search box \n",
    "search_jobs=driver2.find_element_by_id(\"qsb-keyword-sugg\")\n",
    "search_jobs.send_keys(\"Data Scientist\")"
   ]
  },
  {
   "cell_type": "raw",
   "metadata": {},
   "source": [
    "#entering location in the search box \n",
    "search_location=driver2.find_element_by_id(\"qsb-location-sugg\")\n",
    "search_location.send_keys(\"Bangalore\")"
   ]
  },
  {
   "cell_type": "code",
   "execution_count": 5,
   "metadata": {},
   "outputs": [],
   "source": [
    "search_button=driver2.find_element_by_xpath(\"//div[@class='search-btn']/button\")\n",
    "search_button.click()"
   ]
  },
  {
   "cell_type": "raw",
   "metadata": {},
   "source": [
    "#THINGS TO SCRAP \n",
    "job-title, job-location, company_name, full job-description.---Data Scientist” Job position in “Bangalore” location"
   ]
  },
  {
   "cell_type": "code",
   "execution_count": 6,
   "metadata": {},
   "outputs": [],
   "source": [
    "#creating empty list to use for data storage \n",
    "jobs_title=[]\n",
    "jobs_location=[]\n",
    "company_names=[]"
   ]
  },
  {
   "cell_type": "code",
   "execution_count": 7,
   "metadata": {},
   "outputs": [],
   "source": [
    "#specifying url of page to scrap \n",
    "DSurl=\"https://www.naukri.com/data-scientist-jobs-in-bangalore?k=data%20scientist&l=bangalore\"\n",
    "driver2.get(DSurl)"
   ]
  },
  {
   "cell_type": "code",
   "execution_count": 8,
   "metadata": {},
   "outputs": [
    {
     "data": {
      "text/plain": [
       "[<selenium.webdriver.remote.webelement.WebElement (session=\"f95377495b9ac6b6a48c69262afa38d8\", element=\"b53c19da-3fa4-411f-966e-010587c6308d\")>,\n",
       " <selenium.webdriver.remote.webelement.WebElement (session=\"f95377495b9ac6b6a48c69262afa38d8\", element=\"1d677e12-9ad3-4c10-b7ba-39cab3a045f3\")>,\n",
       " <selenium.webdriver.remote.webelement.WebElement (session=\"f95377495b9ac6b6a48c69262afa38d8\", element=\"b7742e86-0354-45f9-8f46-35e2e938115f\")>,\n",
       " <selenium.webdriver.remote.webelement.WebElement (session=\"f95377495b9ac6b6a48c69262afa38d8\", element=\"a64c49fc-dccd-4187-a6b3-56586a88095b\")>,\n",
       " <selenium.webdriver.remote.webelement.WebElement (session=\"f95377495b9ac6b6a48c69262afa38d8\", element=\"bf7ab01d-6ace-4669-936b-4f6b55a8676b\")>,\n",
       " <selenium.webdriver.remote.webelement.WebElement (session=\"f95377495b9ac6b6a48c69262afa38d8\", element=\"a07da7fa-ab76-4eb1-afc4-3373ee3cedb6\")>,\n",
       " <selenium.webdriver.remote.webelement.WebElement (session=\"f95377495b9ac6b6a48c69262afa38d8\", element=\"8fedb5f8-643f-4a75-81c3-cde5568fe1a0\")>,\n",
       " <selenium.webdriver.remote.webelement.WebElement (session=\"f95377495b9ac6b6a48c69262afa38d8\", element=\"c5f009a7-2872-4052-874f-9c20598e0018\")>,\n",
       " <selenium.webdriver.remote.webelement.WebElement (session=\"f95377495b9ac6b6a48c69262afa38d8\", element=\"dc28c056-4244-4edb-bd32-7889f6a4c9ad\")>,\n",
       " <selenium.webdriver.remote.webelement.WebElement (session=\"f95377495b9ac6b6a48c69262afa38d8\", element=\"9843f435-b4e7-42bd-a5ca-dccc4b47f65e\")>,\n",
       " <selenium.webdriver.remote.webelement.WebElement (session=\"f95377495b9ac6b6a48c69262afa38d8\", element=\"c5780362-dc75-42ff-a2c3-aaeb906e14fe\")>,\n",
       " <selenium.webdriver.remote.webelement.WebElement (session=\"f95377495b9ac6b6a48c69262afa38d8\", element=\"d464db7c-b622-42ac-9819-7b05089e0ea5\")>,\n",
       " <selenium.webdriver.remote.webelement.WebElement (session=\"f95377495b9ac6b6a48c69262afa38d8\", element=\"7978590e-eeeb-43d8-a4bf-46aceb8858eb\")>,\n",
       " <selenium.webdriver.remote.webelement.WebElement (session=\"f95377495b9ac6b6a48c69262afa38d8\", element=\"513fc837-bb17-45e9-a9b2-f3ca8416746d\")>,\n",
       " <selenium.webdriver.remote.webelement.WebElement (session=\"f95377495b9ac6b6a48c69262afa38d8\", element=\"bc46a683-501d-4e2c-b331-81e805521ac4\")>,\n",
       " <selenium.webdriver.remote.webelement.WebElement (session=\"f95377495b9ac6b6a48c69262afa38d8\", element=\"4125e99f-4d34-4f12-8ad2-a577517a30b2\")>,\n",
       " <selenium.webdriver.remote.webelement.WebElement (session=\"f95377495b9ac6b6a48c69262afa38d8\", element=\"4d78d75b-550d-4797-a7c9-02f89b9da767\")>,\n",
       " <selenium.webdriver.remote.webelement.WebElement (session=\"f95377495b9ac6b6a48c69262afa38d8\", element=\"f1ba04f5-eaa6-4663-8afd-6f8dcef277dd\")>,\n",
       " <selenium.webdriver.remote.webelement.WebElement (session=\"f95377495b9ac6b6a48c69262afa38d8\", element=\"a2936dc8-5055-4a20-b26c-51ecf6ef5ceb\")>,\n",
       " <selenium.webdriver.remote.webelement.WebElement (session=\"f95377495b9ac6b6a48c69262afa38d8\", element=\"f6ef8826-383c-41c6-957e-7a9d4b39244e\")>]"
      ]
     },
     "execution_count": 8,
     "metadata": {},
     "output_type": "execute_result"
    }
   ],
   "source": [
    "title_tags=driver2.find_elements_by_xpath(\"//a[@class='title fw500 ellipsis']\")\n",
    "title_tags"
   ]
  },
  {
   "cell_type": "code",
   "execution_count": 9,
   "metadata": {},
   "outputs": [
    {
     "name": "stdout",
     "output_type": "stream",
     "text": [
      "20\n"
     ]
    },
    {
     "data": {
      "text/plain": [
       "['Data Scientist / AI / ML Engineer',\n",
       " 'Senior Data Scientist',\n",
       " 'Senior Data Scientist',\n",
       " 'Senior Data Scientist, NLP',\n",
       " 'Data Scientist',\n",
       " 'Senior/Lead Data Scientist',\n",
       " 'Data Scientist',\n",
       " 'Data Scientist',\n",
       " 'Data Scientist',\n",
       " 'Data Scientist: Advanced Analytics',\n",
       " 'Data Scientist - AI Flagship',\n",
       " 'Digital Enterprise Architect (Data Scientist)',\n",
       " 'Data Scientist',\n",
       " 'Data Scientist',\n",
       " 'Data Scientist',\n",
       " 'Data Scientist - HDFS/SQL',\n",
       " 'Sr. Data Scientist',\n",
       " 'Senior Data Scientist',\n",
       " 'Data Scientist',\n",
       " 'Data Scientist']"
      ]
     },
     "execution_count": 9,
     "metadata": {},
     "output_type": "execute_result"
    }
   ],
   "source": [
    "for i in title_tags:\n",
    "    title=i.text\n",
    "    jobs_title.append(title)\n",
    "    \n",
    "print(len(jobs_title))    \n",
    "jobs_title"
   ]
  },
  {
   "cell_type": "code",
   "execution_count": 10,
   "metadata": {},
   "outputs": [
    {
     "data": {
      "text/plain": [
       "[<selenium.webdriver.remote.webelement.WebElement (session=\"f95377495b9ac6b6a48c69262afa38d8\", element=\"f29c56ed-e0bc-4519-a0bd-8f9b451e0df8\")>,\n",
       " <selenium.webdriver.remote.webelement.WebElement (session=\"f95377495b9ac6b6a48c69262afa38d8\", element=\"580bf55c-ad36-4c00-aa69-f4541face26a\")>,\n",
       " <selenium.webdriver.remote.webelement.WebElement (session=\"f95377495b9ac6b6a48c69262afa38d8\", element=\"9770e048-cb15-4f38-8c86-3201d8d7504a\")>,\n",
       " <selenium.webdriver.remote.webelement.WebElement (session=\"f95377495b9ac6b6a48c69262afa38d8\", element=\"85be74fd-325f-4ae1-a82c-be0c16cb2b4a\")>,\n",
       " <selenium.webdriver.remote.webelement.WebElement (session=\"f95377495b9ac6b6a48c69262afa38d8\", element=\"e105cf6e-4926-49f4-8216-ae866e5fb3e2\")>,\n",
       " <selenium.webdriver.remote.webelement.WebElement (session=\"f95377495b9ac6b6a48c69262afa38d8\", element=\"cd5548a3-c365-4772-84b1-8a5396d97af3\")>,\n",
       " <selenium.webdriver.remote.webelement.WebElement (session=\"f95377495b9ac6b6a48c69262afa38d8\", element=\"9d69bbb7-71b5-4b2f-850e-633e0844eaa9\")>,\n",
       " <selenium.webdriver.remote.webelement.WebElement (session=\"f95377495b9ac6b6a48c69262afa38d8\", element=\"6ed8a5ec-58ef-4349-b3cb-f8903e5696e0\")>,\n",
       " <selenium.webdriver.remote.webelement.WebElement (session=\"f95377495b9ac6b6a48c69262afa38d8\", element=\"dca44754-9e8b-486d-98af-1523a9e8c6e0\")>,\n",
       " <selenium.webdriver.remote.webelement.WebElement (session=\"f95377495b9ac6b6a48c69262afa38d8\", element=\"dce8d376-b01c-41f7-82ab-a1a84e9fb19a\")>,\n",
       " <selenium.webdriver.remote.webelement.WebElement (session=\"f95377495b9ac6b6a48c69262afa38d8\", element=\"534d6d11-9b32-40a1-b7b4-615e598b57a9\")>,\n",
       " <selenium.webdriver.remote.webelement.WebElement (session=\"f95377495b9ac6b6a48c69262afa38d8\", element=\"84c49403-ff30-45db-b316-110713cf0c32\")>,\n",
       " <selenium.webdriver.remote.webelement.WebElement (session=\"f95377495b9ac6b6a48c69262afa38d8\", element=\"73d42633-08d2-4102-84cf-17623f4ce533\")>,\n",
       " <selenium.webdriver.remote.webelement.WebElement (session=\"f95377495b9ac6b6a48c69262afa38d8\", element=\"c14cf85c-3644-4b3c-b4c9-56cedfa9d730\")>,\n",
       " <selenium.webdriver.remote.webelement.WebElement (session=\"f95377495b9ac6b6a48c69262afa38d8\", element=\"60f02abb-31df-4d02-b975-25e6f908a548\")>,\n",
       " <selenium.webdriver.remote.webelement.WebElement (session=\"f95377495b9ac6b6a48c69262afa38d8\", element=\"01c8ba92-e752-4e1b-9206-9cab2322512d\")>,\n",
       " <selenium.webdriver.remote.webelement.WebElement (session=\"f95377495b9ac6b6a48c69262afa38d8\", element=\"4b7571b8-ff37-4d28-836a-4e41af50cd10\")>,\n",
       " <selenium.webdriver.remote.webelement.WebElement (session=\"f95377495b9ac6b6a48c69262afa38d8\", element=\"d9754004-9c70-4897-8ebc-7a7bafa52cbb\")>,\n",
       " <selenium.webdriver.remote.webelement.WebElement (session=\"f95377495b9ac6b6a48c69262afa38d8\", element=\"3c3da1ae-84ae-4b3b-9745-ca525cc3a22b\")>,\n",
       " <selenium.webdriver.remote.webelement.WebElement (session=\"f95377495b9ac6b6a48c69262afa38d8\", element=\"76570872-8773-40d9-ab76-926ae1792a02\")>]"
      ]
     },
     "execution_count": 10,
     "metadata": {},
     "output_type": "execute_result"
    }
   ],
   "source": [
    "location_tags=driver2.find_elements_by_xpath(\"//li[@class='fleft grey-text br2 placeHolderLi location']/span[1]\")\n",
    "location_tags"
   ]
  },
  {
   "cell_type": "code",
   "execution_count": 11,
   "metadata": {},
   "outputs": [
    {
     "name": "stdout",
     "output_type": "stream",
     "text": [
      "20\n"
     ]
    },
    {
     "data": {
      "text/plain": [
       "['Bangalore/Bengaluru',\n",
       " 'Bangalore/Bengaluru',\n",
       " 'Bangalore/Bengaluru(Sadashiva Nagar)',\n",
       " 'Bangalore/Bengaluru',\n",
       " 'Bangalore/Bengaluru',\n",
       " 'Bangalore/Bengaluru',\n",
       " 'Bangalore/Bengaluru(Whitefield)',\n",
       " 'Bangalore/Bengaluru',\n",
       " 'Bangalore/Bengaluru',\n",
       " 'Bangalore/Bengaluru',\n",
       " 'Bangalore/Bengaluru',\n",
       " 'Bangalore/Bengaluru',\n",
       " 'Bangalore/Bengaluru',\n",
       " 'Bangalore/Bengaluru',\n",
       " 'Mumbai, Pune, Gurgaon/Gurugram, Bangalore/Bengaluru',\n",
       " 'Bangalore/Bengaluru',\n",
       " 'Bangalore/Bengaluru',\n",
       " 'Bangalore/Bengaluru',\n",
       " 'Chennai, Bangalore/Bengaluru',\n",
       " 'Bangalore/Bengaluru']"
      ]
     },
     "execution_count": 11,
     "metadata": {},
     "output_type": "execute_result"
    }
   ],
   "source": [
    "for i in location_tags:\n",
    "    loc=i.text\n",
    "    jobs_location.append(loc)\n",
    "    \n",
    "print(len(jobs_location))\n",
    "jobs_location\n"
   ]
  },
  {
   "cell_type": "code",
   "execution_count": 12,
   "metadata": {},
   "outputs": [
    {
     "data": {
      "text/plain": [
       "[<selenium.webdriver.remote.webelement.WebElement (session=\"f95377495b9ac6b6a48c69262afa38d8\", element=\"93a94829-1eba-4479-b002-f0375076d350\")>,\n",
       " <selenium.webdriver.remote.webelement.WebElement (session=\"f95377495b9ac6b6a48c69262afa38d8\", element=\"1b1fe66b-ce4e-4168-a181-78fc7db1eef7\")>,\n",
       " <selenium.webdriver.remote.webelement.WebElement (session=\"f95377495b9ac6b6a48c69262afa38d8\", element=\"3b35e5b4-5bbf-4a66-bbb7-76f855b68556\")>,\n",
       " <selenium.webdriver.remote.webelement.WebElement (session=\"f95377495b9ac6b6a48c69262afa38d8\", element=\"903d2f82-509e-4839-a395-57f83b8cbfad\")>,\n",
       " <selenium.webdriver.remote.webelement.WebElement (session=\"f95377495b9ac6b6a48c69262afa38d8\", element=\"2e8a2c6a-62cc-4695-aa09-2f2e9f96c891\")>,\n",
       " <selenium.webdriver.remote.webelement.WebElement (session=\"f95377495b9ac6b6a48c69262afa38d8\", element=\"1da757c7-a481-4032-be36-6ec1fb0a4340\")>,\n",
       " <selenium.webdriver.remote.webelement.WebElement (session=\"f95377495b9ac6b6a48c69262afa38d8\", element=\"e4ec3621-ac60-4821-b837-1fb001e6f75d\")>,\n",
       " <selenium.webdriver.remote.webelement.WebElement (session=\"f95377495b9ac6b6a48c69262afa38d8\", element=\"80a46b95-73d4-4a73-9d39-16ada8ac2e44\")>,\n",
       " <selenium.webdriver.remote.webelement.WebElement (session=\"f95377495b9ac6b6a48c69262afa38d8\", element=\"eb6acc6c-d995-418b-ab05-96c975b0bcf8\")>,\n",
       " <selenium.webdriver.remote.webelement.WebElement (session=\"f95377495b9ac6b6a48c69262afa38d8\", element=\"07bc74f5-5fc2-4d1b-8667-b2ba1fcd4e8d\")>,\n",
       " <selenium.webdriver.remote.webelement.WebElement (session=\"f95377495b9ac6b6a48c69262afa38d8\", element=\"f90d4db1-bd2d-41cd-8554-e6a0850f4e30\")>,\n",
       " <selenium.webdriver.remote.webelement.WebElement (session=\"f95377495b9ac6b6a48c69262afa38d8\", element=\"ed44e356-7843-494d-b212-a6caca0ef896\")>,\n",
       " <selenium.webdriver.remote.webelement.WebElement (session=\"f95377495b9ac6b6a48c69262afa38d8\", element=\"e1c7ebc7-c952-4ed7-9b16-80370729d5dc\")>,\n",
       " <selenium.webdriver.remote.webelement.WebElement (session=\"f95377495b9ac6b6a48c69262afa38d8\", element=\"cc13d383-f8cf-4cfa-9e5c-cc9aa5771ef4\")>,\n",
       " <selenium.webdriver.remote.webelement.WebElement (session=\"f95377495b9ac6b6a48c69262afa38d8\", element=\"20c1b987-123a-490e-b09e-ac0c8aa32be9\")>,\n",
       " <selenium.webdriver.remote.webelement.WebElement (session=\"f95377495b9ac6b6a48c69262afa38d8\", element=\"143bbc00-55e8-45e3-89d5-7d492c260e4e\")>,\n",
       " <selenium.webdriver.remote.webelement.WebElement (session=\"f95377495b9ac6b6a48c69262afa38d8\", element=\"dee296bf-0e3d-4003-bb45-08f1986a9c7c\")>,\n",
       " <selenium.webdriver.remote.webelement.WebElement (session=\"f95377495b9ac6b6a48c69262afa38d8\", element=\"1ab54aec-2731-4214-ac22-8b98935ce0d2\")>,\n",
       " <selenium.webdriver.remote.webelement.WebElement (session=\"f95377495b9ac6b6a48c69262afa38d8\", element=\"2e7b6657-cf3a-4d53-8ff5-b89a56041afc\")>,\n",
       " <selenium.webdriver.remote.webelement.WebElement (session=\"f95377495b9ac6b6a48c69262afa38d8\", element=\"3756fa7d-23fd-407c-9af8-9253881e9853\")>]"
      ]
     },
     "execution_count": 12,
     "metadata": {},
     "output_type": "execute_result"
    }
   ],
   "source": [
    "name_tags=driver2.find_elements_by_xpath(\"//a[@class='subTitle ellipsis fleft']\")\n",
    "name_tags"
   ]
  },
  {
   "cell_type": "code",
   "execution_count": 13,
   "metadata": {},
   "outputs": [
    {
     "name": "stdout",
     "output_type": "stream",
     "text": [
      "20\n"
     ]
    },
    {
     "data": {
      "text/plain": [
       "['Hitachi Ltd.',\n",
       " 'GO-JEK India',\n",
       " 'Convergence Infotech Ltd',\n",
       " 'Thomson Reuters',\n",
       " 'bd',\n",
       " 'Scienaptic Systems',\n",
       " 'BRIDGETREE RESEARCH SERVICES PRIVATE LIMITED',\n",
       " 'Flipkart Internet Private Limited',\n",
       " 'Philips India Limited',\n",
       " 'IBM India Pvt. Limited',\n",
       " 'Schneider Electric India Pvt. Ltd.',\n",
       " 'Mphasis Limited',\n",
       " 'Intel Technology India Pvt Ltd',\n",
       " 'GlaxoSmithKline Pharmaceuticals Limited',\n",
       " 'Alloys Consulting Private Limited',\n",
       " 'Glowfin India Solutions',\n",
       " 'BIZVIZ TECHNOLOGIES PRIVATE LIMITED',\n",
       " 'Kwalee India Pvt Ltd.',\n",
       " 'Applied Materials',\n",
       " 'Allegis Services India Pvt. Ltd.']"
      ]
     },
     "execution_count": 13,
     "metadata": {},
     "output_type": "execute_result"
    }
   ],
   "source": [
    "for i in name_tags:\n",
    "    name=i.text\n",
    "    company_names.append(name)\n",
    "    \n",
    "print(len(company_names))\n",
    "company_names\n",
    "    "
   ]
  },
  {
   "cell_type": "code",
   "execution_count": 14,
   "metadata": {},
   "outputs": [],
   "source": [
    "job_url=[]"
   ]
  },
  {
   "cell_type": "code",
   "execution_count": 15,
   "metadata": {},
   "outputs": [],
   "source": [
    "url_tag=driver2.find_elements_by_xpath(\"//a[@class='title fw500 ellipsis']\")"
   ]
  },
  {
   "cell_type": "code",
   "execution_count": 16,
   "metadata": {},
   "outputs": [
    {
     "name": "stdout",
     "output_type": "stream",
     "text": [
      "20\n"
     ]
    },
    {
     "data": {
      "text/plain": [
       "['https://www.naukri.com/job-listings-data-scientist-ai-ml-engineer-hitachi-ltd-bangalore-bengaluru-5-to-10-years-111021500424?src=jobsearchDesk&sid=1633973043194782&xp=1&px=1',\n",
       " 'https://www.naukri.com/job-listings-senior-data-scientist-go-jek-india-bangalore-bengaluru-5-to-10-years-111021502002?src=jobsearchDesk&sid=1633973043194782&xp=2&px=1',\n",
       " 'https://www.naukri.com/job-listings-senior-data-scientist-convergence-infotech-ltd-bangalore-bengaluru-8-to-12-years-111021004221?src=jobsearchDesk&sid=1633973043194782&xp=3&px=1',\n",
       " 'https://www.naukri.com/job-listings-senior-data-scientist-nlp-thomson-reuters-international-services-pvt-ltd-bangalore-bengaluru-8-to-10-years-111021001745?src=jobsearchDesk&sid=1633973043194782&xp=4&px=1',\n",
       " 'https://www.naukri.com/job-listings-data-scientist-bd-bangalore-bengaluru-2-to-5-years-091021500390?src=jobsearchDesk&sid=1633973043194782&xp=5&px=1',\n",
       " 'https://www.naukri.com/job-listings-senior-lead-data-scientist-scienaptic-systems-bangalore-bengaluru-10-to-12-years-041021500239?src=jobsearchDesk&sid=1633973043194782&xp=6&px=1',\n",
       " 'https://www.naukri.com/job-listings-data-scientist-bridgetree-research-services-private-limited-bangalore-bengaluru-4-to-5-years-111021005895?src=jobsearchDesk&sid=1633973043194782&xp=7&px=1',\n",
       " 'https://www.naukri.com/job-listings-data-scientist-flipkart-internet-private-limited-bangalore-bengaluru-3-to-6-years-081021906627?src=jobsearchDesk&sid=1633973043194782&xp=8&px=1',\n",
       " 'https://www.naukri.com/job-listings-data-scientist-philips-india-limited-bangalore-bengaluru-5-to-7-years-041021501464?src=jobsearchDesk&sid=1633973043194782&xp=9&px=1',\n",
       " 'https://www.naukri.com/job-listings-data-scientist-advanced-analytics-ibm-india-pvt-limited-bangalore-bengaluru-5-to-10-years-051021909207?src=jobsearchDesk&sid=1633973043194782&xp=10&px=1',\n",
       " 'https://www.naukri.com/job-listings-data-scientist-ai-flagship-schneider-electric-india-pvt-ltd-bangalore-bengaluru-4-to-7-years-081021501357?src=jobsearchDesk&sid=1633973043194782&xp=11&px=1',\n",
       " 'https://www.naukri.com/job-listings-digital-enterprise-architect-data-scientist-mphasis-limited-bangalore-bengaluru-10-to-13-years-051021900146?src=jobsearchDesk&sid=1633973043194782&xp=12&px=1',\n",
       " 'https://www.naukri.com/job-listings-data-scientist-intel-technology-india-pvt-ltd-bangalore-bengaluru-1-to-2-years-041021501560?src=jobsearchDesk&sid=1633973043194782&xp=13&px=1',\n",
       " 'https://www.naukri.com/job-listings-data-scientist-glaxosmithkline-pharmaceuticals-limited-bangalore-bengaluru-4-to-7-years-081021501507?src=jobsearchDesk&sid=1633973043194782&xp=14&px=1',\n",
       " 'https://www.naukri.com/job-listings-data-scientist-alloys-consulting-private-limited-mumbai-pune-gurgaon-gurugram-bangalore-bengaluru-6-to-11-years-111021903711?src=jobsearchDesk&sid=1633973043194782&xp=15&px=1',\n",
       " 'https://www.naukri.com/job-listings-data-scientist-hdfs-sql-glowfin-india-solutions-bangalore-bengaluru-3-to-7-years-111021908100?src=jobsearchDesk&sid=1633973043194782&xp=16&px=1',\n",
       " 'https://www.naukri.com/job-listings-sr-data-scientist-bizviz-technologies-private-limited-bangalore-bengaluru-4-to-7-years-081021002595?src=jobsearchDesk&sid=1633973043194782&xp=17&px=1',\n",
       " 'https://www.naukri.com/job-listings-senior-data-scientist-kwalee-india-pvt-ltd-bangalore-bengaluru-5-to-10-years-260321000780?src=jobsearchDesk&sid=1633973043194782&xp=18&px=1',\n",
       " 'https://www.naukri.com/job-listings-data-scientist-applied-materials-india-private-limited-chennai-bangalore-bengaluru-7-to-10-years-081021909146?src=jobsearchDesk&sid=1633973043194782&xp=19&px=1',\n",
       " 'https://www.naukri.com/job-listings-data-scientist-allegis-services-india-pvt-ltd-bangalore-bengaluru-1-to-3-years-071021604773?src=jobsearchDesk&sid=1633973043194782&xp=20&px=1']"
      ]
     },
     "execution_count": 16,
     "metadata": {},
     "output_type": "execute_result"
    }
   ],
   "source": [
    "for i in url_tag:\n",
    "    ur=i.get_attribute('href')\n",
    "    job_url.append(ur)\n",
    "\n",
    "print(len(job_url))\n",
    "job_url"
   ]
  },
  {
   "cell_type": "raw",
   "metadata": {},
   "source": [
    "## Reference code \n",
    "\n",
    "full_desc=[]\n",
    "\n",
    "\n",
    "for i in job_url:\n",
    "    driver2.get(i)\n",
    "    desc_tags=driver2.find_elements_by_xpath(\"//div[@class='dang-inner-html']\")\n",
    "    for j in desc_tags:\n",
    "        dec=j.text\n",
    "        full_desc.append(dec)\n",
    "    \n",
    "#this code gives 17 items "
   ]
  },
  {
   "cell_type": "raw",
   "metadata": {},
   "source": [
    "full_desc"
   ]
  },
  {
   "cell_type": "raw",
   "metadata": {},
   "source": [
    "len(full_desc)"
   ]
  },
  {
   "cell_type": "code",
   "execution_count": 17,
   "metadata": {},
   "outputs": [],
   "source": [
    "#rough reference =\n",
    "#few web sites#<div class=\"clearboth description\">As a Data Scientist at IBM, you will help transform our clients data into tangible business value by analyzing information, communicating outcomes and collaborating on product development. Work with Best in Class open source and visual tools, along with the most flexible and scalable deployment options. Whether it s investigating patient trends or weather patterns, you will work to solve real world problems for the industries transforming how we live. <br> <span> </span> <br> <span> Your Role and Responsibilities </span> <span> </span> <p> </p> <ul> <li> <span> Work with IBM Q Start team on active exploratory research engagements to prepare for future use case commercialization within specific industry </span> </li> <li> <span> Engage and educate client data science teams to define promising areas for quantum exploration </span> </li> <li> <span> Implement quantum approaches, which includes data pre-/post-processing, running numerics and visualizing data </span> </li> <li> <span> Collaborate with industry and solutioning experts to design and shape experiments to demonstrate quantum-enabled advantage </span> </li> <li> <span> <span> Define best practices related to information architecture, including collection, integration, organization, analysis and visualization of data for quantum-enabled impact </span> </span> </li> <li> <span> <span> Engage in practice development initiatives focused on building employee knowledge and skills in specific areas of expertise through coaching and development of training course material </span> </span> </li> </ul> <p> <span> Required Technical and Professional Expertise </span> <span> </span> </p> <ul> <li> <span> PhD/Masters in STEM-related fields with knowledge in Quantum Computing. </span> </li> <li> <span> 5 years of data engineering and data science experience  </span> </li> <li> <span> <span> 2 years of consulting experience within specific industries with strong domain expertise and business acumen </span> </span> </li> <li> <span> Proficiency with classical approaches to machine learning and linear algebra, including Support Vector Machine (SVM) for linear categorization and Singular Value Decomposition (SVD) to reduce dimensionality of data </span> </li> <li> <span> Familiar with Qiskit software, including Qiskit Aqua for domain applications and Qiskit Terra for quantum circuit design and optimization  </span> </li> <li> <span> <span> Excellent  </span> </span> <span> ideation, facilitation and communications skills </span> </li> <li> <span> <span> Detail-oriented team player with strong interpersonal skills and ability to take a leadership role when necessary </span> </span> </li> <li> <span> <span> Willingness to travel globally up to 40%  </span> </span> <span> once we return to a travel-safe environment. </span> </li> <li> <span> English: Fluent </span> </li> </ul> <p> <span> Preferred Technical and Professional Expertise </span> <span> </span> </p> <ul> <li> 2 years of experience in at least one of the industries, with knowledge of industry trends, R&amp;D areas, and computationally intensive processes (e.g. optimization)  </li> <li> <span> Familiarity with Qiskit </span> </li> </ul></div>\n",
    "#naukri sites#<div class=\"dang-inner-html\"><p> Uses predictive modeling, statistics, Machine Learning, Data Mining, and other data analysis techniques to collect, explore, and extract insights from structure and unstructured data . Develop software, algorithms and applications to apply mathematics to data, perform large scale experimentation and build data driven apps to translate data into intelligence, solve a variety of business problems and enable business strategy. </p> <p> &nbsp;Assists business with casual inferences observations with finding patterns , relationships in data. Must possess strong understanding of internal business segment (stakeholders) and possess strong written and communication skills. Typically requires expertise in relational database structures, research methods, machine learning, Cloud based technologies, Big Data technologies (i.e. Hadoop , HBase, Lucene/Solr), analytics packages (i.e. R, Mahout, Matlab, Octave, Weka), scripting languages (i.e. Python, Perl), programing languages (i.e. Java, C/C , SQL). Typically possesses advanced degree in Computer Science, Mathematics, Machine Learning, Operation Research, and Statistics or equivalent expertise. </p><br><br>Minimum qualifications are required to be initially considered for this position. Preferred qualifications are in addition to the minimum requirements and are considered a plus factor in identifying top candidates. <br> <br> Minimum Qualifications:  <p> &lt;</p></div>"
   ]
  },
  {
   "cell_type": "code",
   "execution_count": 18,
   "metadata": {},
   "outputs": [],
   "source": [
    "full_desc=[]\n",
    "\n",
    "\n",
    "for i in job_url:\n",
    "    driver2.get(i)\n",
    "    desc_tags=driver2.find_elements_by_xpath(\"//*[@class='dang-inner-html' or  @class='clearboth description' ]\")\n",
    "    for j in desc_tags:\n",
    "        dec=j.text.replace(\"\\n\",'')\n",
    "        full_desc.append(dec)\n",
    "\n",
    "#for i in range(10):\n",
    "    #full_desc.pop()"
   ]
  },
  {
   "cell_type": "code",
   "execution_count": 19,
   "metadata": {},
   "outputs": [
    {
     "data": {
      "text/plain": [
       "20"
      ]
     },
     "execution_count": 19,
     "metadata": {},
     "output_type": "execute_result"
    }
   ],
   "source": [
    "len(full_desc)"
   ]
  },
  {
   "cell_type": "code",
   "execution_count": 20,
   "metadata": {},
   "outputs": [
    {
     "data": {
      "text/plain": [
       "['Duties and ResponsibilitiesImplement the application solving customer s issue by applying AI/ML technologiesApply ML and DL models for various industry problems.Setting-up collaboration environment and framework for AI related research and development projects.Design and develop different architectural models for scalable data storage, processing, and large-scale analytics.Work with cross-functional teams to understand technical needs.Set-up big data environment that helps establish rapid POCs and prototype developments on both on-premises and cloud-based platforms.Monitor and optimize performance of the big data ecosystem.Ensure data accessibility to researchers via different programming languages.Keep up to date with state of the art in the industry.QualificationsMinimumBachelor s degree in Computer Science with substantial industry experience of 5 years or more of Data Engineering/ETL/Administration experience.Hands-on experience in Statistical data analysis and Machine learningPossess significant knowledge of Big Data technologies and tools.Good coding skills in at least one scripting language (Shell, Python, R, etc.)Experience with various Hadoop distribution like Hortonworks and Cloudera.Knowledge of cluster monitoring tools like Ambari, Ganglia, or Nagios.Delivered Big Data solutions in the cloud with AWS or Azure or Google Cloud.Experience in Java programming, Scala programming.Experience with RDBMS (MySQL, PostgreSQL, etc.)Experience with NoSQL database administration development like MongoDB.Experience with Hadoop eco-system (MapReduce, Streaming, Pig, HIVE, Spark).Experience using DevOps toolbox such as Jenkins, Chef, Puppet.Proven ability to create and manage big data pipeline using Kafka, Flume SparkKnowledge of BI tools such as Tableau, Pentaho, etc.Experience building large-scale distributed applications and services.Experience with agile development methodologies. -Knowledge of industry standards and trends.Good communication, logical thinking, and presentation skills.Additional qualifications (preferred but not mandatory)Master s degree in Computer Science or equivalent with at least 5 years industry experience of data engineering/ETL/Administration.Experience applying Deep learning.Substantial industry experience developing prototypes and demonstrating PoCs',\n",
       " 'What You Will DoWork with Data Scientists, Machine Learning Engineers, and Business Users to build, deploy, and scale Data Science solutions on match-making, supply, pricing problems in Gojek that touch the company s baselineUse your experience in Data Science, Machine Learning, Software Engineering, distributed systems to develop these systems, and work with the platform team to take the systems to productionWork with Business teams to continuously refine and improve the systems to cater to ever-changing Gojek needsDesign and develop world class Data Science solutions to enhance the current stack of Marketplace algorithms for supply, demand, pricingWhat You Will NeedAt least 6 years of experience as a Data Scientist or Machine Learning Engineer, with experience in Python, Golang/Java, and UnixA Bachelors Degree in Computer Science, Statistics, Operations Research, or a relevant quantitative fieldSolid knowledge of Data Science and Machine Learning fundamentals, with proven experience formulating Data Science solutions to business problemsProven ability to recognize business needs and to communicate with multiple stakeholders within the Product Management, Business and Operations teamsExperience in taking Data Science models to productionPrior academic or industry work experience with forecasting methods like auto-regressive models, Markov models, and Kernel-based methodsPrior experience with simulations for modeling the stochastic nature of marketplace supply and demand, and knowledge of the transportation and mobility space',\n",
       " 'Roles and ResponsibilitiesPhD in Statistics, Math or Computer Science is preferred. Must have at least a Master degree with 10+ years of experience.Excellent statistical analysis skills to identify patterns in data. This includes having a keen sense of pattern detection and anomaly detection.Excellent understanding of machine learning techniques and algorithms, such as k-NN, Naive Bayes, SVM, Decision Forests, etc.Must be able to implement algorithms and statistical concepts to build predictive models.In-depth experience with common data science tools such as TensorFlow, PyTorch or equivalent.Proficient in programming with python, SQL and No-SQL databases; and data science libraries such as nltk, numpy, scipy and many othersGreat communication skills both written and verbal. Must be able to effectively communicate with global English speaking teams.Expertise in collaborating with multi-disciplinary teams of business analysts, data scientists, subject matter experts, and developersDesired Candidate ProfilePerks and Benefits',\n",
       " \"Senior Data Scientist, NLPAre you excited about working at the forefront of applied research in an industry setting? Thomson Reuters Labs in Bangalore is seeking experienced data scientists with a passion for solving problems using state-of-the-art Machine Learning and Natural Language Processing.What does Thomson Reuters Labs do? We experiment, we build, we deliver. We support the organization and our customers through applied research and the development of new products and technologies. TR Labs innovates collaboratively across our core segments in Legal, Tax & Accounting, Government, and Reuters News.  We undertake a diverse portfolio of projects today while investing in long-term research for the future.As a data scientist in Labs, you will be part of a global interdisciplinary team of experts. We hire specialists across a variety of AI research areas, as well as Engineering and Design, to drive the company's digital transformation. TR Labs is known for consistently delivering Artificial Intelligence projects that advance the state of the art in support of high growth products and serve Thomson Reuters customers in new and exciting ways.About the roleIn this opportunity as a Senior Data Scientist, you will:Experiment and Develop: You will drive the entire model development lifecycle, building, testing, and delivering high-quality solutions. You will apply best practices for conducting reproducible research and well-managed software delivery.Collaborate: Working on a collaborative cross-functional team, you will share information, value diverse ideas, and partner effectively with colleagues across the globe. You will elevate and mentor teammates.Deliver: With a strong sense of urgency and the desire to work in a fast-paced, dynamic environment, you will translate complex business problems into projects with a clearly defined scope. Our problems are complex; our solutions are right-sized. You will be accountable for timely, well-managed deliverables.Innovate:  You will be empowered to try new approaches and learn new technologies. You will implement innovative ideas to solve real-world challenges.Inspire: You will be a proactive communicator who is excited to share your work. You will be articulate and compelling in describing ideas to both technical and non-technical audiences. You will help lead the way in the adoption of AI across the enterprise.About youBasic qualificationsPh.D. in a relevant discipline or Masters plus a comparable level of experienceAt least five years experience building ML/NLP systemsSolid software engineering skills for prototypingExperience as a technical leader, coordinating and guiding the work of othersPreferred qualifications8+ years of academic or industry experience building ML or NLP systems with the demonstrated ability to translate cutting edge research into working applicationsDemonstrated ability to translate customer needs into well-structured research/project plansProficiency in Python, Java, or Scala and experience delivering minimum viable products in a large enterprise environmentOutstanding communication, organization, and data-driven decision makingPublications at workshops or conferences such as ACL, EMNLP, KDD, ICML, NeurIPS, or similarWhat's in it for youAt Thomson Reuters, our people are our greatest assets. In addition to rewarding and challenging work with exceptional colleagues, we offer the following benefits for your personal and professional growth:Learning & Development: On-the-job coaching & learning, tuition reimbursement, exposure to leading-edge technologyOur Scientists and Engineers get to play with big data sets to discover new products, capabilities, and insights for our customers. Thomson Reuters is most well-known for the globally respected Reuters News agency, but our company is also the leading source of information for legal, corporate, and tax professionals. We have over 60,000 TBs worth of legal, regulatory, news, and tax data. Benefits: Flexible work arrangements, comprehensive health coverage effective day one, savings and investment plansPerks: Social events & activities, employee discount programsSocial Impact: Paid time off for volunteering virtually or in your community\",\n",
       " '  Understand business problems and develop end-to-end data science use casesCollaborate across the function to understand data and to find ways to visualize and communicate your work to both technical and non-technical audiences.Evolve best data operational practices and maintain all compliance requirementsMonitor data science models in productionActively network on a regular basis with SME to better understand the business/technical mechanics that generated the dataPromote collaboration and knowledge exchange with other data science teams within and outside the organizationDevelop processes and tools to monitor and analyze model performance and data accuracyOne or more scientific programming languages such as R, Python, or Julia,One or more database query languages such as SQL, or HiveQL,One or more general-purpose scripting languages such as Bash, PowerShell, or Perlrovide the total years of experience and the relevant experience required in the relevant field for this positionSkillsTechnical / Functional SkillsBehavioural SkillsSoft SkillsLeadership Skills',\n",
       " 'We are looking for an energetic and experienced person as Sr/Lead Data Scientist. The chosen candidate will be responsible for interacting with clients and developing all aspects of data mining, predictive analytic, solution development to name a few.RequirementsLead and take part in end-to-end ML (Machine Learning) projects deployments that require feasibility analysis, design, development, validation, and application of state-of-the art data science solutions.Need to deliver solutions to production through the software development lifecycle.You will have to push the state of the art application in terms of data mining, visualization, predictive modelling, statistics, trend analysis, and other data analysis techniques to solve complex business problems including recommender systems, Customer sentiment modelling, customer life-cycle modelling, Spare parts inventory optimization, spare parts pricing, warranty, After market channel effectiveness.Write production ready code and deploy real time ML models; expose ML outputs through APIs.Hypothesis Testing and Design of experiments to analyze and monitor resultsPartner with Data/ML engineers and vendor partners for input data pipes development and ML models automation.Skills5 10 years of Applied Machine learning experience in the fields of Machine Learning, Recommender Systems, Statistical Modelling, Predictive Modelling.Note: We are looking for candidates who are presently serving their notice or who can join us within 15-20 days.',\n",
       " \"We are seeking a Data Scientist to join our growing Analytics & Reporting team with strong hands-on analytical skills who can leverage disparate datasets, ensure data integrity and quality, create innovative solutions, and provide actionable insights to improve quality, service and customer outcomes. The ideal candidate will have experience with database technologies, operational analytics, working knowledge of Artificial Intelligence/Machine Learning (AI/ML) techniques. You will use statistical creativity and intellectual curiosity to create some of the most impressive statistical analyses that will propel our clients to the next level.ResponsibilitiesBe a collaborative member of a group that translates business questions into practical results and actionable insights.Analyze complex data sets, develop standardized processes, and support various ad-hoc analytic requests like KPI reporting, customer profiling, campaign response analysis, and advanced analytic modeling.Write programs to cleanse and integrate data in an efficient and reusable manner.Ensure data quality and analytic accuracy before presenting to the stakeholders.Implement and validate predictive and prescriptive models; create and maintain statistical models with a focus on big data.Incorporate a variety of statistical and machine learning techniques in your projects.Work on complex problems and act as a consultant on other ML/ Data engineering projects.Produce accurate data reporting and provide recommendations for improving future reports.Provide insights into channel effectiveness and targeting effectiveness to drive better channel personalization as opportunities to improve program success.Evaluate modelling results and communicate the results to technical and non-technical audiences.Research emerging tools and techniques in reporting and analytics.QualificationsDegree in a highly relevant analytical or technical field, such as statistics, data science, or business analytics.4+ years of direct program and analysis experience in retail with a strong emphasis on answering complex business questions and developing practical solutions.Experience in a data-driven environment providing analytics & insights.Knowledge of predictive analytics, statistical modelling, model interpretation, exploratory data analysis and reporting.Extensive experience with large data sets, statistical analyses, and visualization as well as hands on experience with Python, SQL, and Tableau.Ability to quickly learn and take responsibility to deliver from preferred programming tool.Perks and BenefitsBridgetree understands that our people are our true assets, and we go length and breadth to ensure we have a highly engaged and connected working environment. Our values - Integrity, Excellence, Ownership & Accountability, Create Problem Solving, Passion & Here to Help play an important role in defining and shaping Bridgetree's work culture. Quarterly skip-level meetings & annual manager feedback program ensure that employee communication channels are always open.Bridgetree also offers the best in Industry perks and benefits. We follow a calendar cycle for performance/salary appraisal and include a great bonus model in pay structure. Additionally, some of the key benefits we offer are:A whole suite of leaves, PL, ML, Paternity, Quarantine, Sabbatical etc, Medical insurance benefits (including COVID hospitalization)Learning and Development - certification reimbursementFull-time WFHVisa sponsorship programSodexo/Zaggle food card optionsRelocation benefits\",\n",
       " 'About the roleA Data Scientist in Flipkart is required to develop and implement a mix of ML, statistical and optimization models for the various projects formulated from business and product views. The responsible person should be able to communicate and collaborate with multiple stakeholders representing various teams to better understand the problem at hand. At a fundamental level, the responsible person should be able to dive deep into a problem statement and extract interesting insights as well as solutions. In addition to being a quick learner, a DS is expected to get involved in active research projects with a view to publish them.What you ll doUnderstand Business and product needs and use ML, statistical and optimization techniques as appropriate to provide solutions to those in a time bound fashion.Communicate and collaborate with business and product teams to have a better understanding of the project so as to be able to drive it within the DS team.Get involved in in-depth exploration of solutions that are to be shared with business and product teams; specifically, build models and scalable custom algorithms for problems including decision optimization and predictive modeling.Active participation in working with new methods and learning new technologies, in areas including data science and data engineering.What you ll need:B.Tech, M.Tech or PhD in CS, Operations Research or related discipline with professional experience ranging from 3 to 6 years through deployed solutions/projects. Candidate should have taken academic coursework in Operations Research (specifically mathematical optimization)Demonstrated experience in building discrete, linear, nonlinear or stochastic optimization models is required. Experience with optimization models for supply chain optimization is preferred but not requiredDemonstrated experience in utilizing and tuning commercial optimization solvers (e.g. CPLEX, Gurobi) and in building custom optimization algorithms (e.g. exact algorithms, metaheuristics, large neighborhood search, decomposition algorithms, greedy/randomized search) for industry-scale problems is required.Good grasp on the theory and practise of basic statistical models such as regression or clustering and general ML algorithms such as tree, Random Forests, SVM, Boosting, Neural Networks etc. It is not expected that the candidate has actually worked on all these modules.Strong proficiency in Python or R is necessary.',\n",
       " '  Use predictive modeling to increase and optimize customer experiences, revenue generation, campaign optimization and other business outcomesWork with product management to develop data use cases and embed predictive models in workflows on resource constrained platforms and cloud enabled.Selecting features, building and optimizing classifiers using machine learning and deep learning techniquesCollaborates with Data Engineers to enhance data collection and ingestion/curation techniques to include information that is relevant for building analytic systemsProcessing, cleansing, and verifying the integrity of data used for analysisDevelop processes and tools to monitor and analyze model performance and data accuracy. Life cycle management of predictive models.Adherence to compliance procedures in accordance with regulatory standards, requirements, and policies. Managing and designing the reporting environment, including data sources security, and metadata.Job Qualifications:Master s degree or PhD in Computer Science, Information management, Statistics or related field, with 5 to 7 years of experience in the Consumer or Healthcare industry manipulating data sets and building predictive models with focus on product developmentExperience in statistical modelling, machine learning, data mining, unstructured data analytics and natural language processing. Sound understanding of - Bayesian Modelling, Classification Models, Cluster Analysis, Neural Network, Nonparametric Methods, Multivariate Statistics, etc.Strong hands on knowledge of ML techniques like regression algorithms, K-NN, Na ve Bayes, SVM and ensemble techniques like Random forest, AdaBoost etcHaving strong knowledge in unsupervised learning algorithms using Neural networks and Deep-LearningStrong knowledge in Data Wrangling and Exploration techniques to identify the patterns, trends and outliners.Deep knowledge and practical experience with data science toolkits, such as NumPy, Pandas, scikit-learn or equivalentExperience with data visualization tools, such as QlikView, Matplotlib, seaborn or equivalent tools.Proficiency in using query languages, such as SQL, PL/SQLHands on experience in the one or more databases like Hadoop, AWS Redshift, Snowflake etc.Good applied statistics skills, such as distributions, statistical testing, regression, etc.Good ETL scripting and programming skills, such as Python, R or Scala to integrate developed solution into the proposition.A team player capable of working and integrating across cross-functional team for implementing project requirements. Experience in technical requirements gathering and documentation.Ability to work effectively and independently in a fast-paced global collaborative agile team environment with tight deadlinesA flexible, pragmatic and collaborative team player with innate ability to engage with stakeholders at all levels in the organization.A self-starter with high levels of drive, energy, resilience and a desire for professional excellence with a passion for data and data science',\n",
       " 'As a Data Scientist at IBM, you will help transform our clients data into tangible business value by analyzing information, communicating outcomes and collaborating on product development. Work with Best in Class open source and visual tools, along with the most flexible and scalable deployment options. Whether it s investigating patient trends or weather patterns, you will work to solve real world problems for the industries transforming how we live.Your Role and ResponsibilitiesWork with IBM Q Start team on active exploratory research engagements to prepare for future use case commercialization within specific industryEngage and educate client data science teams to define promising areas for quantum explorationImplement quantum approaches, which includes data pre-/post-processing, running numerics and visualizing dataCollaborate with industry and solutioning experts to design and shape experiments to demonstrate quantum-enabled advantageDefine best practices related to information architecture, including collection, integration, organization, analysis and visualization of data for quantum-enabled impactEngage in practice development initiatives focused on building employee knowledge and skills in specific areas of expertise through coaching and development of training course materialRequired Technical and Professional ExpertisePhD/Masters in STEM-related fields with knowledge in Quantum Computing.5 years of data engineering and data science experience2 years of consulting experience within specific industries with strong domain expertise and business acumenProficiency with classical approaches to machine learning and linear algebra, including Support Vector Machine (SVM) for linear categorization and Singular Value Decomposition (SVD) to reduce dimensionality of dataFamiliar with Qiskit software, including Qiskit Aqua for domain applications and Qiskit Terra for quantum circuit design and optimizationExcellent ideation, facilitation and communications skillsDetail-oriented team player with strong interpersonal skills and ability to take a leadership role when necessaryWillingness to travel globally up to 40% once we return to a travel-safe environment.English: FluentPreferred Technical and Professional Expertise2 years of experience in at least one of the industries, with knowledge of industry trends, R&D areas, and computationally intensive processes (e.g. optimization)Familiarity with Qiskit',\n",
       " 'Identify and understand business problems : partner with business stakeholders to understand and communicate on business objectivesDefine analytical techniques to solve business challengesProvide data science contribution into the assigned projectsBe part of the innovation programs (eg. Semtech, chatbots)Maintain high quality code and documentationAssure efficiency, stability and scalability of the solutionCreate deliver easily-consumable presentations to large groups of stakeholders and executives that showcase actionable insights and recommendationsTeam InteractionData Scientist interacts with all members of service line she is assigned to in order to develop provide best in class solutions for the business.She interacts as well with key stakeholders of the business domain business process owners/experts, operations etc. in order to identify business opportunities, discuss test solutionsShe interacts also with other service lines as well as Analytics Apps Infrastructure team in order to exchange best practicesShe interacts also with Analytics Apps Infrastructure team in order to industrialize data productsShe interacts with Global IT department (Schneider Digital) to support the work on Intel Data Store ',\n",
       " 'We are looking for applicants who will thrive in an open, dynamic, flexible, collaborative environment and desire creative freedom and an opportunity to work with high performing teams, who can join in 15 to 20 days.We are looking for a Data Scientist that will help us discover the information hidden in vast amounts of data for our client projects and help us derive cognitive based solutions for. Your primary focus will be in applying data mining techniques, doing statistical analysis and building high quality prediction systems integrated with our solutions like Automate scoring using machine learning techniques”, “build recommendation systems”, “improve and extend the features used by our existing classifier”, “develop internal A/B testing procedures”, “build system for automated fraud detection”, etc.Responsibilities:Selecting features, building and optimizing classifiers using machine learning techniquesData mining using state-of-the-art methodsExtending company’s data with third party sources of information when neededEnhancing data collection procedures to include information that is relevant for building analytic systemsProcessing, cleansing, and verifying the integrity of data used for analysisDoing ad-hoc analysis and presenting results in a clear mannerCreating automated anomaly detection systems and constant tracking of its performanceUnderstands the Data science methodologies to the existing enterprise services to bring in the cognitive edge as the differentiatorsSkills & Qualifications:Solid knowledge of several statistical modeling and learning techniques. Hands on Coding in Azure Databricks, PySparks, Azure AI/ML services and Python/RExpertise in use of algorithmic / quantitative techniques to solve problems across following four areasStructured data analysis and programmingUnstructured content miningNatural language processingMachine learningExperience in Azure platform (good to have)Technically hands-on experience in Azure Machine Learning services, Azure ML Studio, Azure Cognitive toolkit, designing, building and training machines etc.,Excellent understanding of machine learning techniques and algorithms, such as k-NN, Naive Bayes, SVM, Decision Forests, etc.Experience with common data science toolkits, such as Anaconda, NumPy, MatLab, Pandas, Seaborn, SciKit-Learn, NLTK, etc . Excellence in at least one of these is highly desirableGreat communication skillsExperience with data visualization tools, such as D3.js, GGplot, etc.Good applied statistics skills, such as distributions, statistical testing, regression, etc.Good scripting and programming skillsProficiency in using query languages such as SQL, Hive, Pig etc.,Experience with NoSQL databases, such as MongoDB, Cassandra, HBaseExperience working with enterprise architecture for the complex solutions solving business problems and complying to organization policiesMaster of Technology in Data Science specialization',\n",
       " 'Uses predictive modeling, statistics, Machine Learning, Data Mining, and other data analysis techniques to collect, explore, and extract insights from structure and unstructured data . Develop software, algorithms and applications to apply mathematics to data, perform large scale experimentation and build data driven apps to translate data into intelligence, solve a variety of business problems and enable business strategy. Assists business with casual inferences observations with finding patterns , relationships in data. Must possess strong understanding of internal business segment (stakeholders) and possess strong written and communication skills. Typically requires expertise in relational database structures, research methods, machine learning, Cloud based technologies, Big Data technologies (i.e. Hadoop , HBase, Lucene/Solr), analytics packages (i.e. R, Mahout, Matlab, Octave, Weka), scripting languages (i.e. Python, Perl), programing languages (i.e. Java, C/C , SQL). Typically possesses advanced degree in Computer Science, Mathematics, Machine Learning, Operation Research, and Statistics or equivalent expertise.Minimum qualifications are required to be initially considered for this position. Preferred qualifications are in addition to the minimum requirements and are considered a plus factor in identifying top candidates.Minimum Qualifications:<',\n",
       " 'Working with multidisciplinary teams to identify, validate, and source required data and tools to develop and mature ML capabilitiesPerforming data mining to discover nonobvious relationships, building training data, implementing and retraining ML solutionsConducting discovery workshops with business partners to identify business problemsBuilding visualization dashboards to present metrics, statistical findings, and progress trackingYour ResponsibilitiesCollaborate and work across business units to identify and source the data and technology to build and mature ML capabilitiesConduct discovery workshops with business partners to identify business problems, obtain and validate training dataDesign, Build, implement, and retrain ML models to solve specific business problemsPerform data mining and apply findings to increase modeling accuracyCleary and concisely communicate business needs, computational findings and recommendations to all audiences regardless of their background or technical understandingBuild, implement, and maintain visualization dashboards that clearly present both historical and real time operational metrics, research findings, and progress updatesBasic QualificationsBachelors degree in Applied Mathematics, Mathematical Engineering, Computer Science, Information Technology, or Related Field10 + years of overall technical experience2+ years of Machine Learning and or Data Mining experience2+ years of experience building visualization dashboards2+ years working with and manipulating large data sets2+ years of hands on development experience using multiple languagesPreferred QualificationsMasters degree in Applied Mathematics, Mathematical Engineering, Computer Science, Information Technology, or Related FieldExperience with tools such as Tableau and Power BIExperience manipulating large data sets using technologies such as Hadoop, Azure, Hive, Spark, Element, Data Bricks, Mongo, and BigQueryStrong development experience using multiple languages such as Python, R Studio, SQL, C#, Java, Java Script, and JuliaSuccessful completion of 2 or more projects (end to end) involving the migration and merging of large data sets from multiple sources, leveraging statistical analysis to identify meaningful and significant data relationships to build, train, and retrain ML modelsExperience and/or exposure to the cyber security industry and working with a SIEM such as Splunk or Google Chronicle',\n",
       " 'Predictive Modeling - Regression/Time Series Other Machine Learning methods,Python, R Data Analysis, Machine Learning.Good communication skillsAdditional InformationNote:-Maximum joining period of 20 days onlyExperience: 6-12 yearsLocation: PAN India',\n",
       " 'Responsibilities:- Work as part of a product team in defining, prototyping and implementing data science modelsalgorithms as part of the product.- Be able to research and apply the latest Machine Learning architecture solutions that work for big data Batches and Streams.- Build data expertise, act like an owner for the company and manage complex data systems for a product or a group of products.- Designing, integrating and documenting technical components for data flows or applications that perform analysis at a massive scale.- Along with project managers, own the business outcomesmetrics which the data science modelalgorithm drives.- Build large scale data systems that would work across multiple geographies- Solid understanding of the mathematics of ML - Probability, Statistics, Linear Algebra of Matrices, Modelling Hyperparameter tuning for speed of learning & model performance.- Ability to understand business concerns and formulate them as technical problems that can be solved using DataMathStatsML.- Experience working as part of a product team, along with engineers and product managers, to define the problem and execute the data science solution.Essential skills:- 4+ Years of Relevant Experience.- Hands on experience of coding in Python and SQL (MySQL and Postgres)- Hands-on experience of applying and tuning the following algos of data science in multiple verticles:- Recommendation Algos (Collaborative filtering, Content filtering (ALS etc.))- Classification and Regression Algos- Machine Learning Algos (XGBoost, Random Forest)- Clustering Algos (KMeans)- Dimensionality Reduction Algos (PCA)Desirable skills:- Experience of coding in Pyspark and Scala- Working knowledge of Airflow, Hadoop (HDFS) and Git- Tuning of various performance matrix (for accuracy, precision, recall, F1 Score, AUC, ROC)- Experience in Deep Learning Algos (Neural Network)',\n",
       " 'As a data scientist, you need to be exceptionally driven, curious and creative. You will work with data scientists, engineers and product managers to create new ideas, formulate mathematical algorithms, design new machine learning models and develop prototype solutions to enhance capabilities of our products and satisfaction from our customers. You need to be an exceptional problem solver and have great communication skill.Responsibilities:Work on complex and extremely varied data setsBuild algorithms based on telematics data and geographical informationBuild productsWork with the Data Engineering team to productionise and optimise the modelsDesign, build, and deploy internal tools and processes to operationalise ML best practices within our productata tasksSharpen our data science capacity by mentoring team members on building predictive models, experimental methodologies, and causal inference approachesDevelop and foster collaborative relationships with product, business and engineering teams to effectively serve our customers needs.Specifications:Degree or demonstrable experience in a quantitative field like statistics, physics, applied mathematics, operations research or engineering. Advanced degrees are preferred.Industry experience in data science, with statistics and machine learning responsibilitiesExperience with a range of techniques from statistical modelling to deep learning, from linear models to neural networksProficiency in Python and SQLExperience developing and productionising modelsExperience with ML frameworks such as TensorFlow, Keras, Spark, Theano etcStrong background in Linear Algebra, Statistics and MathematicsExperience working with public cloud, preferably AWS or AzureExperience handling large datasets (>billions of rows)Exceptional communication skills and the ability to simplify complex engineering notions to non-technical audienceNatural problem solver with curiosity as a feature, not a bugAbility to set expectations and confidently talk to AI hype versus realityExperience working cross functionally with engineering and product teams in a collaborative environmentBonus points:Experience working with telematics dataExperience working on automotive use casesKnowledge and understanding of geographical information systems and related data ecosystemStream processing and real-time analytics',\n",
       " 'Kwalee is one of the world\\'s leading multiplatform game publishers, with well over 600 million downloads worldwide for mobile hits such as Draw It, Teacher Simulator, Lets Be Cops 3D and Makeover Studio 3D. Alongside this, we also have a growing PC and console team of incredible pedigree that is on the hunt for great new titles to join TENS! and Eternal Hope.With a team of talented people collaborating daily between our studios in Leamington Spa, Bangalore and Beijing, or on a remote basis from Turkey, Brazil, the Philippines and many more, we have a truly global team making games for a global audience. And its paying off: Kwalee games have been downloaded in every country on earth! If you think you\\'re a good fit for one of our remote vacancies, we want to hear from you wherever you are based.Founded in 2011 by David Darling CBE, a key architect of the UK games industry who previously co-founded and led Codemasters for many years, our team also includes legends such as Andrew Graham (creator of Micro Machines series) and Jason Falcus (programmer of classics including NBA Jam) alongside a growing and diverse team of global gaming experts. Everyone contributes creatively to Kwalees success, with all employees eligible to pitch their own game ideas on Creative Wednesdays, and we’re proud to have built our success on this inclusive principle. Could your idea be the next global hit?As a Senior Data Scientist you will help utilise masses of data generated by Kwalee players all over the world to solve complex problems using cutting edge techniques.You\\'ll be part of a team that will be based in the new office that we\\'re going to open in Bangalore.What you tell your friends you do\"My models optimise the performance of Kwalee games and advertising every day!”What you will really be doingBuild data solutions to solve business problemsUse statistical testing and predictive modelling to recommend and implement changes to marketing strategy along with in game features and designLeverage the huge amount of data generated by our players and advertising campaigns everyday to build models and iterate existing services to improve and automate decision making across the companyWork with the marketing, publishing and development teams to understand the problems they are facing and how to solve themHow you will be doing thisYou’ll be part of an agile, multidisciplinary and creative team and work closely with them to ensure the best results.You\\'ll think creatively and be motivated by challenges and constantly striving for the best.You’ll work with cutting edge technology, if you need software or hardware to get the job done efficiently, you can get it. We even have a robot!TeamOur talented team is our signature. We have a highly creative atmosphere with more than 150 staff where you’ll have the opportunity to contribute daily to important decisions. You’ll work within an extremely experienced, passionate and diverse team, including David Darling and the creator of the Micro Machines video games.Skills and requirementsA degree in a numerically focussed degree discipline such as, Maths, Physics, Economics, Chemistry, Engineering, Biological Sciences5+Years experience using Python for data analysis and visualisation and using libraries such as Tensorflow, Keras and Scikit-LearnA proven track record of solving problems with dataKnowledge of NoSQL or SQL databases like Couchbase, Elasticsearch and PostgreSQLAn avid interest in the development, marketing and monetisation of mobile gamesDesirableExperience with AWS - Redshift, EC2, LambdaExperience managing data projects from prototype to production toolsWe offerWe want everyone involved in our games to share our success, that’s why we have a generous team profit sharing scheme from day 1 of employmentIn addition to a competitive salary we also offer private medical cover and life assuranceCreative Wednesdays! (Design and make your own games every Wednesday)20 days of paid holidays plus bank holidaysGreat work-life balance with flexible working hoursQuarterly team building days - work hard, play hard!Monthly employee awardsFree snacks, fruit and drinksOur philosophyWe firmly believe in creativity and innovation and that a fundamental requirement for a successful and happy company is having the right mix of individuals. With the right people in the right environment anything and everything is possible.',\n",
       " 'At Applied Materials, we are building the next generation fab productivity solutions using Artificial Intelligence and Machine Learning. Our AI/ML team is looking for a Data Scientist who will be responsible for building predictive and prescriptive models to increase and optimize fab productivity. The data scientist must be self-directed and independent in conducting their work as well as working with and supporting globally distributed teams. The right candidate will be excited by the prospect of building our company’s next generation data science practice and products.ResponsibilitiesFormulate and lead guided, multifaceted analytic studies against large volumes of data.Interpret and analyze data using exploratory mathematic and statistical techniques based on the scientific method.Coordinate research and analytic activities utilizing various data points (unstructured and structured) and employ programming to clean, massage, and organize the data.Experiment against data points, provide information based on experiment results and provide previously undiscovered solutions to command data challenges.Develop, productize and maintain machine learning and optimization models according to requirements to transform our product into an innovative industry leaderAnalyze problems and determines root causes.Work with stakeholders including the Product management, Data and Design teams to build models.Support our customers with their data science and optimization problems using our productQualificationsAdvanced working SQL knowledge and experience working with relational databases, query authoring (SQL) as well as working familiarity with a variety of databases.Experience working with ‘big data’ data pipelines, architectures and data sets.Experience performing root cause analysis on internal and external data and processes to answer specific business questions and identify opportunities for improvement.Strong analytic skills related to working with unstructured datasets.A successful history of manipulating, processing and extracting value from large disconnected datasets.Strong project management and organizational skills.Experience supporting and working with cross-functional teams in a dynamic environment.Experience with big data tools: Hadoop, Spark, Kafka, etc.Experience with relational SQL and NoSQL databases, including Postgres, Cassandra, MongoDB.Experience with cloud AI services from AWS, Google, AzureExperience with optimization tools: Gurobi, CPLEX, etc.Experience with object-oriented/object function scripting languages: Python, Java, C++, Scala, etc.Education/ExperienceCandidate with 6+ years of experience in a Data Scientist role, who has attained a Graduate degree in Operations Research, Computer Science, Statistics, Informatics, Information Systems or another quantitative field.QualificationsEducation:Bachelors DegreeSkillsCertifications:Languages:Years of Experience:7 - 10 YearsWork Experience:Additional InformationTravel:Yes, 10% of the TimeRelocation Eligible:Yes',\n",
       " 'Job Description:Responsibilities:Own and execute end to end delivery of one or more than one analytics projectUnderstand requirements from Product Managers/Business Users Translating muddy and fuzzy business needs into clear analytical problems through structured problem-solving Extract data from multiple data sources, develop predictive models using appropriate variables and ML/deep learning techniques and operationalize the models on a BI platform for end users consumption Validate the models developed against statistical robustness and business sense Perform ad-hoc deep dive analysis proactively / based on stated needs Generate insights based on the data patterns and recommend actions to be taken by the business; Communicate the results to technical as well as business stakeholders across different hierarchies Create technical documentation and provide post-production support for a time-bound periodPrimary skillset:End to end data science project life cycles from use case framing, data collection, data exploration, model building to deployment Good knowledge in statistics and deep understanding on ML algorithms and their usage (Time series, Regression, Classification, Clustering, Anomaly Detection, NLP etc.)Secondary skillset:Deep expertise in analytical tools: At least one of the statistical computing language (R, Python, Tensorflow, Keras etc.) At least one of the query language (T-SQL, PLSQL, Hive, Spark, Impala, Cassandra, MongoDB etc.). Knowledge of big data is essential At least one of the reporting/visualization tools (Tableau, QlikView, SSRS, Power BI, D3, Angular JS etc.) Proven record of successfully building and operationalizing variety of machine learning solutionsExperience level: 01yrs-02yrs']"
      ]
     },
     "execution_count": 20,
     "metadata": {},
     "output_type": "execute_result"
    }
   ],
   "source": [
    "full_desc"
   ]
  },
  {
   "cell_type": "code",
   "execution_count": 30,
   "metadata": {},
   "outputs": [
    {
     "data": {
      "text/html": [
       "<div>\n",
       "<style scoped>\n",
       "    .dataframe tbody tr th:only-of-type {\n",
       "        vertical-align: middle;\n",
       "    }\n",
       "\n",
       "    .dataframe tbody tr th {\n",
       "        vertical-align: top;\n",
       "    }\n",
       "\n",
       "    .dataframe thead th {\n",
       "        text-align: right;\n",
       "    }\n",
       "</style>\n",
       "<table border=\"1\" class=\"dataframe\">\n",
       "  <thead>\n",
       "    <tr style=\"text-align: right;\">\n",
       "      <th></th>\n",
       "      <th>Job title</th>\n",
       "      <th>company_names</th>\n",
       "      <th>job_location</th>\n",
       "      <th>Full description</th>\n",
       "    </tr>\n",
       "  </thead>\n",
       "  <tbody>\n",
       "    <tr>\n",
       "      <th>1</th>\n",
       "      <td>Data Scientist / AI / ML Engineer</td>\n",
       "      <td>Hitachi Ltd.</td>\n",
       "      <td>Bangalore/Bengaluru</td>\n",
       "      <td>Duties and ResponsibilitiesImplement the appli...</td>\n",
       "    </tr>\n",
       "    <tr>\n",
       "      <th>2</th>\n",
       "      <td>Senior Data Scientist</td>\n",
       "      <td>GO-JEK India</td>\n",
       "      <td>Bangalore/Bengaluru</td>\n",
       "      <td>What You Will DoWork with Data Scientists, Mac...</td>\n",
       "    </tr>\n",
       "    <tr>\n",
       "      <th>3</th>\n",
       "      <td>Senior Data Scientist</td>\n",
       "      <td>Convergence Infotech Ltd</td>\n",
       "      <td>Bangalore/Bengaluru(Sadashiva Nagar)</td>\n",
       "      <td>Roles and ResponsibilitiesPhD in Statistics, M...</td>\n",
       "    </tr>\n",
       "    <tr>\n",
       "      <th>4</th>\n",
       "      <td>Senior Data Scientist, NLP</td>\n",
       "      <td>Thomson Reuters</td>\n",
       "      <td>Bangalore/Bengaluru</td>\n",
       "      <td>Senior Data Scientist, NLPAre you excited abou...</td>\n",
       "    </tr>\n",
       "    <tr>\n",
       "      <th>5</th>\n",
       "      <td>Data Scientist</td>\n",
       "      <td>bd</td>\n",
       "      <td>Bangalore/Bengaluru</td>\n",
       "      <td>Understand business problems and develop end...</td>\n",
       "    </tr>\n",
       "    <tr>\n",
       "      <th>6</th>\n",
       "      <td>Senior/Lead Data Scientist</td>\n",
       "      <td>Scienaptic Systems</td>\n",
       "      <td>Bangalore/Bengaluru</td>\n",
       "      <td>We are looking for an energetic and experience...</td>\n",
       "    </tr>\n",
       "    <tr>\n",
       "      <th>7</th>\n",
       "      <td>Data Scientist</td>\n",
       "      <td>BRIDGETREE RESEARCH SERVICES PRIVATE LIMITED</td>\n",
       "      <td>Bangalore/Bengaluru(Whitefield)</td>\n",
       "      <td>We are seeking a Data Scientist to join our gr...</td>\n",
       "    </tr>\n",
       "    <tr>\n",
       "      <th>8</th>\n",
       "      <td>Data Scientist</td>\n",
       "      <td>Flipkart Internet Private Limited</td>\n",
       "      <td>Bangalore/Bengaluru</td>\n",
       "      <td>About the roleA Data Scientist in Flipkart is ...</td>\n",
       "    </tr>\n",
       "    <tr>\n",
       "      <th>9</th>\n",
       "      <td>Data Scientist</td>\n",
       "      <td>Philips India Limited</td>\n",
       "      <td>Bangalore/Bengaluru</td>\n",
       "      <td>Use predictive modeling to increase and opti...</td>\n",
       "    </tr>\n",
       "    <tr>\n",
       "      <th>10</th>\n",
       "      <td>Data Scientist: Advanced Analytics</td>\n",
       "      <td>IBM India Pvt. Limited</td>\n",
       "      <td>Bangalore/Bengaluru</td>\n",
       "      <td>As a Data Scientist at IBM, you will help tran...</td>\n",
       "    </tr>\n",
       "  </tbody>\n",
       "</table>\n",
       "</div>"
      ],
      "text/plain": [
       "                            Job title   \\\n",
       "1    Data Scientist / AI / ML Engineer   \n",
       "2                Senior Data Scientist   \n",
       "3                Senior Data Scientist   \n",
       "4           Senior Data Scientist, NLP   \n",
       "5                       Data Scientist   \n",
       "6           Senior/Lead Data Scientist   \n",
       "7                       Data Scientist   \n",
       "8                       Data Scientist   \n",
       "9                       Data Scientist   \n",
       "10  Data Scientist: Advanced Analytics   \n",
       "\n",
       "                                  company_names   \\\n",
       "1                                   Hitachi Ltd.   \n",
       "2                                   GO-JEK India   \n",
       "3                       Convergence Infotech Ltd   \n",
       "4                                Thomson Reuters   \n",
       "5                                             bd   \n",
       "6                             Scienaptic Systems   \n",
       "7   BRIDGETREE RESEARCH SERVICES PRIVATE LIMITED   \n",
       "8              Flipkart Internet Private Limited   \n",
       "9                          Philips India Limited   \n",
       "10                        IBM India Pvt. Limited   \n",
       "\n",
       "                            job_location  \\\n",
       "1                    Bangalore/Bengaluru   \n",
       "2                    Bangalore/Bengaluru   \n",
       "3   Bangalore/Bengaluru(Sadashiva Nagar)   \n",
       "4                    Bangalore/Bengaluru   \n",
       "5                    Bangalore/Bengaluru   \n",
       "6                    Bangalore/Bengaluru   \n",
       "7        Bangalore/Bengaluru(Whitefield)   \n",
       "8                    Bangalore/Bengaluru   \n",
       "9                    Bangalore/Bengaluru   \n",
       "10                   Bangalore/Bengaluru   \n",
       "\n",
       "                                    Full description   \n",
       "1   Duties and ResponsibilitiesImplement the appli...  \n",
       "2   What You Will DoWork with Data Scientists, Mac...  \n",
       "3   Roles and ResponsibilitiesPhD in Statistics, M...  \n",
       "4   Senior Data Scientist, NLPAre you excited abou...  \n",
       "5     Understand business problems and develop end...  \n",
       "6   We are looking for an energetic and experience...  \n",
       "7   We are seeking a Data Scientist to join our gr...  \n",
       "8   About the roleA Data Scientist in Flipkart is ...  \n",
       "9     Use predictive modeling to increase and opti...  \n",
       "10  As a Data Scientist at IBM, you will help tran...  "
      ]
     },
     "execution_count": 30,
     "metadata": {},
     "output_type": "execute_result"
    }
   ],
   "source": [
    "data_scientist=pd.DataFrame({})\n",
    "data_scientist[\"Job title \"]=jobs_title\n",
    "data_scientist[\"company_names \"]=company_names\n",
    "data_scientist[\"job_location\"]=jobs_location\n",
    "data_scientist[\"Full description \"]=full_desc\n",
    "data_scientist.index=np.arange(1,len(data_scientist)+1)\n",
    "data_scientist10=data_scientist[:10]\n",
    "data_scientist10"
   ]
  },
  {
   "cell_type": "code",
   "execution_count": null,
   "metadata": {},
   "outputs": [],
   "source": []
  },
  {
   "cell_type": "code",
   "execution_count": null,
   "metadata": {},
   "outputs": [],
   "source": []
  },
  {
   "cell_type": "code",
   "execution_count": null,
   "metadata": {},
   "outputs": [],
   "source": []
  },
  {
   "cell_type": "code",
   "execution_count": null,
   "metadata": {},
   "outputs": [],
   "source": []
  },
  {
   "cell_type": "code",
   "execution_count": 22,
   "metadata": {},
   "outputs": [],
   "source": []
  },
  {
   "cell_type": "code",
   "execution_count": 23,
   "metadata": {},
   "outputs": [],
   "source": []
  }
 ],
 "metadata": {
  "kernelspec": {
   "display_name": "Python 3",
   "language": "python",
   "name": "python3"
  },
  "language_info": {
   "codemirror_mode": {
    "name": "ipython",
    "version": 3
   },
   "file_extension": ".py",
   "mimetype": "text/x-python",
   "name": "python",
   "nbconvert_exporter": "python",
   "pygments_lexer": "ipython3",
   "version": "3.8.5"
  }
 },
 "nbformat": 4,
 "nbformat_minor": 4
}
