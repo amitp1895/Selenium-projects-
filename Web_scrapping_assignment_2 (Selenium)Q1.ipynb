{
 "cells": [
  {
   "cell_type": "raw",
   "metadata": {},
   "source": [
    "Q1: Write a python program to scrape data for “Data Analyst” Job position in “Bangalore” location. You have to scrape the job-title, job-location, company_name, experience_required. You have to scrape first 10 jobs data.\n",
    "This task will be done in following steps:\n",
    "1. first get the webpage https://www.naukri.com/\n",
    "2. Enter “Data Analyst” in “Skill,Designations,Companies” field and enter “Bangalore” in “enter the location” field.\n",
    "3. Then click the search button.\n",
    "4. Then scrape the data for the first 10 jobs results you get.\n",
    "5. Finally create a dataframe of the scraped data.\n",
    "Note- All of the above steps have to be done in code. No step is to be done manually."
   ]
  },
  {
   "cell_type": "code",
   "execution_count": 1,
   "metadata": {},
   "outputs": [],
   "source": [
    "#IMPORTING ALL THE REQUORED LIBRARIES\n",
    "import selenium\n",
    "import pandas as pd\n",
    "from selenium import webdriver \n",
    "import numpy as np "
   ]
  },
  {
   "cell_type": "code",
   "execution_count": 19,
   "metadata": {},
   "outputs": [],
   "source": [
    "#connecting to web drivers \n",
    "driver=webdriver.Chrome(\"chromedriver.exe\")"
   ]
  },
  {
   "cell_type": "code",
   "execution_count": 20,
   "metadata": {},
   "outputs": [],
   "source": [
    "#CONNECTING TO THE WEBSITE \n",
    "driver.get(\"https://www.naukri.com/\")"
   ]
  },
  {
   "cell_type": "raw",
   "metadata": {},
   "source": [
    "#THINGS TO SCRAP \n",
    "job-title, job-location, company_name, experience_required.---Data Analyst” Job position in “Bangalore” location"
   ]
  },
  {
   "cell_type": "code",
   "execution_count": 21,
   "metadata": {},
   "outputs": [],
   "source": [
    "#entering job title in the search box \n",
    "search_job=driver.find_element_by_id(\"qsb-keyword-sugg\")\n",
    "search_job.send_keys(\"Data Analyst\")"
   ]
  },
  {
   "cell_type": "code",
   "execution_count": 22,
   "metadata": {},
   "outputs": [],
   "source": [
    "#entering location in the search box \n",
    "search_location=driver.find_element_by_id(\"qsb-location-sugg\")\n",
    "search_location.send_keys(\"Bangalore\")"
   ]
  },
  {
   "cell_type": "code",
   "execution_count": 23,
   "metadata": {},
   "outputs": [],
   "source": [
    "#clicking the button \n",
    "search_button=driver.find_element_by_xpath(\"//div[@class='search-btn']/button\")\n",
    "search_button.click()"
   ]
  },
  {
   "cell_type": "code",
   "execution_count": 24,
   "metadata": {},
   "outputs": [],
   "source": [
    "#creating empty list to use for data storage \n",
    "job_title=[]\n",
    "job_location=[]\n",
    "company_name=[]\n",
    "experience_required=[]"
   ]
  },
  {
   "cell_type": "code",
   "execution_count": 25,
   "metadata": {},
   "outputs": [],
   "source": [
    "#specifying url of page to scrap \n",
    "DAurl=\"https://www.naukri.com/data-analyst-jobs-in-bangalore?k=data%20analyst&l=bangalore\"\n",
    "driver.get(DAurl)"
   ]
  },
  {
   "cell_type": "code",
   "execution_count": 26,
   "metadata": {},
   "outputs": [
    {
     "data": {
      "text/plain": [
       "[<selenium.webdriver.remote.webelement.WebElement (session=\"5a219b7c54a2d977d0e8c51d3a2e8ff8\", element=\"76318916-e43e-439c-892f-a9a8f1ac1a01\")>,\n",
       " <selenium.webdriver.remote.webelement.WebElement (session=\"5a219b7c54a2d977d0e8c51d3a2e8ff8\", element=\"ebc4d4b1-1385-4278-a0b1-1a17902eb937\")>,\n",
       " <selenium.webdriver.remote.webelement.WebElement (session=\"5a219b7c54a2d977d0e8c51d3a2e8ff8\", element=\"754c9c70-f942-447a-a216-f68d072cf4b3\")>,\n",
       " <selenium.webdriver.remote.webelement.WebElement (session=\"5a219b7c54a2d977d0e8c51d3a2e8ff8\", element=\"1e5c4fae-d0f8-486c-9324-7020375aa94a\")>,\n",
       " <selenium.webdriver.remote.webelement.WebElement (session=\"5a219b7c54a2d977d0e8c51d3a2e8ff8\", element=\"148fec50-f98b-43c8-acf9-bd5333aeb5ca\")>,\n",
       " <selenium.webdriver.remote.webelement.WebElement (session=\"5a219b7c54a2d977d0e8c51d3a2e8ff8\", element=\"66bf38a7-7cd7-4015-a04b-a43ae1b9ef3e\")>,\n",
       " <selenium.webdriver.remote.webelement.WebElement (session=\"5a219b7c54a2d977d0e8c51d3a2e8ff8\", element=\"dc8c846b-f9e2-4e66-a613-06b6d44eb2ab\")>,\n",
       " <selenium.webdriver.remote.webelement.WebElement (session=\"5a219b7c54a2d977d0e8c51d3a2e8ff8\", element=\"fc7de16d-a7c0-4954-9b08-9f5391f3e403\")>,\n",
       " <selenium.webdriver.remote.webelement.WebElement (session=\"5a219b7c54a2d977d0e8c51d3a2e8ff8\", element=\"8455ce77-9551-4a31-abfd-6f1cd548eac5\")>,\n",
       " <selenium.webdriver.remote.webelement.WebElement (session=\"5a219b7c54a2d977d0e8c51d3a2e8ff8\", element=\"97c8b17e-e7f4-4730-972d-75afbab847f9\")>,\n",
       " <selenium.webdriver.remote.webelement.WebElement (session=\"5a219b7c54a2d977d0e8c51d3a2e8ff8\", element=\"e9fcba53-fdf9-4829-ba6a-4d4c2a3038fb\")>,\n",
       " <selenium.webdriver.remote.webelement.WebElement (session=\"5a219b7c54a2d977d0e8c51d3a2e8ff8\", element=\"3dabe373-2f56-43fc-a9fe-4272ba7e10df\")>,\n",
       " <selenium.webdriver.remote.webelement.WebElement (session=\"5a219b7c54a2d977d0e8c51d3a2e8ff8\", element=\"4c60fb31-7f92-4a5c-909a-c85ca76d5415\")>,\n",
       " <selenium.webdriver.remote.webelement.WebElement (session=\"5a219b7c54a2d977d0e8c51d3a2e8ff8\", element=\"345f5462-2bd5-459a-bee5-ea196db03ccf\")>,\n",
       " <selenium.webdriver.remote.webelement.WebElement (session=\"5a219b7c54a2d977d0e8c51d3a2e8ff8\", element=\"dc5ddf62-7b92-4d98-9ccb-63861630e3e6\")>,\n",
       " <selenium.webdriver.remote.webelement.WebElement (session=\"5a219b7c54a2d977d0e8c51d3a2e8ff8\", element=\"c691d762-cc86-4a88-8b23-a19058d01697\")>,\n",
       " <selenium.webdriver.remote.webelement.WebElement (session=\"5a219b7c54a2d977d0e8c51d3a2e8ff8\", element=\"4ae08dc0-60c9-427e-91ed-a8bc4ff55fdd\")>,\n",
       " <selenium.webdriver.remote.webelement.WebElement (session=\"5a219b7c54a2d977d0e8c51d3a2e8ff8\", element=\"de10046b-8a6e-42a4-980c-358fa9374210\")>,\n",
       " <selenium.webdriver.remote.webelement.WebElement (session=\"5a219b7c54a2d977d0e8c51d3a2e8ff8\", element=\"f1f1ff3e-bdf8-4d06-9fce-19d65dcce9db\")>,\n",
       " <selenium.webdriver.remote.webelement.WebElement (session=\"5a219b7c54a2d977d0e8c51d3a2e8ff8\", element=\"12d2464e-244b-4ec9-8a85-6014c90ade44\")>]"
      ]
     },
     "execution_count": 26,
     "metadata": {},
     "output_type": "execute_result"
    }
   ],
   "source": [
    "title_tag=driver.find_elements_by_xpath(\"//a[@class='title fw500 ellipsis']\")\n",
    "title_tag"
   ]
  },
  {
   "cell_type": "code",
   "execution_count": 27,
   "metadata": {},
   "outputs": [
    {
     "name": "stdout",
     "output_type": "stream",
     "text": [
      "20\n"
     ]
    },
    {
     "data": {
      "text/plain": [
       "['Openings For Data Analyst',\n",
       " 'Data Analyst',\n",
       " 'Data Analyst',\n",
       " 'Business Cum Data Analyst',\n",
       " 'Urgent Openings For Data Analysts.',\n",
       " 'Situs AMC Is Hiring For Senior Data Analyst',\n",
       " 'Senior Data Analyst',\n",
       " 'Data Analyst | Nike',\n",
       " 'Data Analyst - Python/SQL',\n",
       " 'Data Analyst',\n",
       " 'ID&A - Data Analyst - Informatica MDM',\n",
       " 'Procurement Data Analyst',\n",
       " 'Business Data Analyst',\n",
       " 'Sr . Data Analyst',\n",
       " 'IT Data Analyst',\n",
       " 'Philips : Data Analyst',\n",
       " 'Data Analyst',\n",
       " 'Capital Market- Data Analyst',\n",
       " 'Senior Financial Analyst - Data & Analytics',\n",
       " 'Senior System Analyst, Data Analyst - II Innings']"
      ]
     },
     "execution_count": 27,
     "metadata": {},
     "output_type": "execute_result"
    }
   ],
   "source": [
    "for i in title_tag:\n",
    "    title=i.text\n",
    "    job_title.append(title)\n",
    "    \n",
    "print(len(job_title))    \n",
    "job_title"
   ]
  },
  {
   "cell_type": "code",
   "execution_count": 28,
   "metadata": {},
   "outputs": [
    {
     "data": {
      "text/plain": [
       "[<selenium.webdriver.remote.webelement.WebElement (session=\"5a219b7c54a2d977d0e8c51d3a2e8ff8\", element=\"8f91529f-5115-4b45-a13f-563cdabd61db\")>,\n",
       " <selenium.webdriver.remote.webelement.WebElement (session=\"5a219b7c54a2d977d0e8c51d3a2e8ff8\", element=\"b46e81c8-65a5-43eb-a4e5-5710237a9f05\")>,\n",
       " <selenium.webdriver.remote.webelement.WebElement (session=\"5a219b7c54a2d977d0e8c51d3a2e8ff8\", element=\"05587297-a66e-4373-90d0-9c5cc15b717a\")>,\n",
       " <selenium.webdriver.remote.webelement.WebElement (session=\"5a219b7c54a2d977d0e8c51d3a2e8ff8\", element=\"c4555167-ee3e-47ef-b523-15b8e6e43401\")>,\n",
       " <selenium.webdriver.remote.webelement.WebElement (session=\"5a219b7c54a2d977d0e8c51d3a2e8ff8\", element=\"58ba90ac-79f0-4d1f-bf5c-03cec3b470c9\")>,\n",
       " <selenium.webdriver.remote.webelement.WebElement (session=\"5a219b7c54a2d977d0e8c51d3a2e8ff8\", element=\"4f2d5ee3-bf05-4e10-8322-d6a64ca4def0\")>,\n",
       " <selenium.webdriver.remote.webelement.WebElement (session=\"5a219b7c54a2d977d0e8c51d3a2e8ff8\", element=\"72df0947-3073-4da7-8a75-a8e74521c6d4\")>,\n",
       " <selenium.webdriver.remote.webelement.WebElement (session=\"5a219b7c54a2d977d0e8c51d3a2e8ff8\", element=\"4038b846-f00b-4513-b28d-5b07382d1347\")>,\n",
       " <selenium.webdriver.remote.webelement.WebElement (session=\"5a219b7c54a2d977d0e8c51d3a2e8ff8\", element=\"91e05172-f870-41bf-a548-6194c20df242\")>,\n",
       " <selenium.webdriver.remote.webelement.WebElement (session=\"5a219b7c54a2d977d0e8c51d3a2e8ff8\", element=\"342eb80d-c19b-4bd1-981d-93bac7c06912\")>,\n",
       " <selenium.webdriver.remote.webelement.WebElement (session=\"5a219b7c54a2d977d0e8c51d3a2e8ff8\", element=\"0343b0bd-cfee-4bf8-9c08-6abbc0d751a9\")>,\n",
       " <selenium.webdriver.remote.webelement.WebElement (session=\"5a219b7c54a2d977d0e8c51d3a2e8ff8\", element=\"27ec3895-eee8-4435-83cf-7d66a8525e19\")>,\n",
       " <selenium.webdriver.remote.webelement.WebElement (session=\"5a219b7c54a2d977d0e8c51d3a2e8ff8\", element=\"70cb9a1e-e29d-4212-8e86-76f76481d9e5\")>,\n",
       " <selenium.webdriver.remote.webelement.WebElement (session=\"5a219b7c54a2d977d0e8c51d3a2e8ff8\", element=\"53600e3c-b60f-4d98-bfb5-b65b48fd9d92\")>,\n",
       " <selenium.webdriver.remote.webelement.WebElement (session=\"5a219b7c54a2d977d0e8c51d3a2e8ff8\", element=\"3fbfc07f-98fa-4948-b6be-ee7c30ea8979\")>,\n",
       " <selenium.webdriver.remote.webelement.WebElement (session=\"5a219b7c54a2d977d0e8c51d3a2e8ff8\", element=\"a3e8945d-0a87-4f08-b657-a8afba6d2d36\")>,\n",
       " <selenium.webdriver.remote.webelement.WebElement (session=\"5a219b7c54a2d977d0e8c51d3a2e8ff8\", element=\"7938b81b-03a8-4dba-a472-a90f20bbae16\")>,\n",
       " <selenium.webdriver.remote.webelement.WebElement (session=\"5a219b7c54a2d977d0e8c51d3a2e8ff8\", element=\"f06675ac-b195-4a29-a7ee-bcffbf732010\")>,\n",
       " <selenium.webdriver.remote.webelement.WebElement (session=\"5a219b7c54a2d977d0e8c51d3a2e8ff8\", element=\"b8561c29-284f-4945-9a50-f8caffe375f8\")>,\n",
       " <selenium.webdriver.remote.webelement.WebElement (session=\"5a219b7c54a2d977d0e8c51d3a2e8ff8\", element=\"33224c09-f3d0-4ab1-936c-8c56183623b4\")>]"
      ]
     },
     "execution_count": 28,
     "metadata": {},
     "output_type": "execute_result"
    }
   ],
   "source": [
    "location_tag=driver.find_elements_by_xpath(\"//li[@class='fleft grey-text br2 placeHolderLi location']/span[1]\")\n",
    "location_tag"
   ]
  },
  {
   "cell_type": "code",
   "execution_count": 29,
   "metadata": {},
   "outputs": [
    {
     "name": "stdout",
     "output_type": "stream",
     "text": [
      "20\n"
     ]
    },
    {
     "data": {
      "text/plain": [
       "['Bangalore/Bengaluru',\n",
       " 'Bangalore/Bengaluru',\n",
       " 'Bangalore/Bengaluru(Ulsoor)',\n",
       " 'Bangalore/Bengaluru',\n",
       " 'Bangalore/Bengaluru(Devarabeesana Halli)',\n",
       " 'Chennai, Bangalore/Bengaluru, Mumbai (All Areas)',\n",
       " 'Bangalore/Bengaluru',\n",
       " 'Bangalore/Bengaluru',\n",
       " 'Bangalore/Bengaluru',\n",
       " 'Bangalore/Bengaluru',\n",
       " 'Bangalore/Bengaluru',\n",
       " 'Bangalore/Bengaluru(Koramangala)',\n",
       " 'Gurgaon/Gurugram, Bangalore/Bengaluru',\n",
       " 'Bangalore/Bengaluru',\n",
       " 'Bangalore/Bengaluru',\n",
       " 'Bangalore/Bengaluru',\n",
       " 'Bangalore/Bengaluru',\n",
       " 'Hyderabad/Secunderabad, Pune, Bangalore/Bengaluru, Delhi / NCR',\n",
       " 'Bangalore/Bengaluru',\n",
       " 'Bangalore/Bengaluru']"
      ]
     },
     "execution_count": 29,
     "metadata": {},
     "output_type": "execute_result"
    }
   ],
   "source": [
    "for i in location_tag:\n",
    "    loc=i.text\n",
    "    job_location.append(loc)\n",
    "    \n",
    "print(len(job_location))\n",
    "job_location\n"
   ]
  },
  {
   "cell_type": "code",
   "execution_count": 30,
   "metadata": {},
   "outputs": [
    {
     "data": {
      "text/plain": [
       "[<selenium.webdriver.remote.webelement.WebElement (session=\"5a219b7c54a2d977d0e8c51d3a2e8ff8\", element=\"f1355542-3f22-4e87-98c4-8d488722f688\")>,\n",
       " <selenium.webdriver.remote.webelement.WebElement (session=\"5a219b7c54a2d977d0e8c51d3a2e8ff8\", element=\"0963580a-3b83-44b7-9ca6-596ac75e595b\")>,\n",
       " <selenium.webdriver.remote.webelement.WebElement (session=\"5a219b7c54a2d977d0e8c51d3a2e8ff8\", element=\"2f01682d-24d7-4ea2-8d31-1e2f46b860a6\")>,\n",
       " <selenium.webdriver.remote.webelement.WebElement (session=\"5a219b7c54a2d977d0e8c51d3a2e8ff8\", element=\"94dfdb5f-8f7c-4ba8-bbf6-f6d279ac7a06\")>,\n",
       " <selenium.webdriver.remote.webelement.WebElement (session=\"5a219b7c54a2d977d0e8c51d3a2e8ff8\", element=\"6b3ecbef-e42c-4d2f-b3c9-b8adeaf70c60\")>,\n",
       " <selenium.webdriver.remote.webelement.WebElement (session=\"5a219b7c54a2d977d0e8c51d3a2e8ff8\", element=\"5dbcec4e-3393-43cc-b381-d4cfdbed22f3\")>,\n",
       " <selenium.webdriver.remote.webelement.WebElement (session=\"5a219b7c54a2d977d0e8c51d3a2e8ff8\", element=\"0b625937-fe83-4ce9-a153-b1c3da498349\")>,\n",
       " <selenium.webdriver.remote.webelement.WebElement (session=\"5a219b7c54a2d977d0e8c51d3a2e8ff8\", element=\"07ef10df-955a-4fdd-8c42-c01ae8e8f9ac\")>,\n",
       " <selenium.webdriver.remote.webelement.WebElement (session=\"5a219b7c54a2d977d0e8c51d3a2e8ff8\", element=\"2c9acd72-28e1-4cfe-baef-3ba448ff7f5d\")>,\n",
       " <selenium.webdriver.remote.webelement.WebElement (session=\"5a219b7c54a2d977d0e8c51d3a2e8ff8\", element=\"34957f30-45ae-4c1c-b457-c05d1b37588e\")>,\n",
       " <selenium.webdriver.remote.webelement.WebElement (session=\"5a219b7c54a2d977d0e8c51d3a2e8ff8\", element=\"8c7a2159-55f6-41fa-8283-5c072f05c51f\")>,\n",
       " <selenium.webdriver.remote.webelement.WebElement (session=\"5a219b7c54a2d977d0e8c51d3a2e8ff8\", element=\"bd613707-6e0d-4b25-a25c-cb44561e7583\")>,\n",
       " <selenium.webdriver.remote.webelement.WebElement (session=\"5a219b7c54a2d977d0e8c51d3a2e8ff8\", element=\"24e0b97a-5359-4894-807e-61b6307e7a9d\")>,\n",
       " <selenium.webdriver.remote.webelement.WebElement (session=\"5a219b7c54a2d977d0e8c51d3a2e8ff8\", element=\"1f225999-db6a-424a-9992-959a4dc0586f\")>,\n",
       " <selenium.webdriver.remote.webelement.WebElement (session=\"5a219b7c54a2d977d0e8c51d3a2e8ff8\", element=\"15ef7192-e793-4566-b3c4-a2321423f92d\")>,\n",
       " <selenium.webdriver.remote.webelement.WebElement (session=\"5a219b7c54a2d977d0e8c51d3a2e8ff8\", element=\"944a9a37-4128-4fd6-857d-3a875b94f4d1\")>,\n",
       " <selenium.webdriver.remote.webelement.WebElement (session=\"5a219b7c54a2d977d0e8c51d3a2e8ff8\", element=\"ee3833a0-4e3a-4ebd-be58-4e1dbac4a4d6\")>,\n",
       " <selenium.webdriver.remote.webelement.WebElement (session=\"5a219b7c54a2d977d0e8c51d3a2e8ff8\", element=\"0592ae00-c153-4e2e-aa59-8a868b1a8e5b\")>,\n",
       " <selenium.webdriver.remote.webelement.WebElement (session=\"5a219b7c54a2d977d0e8c51d3a2e8ff8\", element=\"9645b10f-6d03-4227-86e7-8ae3e6efcbfb\")>,\n",
       " <selenium.webdriver.remote.webelement.WebElement (session=\"5a219b7c54a2d977d0e8c51d3a2e8ff8\", element=\"f7500cd3-3b1d-419f-9876-a210968ee566\")>]"
      ]
     },
     "execution_count": 30,
     "metadata": {},
     "output_type": "execute_result"
    }
   ],
   "source": [
    "name_tag=driver.find_elements_by_xpath(\"//a[@class='subTitle ellipsis fleft']\")\n",
    "name_tag"
   ]
  },
  {
   "cell_type": "code",
   "execution_count": 31,
   "metadata": {},
   "outputs": [
    {
     "name": "stdout",
     "output_type": "stream",
     "text": [
      "20\n"
     ]
    },
    {
     "data": {
      "text/plain": [
       "['Allegis Services India Pvt. Ltd.',\n",
       " 'Applied Materials',\n",
       " 'WEIWO Communication Pvt. Ltd.',\n",
       " 'Virtusa Consulting Services Pvt Ltd',\n",
       " 'Flipkart Internet Private Limited',\n",
       " 'SITUSAMC INDIA PRIVATE LIMITED',\n",
       " 'Kwalee ltd.',\n",
       " 'TALENT500 TECH (INDIA) PRIVATE LIMITED',\n",
       " 'Affine',\n",
       " 'Kwalee ltd.',\n",
       " 'Shell India Markets Private Limited',\n",
       " 'Sunstream Global Technologies LLP',\n",
       " 'GreatLearning',\n",
       " 'cloudneeti',\n",
       " 'BDO RISE PRIVATE LIMITED',\n",
       " 'Philips India Limited',\n",
       " 'Morgan Stanley Advantage Services Pvt. Ltd.',\n",
       " 'Genpact',\n",
       " 'Glance IT Solution',\n",
       " 'Intertrust Group']"
      ]
     },
     "execution_count": 31,
     "metadata": {},
     "output_type": "execute_result"
    }
   ],
   "source": [
    "for i in name_tag:\n",
    "    name=i.text.replace(\"\\n\",'')\n",
    "    company_name.append(name)\n",
    "    \n",
    "print(len(company_name))\n",
    "company_name\n",
    "    "
   ]
  },
  {
   "cell_type": "code",
   "execution_count": 32,
   "metadata": {},
   "outputs": [
    {
     "data": {
      "text/plain": [
       "[<selenium.webdriver.remote.webelement.WebElement (session=\"5a219b7c54a2d977d0e8c51d3a2e8ff8\", element=\"276b1b4c-3112-4829-b93d-dee554c265ec\")>,\n",
       " <selenium.webdriver.remote.webelement.WebElement (session=\"5a219b7c54a2d977d0e8c51d3a2e8ff8\", element=\"052f10e4-68a4-4b81-9766-da106fb8fe62\")>,\n",
       " <selenium.webdriver.remote.webelement.WebElement (session=\"5a219b7c54a2d977d0e8c51d3a2e8ff8\", element=\"82112b90-6935-4234-b826-4900e41194f9\")>,\n",
       " <selenium.webdriver.remote.webelement.WebElement (session=\"5a219b7c54a2d977d0e8c51d3a2e8ff8\", element=\"a22a8592-a3f0-49ed-bedd-2af43b4c9ea4\")>,\n",
       " <selenium.webdriver.remote.webelement.WebElement (session=\"5a219b7c54a2d977d0e8c51d3a2e8ff8\", element=\"9edf5607-2937-41cb-8928-d511e9763ac0\")>,\n",
       " <selenium.webdriver.remote.webelement.WebElement (session=\"5a219b7c54a2d977d0e8c51d3a2e8ff8\", element=\"ec13fb60-4727-4c0f-b7d0-b7191fd4d1b4\")>,\n",
       " <selenium.webdriver.remote.webelement.WebElement (session=\"5a219b7c54a2d977d0e8c51d3a2e8ff8\", element=\"02347236-e77d-4ac2-9f40-7fc87e2f87d2\")>,\n",
       " <selenium.webdriver.remote.webelement.WebElement (session=\"5a219b7c54a2d977d0e8c51d3a2e8ff8\", element=\"a7a5aaee-f75e-4860-ad23-7f173497cff1\")>,\n",
       " <selenium.webdriver.remote.webelement.WebElement (session=\"5a219b7c54a2d977d0e8c51d3a2e8ff8\", element=\"ef2fefe1-4b8d-4eee-950a-e0edcef8a0ab\")>,\n",
       " <selenium.webdriver.remote.webelement.WebElement (session=\"5a219b7c54a2d977d0e8c51d3a2e8ff8\", element=\"fee76a9b-0106-4575-bbef-8efcf0903bd5\")>,\n",
       " <selenium.webdriver.remote.webelement.WebElement (session=\"5a219b7c54a2d977d0e8c51d3a2e8ff8\", element=\"1e6bfbdd-8849-4360-bf8b-9e9fb31255cd\")>,\n",
       " <selenium.webdriver.remote.webelement.WebElement (session=\"5a219b7c54a2d977d0e8c51d3a2e8ff8\", element=\"976d1877-5bc7-4e6f-9c93-fb186c9fedd2\")>,\n",
       " <selenium.webdriver.remote.webelement.WebElement (session=\"5a219b7c54a2d977d0e8c51d3a2e8ff8\", element=\"883dabf5-7936-4989-8a22-1d43bf1798e7\")>,\n",
       " <selenium.webdriver.remote.webelement.WebElement (session=\"5a219b7c54a2d977d0e8c51d3a2e8ff8\", element=\"dfdba94b-d2c2-44fe-82f4-aa24de565c0c\")>,\n",
       " <selenium.webdriver.remote.webelement.WebElement (session=\"5a219b7c54a2d977d0e8c51d3a2e8ff8\", element=\"3555e4ea-106d-4ddb-a673-4b07426fece3\")>,\n",
       " <selenium.webdriver.remote.webelement.WebElement (session=\"5a219b7c54a2d977d0e8c51d3a2e8ff8\", element=\"413cadb4-edb8-4458-9194-65a0f652d9f1\")>,\n",
       " <selenium.webdriver.remote.webelement.WebElement (session=\"5a219b7c54a2d977d0e8c51d3a2e8ff8\", element=\"056b1dc0-0119-41cd-aa55-4b206edc136a\")>,\n",
       " <selenium.webdriver.remote.webelement.WebElement (session=\"5a219b7c54a2d977d0e8c51d3a2e8ff8\", element=\"a05cf697-ef60-4b43-b05e-c6b0f797a2fc\")>,\n",
       " <selenium.webdriver.remote.webelement.WebElement (session=\"5a219b7c54a2d977d0e8c51d3a2e8ff8\", element=\"092c86ca-ca73-45be-a186-46fb73541b39\")>]"
      ]
     },
     "execution_count": 32,
     "metadata": {},
     "output_type": "execute_result"
    }
   ],
   "source": [
    "exp_tag=driver.find_elements_by_xpath(\"//li[@class='fleft grey-text br2 placeHolderLi experience']/span[1]\")\n",
    "exp_tag"
   ]
  },
  {
   "cell_type": "code",
   "execution_count": 33,
   "metadata": {},
   "outputs": [
    {
     "name": "stdout",
     "output_type": "stream",
     "text": [
      "19\n"
     ]
    },
    {
     "data": {
      "text/plain": [
       "['0-3 Yrs',\n",
       " '0-3 Yrs',\n",
       " '2-4 Yrs',\n",
       " '1-6 Yrs',\n",
       " '2-7 Yrs',\n",
       " '5-10 Yrs',\n",
       " '3-6 Yrs',\n",
       " '3-5 Yrs',\n",
       " '2-7 Yrs',\n",
       " '5-9 Yrs',\n",
       " '0-2 Yrs',\n",
       " '2-3 Yrs',\n",
       " '3-5 Yrs',\n",
       " '2-7 Yrs',\n",
       " '4-9 Yrs',\n",
       " '2-5 Yrs',\n",
       " '4-8 Yrs',\n",
       " '4-8 Yrs',\n",
       " '3-6 Yrs']"
      ]
     },
     "execution_count": 33,
     "metadata": {},
     "output_type": "execute_result"
    }
   ],
   "source": [
    "for i in exp_tag:\n",
    "    exp=i.text\n",
    "    experience_required.append(exp)\n",
    "    \n",
    "print (len(experience_required))\n",
    "experience_required"
   ]
  },
  {
   "cell_type": "code",
   "execution_count": 34,
   "metadata": {},
   "outputs": [
    {
     "ename": "ValueError",
     "evalue": "Length of values (19) does not match length of index (20)",
     "output_type": "error",
     "traceback": [
      "\u001b[1;31m---------------------------------------------------------------------------\u001b[0m",
      "\u001b[1;31mValueError\u001b[0m                                Traceback (most recent call last)",
      "\u001b[1;32m<ipython-input-34-385d3cca1c95>\u001b[0m in \u001b[0;36m<module>\u001b[1;34m\u001b[0m\n\u001b[0;32m      4\u001b[0m \u001b[0mDataAnalyst_BLR\u001b[0m\u001b[1;33m[\u001b[0m\u001b[1;34m\"job_location\"\u001b[0m\u001b[1;33m]\u001b[0m\u001b[1;33m=\u001b[0m\u001b[0mjob_location\u001b[0m\u001b[1;33m\u001b[0m\u001b[1;33m\u001b[0m\u001b[0m\n\u001b[0;32m      5\u001b[0m \u001b[0mDataAnalyst_BLR\u001b[0m\u001b[1;33m[\u001b[0m\u001b[1;34m\"company_name\"\u001b[0m\u001b[1;33m]\u001b[0m\u001b[1;33m=\u001b[0m\u001b[0mcompany_name\u001b[0m\u001b[1;33m\u001b[0m\u001b[1;33m\u001b[0m\u001b[0m\n\u001b[1;32m----> 6\u001b[1;33m \u001b[0mDataAnalyst_BLR\u001b[0m\u001b[1;33m[\u001b[0m\u001b[1;34m\"experience_required\"\u001b[0m\u001b[1;33m]\u001b[0m\u001b[1;33m=\u001b[0m\u001b[0mexperience_required\u001b[0m\u001b[1;33m\u001b[0m\u001b[1;33m\u001b[0m\u001b[0m\n\u001b[0m",
      "\u001b[1;32m~\\anaconda3\\lib\\site-packages\\pandas\\core\\frame.py\u001b[0m in \u001b[0;36m__setitem__\u001b[1;34m(self, key, value)\u001b[0m\n\u001b[0;32m   3038\u001b[0m         \u001b[1;32melse\u001b[0m\u001b[1;33m:\u001b[0m\u001b[1;33m\u001b[0m\u001b[1;33m\u001b[0m\u001b[0m\n\u001b[0;32m   3039\u001b[0m             \u001b[1;31m# set column\u001b[0m\u001b[1;33m\u001b[0m\u001b[1;33m\u001b[0m\u001b[1;33m\u001b[0m\u001b[0m\n\u001b[1;32m-> 3040\u001b[1;33m             \u001b[0mself\u001b[0m\u001b[1;33m.\u001b[0m\u001b[0m_set_item\u001b[0m\u001b[1;33m(\u001b[0m\u001b[0mkey\u001b[0m\u001b[1;33m,\u001b[0m \u001b[0mvalue\u001b[0m\u001b[1;33m)\u001b[0m\u001b[1;33m\u001b[0m\u001b[1;33m\u001b[0m\u001b[0m\n\u001b[0m\u001b[0;32m   3041\u001b[0m \u001b[1;33m\u001b[0m\u001b[0m\n\u001b[0;32m   3042\u001b[0m     \u001b[1;32mdef\u001b[0m \u001b[0m_setitem_slice\u001b[0m\u001b[1;33m(\u001b[0m\u001b[0mself\u001b[0m\u001b[1;33m,\u001b[0m \u001b[0mkey\u001b[0m\u001b[1;33m:\u001b[0m \u001b[0mslice\u001b[0m\u001b[1;33m,\u001b[0m \u001b[0mvalue\u001b[0m\u001b[1;33m)\u001b[0m\u001b[1;33m:\u001b[0m\u001b[1;33m\u001b[0m\u001b[1;33m\u001b[0m\u001b[0m\n",
      "\u001b[1;32m~\\anaconda3\\lib\\site-packages\\pandas\\core\\frame.py\u001b[0m in \u001b[0;36m_set_item\u001b[1;34m(self, key, value)\u001b[0m\n\u001b[0;32m   3114\u001b[0m         \"\"\"\n\u001b[0;32m   3115\u001b[0m         \u001b[0mself\u001b[0m\u001b[1;33m.\u001b[0m\u001b[0m_ensure_valid_index\u001b[0m\u001b[1;33m(\u001b[0m\u001b[0mvalue\u001b[0m\u001b[1;33m)\u001b[0m\u001b[1;33m\u001b[0m\u001b[1;33m\u001b[0m\u001b[0m\n\u001b[1;32m-> 3116\u001b[1;33m         \u001b[0mvalue\u001b[0m \u001b[1;33m=\u001b[0m \u001b[0mself\u001b[0m\u001b[1;33m.\u001b[0m\u001b[0m_sanitize_column\u001b[0m\u001b[1;33m(\u001b[0m\u001b[0mkey\u001b[0m\u001b[1;33m,\u001b[0m \u001b[0mvalue\u001b[0m\u001b[1;33m)\u001b[0m\u001b[1;33m\u001b[0m\u001b[1;33m\u001b[0m\u001b[0m\n\u001b[0m\u001b[0;32m   3117\u001b[0m         \u001b[0mNDFrame\u001b[0m\u001b[1;33m.\u001b[0m\u001b[0m_set_item\u001b[0m\u001b[1;33m(\u001b[0m\u001b[0mself\u001b[0m\u001b[1;33m,\u001b[0m \u001b[0mkey\u001b[0m\u001b[1;33m,\u001b[0m \u001b[0mvalue\u001b[0m\u001b[1;33m)\u001b[0m\u001b[1;33m\u001b[0m\u001b[1;33m\u001b[0m\u001b[0m\n\u001b[0;32m   3118\u001b[0m \u001b[1;33m\u001b[0m\u001b[0m\n",
      "\u001b[1;32m~\\anaconda3\\lib\\site-packages\\pandas\\core\\frame.py\u001b[0m in \u001b[0;36m_sanitize_column\u001b[1;34m(self, key, value, broadcast)\u001b[0m\n\u001b[0;32m   3762\u001b[0m \u001b[1;33m\u001b[0m\u001b[0m\n\u001b[0;32m   3763\u001b[0m             \u001b[1;31m# turn me into an ndarray\u001b[0m\u001b[1;33m\u001b[0m\u001b[1;33m\u001b[0m\u001b[1;33m\u001b[0m\u001b[0m\n\u001b[1;32m-> 3764\u001b[1;33m             \u001b[0mvalue\u001b[0m \u001b[1;33m=\u001b[0m \u001b[0msanitize_index\u001b[0m\u001b[1;33m(\u001b[0m\u001b[0mvalue\u001b[0m\u001b[1;33m,\u001b[0m \u001b[0mself\u001b[0m\u001b[1;33m.\u001b[0m\u001b[0mindex\u001b[0m\u001b[1;33m)\u001b[0m\u001b[1;33m\u001b[0m\u001b[1;33m\u001b[0m\u001b[0m\n\u001b[0m\u001b[0;32m   3765\u001b[0m             \u001b[1;32mif\u001b[0m \u001b[1;32mnot\u001b[0m \u001b[0misinstance\u001b[0m\u001b[1;33m(\u001b[0m\u001b[0mvalue\u001b[0m\u001b[1;33m,\u001b[0m \u001b[1;33m(\u001b[0m\u001b[0mnp\u001b[0m\u001b[1;33m.\u001b[0m\u001b[0mndarray\u001b[0m\u001b[1;33m,\u001b[0m \u001b[0mIndex\u001b[0m\u001b[1;33m)\u001b[0m\u001b[1;33m)\u001b[0m\u001b[1;33m:\u001b[0m\u001b[1;33m\u001b[0m\u001b[1;33m\u001b[0m\u001b[0m\n\u001b[0;32m   3766\u001b[0m                 \u001b[1;32mif\u001b[0m \u001b[0misinstance\u001b[0m\u001b[1;33m(\u001b[0m\u001b[0mvalue\u001b[0m\u001b[1;33m,\u001b[0m \u001b[0mlist\u001b[0m\u001b[1;33m)\u001b[0m \u001b[1;32mand\u001b[0m \u001b[0mlen\u001b[0m\u001b[1;33m(\u001b[0m\u001b[0mvalue\u001b[0m\u001b[1;33m)\u001b[0m \u001b[1;33m>\u001b[0m \u001b[1;36m0\u001b[0m\u001b[1;33m:\u001b[0m\u001b[1;33m\u001b[0m\u001b[1;33m\u001b[0m\u001b[0m\n",
      "\u001b[1;32m~\\anaconda3\\lib\\site-packages\\pandas\\core\\internals\\construction.py\u001b[0m in \u001b[0;36msanitize_index\u001b[1;34m(data, index)\u001b[0m\n\u001b[0;32m    745\u001b[0m     \"\"\"\n\u001b[0;32m    746\u001b[0m     \u001b[1;32mif\u001b[0m \u001b[0mlen\u001b[0m\u001b[1;33m(\u001b[0m\u001b[0mdata\u001b[0m\u001b[1;33m)\u001b[0m \u001b[1;33m!=\u001b[0m \u001b[0mlen\u001b[0m\u001b[1;33m(\u001b[0m\u001b[0mindex\u001b[0m\u001b[1;33m)\u001b[0m\u001b[1;33m:\u001b[0m\u001b[1;33m\u001b[0m\u001b[1;33m\u001b[0m\u001b[0m\n\u001b[1;32m--> 747\u001b[1;33m         raise ValueError(\n\u001b[0m\u001b[0;32m    748\u001b[0m             \u001b[1;34m\"Length of values \"\u001b[0m\u001b[1;33m\u001b[0m\u001b[1;33m\u001b[0m\u001b[0m\n\u001b[0;32m    749\u001b[0m             \u001b[1;34mf\"({len(data)}) \"\u001b[0m\u001b[1;33m\u001b[0m\u001b[1;33m\u001b[0m\u001b[0m\n",
      "\u001b[1;31mValueError\u001b[0m: Length of values (19) does not match length of index (20)"
     ]
    }
   ],
   "source": [
    "#creating the dataframe \n",
    "DataAnalyst_BLR=pd.DataFrame({})\n",
    "DataAnalyst_BLR[\"job_title\"]=job_title\n",
    "DataAnalyst_BLR[\"job_location\"]=job_location\n",
    "DataAnalyst_BLR[\"company_name\"]=company_name\n",
    "DataAnalyst_BLR[\"experience_required\"]=experience_required"
   ]
  },
  {
   "cell_type": "code",
   "execution_count": 35,
   "metadata": {},
   "outputs": [],
   "source": [
    "#dropping the  deatils byond 10 job data \n",
    "DataAnalyst_BLR.drop(range(10,20) , inplace=True)"
   ]
  },
  {
   "cell_type": "code",
   "execution_count": null,
   "metadata": {},
   "outputs": [],
   "source": [
    "#reseting the indexes \n",
    "DataAnalyst_BLR.index=np.arange(1,len(DataAnalyst_BLR)+1)"
   ]
  },
  {
   "cell_type": "code",
   "execution_count": null,
   "metadata": {},
   "outputs": [],
   "source": [
    "DataAnalyst_BLR"
   ]
  },
  {
   "cell_type": "raw",
   "metadata": {},
   "source": [
    ">>>>>>>>>>>>>>>>>>>>>>>>>>>>>>>>>>>>>>>>>>>>>>>>>>>>>>>>>>>>>>>>>>>>>>>>>>>>>>>>>>>>>>>>>>>>>>>>>>>>>>>>>>>>>>>>>>>>>>>>>"
   ]
  },
  {
   "cell_type": "code",
   "execution_count": null,
   "metadata": {},
   "outputs": [],
   "source": []
  },
  {
   "cell_type": "code",
   "execution_count": null,
   "metadata": {},
   "outputs": [],
   "source": []
  },
  {
   "cell_type": "code",
   "execution_count": null,
   "metadata": {},
   "outputs": [],
   "source": []
  },
  {
   "cell_type": "code",
   "execution_count": null,
   "metadata": {},
   "outputs": [],
   "source": []
  },
  {
   "cell_type": "code",
   "execution_count": null,
   "metadata": {},
   "outputs": [],
   "source": []
  },
  {
   "cell_type": "code",
   "execution_count": null,
   "metadata": {},
   "outputs": [],
   "source": []
  }
 ],
 "metadata": {
  "kernelspec": {
   "display_name": "Python 3",
   "language": "python",
   "name": "python3"
  },
  "language_info": {
   "codemirror_mode": {
    "name": "ipython",
    "version": 3
   },
   "file_extension": ".py",
   "mimetype": "text/x-python",
   "name": "python",
   "nbconvert_exporter": "python",
   "pygments_lexer": "ipython3",
   "version": "3.8.5"
  }
 },
 "nbformat": 4,
 "nbformat_minor": 4
}
