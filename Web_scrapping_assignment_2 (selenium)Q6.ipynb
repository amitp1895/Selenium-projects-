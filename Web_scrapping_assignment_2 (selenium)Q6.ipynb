{
 "cells": [
  {
   "cell_type": "raw",
   "metadata": {},
   "source": [
    "\n",
    "Q6 : Scrape data of first 100 sunglasses listings on flipkart.com. You have to scrape four attributes:\n",
    "1. Brand\n",
    "2. Product Description\n",
    "3. Price\n",
    "4. Discount %\n",
    "The attributes which you have to scrape is ticked marked in the below image.\n",
    "To scrape the data you have to go through following steps:\n",
    "1. Go to flipkart webpage by url https://www.flipkart.com/\n",
    "2. Enter “sunglasses” in the search field where “search for products, brands and more” is written and click the search icon\n",
    "3. after that you will reach to a webpage having a lot of sunglasses. From this page you can scrap the required data as usual.\n",
    "4. after scraping data from the first page, go to the “Next” Button at the bottom of the page , then click on it\n",
    "5. Now scrape data from this page as usual\n",
    "6. repeat this until you get data for 100 sunglasses.\n",
    "Note that all of the above steps have to be done by coding only and not manually."
   ]
  },
  {
   "cell_type": "code",
   "execution_count": null,
   "metadata": {},
   "outputs": [],
   "source": [
    "import numpy as np \n",
    "import pandas as pd \n",
    "import selenium \n",
    "import time\n",
    "from selenium import webdriver\n",
    "import time \n",
    "#Imporing exceptionn\n",
    "from selenium.common.exceptions import NoSuchElementException"
   ]
  },
  {
   "cell_type": "code",
   "execution_count": null,
   "metadata": {},
   "outputs": [],
   "source": [
    "driver6=webdriver.Chrome(\"chromedriver.exe\")"
   ]
  },
  {
   "cell_type": "code",
   "execution_count": null,
   "metadata": {},
   "outputs": [],
   "source": [
    "driver6.get(\"https://www.flipkart.com/\")\n",
    "time.sleep(5)"
   ]
  },
  {
   "cell_type": "code",
   "execution_count": null,
   "metadata": {},
   "outputs": [],
   "source": [
    "search_glass =driver6.find_element_by_xpath(\"//input[@title='Search for products, brands and more']\")\n",
    "search_glass.send_keys(\"sunglasses\"+\"\\n\")\n",
    "#   +\"\\n\" works as enter button hit"
   ]
  },
  {
   "cell_type": "code",
   "execution_count": null,
   "metadata": {},
   "outputs": [],
   "source": [
    "#reference - Every page contains 40  glass data so  to scrap 100 glasses data , code has to repeat 3 times at min.\n",
    "time.sleep(5)"
   ]
  },
  {
   "cell_type": "code",
   "execution_count": null,
   "metadata": {},
   "outputs": [],
   "source": [
    "brand_name=[]\n",
    "\n",
    "brand_tag=driver6.find_elements_by_xpath(\"//div[@class='_2WkVRV']\")\n",
    "\n",
    "for i in brand_tag:\n",
    "    br=i.text\n",
    "    brand_name.append(br)\n",
    "    \n",
    "print(len(brand_name))\n"
   ]
  },
  {
   "cell_type": "code",
   "execution_count": null,
   "metadata": {},
   "outputs": [],
   "source": [
    "url=[]\n",
    "for i in driver6.find_elements_by_xpath(\"//a[@class='_2UzuFa']\"):\n",
    "    url.append(i.get_attribute(\"href\"))\n",
    "print(len(url))"
   ]
  },
  {
   "cell_type": "code",
   "execution_count": null,
   "metadata": {},
   "outputs": [],
   "source": [
    "discount=[]\n",
    "price=[]\n",
    "for i in url:\n",
    "    driver6.get(i)\n",
    "    try:\n",
    "        discount_tag=driver6.find_element_by_xpath(\"//div[@class='_3Ay6Sb _31Dcoz pZkvcx']\")\n",
    "        discount.append(discount_tag.text)                 \n",
    "    except:\n",
    "        discount.append(\"--\")\n",
    "\n",
    "        \n",
    "print(len(discount))\n"
   ]
  },
  {
   "cell_type": "code",
   "execution_count": null,
   "metadata": {},
   "outputs": [],
   "source": [
    "price=[]\n",
    "for i in url:\n",
    "    driver6.get(i)\n",
    "    \n",
    "    try:\n",
    "        price_tag=driver6.find_element_by_xpath(\"//div[@class='_30jeq3 _16Jk6d']\")\n",
    "        price.append(price_tag.text)                 \n",
    "    except:\n",
    "        price.append(\"--\")\n",
    "    \n",
    "        \n",
    "print(len(price))"
   ]
  },
  {
   "cell_type": "code",
   "execution_count": null,
   "metadata": {},
   "outputs": [],
   "source": [
    "search_glass =driver6.find_element_by_xpath(\"//input[@title='Search for products, brands and more']\")\n",
    "search_glass.send_keys(\"sunglasses\"+\"\\n\")"
   ]
  },
  {
   "cell_type": "code",
   "execution_count": null,
   "metadata": {},
   "outputs": [],
   "source": [
    "next_button=driver6.find_element_by_xpath(\"//a[@class='_1LKTO3']\")\n",
    "next_button.click()\n"
   ]
  },
  {
   "cell_type": "code",
   "execution_count": null,
   "metadata": {},
   "outputs": [],
   "source": [
    "brand_tag2=driver6.find_elements_by_xpath(\"//div[@class='_2WkVRV']\")\n",
    "for i in brand_tag2:\n",
    "    br=i.text\n",
    "    brand_name.append(br)\n",
    "    \n",
    "print(len(brand_name))\n",
    "\n",
    "\n",
    "\n"
   ]
  },
  {
   "cell_type": "code",
   "execution_count": null,
   "metadata": {},
   "outputs": [],
   "source": [
    "url2=[]\n",
    "for i in driver6.find_elements_by_xpath(\"//a[@class='_2UzuFa']\"):\n",
    "    url2.append(i.get_attribute(\"href\"))"
   ]
  },
  {
   "cell_type": "code",
   "execution_count": null,
   "metadata": {},
   "outputs": [],
   "source": []
  },
  {
   "cell_type": "code",
   "execution_count": null,
   "metadata": {},
   "outputs": [],
   "source": [
    "for i in url2:\n",
    "    driver6.get(i)\n",
    "    try:\n",
    "        discount_tag2=driver6.find_element_by_xpath(\"//div[@class='_3Ay6Sb _31Dcoz pZkvcx']\")\n",
    "        discount.append(discount_tag2.text)                 \n",
    "    except:\n",
    "        discount.append(\"--\")\n",
    "\n",
    "        \n",
    "print(len(discount))"
   ]
  },
  {
   "cell_type": "code",
   "execution_count": null,
   "metadata": {},
   "outputs": [],
   "source": [
    "for i in url2:\n",
    "    driver6.get(i)\n",
    "    \n",
    "    try:\n",
    "        price_tag2=driver6.find_element_by_xpath(\"//div[@class='_30jeq3 _16Jk6d']\")\n",
    "        price.append(price_tag2.text)                 \n",
    "    except:\n",
    "        price.append(\"--\")\n",
    "    \n",
    "        \n",
    "print(len(price))"
   ]
  },
  {
   "cell_type": "code",
   "execution_count": null,
   "metadata": {},
   "outputs": [],
   "source": [
    "search_glass =driver6.find_element_by_xpath(\"//input[@title='Search for products, brands and more']\")\n",
    "search_glass.send_keys(\"sunglasses\"+\"\\n\")\n"
   ]
  },
  {
   "cell_type": "code",
   "execution_count": null,
   "metadata": {},
   "outputs": [],
   "source": [
    "next_button2=driver6.find_element_by_xpath(\"//a[@class='_1LKTO3']\")\n",
    "next_button2.click()"
   ]
  },
  {
   "cell_type": "code",
   "execution_count": null,
   "metadata": {},
   "outputs": [],
   "source": [
    "next_button2.click()"
   ]
  },
  {
   "cell_type": "code",
   "execution_count": null,
   "metadata": {},
   "outputs": [],
   "source": [
    "brand_tag3=driver6.find_elements_by_xpath(\"//div[@class='_2WkVRV']\")\n",
    "for i in brand_tag3:\n",
    "    br=i.text\n",
    "    brand_name.append(br)\n",
    "    \n",
    "print(len(brand_name))"
   ]
  },
  {
   "cell_type": "code",
   "execution_count": null,
   "metadata": {},
   "outputs": [],
   "source": [
    "url3=[]\n",
    "for i in driver6.find_elements_by_xpath(\"//a[@class='_2UzuFa']\"):\n",
    "    url3.append(i.get_attribute(\"href\"))"
   ]
  },
  {
   "cell_type": "code",
   "execution_count": null,
   "metadata": {},
   "outputs": [],
   "source": [
    "for i in url3:\n",
    "    driver6.get(i)\n",
    "    try:\n",
    "        discount_tag3=driver6.find_element_by_xpath(\"//div[@class='_3Ay6Sb _31Dcoz pZkvcx']\")\n",
    "        discount.append(discount_tag3.text)                 \n",
    "    except:\n",
    "        discount.append(\"--\")\n",
    "\n",
    "        \n",
    "print(len(discount))"
   ]
  },
  {
   "cell_type": "code",
   "execution_count": null,
   "metadata": {},
   "outputs": [],
   "source": [
    "for i in url3:\n",
    "    driver6.get(i)\n",
    "    \n",
    "    try:\n",
    "        price_tag3=driver6.find_element_by_xpath(\"//div[@class='_30jeq3 _16Jk6d']\")\n",
    "        price.append(price_tag3.text)                 \n",
    "    except:\n",
    "        price.append(\"--\")\n",
    "    \n",
    "        \n",
    "print(len(price))"
   ]
  },
  {
   "cell_type": "code",
   "execution_count": null,
   "metadata": {},
   "outputs": [],
   "source": [
    "sunglasses=pd.DataFrame({})\n",
    "sunglasses[\"brand name \"]=brand_name\n",
    "sunglasses[\"price\"]=price\n",
    "sunglasses[\"discount %\"]=discount\n",
    "sunglasses.index=np.arange(1,len(sunglasses)+1)"
   ]
  },
  {
   "cell_type": "code",
   "execution_count": null,
   "metadata": {
    "scrolled": true
   },
   "outputs": [],
   "source": [
    "sunglasses"
   ]
  },
  {
   "cell_type": "code",
   "execution_count": null,
   "metadata": {},
   "outputs": [],
   "source": [
    "sunglass=sunglasses.iloc[ :100]"
   ]
  },
  {
   "cell_type": "code",
   "execution_count": null,
   "metadata": {
    "scrolled": true
   },
   "outputs": [],
   "source": [
    "sunglass"
   ]
  },
  {
   "cell_type": "code",
   "execution_count": null,
   "metadata": {},
   "outputs": [],
   "source": [
    "driver6.close()"
   ]
  },
  {
   "cell_type": "code",
   "execution_count": null,
   "metadata": {},
   "outputs": [],
   "source": []
  },
  {
   "cell_type": "code",
   "execution_count": null,
   "metadata": {},
   "outputs": [],
   "source": []
  }
 ],
 "metadata": {
  "kernelspec": {
   "display_name": "Python 3",
   "language": "python",
   "name": "python3"
  },
  "language_info": {
   "codemirror_mode": {
    "name": "ipython",
    "version": 3
   },
   "file_extension": ".py",
   "mimetype": "text/x-python",
   "name": "python",
   "nbconvert_exporter": "python",
   "pygments_lexer": "ipython3",
   "version": "3.8.5"
  }
 },
 "nbformat": 4,
 "nbformat_minor": 4
}
