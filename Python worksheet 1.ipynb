{
 "cells": [
  {
   "cell_type": "raw",
   "metadata": {},
   "source": [
    " FLIP ROBO                                                                                         ASSIGNMENT – 39"
   ]
  },
  {
   "cell_type": "raw",
   "metadata": {},
   "source": [
    "                                          PYTHON – WORKSHEET 1"
   ]
  },
  {
   "cell_type": "markdown",
   "metadata": {},
   "source": [
    "### Q11 to Q15 are programming questions. Answer them in Jupyter Notebook."
   ]
  },
  {
   "cell_type": "markdown",
   "metadata": {},
   "source": [
    "##### 11. Write a python program to find the factorial of a number."
   ]
  },
  {
   "cell_type": "code",
   "execution_count": 1,
   "metadata": {},
   "outputs": [
    {
     "data": {
      "text/plain": [
       "120"
      ]
     },
     "execution_count": 1,
     "metadata": {},
     "output_type": "execute_result"
    }
   ],
   "source": [
    "import math as m\n",
    "m.factorial(5)"
   ]
  },
  {
   "cell_type": "markdown",
   "metadata": {},
   "source": [
    "#                          or"
   ]
  },
  {
   "cell_type": "code",
   "execution_count": 2,
   "metadata": {},
   "outputs": [
    {
     "name": "stdout",
     "output_type": "stream",
     "text": [
      "enter the number=5\n",
      "factorial of 5 is 120\n"
     ]
    }
   ],
   "source": [
    "x=int(input(\"enter the number=\"))\n",
    "    \n",
    "if x<0:\n",
    "    print(\"factorial is availbale for positive intergers only\")\n",
    "    print(x ,\"is not a positive integer \")\n",
    "elif x==0 or x==1:\n",
    "    print(\"factorial of \",x,\"is\",1)\n",
    "else:\n",
    "     print (\"factorial of\",x,\"is\",m.factorial(x))"
   ]
  },
  {
   "cell_type": "markdown",
   "metadata": {},
   "source": [
    "#### 12. Write a python program to find whether a number is prime or composite."
   ]
  },
  {
   "cell_type": "code",
   "execution_count": 3,
   "metadata": {},
   "outputs": [
    {
     "name": "stdout",
     "output_type": "stream",
     "text": [
      "enter the number:23\n",
      "23 is a prime number\n"
     ]
    }
   ],
   "source": [
    "# Python program to check if\n",
    "# given number is prime or not\n",
    " \n",
    "number=int(input(\"enter the number:\"))\n",
    " \n",
    "if number > 1:\n",
    " \n",
    "    #a number can be divisible by half of it i.e n/2 orless than that so \n",
    "    for i in range(2, int(number/2)+1):\n",
    "        \n",
    "         # If num is divisible by any number between 2 and n / 2, it is not prime\n",
    "        if (number % i) == 0:\n",
    "            print(number, \"is not a prime number\")\n",
    "            break\n",
    "    else:\n",
    "        print(number,\"is a prime number\" )\n",
    "else:\n",
    "    print(number, \"is less than 0 , it can not be a prime number \")"
   ]
  },
  {
   "cell_type": "markdown",
   "metadata": {},
   "source": [
    "#### 13. Write a python program to check whether a given string is palindrome or not."
   ]
  },
  {
   "cell_type": "code",
   "execution_count": 4,
   "metadata": {},
   "outputs": [
    {
     "name": "stdout",
     "output_type": "stream",
     "text": [
      "write the string :amit\n",
      "\" amit \" is not a pelindrom string\n"
     ]
    }
   ],
   "source": [
    "# Program to check if a string is palindrome or not\n",
    "def pelin() :\n",
    "    string = input(\"write the string :\")\n",
    "    string = string.casefold()\n",
    "    rev_string = reversed(string)# reversing  the string\n",
    "    if list(string) == list(rev_string):\n",
    "        print('\"',string,'\"', \"is a pelindrom string\")\n",
    "    else:\n",
    "        print('\"',string,'\"',\"is not a pelindrom string\" )\n",
    "\n",
    "pelin ()\n"
   ]
  },
  {
   "cell_type": "markdown",
   "metadata": {},
   "source": [
    "#### 14. Write a Python program to get the third side of right-angled triangle from two given sides."
   ]
  },
  {
   "cell_type": "code",
   "execution_count": 5,
   "metadata": {},
   "outputs": [
    {
     "name": "stdout",
     "output_type": "stream",
     "text": [
      " the 1st side is of 15\n",
      " the 2nd side is of 17\n",
      "3rd side of traingle is of 22.67156809750927\n"
     ]
    },
    {
     "data": {
      "text/plain": [
       "22.67"
      ]
     },
     "execution_count": 5,
     "metadata": {},
     "output_type": "execute_result"
    }
   ],
   "source": [
    "#hypotenuse=a²+b²=c²----Reference \n",
    "\n",
    "def _3rd_side():\n",
    "    side_one =int(input(\" the 1st side is of \"))\n",
    "    side_two =int(input(\" the 2nd side is of \"))\n",
    "    hyp= side_one**2+side_two**2\n",
    "    side_three =m.sqrt(hyp)\n",
    "    print (\"3rd side of traingle is of\",side_three)\n",
    "    return round(side_three,2)\n",
    "\n",
    "_3rd_side()    "
   ]
  },
  {
   "cell_type": "markdown",
   "metadata": {},
   "source": [
    "#### 15. Write a python program to print the frequency of each of the characters present in a given string."
   ]
  },
  {
   "cell_type": "code",
   "execution_count": 6,
   "metadata": {},
   "outputs": [
    {
     "name": "stdout",
     "output_type": "stream",
     "text": [
      "a 2\n",
      "a is repeating  2 times \n",
      "c 2\n",
      "c is repeating  2 times \n",
      "d 1\n",
      "e 3\n",
      "e is repeating  3 times \n",
      "h 1\n",
      "i 3\n",
      "i is repeating  3 times \n",
      "n 3\n",
      "n is repeating  3 times \n",
      "p 1\n",
      "r 1\n",
      "s 2\n",
      "s is repeating  2 times \n",
      "t 2\n",
      "t is repeating  2 times \n"
     ]
    }
   ],
   "source": [
    "Alpha = \"abcdefghijklmnopqrstuvwxyz\" #alphabets for sampling \n",
    "new_string = \"data science internship  \"\n",
    "\n",
    "for char in Alpha:\n",
    "    count = new_string.count(char)\n",
    "    if count > 0:\n",
    "        print (char, count)\n",
    "    if count>1:\n",
    "        print(char, \"is repeating \",count,\"times \")"
   ]
  },
  {
   "cell_type": "code",
   "execution_count": null,
   "metadata": {},
   "outputs": [],
   "source": []
  },
  {
   "cell_type": "code",
   "execution_count": null,
   "metadata": {},
   "outputs": [],
   "source": []
  }
 ],
 "metadata": {
  "kernelspec": {
   "display_name": "Python 3",
   "language": "python",
   "name": "python3"
  },
  "language_info": {
   "codemirror_mode": {
    "name": "ipython",
    "version": 3
   },
   "file_extension": ".py",
   "mimetype": "text/x-python",
   "name": "python",
   "nbconvert_exporter": "python",
   "pygments_lexer": "ipython3",
   "version": "3.8.5"
  }
 },
 "nbformat": 4,
 "nbformat_minor": 4
}
