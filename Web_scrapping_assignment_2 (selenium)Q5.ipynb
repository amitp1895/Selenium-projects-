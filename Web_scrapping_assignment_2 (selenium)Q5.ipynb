{
 "cells": [
  {
   "cell_type": "raw",
   "metadata": {},
   "source": [
    "Q5: Write a python program to scrape the salary data for Data Scientist designation in Noida location.\n",
    "You have to scrape Company name, Number of salaries, Average salary, Min salary, Max Salary.\n",
    "The above task will be, done as shown in the below steps:\n",
    "1. first get the webpage https://www.glassdoor.co.in/Salaries/index.htm\n",
    "2. Enter “Data Scientist” in Job title field and “Noida” in location field.\n",
    "3. Click the search button.\n",
    "4. After that you will land on the below page\n",
    "You have to scrape whole data from this webpage\n",
    "5. Scrape data for first 10 companies. Scrape the min salary, max salary, company name, Average salary and rating of the company.\n",
    "6.Store the data in a dataframe.\n",
    "Note that all of the above steps have to be done by coding only and not manually."
   ]
  },
  {
   "cell_type": "code",
   "execution_count": 13,
   "metadata": {},
   "outputs": [],
   "source": [
    "import numpy as np \n",
    "import pandas as pd \n",
    "import selenium \n",
    "from selenium import webdriver"
   ]
  },
  {
   "cell_type": "code",
   "execution_count": 14,
   "metadata": {},
   "outputs": [],
   "source": [
    "driver5=webdriver.Chrome(\"chromedriver.exe\")"
   ]
  },
  {
   "cell_type": "code",
   "execution_count": 15,
   "metadata": {},
   "outputs": [],
   "source": [
    "driver5.get(\"https://www.glassdoor.co.in/Salaries/index.htm\")"
   ]
  },
  {
   "cell_type": "code",
   "execution_count": 16,
   "metadata": {},
   "outputs": [],
   "source": [
    "search_jobs=driver5.find_element_by_id(\"KeywordSearch\")\n",
    "search_jobs.send_keys(\"Data Scientist\")"
   ]
  },
  {
   "cell_type": "code",
   "execution_count": 17,
   "metadata": {},
   "outputs": [],
   "source": [
    "search_button=driver5.find_element_by_id(\"HeroSearchButton\").click()"
   ]
  },
  {
   "cell_type": "code",
   "execution_count": 18,
   "metadata": {},
   "outputs": [
    {
     "name": "stdout",
     "output_type": "stream",
     "text": [
      "20\n"
     ]
    },
    {
     "data": {
      "text/plain": [
       "['Mu Sigma',\n",
       " 'IBM',\n",
       " 'Tata Consultancy Services',\n",
       " 'Impact Analytics',\n",
       " 'Accenture',\n",
       " 'Infosys',\n",
       " 'Capgemini',\n",
       " 'Cognizant Technology Solutions',\n",
       " 'Anheuser-Busch InBev',\n",
       " 'Fractal',\n",
       " 'Embibe',\n",
       " 'Amazon',\n",
       " 'Google',\n",
       " 'Ericsson-Worldwide',\n",
       " 'Flipkart',\n",
       " 'HP Inc.',\n",
       " 'Wipro',\n",
       " 'Genpact',\n",
       " 'Fresher',\n",
       " 'MiQ']"
      ]
     },
     "execution_count": 18,
     "metadata": {},
     "output_type": "execute_result"
    }
   ],
   "source": [
    "com_name=[]\n",
    "\n",
    "name_tag5=driver5.find_elements_by_xpath(\"//a[@class='css-f3vw95 e1aj7ssy3']\")\n",
    "\n",
    "for i in name_tag5:\n",
    "    name=i.text\n",
    "    com_name.append(name)\n",
    "    \n",
    "print(len(com_name))\n",
    "com_name\n"
   ]
  },
  {
   "cell_type": "code",
   "execution_count": 19,
   "metadata": {
    "scrolled": true
   },
   "outputs": [
    {
     "name": "stdout",
     "output_type": "stream",
     "text": [
      "20\n"
     ]
    },
    {
     "data": {
      "text/plain": [
       "['₹6,51,353/yr',\n",
       " '₹11,78,399/yr',\n",
       " '₹8,77,705/yr',\n",
       " '₹6,71,046/yr',\n",
       " '₹9,67,613/yr',\n",
       " '₹9,09,257/yr',\n",
       " '₹9,47,042/yr',\n",
       " '₹7,53,281/yr',\n",
       " '₹16,51,026/yr',\n",
       " '₹14,30,228/yr',\n",
       " '₹14,10,795/yr',\n",
       " '₹14,11,911/yr',\n",
       " '₹15,64,775/yr',\n",
       " '₹12,26,988/yr',\n",
       " '₹25,79,728/yr',\n",
       " '₹15,26,678/yr',\n",
       " '₹7,79,837/yr',\n",
       " '₹10,09,162/yr',\n",
       " '₹5,50,000/yr',\n",
       " '₹16,79,815/yr']"
      ]
     },
     "execution_count": 19,
     "metadata": {},
     "output_type": "execute_result"
    }
   ],
   "source": [
    "avg_sal=[]\n",
    "\n",
    "avg_tag5=driver5.find_elements_by_xpath(\"//div[@class='col-12 col-lg-4 px-lg-0 d-flex align-items-baseline']\")\n",
    "\n",
    "for i in avg_tag5:\n",
    "    avg=i.text.replace(\"\\n \",'')\n",
    "    avg_sal.append(avg)\n",
    "    \n",
    "print(len(avg_sal))\n",
    "avg_sal"
   ]
  },
  {
   "cell_type": "code",
   "execution_count": 28,
   "metadata": {},
   "outputs": [
    {
     "name": "stdout",
     "output_type": "stream",
     "text": [
      "20\n"
     ]
    },
    {
     "data": {
      "text/plain": [
       "['₹3L',\n",
       " '₹2L',\n",
       " '₹2L',\n",
       " '₹5L',\n",
       " '₹4L',\n",
       " '₹4L',\n",
       " '₹5L',\n",
       " '₹3L',\n",
       " '₹12L',\n",
       " '₹10L',\n",
       " '₹9L',\n",
       " '₹3L',\n",
       " '₹3L',\n",
       " '₹3L',\n",
       " '₹18L',\n",
       " '₹4L',\n",
       " '₹2L',\n",
       " '₹5L',\n",
       " '₹2L',\n",
       " '₹14L']"
      ]
     },
     "execution_count": 28,
     "metadata": {},
     "output_type": "execute_result"
    }
   ],
   "source": [
    "min_sal=[]\n",
    "\n",
    "min_tag5=driver5.find_elements_by_xpath(\"//div[@class='d-flex mt-xxsm css-79elbk epuxyqn0']/p[1]\")\n",
    "\n",
    "for i in min_tag5:\n",
    "    mn=i.text.replace(\"\\n\",'')\n",
    "    min_sal.append(mn)\n",
    "    \n",
    "print(len(min_sal))\n",
    "min_sal\n",
    "\n"
   ]
  },
  {
   "cell_type": "code",
   "execution_count": 29,
   "metadata": {},
   "outputs": [
    {
     "name": "stdout",
     "output_type": "stream",
     "text": [
      "20\n"
     ]
    },
    {
     "data": {
      "text/plain": [
       "['₹49L',\n",
       " '₹43L',\n",
       " '₹26L',\n",
       " '₹9L',\n",
       " '₹31L',\n",
       " '₹33L',\n",
       " '₹16L',\n",
       " '₹18L',\n",
       " '₹20L',\n",
       " '₹21L',\n",
       " '₹19L',\n",
       " '₹45L',\n",
       " '₹73L',\n",
       " '₹36L',\n",
       " '₹44L',\n",
       " '₹50L',\n",
       " '₹28L',\n",
       " '₹14L',\n",
       " '₹15L',\n",
       " '₹20L']"
      ]
     },
     "execution_count": 29,
     "metadata": {},
     "output_type": "execute_result"
    }
   ],
   "source": [
    "max_sal=[]\n",
    "\n",
    "max_tag5=driver5.find_elements_by_xpath(\"//div[@class='d-flex mt-xxsm css-79elbk epuxyqn0']/p[2]\")\n",
    "\n",
    "for i in max_tag5:\n",
    "    mx=i.text.replace(\"\\n \",'')\n",
    "    max_sal.append(mx)\n",
    "    \n",
    "print(len(max_sal))\n",
    "max_sal"
   ]
  },
  {
   "cell_type": "code",
   "execution_count": 24,
   "metadata": {},
   "outputs": [
    {
     "name": "stdout",
     "output_type": "stream",
     "text": [
      "20\n"
     ]
    },
    {
     "data": {
      "text/plain": [
       "['3.3',\n",
       " '3.9',\n",
       " '3.9',\n",
       " '3.9',\n",
       " '4.1',\n",
       " '3.3',\n",
       " '3.8',\n",
       " '3.8',\n",
       " '3.7',\n",
       " '4',\n",
       " '4.4',\n",
       " '3.7',\n",
       " '4.5',\n",
       " '4',\n",
       " '4.1',\n",
       " '4.2',\n",
       " '3.4',\n",
       " '3.8',\n",
       " '4.2',\n",
       " '3.9']"
      ]
     },
     "execution_count": 24,
     "metadata": {},
     "output_type": "execute_result"
    }
   ],
   "source": [
    "rating=[]\n",
    "\n",
    "rating_tag5=driver5.find_elements_by_xpath(\"//span[@class='m-0 css-kyx745']\")\n",
    "\n",
    "for i in rating_tag5:\n",
    "    rt=i.text.replace(\"\\n \",'')\n",
    "    rating.append(rt)\n",
    "    \n",
    "print(len(rating))\n",
    "rating"
   ]
  },
  {
   "cell_type": "code",
   "execution_count": 30,
   "metadata": {},
   "outputs": [
    {
     "data": {
      "text/html": [
       "<div>\n",
       "<style scoped>\n",
       "    .dataframe tbody tr th:only-of-type {\n",
       "        vertical-align: middle;\n",
       "    }\n",
       "\n",
       "    .dataframe tbody tr th {\n",
       "        vertical-align: top;\n",
       "    }\n",
       "\n",
       "    .dataframe thead th {\n",
       "        text-align: right;\n",
       "    }\n",
       "</style>\n",
       "<table border=\"1\" class=\"dataframe\">\n",
       "  <thead>\n",
       "    <tr style=\"text-align: right;\">\n",
       "      <th></th>\n",
       "      <th>company name</th>\n",
       "      <th>Minimum salary</th>\n",
       "      <th>Average salary</th>\n",
       "      <th>Maximum salary</th>\n",
       "      <th>company rating</th>\n",
       "    </tr>\n",
       "  </thead>\n",
       "  <tbody>\n",
       "    <tr>\n",
       "      <th>1</th>\n",
       "      <td>Mu Sigma</td>\n",
       "      <td>₹49L</td>\n",
       "      <td>₹6,51,353/yr</td>\n",
       "      <td>₹3L</td>\n",
       "      <td>3.3</td>\n",
       "    </tr>\n",
       "    <tr>\n",
       "      <th>2</th>\n",
       "      <td>IBM</td>\n",
       "      <td>₹43L</td>\n",
       "      <td>₹11,78,399/yr</td>\n",
       "      <td>₹2L</td>\n",
       "      <td>3.9</td>\n",
       "    </tr>\n",
       "    <tr>\n",
       "      <th>3</th>\n",
       "      <td>Tata Consultancy Services</td>\n",
       "      <td>₹26L</td>\n",
       "      <td>₹8,77,705/yr</td>\n",
       "      <td>₹2L</td>\n",
       "      <td>3.9</td>\n",
       "    </tr>\n",
       "    <tr>\n",
       "      <th>4</th>\n",
       "      <td>Impact Analytics</td>\n",
       "      <td>₹9L</td>\n",
       "      <td>₹6,71,046/yr</td>\n",
       "      <td>₹5L</td>\n",
       "      <td>3.9</td>\n",
       "    </tr>\n",
       "    <tr>\n",
       "      <th>5</th>\n",
       "      <td>Accenture</td>\n",
       "      <td>₹31L</td>\n",
       "      <td>₹9,67,613/yr</td>\n",
       "      <td>₹4L</td>\n",
       "      <td>4.1</td>\n",
       "    </tr>\n",
       "    <tr>\n",
       "      <th>6</th>\n",
       "      <td>Infosys</td>\n",
       "      <td>₹33L</td>\n",
       "      <td>₹9,09,257/yr</td>\n",
       "      <td>₹4L</td>\n",
       "      <td>3.3</td>\n",
       "    </tr>\n",
       "    <tr>\n",
       "      <th>7</th>\n",
       "      <td>Capgemini</td>\n",
       "      <td>₹16L</td>\n",
       "      <td>₹9,47,042/yr</td>\n",
       "      <td>₹5L</td>\n",
       "      <td>3.8</td>\n",
       "    </tr>\n",
       "    <tr>\n",
       "      <th>8</th>\n",
       "      <td>Cognizant Technology Solutions</td>\n",
       "      <td>₹18L</td>\n",
       "      <td>₹7,53,281/yr</td>\n",
       "      <td>₹3L</td>\n",
       "      <td>3.8</td>\n",
       "    </tr>\n",
       "    <tr>\n",
       "      <th>9</th>\n",
       "      <td>Anheuser-Busch InBev</td>\n",
       "      <td>₹20L</td>\n",
       "      <td>₹16,51,026/yr</td>\n",
       "      <td>₹12L</td>\n",
       "      <td>3.7</td>\n",
       "    </tr>\n",
       "    <tr>\n",
       "      <th>10</th>\n",
       "      <td>Fractal</td>\n",
       "      <td>₹21L</td>\n",
       "      <td>₹14,30,228/yr</td>\n",
       "      <td>₹10L</td>\n",
       "      <td>4</td>\n",
       "    </tr>\n",
       "  </tbody>\n",
       "</table>\n",
       "</div>"
      ],
      "text/plain": [
       "                     company name  Minimum salary Average salary  \\\n",
       "1                         Mu Sigma           ₹49L   ₹6,51,353/yr   \n",
       "2                              IBM           ₹43L  ₹11,78,399/yr   \n",
       "3        Tata Consultancy Services           ₹26L   ₹8,77,705/yr   \n",
       "4                 Impact Analytics            ₹9L   ₹6,71,046/yr   \n",
       "5                        Accenture           ₹31L   ₹9,67,613/yr   \n",
       "6                          Infosys           ₹33L   ₹9,09,257/yr   \n",
       "7                        Capgemini           ₹16L   ₹9,47,042/yr   \n",
       "8   Cognizant Technology Solutions           ₹18L   ₹7,53,281/yr   \n",
       "9             Anheuser-Busch InBev           ₹20L  ₹16,51,026/yr   \n",
       "10                         Fractal           ₹21L  ₹14,30,228/yr   \n",
       "\n",
       "   Maximum salary company rating  \n",
       "1             ₹3L            3.3  \n",
       "2             ₹2L            3.9  \n",
       "3             ₹2L            3.9  \n",
       "4             ₹5L            3.9  \n",
       "5             ₹4L            4.1  \n",
       "6             ₹4L            3.3  \n",
       "7             ₹5L            3.8  \n",
       "8             ₹3L            3.8  \n",
       "9            ₹12L            3.7  \n",
       "10           ₹10L              4  "
      ]
     },
     "execution_count": 30,
     "metadata": {},
     "output_type": "execute_result"
    }
   ],
   "source": [
    "gdoor=pd.DataFrame({})\n",
    "gdoor[\"company name \"]=com_name\n",
    "gdoor[\"Minimum salary\"]=max_sal\n",
    "gdoor[\"Average salary\"]=avg_sal\n",
    "gdoor[\"Maximum salary\"]=min_sal\n",
    "gdoor[\"company rating\"]=rating\n",
    "gdoor.index=np.arange(1,len(gdoor)+1)\n",
    "gdoor10=gdoor.iloc[ :10]\n",
    "gdoor10"
   ]
  },
  {
   "cell_type": "code",
   "execution_count": null,
   "metadata": {},
   "outputs": [],
   "source": []
  },
  {
   "cell_type": "code",
   "execution_count": null,
   "metadata": {},
   "outputs": [],
   "source": []
  },
  {
   "cell_type": "code",
   "execution_count": null,
   "metadata": {},
   "outputs": [],
   "source": []
  },
  {
   "cell_type": "code",
   "execution_count": null,
   "metadata": {},
   "outputs": [],
   "source": []
  }
 ],
 "metadata": {
  "kernelspec": {
   "display_name": "Python 3",
   "language": "python",
   "name": "python3"
  },
  "language_info": {
   "codemirror_mode": {
    "name": "ipython",
    "version": 3
   },
   "file_extension": ".py",
   "mimetype": "text/x-python",
   "name": "python",
   "nbconvert_exporter": "python",
   "pygments_lexer": "ipython3",
   "version": "3.8.5"
  }
 },
 "nbformat": 4,
 "nbformat_minor": 4
}
