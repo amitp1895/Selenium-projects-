{
 "cells": [
  {
   "cell_type": "raw",
   "metadata": {},
   "source": [
    "Q9: Go to the link - https://www.myntra.com/shoes\n",
    "-Set Price filter to “Rs. 6649 to Rs. 13099” , Color filter to “Black”, as shown in the below image\n",
    "-And then scrape First 100 shoes data you get. The data should include “Brand” of the shoes , Short Shoe description, price of the shoe as shown in the below image.\n",
    "-Please note that applying the filter and scraping the data , everything should be done through code only and there should not be any manual step."
   ]
  },
  {
   "cell_type": "code",
   "execution_count": 49,
   "metadata": {},
   "outputs": [],
   "source": [
    "import numpy as np \n",
    "import pandas as pd \n",
    "import selenium \n",
    "import time\n",
    "from selenium import webdriver\n",
    "import time \n",
    "#Imporing exceptionn\n",
    "from selenium.common.exceptions import NoSuchElementException"
   ]
  },
  {
   "cell_type": "code",
   "execution_count": 26,
   "metadata": {},
   "outputs": [],
   "source": [
    "driver9=webdriver.Chrome(\"chromedriver.exe\")"
   ]
  },
  {
   "cell_type": "code",
   "execution_count": 31,
   "metadata": {},
   "outputs": [],
   "source": [
    "driver9.get(\"https://www.myntra.com/shoes?f=Color%3ABlack_36454f&rf=Price%3A6897.0_13595.0_6897.0%20TO%2013595.0\")\n",
    "time.sleep(5)"
   ]
  },
  {
   "cell_type": "markdown",
   "metadata": {},
   "source": [
    "##Could not execute filtering by code , used filtered url"
   ]
  },
  {
   "cell_type": "code",
   "execution_count": null,
   "metadata": {},
   "outputs": [],
   "source": []
  },
  {
   "cell_type": "code",
   "execution_count": 41,
   "metadata": {},
   "outputs": [
    {
     "name": "stdout",
     "output_type": "stream",
     "text": [
      "brand_name 50\n",
      "short_dec 50\n",
      "price 50\n"
     ]
    }
   ],
   "source": [
    "brand_name=[]\n",
    "n_tag=driver9.find_elements_by_xpath(\"//h3[@class='product-brand']\")\n",
    "for i in n_tag:\n",
    "    n=i.text\n",
    "    brand_name.append(n)\n",
    "\n",
    "print(\"brand_name\" , len(brand_name))\n",
    "\n",
    "\n",
    "short_dec=[]\n",
    "d_tag=driver9.find_elements_by_xpath(\"//h4[@class='product-product']\")\n",
    "for i in d_tag:\n",
    "    n=i.text\n",
    "    short_dec.append(n)\n",
    "\n",
    "print(\"short_dec\" , len(short_dec))\n",
    "\n",
    "price=[]\n",
    "p_tag=driver9.find_elements_by_xpath(\"//div[@class='product-price']\")\n",
    "for i in p_tag:\n",
    "    n=i.text\n",
    "    price.append(n)\n",
    "\n",
    "print(\"price\" , len(price))\n",
    "    \n",
    "    "
   ]
  },
  {
   "cell_type": "code",
   "execution_count": 42,
   "metadata": {},
   "outputs": [],
   "source": [
    "next_button=driver9.find_element_by_xpath(\"//a[@rel='next']\").click()"
   ]
  },
  {
   "cell_type": "code",
   "execution_count": 43,
   "metadata": {},
   "outputs": [
    {
     "name": "stdout",
     "output_type": "stream",
     "text": [
      "brand_name 100\n",
      "short_dec 100\n",
      "price 100\n"
     ]
    }
   ],
   "source": [
    "\n",
    "n_tag=driver9.find_elements_by_xpath(\"//h3[@class='product-brand']\")\n",
    "for i in n_tag:\n",
    "    n=i.text\n",
    "    brand_name.append(n)\n",
    "\n",
    "print(\"brand_name\" , len(brand_name))\n",
    "\n",
    "\n",
    "\n",
    "d_tag=driver9.find_elements_by_xpath(\"//h4[@class='product-product']\")\n",
    "for i in d_tag:\n",
    "    n=i.text\n",
    "    short_dec.append(n)\n",
    "\n",
    "print(\"short_dec\" , len(short_dec))\n",
    "\n",
    "\n",
    "p_tag=driver9.find_elements_by_xpath(\"//div[@class='product-price']\")\n",
    "for i in p_tag:\n",
    "    n=i.text\n",
    "    price.append(n)\n",
    "\n",
    "print(\"price\" , len(price))\n",
    "    "
   ]
  },
  {
   "cell_type": "code",
   "execution_count": 47,
   "metadata": {},
   "outputs": [],
   "source": [
    "black_shoe=pd.DataFrame({})\n",
    "black_shoe[\"Brand name\"]=brand_name\n",
    "black_shoe[\"Description\"]=short_dec\n",
    "black_shoe[\"price\"]=price"
   ]
  },
  {
   "cell_type": "code",
   "execution_count": 48,
   "metadata": {},
   "outputs": [
    {
     "data": {
      "text/html": [
       "<div>\n",
       "<style scoped>\n",
       "    .dataframe tbody tr th:only-of-type {\n",
       "        vertical-align: middle;\n",
       "    }\n",
       "\n",
       "    .dataframe tbody tr th {\n",
       "        vertical-align: top;\n",
       "    }\n",
       "\n",
       "    .dataframe thead th {\n",
       "        text-align: right;\n",
       "    }\n",
       "</style>\n",
       "<table border=\"1\" class=\"dataframe\">\n",
       "  <thead>\n",
       "    <tr style=\"text-align: right;\">\n",
       "      <th></th>\n",
       "      <th>Brand name</th>\n",
       "      <th>Description</th>\n",
       "      <th>price</th>\n",
       "    </tr>\n",
       "  </thead>\n",
       "  <tbody>\n",
       "    <tr>\n",
       "      <th>0</th>\n",
       "      <td>Hush Puppies</td>\n",
       "      <td>Men Leather Derbys</td>\n",
       "      <td>Rs. 7199Rs. 7999(10% OFF)</td>\n",
       "    </tr>\n",
       "    <tr>\n",
       "      <th>1</th>\n",
       "      <td>Geox</td>\n",
       "      <td>Men Leather Formal Derbys</td>\n",
       "      <td>Rs. 9999</td>\n",
       "    </tr>\n",
       "    <tr>\n",
       "      <th>2</th>\n",
       "      <td>Puma</td>\n",
       "      <td>Unisex Mirage Sport Trainers</td>\n",
       "      <td>Rs. 6999Rs. 9999(30% OFF)</td>\n",
       "    </tr>\n",
       "    <tr>\n",
       "      <th>3</th>\n",
       "      <td>Calvin Klein</td>\n",
       "      <td>Men Solid Suede Sneakers</td>\n",
       "      <td>Rs. 7999</td>\n",
       "    </tr>\n",
       "    <tr>\n",
       "      <th>4</th>\n",
       "      <td>Calvin Klein</td>\n",
       "      <td>Men Mid-Top Sneakers</td>\n",
       "      <td>Rs. 6999</td>\n",
       "    </tr>\n",
       "    <tr>\n",
       "      <th>...</th>\n",
       "      <td>...</td>\n",
       "      <td>...</td>\n",
       "      <td>...</td>\n",
       "    </tr>\n",
       "    <tr>\n",
       "      <th>95</th>\n",
       "      <td>Ruosh</td>\n",
       "      <td>Men Textured Derbys</td>\n",
       "      <td>Rs. 8990</td>\n",
       "    </tr>\n",
       "    <tr>\n",
       "      <th>96</th>\n",
       "      <td>Puma</td>\n",
       "      <td>Unisex OP-1 PWRFrame Trainers</td>\n",
       "      <td>Rs. 7699Rs. 10999(30% OFF)</td>\n",
       "    </tr>\n",
       "    <tr>\n",
       "      <th>97</th>\n",
       "      <td>Puma</td>\n",
       "      <td>Unisex Rider Vintage Sneakers</td>\n",
       "      <td>Rs. 6999Rs. 9999(30% OFF)</td>\n",
       "    </tr>\n",
       "    <tr>\n",
       "      <th>98</th>\n",
       "      <td>ALDO</td>\n",
       "      <td>Women Sneakers</td>\n",
       "      <td>Rs. 11999</td>\n",
       "    </tr>\n",
       "    <tr>\n",
       "      <th>99</th>\n",
       "      <td>DAVINCHI</td>\n",
       "      <td>Men Solid Leather Formal Slip-On Shoes</td>\n",
       "      <td>Rs. 6990</td>\n",
       "    </tr>\n",
       "  </tbody>\n",
       "</table>\n",
       "<p>100 rows × 3 columns</p>\n",
       "</div>"
      ],
      "text/plain": [
       "      Brand name                             Description  \\\n",
       "0   Hush Puppies                      Men Leather Derbys   \n",
       "1           Geox               Men Leather Formal Derbys   \n",
       "2           Puma            Unisex Mirage Sport Trainers   \n",
       "3   Calvin Klein                Men Solid Suede Sneakers   \n",
       "4   Calvin Klein                    Men Mid-Top Sneakers   \n",
       "..           ...                                     ...   \n",
       "95         Ruosh                     Men Textured Derbys   \n",
       "96          Puma           Unisex OP-1 PWRFrame Trainers   \n",
       "97          Puma           Unisex Rider Vintage Sneakers   \n",
       "98          ALDO                          Women Sneakers   \n",
       "99      DAVINCHI  Men Solid Leather Formal Slip-On Shoes   \n",
       "\n",
       "                         price  \n",
       "0    Rs. 7199Rs. 7999(10% OFF)  \n",
       "1                     Rs. 9999  \n",
       "2    Rs. 6999Rs. 9999(30% OFF)  \n",
       "3                     Rs. 7999  \n",
       "4                     Rs. 6999  \n",
       "..                         ...  \n",
       "95                    Rs. 8990  \n",
       "96  Rs. 7699Rs. 10999(30% OFF)  \n",
       "97   Rs. 6999Rs. 9999(30% OFF)  \n",
       "98                   Rs. 11999  \n",
       "99                    Rs. 6990  \n",
       "\n",
       "[100 rows x 3 columns]"
      ]
     },
     "execution_count": 48,
     "metadata": {},
     "output_type": "execute_result"
    }
   ],
   "source": [
    "black_shoe"
   ]
  },
  {
   "cell_type": "code",
   "execution_count": null,
   "metadata": {},
   "outputs": [],
   "source": []
  }
 ],
 "metadata": {
  "kernelspec": {
   "display_name": "Python 3",
   "language": "python",
   "name": "python3"
  },
  "language_info": {
   "codemirror_mode": {
    "name": "ipython",
    "version": 3
   },
   "file_extension": ".py",
   "mimetype": "text/x-python",
   "name": "python",
   "nbconvert_exporter": "python",
   "pygments_lexer": "ipython3",
   "version": "3.8.5"
  }
 },
 "nbformat": 4,
 "nbformat_minor": 4
}
