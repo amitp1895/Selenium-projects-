{
 "cells": [
  {
   "cell_type": "markdown",
   "metadata": {},
   "source": [
    "### 1. Write a python program to display all the header tags from ‘en.wikipedia.org/wiki/Main_Page’."
   ]
  },
  {
   "cell_type": "code",
   "execution_count": 1,
   "metadata": {},
   "outputs": [],
   "source": [
    "###importing libraries \n",
    "from bs4 import BeautifulSoup \n",
    "import requests\n",
    "import pandas as pd \n",
    "import numpy as np"
   ]
  },
  {
   "cell_type": "code",
   "execution_count": 2,
   "metadata": {},
   "outputs": [
    {
     "data": {
      "text/plain": [
       "<Response [200]>"
      ]
     },
     "execution_count": 2,
     "metadata": {},
     "output_type": "execute_result"
    }
   ],
   "source": [
    "#requesting the data \n",
    "data=requests.get(\"http://en.wikipedia.org/wiki/Main_Page\")\n",
    "data"
   ]
  },
  {
   "cell_type": "code",
   "execution_count": 3,
   "metadata": {},
   "outputs": [
    {
     "data": {
      "text/plain": [
       "b'<!DOCTYPE html>\\n<html class=\"client-nojs\" lang=\"en\" dir=\"ltr\">\\n<head>\\n<meta charset=\"UTF-8\"/>\\n<title>Wikipedia, the free encyclopedia</title>\\n<script>document.documentElement.className=\"client-js\";RLCONF={\"wgBreakFrames\":!1,\"wgSeparatorTransformTable\":[\"\",\"\"],\"wgDigitTransformTable\":[\"\",\"\"],\"wgDefaultDateFormat\":\"dmy\",\"wgMonthNames\":[\"\",\"January\",\"February\",\"March\",\"April\",\"May\",\"June\",\"July\",\"August\",\"September\",\"October\",\"November\",\"December\"],\"wgRequestId\":\"1aa30443-fcc8-4523-bd2d-8601931d8f9c\",\"wgCSPNonce\":!1,\"wgCanonicalNamespace\":\"\",\"wgCanonicalSpecialPageName\":!1,\"wgNamespaceNumber\":0,\"wgPageName\":\"Main_Page\",\"wgTitle\":\"Main Page\",\"wgCurRevisionId\":1004593520,\"wgRevisionId\":1004593520,\"wgArticleId\":15580374,\"wgIsArticle\":!0,\"wgIsRedirect\":!1,\"wgAction\":\"view\",\"wgUserName\":null,\"wgUserGroups\":[\"*\"],\"wgCategories\":[],\"wgPageContentLanguage\":\"en\",\"wgPageContentModel\":\"wikitext\",\"wgRelevantPageName\":\"Main_Page\",\"wgRelevantArticleId\":15580374,\"wgIsProbablyEditable\":!1,\"wgRelevantPageIsProbablyEditable\":!1,\"wgRestrictionEdit\":[\"sysop\"],\"wgRestrictionMove\":[\"sysop\"],\"wgIsMainPage\":!0,\"wgFlaggedRevsParams\":{\\n\"tags\":{\"status\":{\"levels\":-1}}},\"wgMediaViewerOnClick\":!0,\"wgMediaViewerEnabledByDefault\":!0,\"wgPopupsFlags\":10,\"wgVisualEditor\":{\"pageLanguageCode\":\"en\",\"pageLanguageDir\":\"ltr\",\"pageVariantFallbacks\":\"en\"},\"wgMFDisplayWikibaseDescriptions\":{\"search\":!0,\"nearby\":!0,\"watchlist\":!0,\"tagline\":!1},\"wgWMESchemaEditAttemptStepOversample\":!1,\"wgULSCurrentAutonym\":\"English\",\"wgNoticeProject\":\"wikipedia\",\"wgEditSubmitButtonLabelPublish\":!0,\"wgULSPosition\":\"interlanguage\",\"wgULSisCompactLinksEnabled\":!0,\"wgGENewcomerTasksGuidanceEnabled\":!0,\"wgGEAskQuestionEnabled\":!1,\"wgGELinkRecommendationsFrontendEnabled\":!1,\"wgCentralAuthMobileDomain\":!1,\"wgWikibaseItemId\":\"Q5296\"};RLSTATE={\"ext.globalCssJs.user.styles\":\"ready\",\"site.styles\":\"ready\",\"noscript\":\"ready\",\"user.styles\":\"ready\",\"ext.globalCssJs.user\":\"ready\",\"user\":\"ready\",\"user.options\":\"loading\",\"skins.vector.styles.legacy\":\"ready\",\"ext.visualEditor.desktopArticleTarget.noscript\":\"ready\",\"ext.uls.interlanguage\":\\n\"ready\",\"ext.wikimediaBadges\":\"ready\"};RLPAGEMODULES=[\"site\",\"mediawiki.page.ready\",\"skins.vector.legacy.js\",\"ext.gadget.ReferenceTooltips\",\"ext.gadget.charinsert\",\"ext.gadget.extra-toolbar-buttons\",\"ext.gadget.refToolbar\",\"ext.gadget.switcher\",\"mmv.head\",\"mmv.bootstrap.autostart\",\"ext.popups\",\"ext.visualEditor.desktopArticleTarget.init\",\"ext.visualEditor.targetLoader\",\"ext.eventLogging\",\"ext.wikimediaEvents\",\"ext.navigationTiming\",\"ext.uls.interface\",\"ext.cx.eventlogging.campaigns\",\"ext.centralNotice.geoIP\",\"ext.centralNotice.startUp\",\"ext.centralauth.centralautologin\",\"ext.growthExperiments.SuggestedEditSession\"];</script>\\n<script>(RLQ=window.RLQ||[]).push(function(){mw.loader.implement(\"user.options@1hzgi\",function($,jQuery,require,module){/*@nomin*/mw.user.tokens.set({\"patrolToken\":\"+\\\\\\\\\",\"watchToken\":\"+\\\\\\\\\",\"csrfToken\":\"+\\\\\\\\\"});\\n});});</script>\\n<link rel=\"stylesheet\" href=\"/w/load.php?lang=en&amp;modules=ext.uls.interlanguage%7Cext.visualEditor.desktopArticleTarget.noscript%7Cext.wikimediaBadges%7Cskins.vector.styles.legacy&amp;only=styles&amp;skin=vector\"/>\\n<script async=\"\" src=\"/w/load.php?lang=en&amp;modules=startup&amp;only=scripts&amp;raw=1&amp;skin=vector\"></script>\\n<meta name=\"ResourceLoaderDynamicStyles\" content=\"\"/>\\n<link rel=\"stylesheet\" href=\"/w/load.php?lang=en&amp;modules=site.styles&amp;only=styles&amp;skin=vector\"/>\\n<meta name=\"generator\" content=\"MediaWiki 1.38.0-wmf.1\"/>\\n<meta name=\"referrer\" content=\"origin\"/>\\n<meta name=\"referrer\" content=\"origin-when-crossorigin\"/>\\n<meta name=\"referrer\" content=\"origin-when-cross-origin\"/>\\n<meta name=\"format-detection\" content=\"telephone=no\"/>\\n<meta property=\"og:image\" content=\"https://upload.wikimedia.org/wikipedia/commons/e/ee/Wall_Painting_of_Muhammad_al-Durrah_who_Killed_by_the_Israeli_Occupation_forces.jpg\"/>\\n<meta property=\"og:title\" content=\"Wikipedia, the free encyclopedia\"/>\\n<meta property=\"og:type\" content=\"website\"/>\\n<link rel=\"preconnect\" href=\"//upload.wikimedia.org\"/>\\n<link rel=\"alternate\" media=\"only screen and (max-width: 720px)\" href=\"//en.m.wikipedia.org/wiki/Main_Page\"/>\\n<link rel=\"alternate\" type=\"application/atom+xml\" title=\"Wikipedia picture of the day feed\" href=\"/w/api.php?action=featuredfeed&amp;feed=potd&amp;feedformat=atom\"/>\\n<link rel=\"alternate\" type=\"application/atom+xml\" title=\"Wikipedia featured articles feed\" href=\"/w/api.php?action=featuredfeed&amp;feed=featured&amp;feedformat=atom\"/>\\n<link rel=\"alternate\" type=\"application/atom+xml\" title=\"Wikipedia &quot;On this day...&quot; feed\" href=\"/w/api.php?action=featuredfeed&amp;feed=onthisday&amp;feedformat=atom\"/>\\n<link rel=\"apple-touch-icon\" href=\"/static/apple-touch/wikipedia.png\"/>\\n<link rel=\"shortcut icon\" href=\"/static/favicon/wikipedia.ico\"/>\\n<link rel=\"search\" type=\"application/opensearchdescription+xml\" href=\"/w/opensearch_desc.php\" title=\"Wikipedia (en)\"/>\\n<link rel=\"EditURI\" type=\"application/rsd+xml\" href=\"//en.wikipedia.org/w/api.php?action=rsd\"/>\\n<link rel=\"license\" href=\"//creativecommons.org/licenses/by-sa/3.0/\"/>\\n<link rel=\"canonical\" href=\"https://en.wikipedia.org/wiki/Main_Page\"/>\\n<link rel=\"dns-prefetch\" href=\"//meta.wikimedia.org\" />\\n<link rel=\"dns-prefetch\" href=\"//login.wikimedia.org\"/>\\n</head>\\n<body class=\"mediawiki ltr sitedir-ltr mw-hide-empty-elt ns-0 ns-subject page-Main_Page rootpage-Main_Page skin-vector action-view skin-vector-legacy\"><div id=\"mw-page-base\" class=\"noprint\"></div>\\n<div id=\"mw-head-base\" class=\"noprint\"></div>\\n<div id=\"content\" class=\"mw-body\" role=\"main\">\\n\\t<a id=\"top\"></a>\\n\\t<div id=\"siteNotice\"><!-- CentralNotice --></div>\\n\\t<div class=\"mw-indicators\">\\n\\t</div>\\n\\t<h1 id=\"firstHeading\" class=\"firstHeading\" >Main Page</h1>\\n\\t<div id=\"bodyContent\" class=\"vector-body\">\\n\\t\\t<div id=\"siteSub\" class=\"noprint\">From Wikipedia, the free encyclopedia</div>\\n\\t\\t<div id=\"contentSub\"></div>\\n\\t\\t<div id=\"contentSub2\"></div>\\n\\t\\t\\n\\t\\t<div id=\"jump-to-nav\"></div>\\n\\t\\t<a class=\"mw-jump-link\" href=\"#mw-head\">Jump to navigation</a>\\n\\t\\t<a class=\"mw-jump-link\" href=\"#searchInput\">Jump to search</a>\\n\\t\\t<div id=\"mw-content-text\" class=\"mw-body-content mw-content-ltr\" lang=\"en\" dir=\"ltr\"><div class=\"mw-parser-output\"><style data-mw-deduplicate=\"TemplateStyles:r1004580458\">.mw-parser-output #mp-topbanner{position:relative;box-sizing:border-box;min-width:47em;border-color:#ddd;background-color:#f9f9f9;white-space:nowrap}.mw-parser-output .mp-bordered,.mw-parser-output .mp-h2,body.skin-timeless .mw-parser-output .mp-h2{border-width:1px;border-style:solid}.mw-parser-output #mp-topbanner,.mw-parser-output .mp-h2,.mw-parser-output #mp-left{color:#000}.mw-parser-output #mp-welcomecount{margin:0.4em;width:22em;text-align:center}.mw-parser-output #mp-welcome{font-size:162%;padding:0.1em}.mw-parser-output #mp-free{font-size:95%}.mw-parser-output #articlecount{font-size:85%}.mw-parser-output #mp-portals{position:absolute;right:-1em;top:50%;margin-top:-2.4em;width:38%;min-width:25em;font-size:95%}.mw-parser-output #mp-portals li{position:absolute;left:0;top:0}.mw-parser-output #mp-portals .portal-hmid{left:33%}.mw-parser-output #mp-portals .portal-hright{left:66%}.mw-parser-output #mp-portals .portal-vmid{top:1.6em}.mw-parser-output #mp-portals .portal-vbot{top:3.2em}.mw-parser-output #mp-portals li:last-child{font-weight:bold}.mw-parser-output #mp-banner{margin-top:4px;padding:0.5em;background-color:#fffaf5;border-color:#f2e0ce}.mw-parser-output .mp-h2,body.skin-timeless .mw-parser-output .mp-h2{margin:0.5em;padding:0.2em 0.4em;font-size:120%;font-weight:bold;font-family:inherit}.mw-parser-output h2.mp-h2::after{border:none}.mw-parser-output .mp-later{font-size:85%;font-weight:normal}.mw-parser-output #mp-upper{width:100%;margin-top:4px;margin-bottom:0;border-spacing:0;border-collapse:separate}.mw-parser-output #mp-upper .mid-table{border-color:transparent}.mw-parser-output #mp-left{width:55%;border-color:#cef2e0;background:#f5fffa}.mw-parser-output #mp-right{width:45%;border-color:#cedff2;background:#f5faff}.mw-parser-output #mp-left,.mw-parser-output #mp-right{padding:0;vertical-align:top}.mw-parser-output #mp-left .mp-h2{background:#cef2e0;border-color:#a3bfb1}.mw-parser-output #mp-right .mp-h2{background:#cedff2;border-color:#a3b0bf}.mw-parser-output #mp-tfa,.mw-parser-output #mp-dyk,.mw-parser-output #mp-itn,.mw-parser-output #mp-otd,.mw-parser-output #mp-other-lower>div{padding:0.1em 0.6em}.mw-parser-output #mp-dyk-h2,.mw-parser-output #mp-otd-h2{clear:both}.mw-parser-output #mp-middle{margin-top:4px;border-color:#f2cedd;background:#fff5fa}.mw-parser-output #mp-middle,.mw-parser-output #mp-lower,.mw-parser-output #mp-other-lower{overflow:auto}.mw-parser-output #mp-tfl-h2{background:#f2cedd;border-color:#bfa3af}.mw-parser-output #mp-tfl{padding:0.3em 0.7em}.mw-parser-output #mp-lower{margin-top:4px;border-color:#ddcef2;background:#faf5ff}.mw-parser-output #mp-tfp-h2{background:#ddcef2;border-color:#afa3bf}.mw-parser-output #mp-tfp{margin:0.1em 0.4em 0.6em}.mw-parser-output #mp-other-lower{padding:0;border-color:#e2e2e2;margin-top:4px}.mw-parser-output #mp-dyk,.mw-parser-output #mp-otd,.mw-parser-output #mp-other-lower{padding-bottom:0.5em}.mw-parser-output #mp-other-lower .mp-h2{background:#eee;border-color:#ddd;color:#222}@media(max-width:875px){body.skin--responsive .mw-parser-output #mp-welcomecount{width:auto}body.skin--responsive .mw-parser-output #mp-topbanner{min-width:0;white-space:normal}body.skin--responsive .mw-parser-output #mp-portals{position:static;width:auto;min-width:0;text-align:center;border-top:1px solid #ddd;padding:0.4em 0;margin:0 0.4em}body.skin--responsive .mw-parser-output #mp-portals li{position:static;display:inline;padding:0 5px;white-space:nowrap}body.skin--responsive .mw-parser-output table,body.skin--responsive .mw-parser-output tr,body.skin--responsive .mw-parser-output td,body.skin--responsive .mw-parser-output tbody{display:block!important;width:100%!important;box-sizing:border-box}body.skin--responsive .mw-parser-output #mp-tfp tr:first-child td:first-child a{text-align:center;display:table;margin:0 auto}}</style>\\n<div id=\"mp-topbanner\" class=\"mp-bordered\">\\n<div id=\"mp-welcomecount\">\\n<div id=\"mp-welcome\">Welcome to <a href=\"/wiki/Wikipedia\" title=\"Wikipedia\">Wikipedia</a>,</div>\\n<div id=\"mp-free\">the <a href=\"/wiki/Free_content\" title=\"Free content\">free</a> <a href=\"/wiki/Encyclopedia\" title=\"Encyclopedia\">encyclopedia</a> that <a href=\"/wiki/Help:Introduction_to_Wikipedia\" title=\"Help:Introduction to Wikipedia\">anyone can edit</a>.</div>\\n<div id=\"articlecount\"><a href=\"/wiki/Special:Statistics\" title=\"Special:Statistics\">6,384,932</a> articles in <a href=\"/wiki/English_language\" title=\"English language\">English</a></div>\\n</div>\\n<ul id=\"mp-portals\">\\n<li><a href=\"/wiki/Portal:The_arts\" title=\"Portal:The arts\">The arts</a></li>\\n<li class=\"portal-vmid\"><a href=\"/wiki/Portal:Biography\" title=\"Portal:Biography\">Biography</a></li>\\n<li class=\"portal-vbot\"><a href=\"/wiki/Portal:Geography\" title=\"Portal:Geography\">Geography</a></li>\\n<li class=\"portal-hmid\"><a href=\"/wiki/Portal:History\" title=\"Portal:History\">History</a></li>\\n<li class=\"portal-hmid portal-vmid\"><a href=\"/wiki/Portal:Mathematics\" title=\"Portal:Mathematics\">Mathematics</a></li>\\n<li class=\"portal-hmid portal-vbot\"><a href=\"/wiki/Portal:Science\" title=\"Portal:Science\">Science</a></li>\\n<li class=\"portal-hright\"><a href=\"/wiki/Portal:Society\" title=\"Portal:Society\">Society</a></li>\\n<li class=\"portal-hright portal-vmid\"><a href=\"/wiki/Portal:Technology\" title=\"Portal:Technology\">Technology</a></li>\\n<li class=\"portal-hright portal-vbot\"><a href=\"/wiki/Wikipedia:Contents/Portals\" title=\"Wikipedia:Contents/Portals\">All portals</a></li>\\n</ul>\\n</div>\\n<table role=\"presentation\" id=\"mp-upper\">\\n<tbody><tr>\\n<td id=\"mp-left\" class=\"MainPageBG mp-bordered\">\\n<h2 id=\"mp-tfa-h2\" class=\"mp-h2\"><span id=\"From_today.27s_featured_article\"></span><span class=\"mw-headline\" id=\"From_today\\'s_featured_article\">From today\\'s featured article</span></h2>\\n<div id=\"mp-tfa\"><div id=\"mp-tfa-img\" style=\"float: left; margin: 0.5em 0.9em 0.4em 0em;\">\\n<div class=\"thumbinner mp-thumb\" style=\"background: transparent; border: none; padding: 0; max-width: 163px;\">\\n<a href=\"/wiki/File:Wall_Painting_of_Muhammad_al-Durrah_who_Killed_by_the_Israeli_Occupation_forces.jpg\" class=\"image\" title=\"Wall painting of the incident in Gaza\"><img alt=\"Wall painting of the incident in Gaza\" src=\"//upload.wikimedia.org/wikipedia/commons/thumb/e/ee/Wall_Painting_of_Muhammad_al-Durrah_who_Killed_by_the_Israeli_Occupation_forces.jpg/163px-Wall_Painting_of_Muhammad_al-Durrah_who_Killed_by_the_Israeli_Occupation_forces.jpg\" decoding=\"async\" width=\"163\" height=\"120\" srcset=\"//upload.wikimedia.org/wikipedia/commons/thumb/e/ee/Wall_Painting_of_Muhammad_al-Durrah_who_Killed_by_the_Israeli_Occupation_forces.jpg/245px-Wall_Painting_of_Muhammad_al-Durrah_who_Killed_by_the_Israeli_Occupation_forces.jpg 1.5x, //upload.wikimedia.org/wikipedia/commons/thumb/e/ee/Wall_Painting_of_Muhammad_al-Durrah_who_Killed_by_the_Israeli_Occupation_forces.jpg/326px-Wall_Painting_of_Muhammad_al-Durrah_who_Killed_by_the_Israeli_Occupation_forces.jpg 2x\" data-file-width=\"782\" data-file-height=\"577\" /></a><div class=\"thumbcaption\" style=\"padding: 0.25em 0; word-wrap: break-word;\">Wall painting of the incident in Gaza</div></div>\\n</div> \\n<p>The <b><a href=\"/wiki/Killing_of_Muhammad_al-Durrah\" title=\"Killing of Muhammad al-Durrah\">killing of Muhammad al-Durrah</a></b> took place in the <a href=\"/wiki/Gaza_Strip\" title=\"Gaza Strip\">Gaza Strip</a> on 30&#160;September 2000, during the widespread protests and riots of the <a href=\"/wiki/Second_Intifada\" title=\"Second Intifada\">Second Intifada</a>. Jamal al-Durrah and his 12-year-old son Muhammad were filmed by Talal Abu Rahma, a Palestinian television cameraman freelancing for <a href=\"/wiki/France_2\" title=\"France 2\">France&#160;2</a>, as the two were caught in crossfire between Israeli and Palestinian forces. The footage shows the pair crouching behind a concrete cylinder, the boy crying and the father waving, then a burst of gunfire and dust, with the boy slumping over. Some of the footage was broadcast  in France with a voiceover from <a href=\"/wiki/Charles_Enderlin\" title=\"Charles Enderlin\">Charles Enderlin</a>, who told viewers that the al-Durrahs had been the target of Israeli fire, killing the boy. This interpretation has been questioned by critics and by the <a href=\"/wiki/Israel_Defense_Forces\" title=\"Israel Defense Forces\">Israel Defense Forces</a>, which retracted an initial apology. After an emotional public funeral, Muhammad was hailed throughout the Muslim world as a <a href=\"/wiki/Shahid\" title=\"Shahid\">martyr</a>, with the scene appearing on postage stamps. (<b><a href=\"/wiki/Killing_of_Muhammad_al-Durrah\" title=\"Killing of Muhammad al-Durrah\">Full&#160;article...</a></b>)\\n</p>\\n<div class=\"tfa-recent\" style=\"text-align: right;\">\\nRecently featured: <div class=\"hlist hlist-separated inline\">\\n<ul><li><a href=\"/wiki/U-1-class_submarine_(Austria-Hungary)\" title=\"U-1-class submarine (Austria-Hungary)\"><i><span class=\"nowrap\">U-1</span></i>-class submarine (Austria-Hungary)</a></li>\\n<li><a href=\"/wiki/Lettuce\" title=\"Lettuce\">Lettuce</a></li>\\n<li><i><a href=\"/wiki/Transandinomys\" title=\"Transandinomys\">Transandinomys</a></i></li></ul>\\n</div></div>\\n<div class=\"tfa-footer hlist hlist-separated noprint\" style=\"text-align: right;\">\\n<ul><li><b><a href=\"/wiki/Wikipedia:Today%27s_featured_article/September_2021\" title=\"Wikipedia:Today&#39;s featured article/September 2021\">Archive</a></b></li>\\n<li><b><a href=\"https://lists.wikimedia.org/mailman/listinfo/daily-article-l\" class=\"extiw\" title=\"mail:daily-article-l\">By email</a></b></li>\\n<li><b><a href=\"/wiki/Wikipedia:Featured_articles\" title=\"Wikipedia:Featured articles\">More featured articles</a></b></li></ul>\\n</div></div>\\n<h2 id=\"mp-dyk-h2\" class=\"mp-h2\"><span class=\"mw-headline\" id=\"Did_you_know_...\">Did you know&#160;...</span></h2>\\n<div id=\"mp-dyk\">\\n<div class=\"dyk-img\" style=\"float: right; margin-left: 0.5em;\">\\n<div class=\"thumbinner mp-thumb\" style=\"background: transparent; border: none; padding: 0; max-width: 151px;\">\\n<a href=\"/wiki/File:Antarctic_Fur_Seal_at_St._Andrews_Bay,_South_Georgia_(5846698672).jpg\" class=\"image\" title=\"Antarctic fur seal\"><img alt=\"Antarctic fur seal\" src=\"//upload.wikimedia.org/wikipedia/commons/thumb/5/59/Antarctic_Fur_Seal_at_St._Andrews_Bay%2C_South_Georgia_%285846698672%29.jpg/151px-Antarctic_Fur_Seal_at_St._Andrews_Bay%2C_South_Georgia_%285846698672%29.jpg\" decoding=\"async\" width=\"151\" height=\"130\" srcset=\"//upload.wikimedia.org/wikipedia/commons/thumb/5/59/Antarctic_Fur_Seal_at_St._Andrews_Bay%2C_South_Georgia_%285846698672%29.jpg/227px-Antarctic_Fur_Seal_at_St._Andrews_Bay%2C_South_Georgia_%285846698672%29.jpg 1.5x, //upload.wikimedia.org/wikipedia/commons/thumb/5/59/Antarctic_Fur_Seal_at_St._Andrews_Bay%2C_South_Georgia_%285846698672%29.jpg/302px-Antarctic_Fur_Seal_at_St._Andrews_Bay%2C_South_Georgia_%285846698672%29.jpg 2x\" data-file-width=\"3616\" data-file-height=\"3120\" /></a><div class=\"thumbcaption\" style=\"padding: 0.25em 0; word-wrap: break-word;\">Antarctic fur seal</div></div>\\n</div>\\n<ul><li>... that <b><a href=\"/wiki/Nigel_Bonner\" title=\"Nigel Bonner\">Nigel Bonner</a></b>, an Antarctic marine mammal specialist and <a href=\"/wiki/Polar_Medal\" title=\"Polar Medal\">Polar Medal</a> recipient, researched the <a href=\"/wiki/Antarctic_fur_seal\" title=\"Antarctic fur seal\">Antarctic fur seal</a> and published \"the first modern scientific study of the species\" in 1968?</li>\\n<li>... that the South American plant <i><b><a href=\"/wiki/Phyla_canescens\" title=\"Phyla canescens\">Phyla canescens</a></b></i> has invaded wetlands and floodplains in the <a href=\"/wiki/Murray_Darling\" title=\"Murray Darling\">Murray Darling</a> basin of Australia?</li>\\n<li>... that <b><a href=\"/wiki/Winchester_Highlands_station\" title=\"Winchester Highlands station\">Winchester Highlands station</a></b> was used for church meetings in the 1880s?</li>\\n<li>... that <b><a href=\"/wiki/Bob_Jahnke\" title=\"Bob Jahnke\">Bob Jahnke</a></b> started the first <a href=\"/wiki/M%C4%81ori_culture\" title=\"M\\xc4\\x81ori culture\">M\\xc4\\x81ori</a> visual arts degree programme in New Zealand in 1991?</li>\\n<li>... that Kathryn Gromatski was the first <b><a href=\"/wiki/Miss_Wool_of_America_Pageant\" title=\"Miss Wool of America Pageant\">Miss Wool</a></b> of Texas in 1952?</li>\\n<li>... that <b><a href=\"/wiki/Zhang_Shangwu\" title=\"Zhang Shangwu\">Zhang Shangwu</a></b>, a two-time gold medal <a href=\"/wiki/Gymnastics\" title=\"Gymnastics\">gymnast</a> at the <a href=\"/wiki/Universiade\" title=\"Universiade\">Universiade</a>, turned to stealing and begging in the streets after his competitive career ended with an injury?</li>\\n<li>... that <a href=\"/wiki/The_Rolling_Stones\" title=\"The Rolling Stones\">The Rolling Stones</a>\\' single \"<b><a href=\"/wiki/Good_Time_Women\" title=\"Good Time Women\">Good Time Women</a></b>\", released in 2010, formed the basis for their 1972 hit single \"<a href=\"/wiki/Tumbling_Dice\" title=\"Tumbling Dice\">Tumbling Dice</a>\"?</li>\\n<li>... that criticism of <a href=\"/wiki/Armchair_theorizing\" title=\"Armchair theorizing\">armchair theorizing</a> in anthropology has resulted in scholars \"coming down <b><a href=\"/wiki/Off_the_verandah\" title=\"Off the verandah\">off the verandah</a></b>\"?</li></ul>\\n<div class=\"dyk-footer hlist noprint\" style=\"margin-top: 0.5em; text-align: right;\">\\n<ul><li><b><a href=\"/wiki/Wikipedia:Recent_additions\" title=\"Wikipedia:Recent additions\">Archive</a></b></li>\\n<li><b><a href=\"/wiki/Help:Your_first_article\" title=\"Help:Your first article\">Start a new article</a></b></li>\\n<li><b><a href=\"/wiki/Template_talk:Did_you_know\" title=\"Template talk:Did you know\">Nominate an article</a></b></li></ul>\\n</div>\\n</div>\\n</td>\\n<td class=\"mp-bordered mid-table\">\\n</td>\\n<td id=\"mp-right\" class=\"MainPageBG mp-bordered\">\\n<h2 id=\"mp-itn-h2\" class=\"mp-h2\"><span class=\"mw-headline\" id=\"In_the_news\">In the news</span></h2>\\n<div id=\"mp-itn\"><div role=\"figure\" class=\"itn-img\" style=\"float: right; margin-left: 0.5em; margin-top: 0.2em;\">\\n<div class=\"thumbinner mp-thumb\" style=\"background: transparent; border: none; padding: 0; max-width: 126px;\">\\n<a href=\"/wiki/File:Michael-Spavor-2010_(cropped).jpg\" class=\"image\" title=\"Michael Spavor in 2010\"><img alt=\"Michael Spavor in 2010\" src=\"//upload.wikimedia.org/wikipedia/commons/thumb/7/78/Michael-Spavor-2010_%28cropped%29.jpg/126px-Michael-Spavor-2010_%28cropped%29.jpg\" decoding=\"async\" width=\"126\" height=\"157\" srcset=\"//upload.wikimedia.org/wikipedia/commons/thumb/7/78/Michael-Spavor-2010_%28cropped%29.jpg/189px-Michael-Spavor-2010_%28cropped%29.jpg 1.5x, //upload.wikimedia.org/wikipedia/commons/thumb/7/78/Michael-Spavor-2010_%28cropped%29.jpg/252px-Michael-Spavor-2010_%28cropped%29.jpg 2x\" data-file-width=\"755\" data-file-height=\"939\" /></a><div class=\"thumbcaption\" style=\"padding: 0.25em 0; word-wrap: break-word; text-align: left;\">Michael Spavor</div></div>\\n</div>\\n<ul><li>The <a href=\"/wiki/Social_Democratic_Party_of_Germany\" title=\"Social Democratic Party of Germany\">Social Democratic Party</a> wins the most seats in the <b><a href=\"/wiki/2021_German_federal_election\" title=\"2021 German federal election\">German federal election</a></b>.</li>\\n<li>Canadians <a href=\"/wiki/Michael_Spavor\" title=\"Michael Spavor\">Michael Spavor</a> <i>(pictured)</i> and Michael Kovrig are <b><a href=\"/wiki/Detention_of_Michael_Spavor_and_Michael_Kovrig\" title=\"Detention of Michael Spavor and Michael Kovrig\">released from detention</a></b> in China shortly after the release of <a href=\"/wiki/Huawei\" title=\"Huawei\">Huawei</a> executive <b><a href=\"/wiki/Meng_Wanzhou\" title=\"Meng Wanzhou\">Meng Wanzhou</a></b> from house arrest in Canada.</li>\\n<li>The <a href=\"/wiki/Liberal_Party_of_Canada\" title=\"Liberal Party of Canada\">Liberal Party of Canada</a>, led by <a href=\"/wiki/Justin_Trudeau\" title=\"Justin Trudeau\">Justin Trudeau</a>, is <b><a href=\"/wiki/2021_Canadian_federal_election\" title=\"2021 Canadian federal election\">re-elected</a></b> to a <a href=\"/wiki/Minority_government\" title=\"Minority government\">minority government</a>.</li>\\n<li>Former <a href=\"/wiki/President_of_Algeria\" title=\"President of Algeria\">President of Algeria</a> <b><a href=\"/wiki/Abdelaziz_Bouteflika\" title=\"Abdelaziz Bouteflika\">Abdelaziz Bouteflika</a></b> dies at the age of 84.</li></ul>\\n<div class=\"itn-footer\" style=\"margin-top: 0.5em;\">\\n<div><b><a href=\"/wiki/Portal:Current_events\" title=\"Portal:Current events\">Ongoing</a></b>: <div class=\"hlist hlist-separated inline\">\\n<ul><li><a href=\"/wiki/COVID-19_pandemic\" title=\"COVID-19 pandemic\">COVID-19 pandemic</a></li></ul></div></div>\\n<div><b><a href=\"/wiki/Deaths_in_2021\" title=\"Deaths in 2021\">Recent deaths</a></b>&#58; <div class=\"hlist hlist-separated inline\">\\n<ul><li><a href=\"/wiki/Charles_Grier_Sellers\" title=\"Charles Grier Sellers\">Charles Grier Sellers</a></li>\\n<li><a href=\"/wiki/Roger_Hunt\" title=\"Roger Hunt\">Roger Hunt</a></li>\\n<li><a href=\"/wiki/Caressing_(horse)\" title=\"Caressing (horse)\">Caressing</a></li>\\n<li><span class=\"nowrap\"><a href=\"/wiki/Charles_W._Mills\" title=\"Charles W. Mills\">Charles W. Mills</a></span></li>\\n<li><a href=\"/wiki/Len_Ashurst\" title=\"Len Ashurst\">Len Ashurst</a></li>\\n<li><a href=\"/wiki/Marcia_Freedman\" title=\"Marcia Freedman\">Marcia Freedman</a></li></ul></div></div></div>\\n<div class=\"itn-footer hlist hlist-separated noprint\" style=\"text-align: right;\">\\n<ul><li><b><a href=\"/wiki/Wikipedia:In_the_news/Candidates\" title=\"Wikipedia:In the news/Candidates\">Nominate an article</a></b></li></ul></div></div>\\n<h2 id=\"mp-otd-h2\" class=\"mp-h2\"><span class=\"mw-headline\" id=\"On_this_day\">On this day</span></h2>\\n<div id=\"mp-otd\">\\n<p><b><a href=\"/wiki/September_30\" title=\"September 30\">September 30</a></b>: <b><a href=\"/wiki/Orange_Shirt_Day\" title=\"Orange Shirt Day\">Orange Shirt Day</a></b> in Canada\\n</p>\\n<div style=\"float:right;margin-left:0.5em;\" id=\"mp-otd-img\">\\n<div class=\"thumbinner mp-thumb\" style=\"background: transparent; border: none; padding: 0; max-width: 205px;\">\\n<a href=\"/wiki/File:Hughes_experimental_copter.jpg\" class=\"image\" title=\"AH-64 Apache prototype\"><img alt=\"AH-64 Apache prototype\" src=\"//upload.wikimedia.org/wikipedia/commons/thumb/5/5c/Hughes_experimental_copter.jpg/205px-Hughes_experimental_copter.jpg\" decoding=\"async\" width=\"205\" height=\"96\" srcset=\"//upload.wikimedia.org/wikipedia/commons/thumb/5/5c/Hughes_experimental_copter.jpg/308px-Hughes_experimental_copter.jpg 1.5x, //upload.wikimedia.org/wikipedia/commons/thumb/5/5c/Hughes_experimental_copter.jpg/410px-Hughes_experimental_copter.jpg 2x\" data-file-width=\"1030\" data-file-height=\"481\" /></a><div class=\"thumbcaption\" style=\"padding: 0.25em 0; word-wrap: break-word;\"><span class=\"nowrap\">AH-64</span> Apache prototype</div></div>\\n</div>\\n<ul><li><a href=\"/wiki/1551\" title=\"1551\">1551</a> \\xe2\\x80\\x93 <a href=\"/wiki/Sue_Harukata\" title=\"Sue Harukata\">Sue Takafusa</a>, a retainer of the <a href=\"/wiki/%C5%8Cuchi_clan\" title=\"\\xc5\\x8cuchi clan\">\\xc5\\x8cuchi clan</a> in western Japan, <b><a href=\"/wiki/Tainei-ji_incident\" title=\"Tainei-ji incident\">led a coup</a></b> against the <i><a href=\"/wiki/Daimyo\" title=\"Daimyo\">daimy\\xc5\\x8d</a></i> <a href=\"/wiki/%C5%8Cuchi_Yoshitaka\" title=\"\\xc5\\x8cuchi Yoshitaka\">\\xc5\\x8cuchi Yoshitaka</a>, leading to the latter\\'s <a href=\"/wiki/Seppuku\" title=\"Seppuku\">forced suicide</a>.</li>\\n<li><a href=\"/wiki/1882\" title=\"1882\">1882</a> \\xe2\\x80\\x93 The <b><a href=\"/wiki/Vulcan_Street_Plant\" title=\"Vulcan Street Plant\">Vulcan Street Plant</a></b> in <a href=\"/wiki/Appleton,_Wisconsin\" title=\"Appleton, Wisconsin\">Appleton, Wisconsin</a>, the first <a href=\"/wiki/Hydroelectricity\" title=\"Hydroelectricity\">hydroelectric</a> central station to serve a system of private and commercial customers in North America, went online.</li>\\n<li><a href=\"/wiki/1938\" title=\"1938\">1938</a> \\xe2\\x80\\x93 <a href=\"/wiki/Adolf_Hitler\" title=\"Adolf Hitler\">Adolf Hitler</a>, <a href=\"/wiki/Benito_Mussolini\" title=\"Benito Mussolini\">Benito Mussolini</a>, <a href=\"/wiki/Neville_Chamberlain\" title=\"Neville Chamberlain\">Neville Chamberlain</a>, and <a href=\"/wiki/%C3%89douard_Daladier\" title=\"\\xc3\\x89douard Daladier\">\\xc3\\x89douard Daladier</a> signed the <b><a href=\"/wiki/Munich_Agreement\" title=\"Munich Agreement\">Munich Agreement</a></b>, stipulating that Czechoslovakia must cede the <a href=\"/wiki/Sudetenland\" title=\"Sudetenland\">Sudetenland</a> to Germany.</li>\\n<li><a href=\"/wiki/1975\" title=\"1975\">1975</a> \\xe2\\x80\\x93 The <b><a href=\"/wiki/Boeing_AH-64_Apache\" title=\"Boeing AH-64 Apache\">Boeing <span class=\"nowrap\">AH-64</span> Apache</a></b> <i>(example pictured)</i>, the primary <a href=\"/wiki/Attack_helicopter\" title=\"Attack helicopter\">attack helicopter</a> for a number of countries, made its first flight.</li>\\n<li><a href=\"/wiki/2019\" title=\"2019\">2019</a> \\xe2\\x80\\x93 President <a href=\"/wiki/Mart%C3%ADn_Vizcarra\" title=\"Mart\\xc3\\xadn Vizcarra\">Mart\\xc3\\xadn Vizcarra</a> dissolved the <a href=\"/wiki/Congress_of_the_Republic_of_Peru\" title=\"Congress of the Republic of Peru\">Congress of Peru</a>, resulting in <b><a href=\"/wiki/2019%E2%80%932020_Peruvian_constitutional_crisis\" title=\"2019\\xe2\\x80\\x932020 Peruvian constitutional crisis\">a constitutional crisis</a></b>.</li></ul>\\n<div class=\"hlist hlist-separated\" style=\"margin-top: 0.5em;\"><ul><li><b><a href=\"/wiki/Charlotte_Wolff\" title=\"Charlotte Wolff\">Charlotte Wolff</a></b>  (<abbr title=\"born\">b.</abbr>&#160;1897)</li><li><b><a href=\"/wiki/Catie_Ball\" title=\"Catie Ball\">Catie Ball</a></b>  (<abbr title=\"born\">b.</abbr>&#160;1951)</li><li><b><a href=\"/wiki/Anwar_al-Awlaki\" title=\"Anwar al-Awlaki\">Anwar al-Awlaki</a></b>  (<abbr title=\"died\">d.</abbr>&#160;2011)</li></ul></div>\\n<div style=\"margin-top: 0.5em;\">\\nMore anniversaries: <div class=\"hlist hlist-separated inline nowraplinks\">\\n<ul><li><a href=\"/wiki/September_29\" title=\"September 29\">September 29</a></li>\\n<li><b><a href=\"/wiki/September_30\" title=\"September 30\">September 30</a></b></li>\\n<li><a href=\"/wiki/October_1\" title=\"October 1\">October 1</a></li></ul>\\n</div></div>\\n<div class=\"otd-footer hlist hlist-separated noprint\" style=\"text-align: right;\">\\n<ul><li><b><a href=\"/wiki/Wikipedia:Selected_anniversaries/September\" title=\"Wikipedia:Selected anniversaries/September\">Archive</a></b></li>\\n<li><b><a href=\"https://lists.wikimedia.org/mailman/listinfo/daily-article-l\" class=\"extiw\" title=\"mail:daily-article-l\">By email</a></b></li>\\n<li><b><a href=\"/wiki/List_of_days_of_the_year\" title=\"List of days of the year\">List of days of the year</a></b></li></ul>\\n</div></div>\\n</td></tr></tbody></table>\\n<div id=\"mp-lower\" class=\"MainPageBG mp-bordered\">\\n<div id=\"mp-bottom\">\\n<h2 id=\"mp-tfp-h2\" class=\"mp-h2\"><span id=\"Today.27s_featured_picture\"></span><span class=\"mw-headline\" id=\"Today\\'s_featured_picture\">Today\\'s featured picture</span></h2>\\n<div id=\"mp-tfp\">\\n<table role=\"presentation\" style=\"margin:0 3px 3px; width:100%; box-sizing:border-box; text-align:left; background-color:transparent; border-collapse:collapse;\">\\n<tbody><tr>\\n<td style=\"padding:0 0.9em 0 0; width:300px;\"><a href=\"/wiki/File:Georges_Ernest_Boulanger_by_Atelier_Nadar.jpg\" class=\"image\" title=\"Georges Ernest Boulanger\"><img alt=\"Georges Ernest Boulanger\" src=\"//upload.wikimedia.org/wikipedia/commons/thumb/f/f8/Georges_Ernest_Boulanger_by_Atelier_Nadar.jpg/300px-Georges_Ernest_Boulanger_by_Atelier_Nadar.jpg\" decoding=\"async\" width=\"300\" height=\"421\" srcset=\"//upload.wikimedia.org/wikipedia/commons/thumb/f/f8/Georges_Ernest_Boulanger_by_Atelier_Nadar.jpg/450px-Georges_Ernest_Boulanger_by_Atelier_Nadar.jpg 1.5x, //upload.wikimedia.org/wikipedia/commons/thumb/f/f8/Georges_Ernest_Boulanger_by_Atelier_Nadar.jpg/600px-Georges_Ernest_Boulanger_by_Atelier_Nadar.jpg 2x\" data-file-width=\"2417\" data-file-height=\"3395\" /></a>\\n</td>\\n<td style=\"padding:0 6px 0 0\">\\n<p><b><a href=\"/wiki/Georges_Ernest_Boulanger\" title=\"Georges Ernest Boulanger\">Georges Ernest Boulanger</a></b> (29&#160;April 1837&#160;\\xe2\\x80\\x93 30&#160;September 1891), nicknamed G\\xc3\\xa9n\\xc3\\xa9ral Revanche, was a French general and politician. An enormously popular public figure during the <a href=\"/wiki/French_Third_Republic\" title=\"French Third Republic\">Third Republic</a>, he won a series of elections and was feared to be powerful enough to establish himself as dictator at the zenith of his popularity in January&#160;1889. This photograph of Boulanger was produced by the <a href=\"/wiki/Atelier\" title=\"Atelier\">atelier</a> of the French photographer <a href=\"/wiki/Nadar\" title=\"Nadar\">Nadar</a>.\\n</p>\\n<p style=\"text-align:left;\"><small>Photograph credit: <a href=\"/wiki/Nadar\" title=\"Nadar\">Atelier Nadar</a>; restored by <a href=\"/wiki/User:Adam_Cuerden\" title=\"User:Adam Cuerden\">Adam Cuerden</a></small></p>\\n<div class=\"potd-recent\" style=\"text-align:right;\">\\nRecently featured: <div class=\"hlist hlist-separated inline\">\\n<ul><li><a href=\"/wiki/Template:POTD/2021-09-29\" title=\"Template:POTD/2021-09-29\">Parson\\'s chameleon</a></li>\\n<li><a href=\"/wiki/Template:POTD/2021-09-28\" title=\"Template:POTD/2021-09-28\">Atari&#160;2600</a></li>\\n<li><a href=\"/wiki/Template:POTD/2021-09-27\" title=\"Template:POTD/2021-09-27\">War pigeon</a></li></ul>\\n</div></div>\\n<div class=\"potd-footer hlist hlist-separated noprint\" style=\"text-align:right;\">\\n<ul><li><b><a href=\"/wiki/Wikipedia:Picture_of_the_day/Archive\" title=\"Wikipedia:Picture of the day/Archive\">Archive</a></b></li>\\n<li><b><a href=\"/wiki/Wikipedia:Featured_pictures\" title=\"Wikipedia:Featured pictures\">More featured pictures</a></b></li></ul>\\n</div>\\n</td></tr></tbody></table></div>\\n</div>\\n</div>\\n<div id=\"mp-other-lower\" class=\"mp-bordered\">\\n<h2 id=\"mp-other\" class=\"mp-h2\"><span class=\"mw-headline\" id=\"Other_areas_of_Wikipedia\">Other areas of Wikipedia</span></h2>\\n<div id=\"mp-other-content\">\\n<ul><li><b><a href=\"/wiki/Wikipedia:Community_portal\" title=\"Wikipedia:Community portal\">Community portal</a></b> \\xe2\\x80\\x93 Bulletin board, projects, resources and activities covering a wide range of Wikipedia areas.</li>\\n<li><b><a href=\"/wiki/Wikipedia:Help_desk\" title=\"Wikipedia:Help desk\">Help desk</a></b> \\xe2\\x80\\x93 Ask questions about using Wikipedia.</li>\\n<li><b><a href=\"/wiki/Wikipedia:Reference_desk\" title=\"Wikipedia:Reference desk\">Reference desk</a></b> \\xe2\\x80\\x93 Serving as virtual librarians, Wikipedia volunteers tackle your questions on a wide range of subjects.</li>\\n<li><b><a href=\"/wiki/Wikipedia:News\" title=\"Wikipedia:News\">Site news</a></b> \\xe2\\x80\\x93 Announcements, updates, articles and press releases on Wikipedia and the Wikimedia Foundation.</li>\\n<li><b><a href=\"/wiki/Wikipedia:Village_pump\" title=\"Wikipedia:Village pump\">Village pump</a></b> \\xe2\\x80\\x93 For discussions about Wikipedia itself, including areas for technical issues and policies.</li></ul>\\n</div>\\n<h2 id=\"mp-sister\" class=\"mp-h2\"><span id=\"Wikipedia.27s_sister_projects\"></span><span class=\"mw-headline\" id=\"Wikipedia\\'s_sister_projects\">Wikipedia\\'s sister projects</span></h2>\\n<div id=\"mp-sister-content\"><style data-mw-deduplicate=\"TemplateStyles:r1007624485\">.mw-parser-output #sister-projects-list{display:flex;flex-wrap:wrap}.mw-parser-output #sister-projects-list li{display:inline-block}.mw-parser-output #sister-projects-list li span{font-weight:bold}.mw-parser-output #sister-projects-list li>div{display:inline-block;vertical-align:middle;padding:6px 4px}.mw-parser-output #sister-projects-list li>div:first-child{text-align:center}@media(min-width:360px){.mw-parser-output #sister-projects-list li{width:33%;min-width:20em;white-space:nowrap;flex:1 0 25%}.mw-parser-output #sister-projects-list li>div:first-child{min-width:50px}}</style>\\n<p>Wikipedia is hosted by the <a href=\"/wiki/Wikimedia_Foundation\" title=\"Wikimedia Foundation\">Wikimedia Foundation</a>, a non-profit organization that also hosts a range of other <a href=\"https://wikimediafoundation.org/our-work/wikimedia-projects/\" class=\"extiw\" title=\"foundationsite:our-work/wikimedia-projects/\">projects</a>:\\n</p>\\n<div class=\"plainlist\">\\n<ul id=\"sister-projects-list\">\\n<li>\\n  <div><a href=\"https://commons.wikimedia.org/wiki/\" title=\"Commons\"><img alt=\"Commons logo\" src=\"//upload.wikimedia.org/wikipedia/en/thumb/4/4a/Commons-logo.svg/31px-Commons-logo.svg.png\" decoding=\"async\" width=\"31\" height=\"42\" srcset=\"//upload.wikimedia.org/wikipedia/en/thumb/4/4a/Commons-logo.svg/47px-Commons-logo.svg.png 1.5x, //upload.wikimedia.org/wikipedia/en/thumb/4/4a/Commons-logo.svg/62px-Commons-logo.svg.png 2x\" data-file-width=\"1024\" data-file-height=\"1376\" /></a></div>\\n  <div><span><a href=\"https://commons.wikimedia.org/wiki/\" class=\"extiw\" title=\"c:\">Commons</a></span><br />Free media repository</div>\\n</li>\\n<li>\\n  <div><a href=\"https://www.mediawiki.org/wiki/\" title=\"MediaWiki\"><img alt=\"MediaWiki logo\" src=\"//upload.wikimedia.org/wikipedia/commons/thumb/a/a6/MediaWiki-2020-icon.svg/35px-MediaWiki-2020-icon.svg.png\" decoding=\"async\" width=\"35\" height=\"35\" srcset=\"//upload.wikimedia.org/wikipedia/commons/thumb/a/a6/MediaWiki-2020-icon.svg/53px-MediaWiki-2020-icon.svg.png 1.5x, //upload.wikimedia.org/wikipedia/commons/thumb/a/a6/MediaWiki-2020-icon.svg/70px-MediaWiki-2020-icon.svg.png 2x\" data-file-width=\"100\" data-file-height=\"100\" /></a></div>\\n  <div><span><a href=\"https://www.mediawiki.org/wiki/\" class=\"extiw\" title=\"mw:\">MediaWiki</a></span><br />Wiki software development</div>\\n</li>\\n<li>\\n  <div><a href=\"https://meta.wikimedia.org/wiki/\" title=\"Meta-Wiki\"><img alt=\"Meta-Wiki logo\" src=\"//upload.wikimedia.org/wikipedia/commons/thumb/7/75/Wikimedia_Community_Logo.svg/35px-Wikimedia_Community_Logo.svg.png\" decoding=\"async\" width=\"35\" height=\"35\" srcset=\"//upload.wikimedia.org/wikipedia/commons/thumb/7/75/Wikimedia_Community_Logo.svg/53px-Wikimedia_Community_Logo.svg.png 1.5x, //upload.wikimedia.org/wikipedia/commons/thumb/7/75/Wikimedia_Community_Logo.svg/70px-Wikimedia_Community_Logo.svg.png 2x\" data-file-width=\"900\" data-file-height=\"900\" /></a></div>\\n  <div><span><a href=\"https://meta.wikimedia.org/wiki/\" class=\"extiw\" title=\"m:\">Meta-Wiki</a></span><br />Wikimedia project coordination</div>\\n</li>\\n<li>\\n  <div><a href=\"https://en.wikibooks.org/wiki/\" title=\"Wikibooks\"><img alt=\"Wikibooks logo\" src=\"//upload.wikimedia.org/wikipedia/commons/thumb/f/fa/Wikibooks-logo.svg/35px-Wikibooks-logo.svg.png\" decoding=\"async\" width=\"35\" height=\"35\" srcset=\"//upload.wikimedia.org/wikipedia/commons/thumb/f/fa/Wikibooks-logo.svg/53px-Wikibooks-logo.svg.png 1.5x, //upload.wikimedia.org/wikipedia/commons/thumb/f/fa/Wikibooks-logo.svg/70px-Wikibooks-logo.svg.png 2x\" data-file-width=\"300\" data-file-height=\"300\" /></a></div>\\n  <div><span><a href=\"https://en.wikibooks.org/wiki/\" class=\"extiw\" title=\"b:\">Wikibooks</a></span><br />Free textbooks and manuals</div>\\n</li>\\n<li>\\n  <div><a href=\"https://www.wikidata.org/wiki/\" title=\"Wikidata\"><img alt=\"Wikidata logo\" src=\"//upload.wikimedia.org/wikipedia/commons/thumb/f/ff/Wikidata-logo.svg/47px-Wikidata-logo.svg.png\" decoding=\"async\" width=\"47\" height=\"26\" srcset=\"//upload.wikimedia.org/wikipedia/commons/thumb/f/ff/Wikidata-logo.svg/71px-Wikidata-logo.svg.png 1.5x, //upload.wikimedia.org/wikipedia/commons/thumb/f/ff/Wikidata-logo.svg/94px-Wikidata-logo.svg.png 2x\" data-file-width=\"1050\" data-file-height=\"590\" /></a></div>\\n  <div><span><a href=\"https://www.wikidata.org/wiki/\" class=\"extiw\" title=\"d:\">Wikidata</a></span><br />Free knowledge base</div>\\n</li>\\n<li>\\n  <div><a href=\"https://en.wikinews.org/wiki/\" title=\"Wikinews\"><img alt=\"Wikinews logo\" src=\"//upload.wikimedia.org/wikipedia/commons/thumb/2/24/Wikinews-logo.svg/51px-Wikinews-logo.svg.png\" decoding=\"async\" width=\"51\" height=\"28\" srcset=\"//upload.wikimedia.org/wikipedia/commons/thumb/2/24/Wikinews-logo.svg/77px-Wikinews-logo.svg.png 1.5x, //upload.wikimedia.org/wikipedia/commons/thumb/2/24/Wikinews-logo.svg/102px-Wikinews-logo.svg.png 2x\" data-file-width=\"759\" data-file-height=\"415\" /></a></div>\\n  <div><span><a href=\"https://en.wikinews.org/wiki/\" class=\"extiw\" title=\"n:\">Wikinews</a></span><br />Free-content news</div>\\n</li>\\n<li>\\n  <div><a href=\"https://en.wikiquote.org/wiki/\" title=\"Wikiquote\"><img alt=\"Wikiquote logo\" src=\"//upload.wikimedia.org/wikipedia/commons/thumb/f/fa/Wikiquote-logo.svg/35px-Wikiquote-logo.svg.png\" decoding=\"async\" width=\"35\" height=\"41\" srcset=\"//upload.wikimedia.org/wikipedia/commons/thumb/f/fa/Wikiquote-logo.svg/53px-Wikiquote-logo.svg.png 1.5x, //upload.wikimedia.org/wikipedia/commons/thumb/f/fa/Wikiquote-logo.svg/70px-Wikiquote-logo.svg.png 2x\" data-file-width=\"300\" data-file-height=\"355\" /></a></div>\\n  <div><span><a href=\"https://en.wikiquote.org/wiki/\" class=\"extiw\" title=\"q:\">Wikiquote</a></span><br />Collection of quotations</div>\\n</li>\\n<li>\\n  <div><a href=\"https://en.wikisource.org/wiki/\" title=\"Wikisource\"><img alt=\"Wikisource logo\" src=\"//upload.wikimedia.org/wikipedia/commons/thumb/4/4c/Wikisource-logo.svg/35px-Wikisource-logo.svg.png\" decoding=\"async\" width=\"35\" height=\"37\" srcset=\"//upload.wikimedia.org/wikipedia/commons/thumb/4/4c/Wikisource-logo.svg/53px-Wikisource-logo.svg.png 1.5x, //upload.wikimedia.org/wikipedia/commons/thumb/4/4c/Wikisource-logo.svg/70px-Wikisource-logo.svg.png 2x\" data-file-width=\"410\" data-file-height=\"430\" /></a></div>\\n  <div><span><a href=\"https://en.wikisource.org/wiki/\" class=\"extiw\" title=\"s:\">Wikisource</a></span><br />Free-content library</div>\\n</li>\\n<li>\\n  <div><a href=\"https://species.wikimedia.org/wiki/\" title=\"Wikispecies\"><img alt=\"Wikispecies logo\" src=\"//upload.wikimedia.org/wikipedia/commons/thumb/d/df/Wikispecies-logo.svg/35px-Wikispecies-logo.svg.png\" decoding=\"async\" width=\"35\" height=\"41\" srcset=\"//upload.wikimedia.org/wikipedia/commons/thumb/d/df/Wikispecies-logo.svg/53px-Wikispecies-logo.svg.png 1.5x, //upload.wikimedia.org/wikipedia/commons/thumb/d/df/Wikispecies-logo.svg/70px-Wikispecies-logo.svg.png 2x\" data-file-width=\"941\" data-file-height=\"1103\" /></a></div>\\n  <div><span><a href=\"https://species.wikimedia.org/wiki/\" class=\"extiw\" title=\"species:\">Wikispecies</a></span><br />Directory of species</div>\\n</li>\\n<li>\\n  <div><a href=\"https://en.wikiversity.org/wiki/\" title=\"Wikiversity\"><img alt=\"Wikiversity logo\" src=\"//upload.wikimedia.org/wikipedia/commons/thumb/0/0b/Wikiversity_logo_2017.svg/41px-Wikiversity_logo_2017.svg.png\" decoding=\"async\" width=\"41\" height=\"34\" srcset=\"//upload.wikimedia.org/wikipedia/commons/thumb/0/0b/Wikiversity_logo_2017.svg/62px-Wikiversity_logo_2017.svg.png 1.5x, //upload.wikimedia.org/wikipedia/commons/thumb/0/0b/Wikiversity_logo_2017.svg/82px-Wikiversity_logo_2017.svg.png 2x\" data-file-width=\"626\" data-file-height=\"512\" /></a></div>\\n  <div><span><a href=\"https://en.wikiversity.org/wiki/\" class=\"extiw\" title=\"v:\">Wikiversity</a></span><br />Free learning tools</div>\\n</li>\\n<li>\\n  <div><a href=\"https://en.wikivoyage.org/wiki/\" title=\"Wikivoyage\"><img alt=\"Wikivoyage logo\" src=\"//upload.wikimedia.org/wikipedia/commons/thumb/d/dd/Wikivoyage-Logo-v3-icon.svg/35px-Wikivoyage-Logo-v3-icon.svg.png\" decoding=\"async\" width=\"35\" height=\"35\" srcset=\"//upload.wikimedia.org/wikipedia/commons/thumb/d/dd/Wikivoyage-Logo-v3-icon.svg/53px-Wikivoyage-Logo-v3-icon.svg.png 1.5x, //upload.wikimedia.org/wikipedia/commons/thumb/d/dd/Wikivoyage-Logo-v3-icon.svg/70px-Wikivoyage-Logo-v3-icon.svg.png 2x\" data-file-width=\"193\" data-file-height=\"193\" /></a></div>\\n  <div><span><a href=\"https://en.wikivoyage.org/wiki/\" class=\"extiw\" title=\"voy:\">Wikivoyage</a></span><br />Free travel guide</div>\\n</li>\\n<li>\\n  <div><a href=\"https://en.wiktionary.org/wiki/\" title=\"Wiktionary\"><img alt=\"Wiktionary logo\" src=\"//upload.wikimedia.org/wikipedia/en/thumb/0/06/Wiktionary-logo-v2.svg/35px-Wiktionary-logo-v2.svg.png\" decoding=\"async\" width=\"35\" height=\"35\" srcset=\"//upload.wikimedia.org/wikipedia/en/thumb/0/06/Wiktionary-logo-v2.svg/53px-Wiktionary-logo-v2.svg.png 1.5x, //upload.wikimedia.org/wikipedia/en/thumb/0/06/Wiktionary-logo-v2.svg/70px-Wiktionary-logo-v2.svg.png 2x\" data-file-width=\"391\" data-file-height=\"391\" /></a></div>\\n  <div><span><a href=\"https://en.wiktionary.org/wiki/\" class=\"extiw\" title=\"wikt:\">Wiktionary</a></span><br />Dictionary and thesaurus</div>\\n</li>\\n</ul>\\n</div></div>\\n<h2 id=\"mp-lang\" class=\"mp-h2\"><span class=\"mw-headline\" id=\"Wikipedia_languages\">Wikipedia languages</span></h2>\\n<div><style data-mw-deduplicate=\"TemplateStyles:r997272951\">.mw-parser-output .wikipedia-languages-complete{font-weight:bold}.mw-parser-output .wikipedia-languages ul{margin-left:0}.mw-parser-output .wikipedia-languages ul a{white-space:nowrap}.mw-parser-output .wikipedia-languages>ul{list-style:none;text-align:center;clear:both}.mw-parser-output .wikipedia-languages-count-container{width:90%;display:flex;justify-content:center;padding-top:1em;margin:0 auto}.mw-parser-output .wikipedia-languages-prettybars{width:100%;height:1px;margin:0.5em 0;background-color:#c8ccd1;flex-shrink:1;align-self:center}.mw-parser-output .wikipedia-languages-count{padding:0 1em;white-space:nowrap}</style>\\n<div class=\"wikipedia-languages nourlexpansion\">\\n<p>This Wikipedia is written in <a href=\"/wiki/English_language\" title=\"English language\">English</a>. Many <a href=\"https://meta.wikimedia.org/wiki/List_of_Wikipedias\" class=\"extiw\" title=\"meta:List of Wikipedias\">other Wikipedias are available</a>; some of the largest are listed below.\\n</p>\\n<ul class=\"plainlinks\">\\n<li>\\n  <div class=\"wikipedia-languages-count-container\">\\n    <div class=\"wikipedia-languages-prettybars\"></div>\\n    <div role=\"heading\" class=\"wikipedia-languages-count\">1,000,000+ articles</div>\\n    <div class=\"wikipedia-languages-prettybars\"></div>\\n  </div>\\n  <ul class=\"wikipedia-languages-langs hlist hlist-separated inline\">\\n    <li><a class=\"external text\" href=\"https://ar.wikipedia.org/wiki/\"><span class=\"autonym\" title=\"Arabic (ar:)\" lang=\"ar\">\\xd8\\xa7\\xd9\\x84\\xd8\\xb9\\xd8\\xb1\\xd8\\xa8\\xd9\\x8a\\xd8\\xa9</span></a></li>\\n    <li><a class=\"external text\" href=\"https://de.wikipedia.org/wiki/\"><span class=\"autonym\" title=\"German (de:)\" lang=\"de\">Deutsch</span></a></li>\\n    <li><a class=\"external text\" href=\"https://es.wikipedia.org/wiki/\"><span class=\"autonym\" title=\"Spanish (es:)\" lang=\"es\">Espa\\xc3\\xb1ol</span></a></li>\\n    <li><a class=\"external text\" href=\"https://fr.wikipedia.org/wiki/\"><span class=\"autonym\" title=\"French (fr:)\" lang=\"fr\">Fran\\xc3\\xa7ais</span></a></li>\\n    <li><a class=\"external text\" href=\"https://it.wikipedia.org/wiki/\"><span class=\"autonym\" title=\"Italian (it:)\" lang=\"it\">Italiano</span></a></li>\\n    <li><a class=\"external text\" href=\"https://nl.wikipedia.org/wiki/\"><span class=\"autonym\" title=\"Dutch (nl:)\" lang=\"nl\">Nederlands</span></a></li>\\n    <li><a class=\"external text\" href=\"https://ja.wikipedia.org/wiki/\"><span class=\"autonym\" title=\"Japanese (ja:)\" lang=\"ja\">\\xe6\\x97\\xa5\\xe6\\x9c\\xac\\xe8\\xaa\\x9e</span></a></li>\\n    <li><a class=\"external text\" href=\"https://pl.wikipedia.org/wiki/\"><span class=\"autonym\" title=\"Polish (pl:)\" lang=\"pl\">Polski</span></a></li>\\n    <li><a class=\"external text\" href=\"https://pt.wikipedia.org/wiki/\"><span class=\"autonym\" title=\"Portuguese (pt:)\" lang=\"pt\">Portugu\\xc3\\xaas</span></a></li>\\n    <li><a class=\"external text\" href=\"https://ru.wikipedia.org/wiki/\"><span class=\"autonym\" title=\"Russian (ru:)\" lang=\"ru\">\\xd0\\xa0\\xd1\\x83\\xd1\\x81\\xd1\\x81\\xd0\\xba\\xd0\\xb8\\xd0\\xb9</span></a></li>\\n    <li><a class=\"external text\" href=\"https://sv.wikipedia.org/wiki/\"><span class=\"autonym\" title=\"Swedish (sv:)\" lang=\"sv\">Svenska</span></a></li>\\n    <li><a class=\"external text\" href=\"https://uk.wikipedia.org/wiki/\"><span class=\"autonym\" title=\"Ukrainian (uk:)\" lang=\"uk\">\\xd0\\xa3\\xd0\\xba\\xd1\\x80\\xd0\\xb0\\xd1\\x97\\xd0\\xbd\\xd1\\x81\\xd1\\x8c\\xd0\\xba\\xd0\\xb0</span></a></li>\\n    <li><a class=\"external text\" href=\"https://vi.wikipedia.org/wiki/\"><span class=\"autonym\" title=\"Vietnamese (vi:)\" lang=\"vi\">Ti\\xe1\\xba\\xbfng Vi\\xe1\\xbb\\x87t</span></a></li>\\n    <li><a class=\"external text\" href=\"https://zh.wikipedia.org/wiki/\"><span class=\"autonym\" title=\"Chinese (zh:)\" lang=\"zh\">\\xe4\\xb8\\xad\\xe6\\x96\\x87</span></a></li>\\n  </ul>\\n</li>\\n<li>\\n  <div class=\"wikipedia-languages-count-container\">\\n    <div class=\"wikipedia-languages-prettybars\"></div>\\n    <div role=\"heading\" class=\"wikipedia-languages-count\">250,000+ articles</div>\\n    <div class=\"wikipedia-languages-prettybars\"></div>\\n  </div>\\n  <ul class=\"wikipedia-languages-langs hlist hlist-separated inline\">\\n    <li><a class=\"external text\" href=\"https://id.wikipedia.org/wiki/\"><span class=\"autonym\" title=\"Indonesian (id:)\" lang=\"id\">Bahasa Indonesia</span></a></li>\\n    <li><a class=\"external text\" href=\"https://ms.wikipedia.org/wiki/\"><span class=\"autonym\" title=\"Malay (ms:)\" lang=\"ms\">Bahasa Melayu</span></a></li>\\n    <li><a class=\"external text\" href=\"https://zh-min-nan.wikipedia.org/wiki/\"><span class=\"autonym\" title=\"Min Nan Chinese (nan:)\" lang=\"nan\">B\\xc3\\xa2n-l\\xc3\\xa2m-g\\xc3\\xba</span></a></li>\\n    <li><a class=\"external text\" href=\"https://bg.wikipedia.org/wiki/\"><span class=\"autonym\" title=\"Bulgarian (bg:)\" lang=\"bg\">\\xd0\\x91\\xd1\\x8a\\xd0\\xbb\\xd0\\xb3\\xd0\\xb0\\xd1\\x80\\xd1\\x81\\xd0\\xba\\xd0\\xb8</span></a></li>\\n    <li><a class=\"external text\" href=\"https://ca.wikipedia.org/wiki/\"><span class=\"autonym\" title=\"Catalan (ca:)\" lang=\"ca\">Catal\\xc3\\xa0</span></a></li>\\n    <li><a class=\"external text\" href=\"https://cs.wikipedia.org/wiki/\"><span class=\"autonym\" title=\"Czech (cs:)\" lang=\"cs\">\\xc4\\x8ce\\xc5\\xa1tina</span></a></li>\\n    <li><a class=\"external text\" href=\"https://da.wikipedia.org/wiki/\"><span class=\"autonym\" title=\"Danish (da:)\" lang=\"da\">Dansk</span></a></li>\\n    <li><a class=\"external text\" href=\"https://eo.wikipedia.org/wiki/\"><span class=\"autonym\" title=\"Esperanto (eo:)\" lang=\"eo\">Esperanto</span></a></li>\\n    <li><a class=\"external text\" href=\"https://eu.wikipedia.org/wiki/\"><span class=\"autonym\" title=\"Basque (eu:)\" lang=\"eu\">Euskara</span></a></li>\\n    <li><a class=\"external text\" href=\"https://fa.wikipedia.org/wiki/\"><span class=\"autonym\" title=\"Persian (fa:)\" lang=\"fa\">\\xd9\\x81\\xd8\\xa7\\xd8\\xb1\\xd8\\xb3\\xdb\\x8c</span></a>&#8206;</li>\\n    <li><a class=\"external text\" href=\"https://he.wikipedia.org/wiki/\"><span class=\"autonym\" title=\"Hebrew (he:)\" lang=\"he\">\\xd7\\xa2\\xd7\\x91\\xd7\\xa8\\xd7\\x99\\xd7\\xaa</span></a></li>\\n    <li><a class=\"external text\" href=\"https://ko.wikipedia.org/wiki/\"><span class=\"autonym\" title=\"Korean (ko:)\" lang=\"ko\">\\xed\\x95\\x9c\\xea\\xb5\\xad\\xec\\x96\\xb4</span></a></li>\\n    <li><a class=\"external text\" href=\"https://hu.wikipedia.org/wiki/\"><span class=\"autonym\" title=\"Hungarian (hu:)\" lang=\"hu\">Magyar</span></a></li>\\n    <li><a class=\"external text\" href=\"https://no.wikipedia.org/wiki/\"><span class=\"autonym\" title=\"Norwegian (no:)\" lang=\"no\">Norsk Bokm\\xc3\\xa5l</span></a></li>\\n    <li><a class=\"external text\" href=\"https://ro.wikipedia.org/wiki/\"><span class=\"autonym\" title=\"Romanian (ro:)\" lang=\"ro\">Rom\\xc3\\xa2n\\xc4\\x83</span></a></li>\\n    <li><a class=\"external text\" href=\"https://sr.wikipedia.org/wiki/\"><span class=\"autonym\" title=\"Serbian (sr:)\" lang=\"sr\">Srpski</span></a></li>\\n    <li><a class=\"external text\" href=\"https://sh.wikipedia.org/wiki/\"><span class=\"autonym\" title=\"Serbo-Croatian (sh:)\" lang=\"sh\">Srpskohrvatski</span></a></li>\\n    <li><a class=\"external text\" href=\"https://fi.wikipedia.org/wiki/\"><span class=\"autonym\" title=\"Finnish (fi:)\" lang=\"fi\">Suomi</span></a></li>\\n    <li><a class=\"external text\" href=\"https://tr.wikipedia.org/wiki/\"><span class=\"autonym\" title=\"Turkish (tr:)\" lang=\"tr\">T\\xc3\\xbcrk\\xc3\\xa7e</span></a></li>\\n  </ul>\\n</li>\\n<li>\\n  <div class=\"wikipedia-languages-count-container\">\\n    <div class=\"wikipedia-languages-prettybars\"></div>\\n    <div role=\"heading\" class=\"wikipedia-languages-count\">50,000+ articles</div>\\n    <div class=\"wikipedia-languages-prettybars\"></div>\\n  </div>\\n  <ul class=\"wikipedia-languages-langs hlist hlist-separated inline\">\\n    <li><a class=\"external text\" href=\"https://ast.wikipedia.org/wiki/\"><span class=\"autonym\" title=\"Asturian (ast:)\" lang=\"ast\">Asturianu</span></a></li>\\n    <li><a class=\"external text\" href=\"https://bs.wikipedia.org/wiki/\"><span class=\"autonym\" title=\"Bosnian (bs:)\" lang=\"bs\">Bosanski</span></a></li>\\n    <li><a class=\"external text\" href=\"https://et.wikipedia.org/wiki/\"><span class=\"autonym\" title=\"Estonian (et:)\" lang=\"et\">Eesti</span></a></li>\\n    <li><a class=\"external text\" href=\"https://el.wikipedia.org/wiki/\"><span class=\"autonym\" title=\"Greek (el:)\" lang=\"el\">\\xce\\x95\\xce\\xbb\\xce\\xbb\\xce\\xb7\\xce\\xbd\\xce\\xb9\\xce\\xba\\xce\\xac</span></a></li>\\n    <li><a class=\"external text\" href=\"https://simple.wikipedia.org/wiki/\"><span class=\"autonym\" title=\"Simple English (simple:)\" lang=\"simple\">Simple English</span></a></li>\\n    <li><a class=\"external text\" href=\"https://gl.wikipedia.org/wiki/\"><span class=\"autonym\" title=\"Galician (gl:)\" lang=\"gl\">Galego</span></a></li>\\n    <li><a class=\"external text\" href=\"https://hr.wikipedia.org/wiki/\"><span class=\"autonym\" title=\"Croatian (hr:)\" lang=\"hr\">Hrvatski</span></a></li>\\n    <li><a class=\"external text\" href=\"https://lv.wikipedia.org/wiki/\"><span class=\"autonym\" title=\"Latvian (lv:)\" lang=\"lv\">Latvie\\xc5\\xa1u</span></a></li>\\n    <li><a class=\"external text\" href=\"https://lt.wikipedia.org/wiki/\"><span class=\"autonym\" title=\"Lithuanian (lt:)\" lang=\"lt\">Lietuvi\\xc5\\xb3</span></a></li>\\n    <li><a class=\"external text\" href=\"https://ml.wikipedia.org/wiki/\"><span class=\"autonym\" title=\"Malayalam (ml:)\" lang=\"ml\">\\xe0\\xb4\\xae\\xe0\\xb4\\xb2\\xe0\\xb4\\xaf\\xe0\\xb4\\xbe\\xe0\\xb4\\xb3\\xe0\\xb4\\x82</span></a></li>\\n    <li><a class=\"external text\" href=\"https://mk.wikipedia.org/wiki/\"><span class=\"autonym\" title=\"Macedonian (mk:)\" lang=\"mk\">\\xd0\\x9c\\xd0\\xb0\\xd0\\xba\\xd0\\xb5\\xd0\\xb4\\xd0\\xbe\\xd0\\xbd\\xd1\\x81\\xd0\\xba\\xd0\\xb8</span></a></li>\\n    <li><a class=\"external text\" href=\"https://nn.wikipedia.org/wiki/\"><span class=\"autonym\" title=\"Norwegian Nynorsk (nn:)\" lang=\"nn\">Norsk nynorsk</span></a></li>\\n    <li><a class=\"external text\" href=\"https://sq.wikipedia.org/wiki/\"><span class=\"autonym\" title=\"Albanian (sq:)\" lang=\"sq\">Shqip</span></a></li>\\n    <li><a class=\"external text\" href=\"https://sk.wikipedia.org/wiki/\"><span class=\"autonym\" title=\"Slovak (sk:)\" lang=\"sk\">Sloven\\xc4\\x8dina</span></a></li>\\n    <li><a class=\"external text\" href=\"https://sl.wikipedia.org/wiki/\"><span class=\"autonym\" title=\"Slovenian (sl:)\" lang=\"sl\">Sloven\\xc5\\xa1\\xc4\\x8dina</span></a></li>\\n    <li><a class=\"external text\" href=\"https://th.wikipedia.org/wiki/\"><span class=\"autonym\" title=\"Thai (th:)\" lang=\"th\">\\xe0\\xb9\\x84\\xe0\\xb8\\x97\\xe0\\xb8\\xa2</span></a></li>\\n  </ul>\\n</li>\\n</ul>\\n</div></div>\\n</div>\\n<!-- \\nNewPP limit report\\nParsed by mw1353\\nCached time: 20210930000710\\nCache expiry: 3600\\nReduced expiry: true\\nComplications: []\\nCPU time usage: 0.471 seconds\\nReal time usage: 0.583 seconds\\nPreprocessor visited node count: 4339/1000000\\nPost\\xe2\\x80\\x90expand include size: 133347/2097152 bytes\\nTemplate argument size: 10205/2097152 bytes\\nHighest expansion depth: 23/40\\nExpensive parser function count: 15/500\\nUnstrip recursion depth: 0/20\\nUnstrip post\\xe2\\x80\\x90expand size: 5370/5000000 bytes\\nLua time usage: 0.107/10.000 seconds\\nLua memory usage: 2363401/52428800 bytes\\nNumber of Wikibase entities loaded: 0/400\\n-->\\n<!--\\nTransclusion expansion time report (%,ms,calls,template)\\n100.00%  423.805      1 -total\\n 43.46%  184.206      1 Wikipedia:Main_Page/Tomorrow\\n 40.72%  172.556      9 Template:Main_page_image\\n 24.80%  105.116      9 Template:Str_number/trim\\n 20.26%   85.856     27 Template:If_empty\\n 18.44%   78.136      2 Template:Main_page_image/TFA\\n 18.03%   76.391      1 Wikipedia:Today\\'s_featured_article/September_30,_2021\\n 16.48%   69.858      1 Template:Did_you_know/Queue/5\\n 12.11%   51.322      2 Template:Wikipedia_languages\\n 11.82%   50.111      1 Wikipedia:Selected_anniversaries/September_30\\n-->\\n\\n<!-- Saved in parser cache with key enwiki:pcache:idhash:15580374-0!canonical and timestamp 20210930000710 and revision id 1004593520. Serialized with JSON.\\n -->\\n</div><noscript><img src=\"//en.wikipedia.org/wiki/Special:CentralAutoLogin/start?type=1x1\" alt=\"\" title=\"\" width=\"1\" height=\"1\" style=\"border: none; position: absolute;\" /></noscript>\\n<div class=\"printfooter\">Retrieved from \"<a dir=\"ltr\" href=\"https://en.wikipedia.org/w/index.php?title=Main_Page&amp;oldid=1004593520\">https://en.wikipedia.org/w/index.php?title=Main_Page&amp;oldid=1004593520</a>\"</div></div>\\n\\t\\t<div id=\"catlinks\" class=\"catlinks catlinks-allhidden\" data-mw=\"interface\"></div>\\n\\t</div>\\n</div>\\n<div id=\\'mw-data-after-content\\'>\\n\\t<div class=\"read-more-container\"></div>\\n</div>\\n\\n<div id=\"mw-navigation\">\\n\\t<h2>Navigation menu</h2>\\n\\t<div id=\"mw-head\">\\n\\t\\t<nav id=\"p-personal\" class=\"mw-portlet mw-portlet-personal vector-user-menu-legacy vector-menu\" aria-labelledby=\"p-personal-label\" role=\"navigation\" \\n\\t >\\n\\t<h3 id=\"p-personal-label\" aria-label=\"\" class=\"vector-menu-heading\" >\\n\\t\\t\\n\\t\\t<span>Personal tools</span>\\n\\t</h3>\\n\\t<div class=\"vector-menu-content\">\\n\\t\\t\\n\\t\\t<ul class=\"vector-menu-content-list\"><li id=\"pt-anonuserpage\" class=\"mw-list-item\">Not logged in</li><li id=\"pt-anontalk\" class=\"mw-list-item\"><a href=\"/wiki/Special:MyTalk\" title=\"Discussion about edits from this IP address [n]\" accesskey=\"n\">Talk</a></li><li id=\"pt-anoncontribs\" class=\"mw-list-item\"><a href=\"/wiki/Special:MyContributions\" title=\"A list of edits made from this IP address [y]\" accesskey=\"y\">Contributions</a></li><li id=\"pt-createaccount\" class=\"mw-list-item\"><a href=\"/w/index.php?title=Special:CreateAccount&amp;returnto=Main+Page\" title=\"You are encouraged to create an account and log in; however, it is not mandatory\">Create account</a></li><li id=\"pt-login\" class=\"mw-list-item\"><a href=\"/w/index.php?title=Special:UserLogin&amp;returnto=Main+Page\" title=\"You&#039;re encouraged to log in; however, it&#039;s not mandatory. [o]\" accesskey=\"o\">Log in</a></li></ul>\\n\\t\\t\\n\\t</div>\\n</nav>\\n\\n\\t\\t<div id=\"left-navigation\">\\n\\t\\t\\t<nav id=\"p-namespaces\" class=\"mw-portlet mw-portlet-namespaces vector-menu vector-menu-tabs\" aria-labelledby=\"p-namespaces-label\" role=\"navigation\" \\n\\t >\\n\\t<h3 id=\"p-namespaces-label\" aria-label=\"\" class=\"vector-menu-heading\" >\\n\\t\\t\\n\\t\\t<span>Namespaces</span>\\n\\t</h3>\\n\\t<div class=\"vector-menu-content\">\\n\\t\\t\\n\\t\\t<ul class=\"vector-menu-content-list\"><li id=\"ca-nstab-main\" class=\"selected mw-list-item\"><a href=\"/wiki/Main_Page\" title=\"View the content page [c]\" accesskey=\"c\">Main Page</a></li><li id=\"ca-talk\" class=\"mw-list-item\"><a href=\"/wiki/Talk:Main_Page\" rel=\"discussion\" title=\"Discuss improvements to the content page [t]\" accesskey=\"t\">Talk</a></li></ul>\\n\\t\\t\\n\\t</div>\\n</nav>\\n\\n\\t\\t\\t<nav id=\"p-variants\" class=\"mw-portlet mw-portlet-variants emptyPortlet vector-menu-dropdown-noicon vector-menu vector-menu-dropdown\" aria-labelledby=\"p-variants-label\" role=\"navigation\" \\n\\t >\\n\\t<input type=\"checkbox\"\\n\\t\\tid=\"p-variants-checkbox\"\\n\\t\\trole=\"button\"\\n\\t\\taria-haspopup=\"true\"\\n\\t\\tdata-event-name=\"ui.dropdown-p-variants\"\\n\\t\\tclass=\" vector-menu-checkbox\" aria-labelledby=\"p-variants-label\" />\\n\\t<h3 id=\"p-variants-label\" aria-label=\"Change language variant\" class=\"vector-menu-heading\" >\\n\\t\\t\\n\\t\\t<span>Variants</span>\\n\\t\\t\\t<span class=\"vector-menu-checkbox-expanded\">expanded</span>\\n\\t\\t\\t<span class=\"vector-menu-checkbox-collapsed\">collapsed</span>\\n\\t</h3>\\n\\t<div class=\"vector-menu-content\">\\n\\t\\t\\n\\t\\t<ul class=\"vector-menu-content-list\"></ul>\\n\\t\\t\\n\\t</div>\\n</nav>\\n\\n\\t\\t</div>\\n\\t\\t<div id=\"right-navigation\">\\n\\t\\t\\t<nav id=\"p-views\" class=\"mw-portlet mw-portlet-views vector-menu vector-menu-tabs\" aria-labelledby=\"p-views-label\" role=\"navigation\" \\n\\t >\\n\\t<h3 id=\"p-views-label\" aria-label=\"\" class=\"vector-menu-heading\" >\\n\\t\\t\\n\\t\\t<span>Views</span>\\n\\t</h3>\\n\\t<div class=\"vector-menu-content\">\\n\\t\\t\\n\\t\\t<ul class=\"vector-menu-content-list\"><li id=\"ca-view\" class=\"selected mw-list-item\"><a href=\"/wiki/Main_Page\">Read</a></li><li id=\"ca-viewsource\" class=\"mw-list-item\"><a href=\"/w/index.php?title=Main_Page&amp;action=edit\" title=\"This page is protected.&#10;You can view its source [e]\" accesskey=\"e\">View source</a></li><li id=\"ca-history\" class=\"mw-list-item\"><a href=\"/w/index.php?title=Main_Page&amp;action=history\" title=\"Past revisions of this page [h]\" accesskey=\"h\">View history</a></li></ul>\\n\\t\\t\\n\\t</div>\\n</nav>\\n\\n\\t\\t\\t<nav id=\"p-cactions\" class=\"mw-portlet mw-portlet-cactions emptyPortlet vector-menu-dropdown-noicon vector-menu vector-menu-dropdown\" aria-labelledby=\"p-cactions-label\" role=\"navigation\"  title=\"More options\"\\n\\t >\\n\\t<input type=\"checkbox\"\\n\\t\\tid=\"p-cactions-checkbox\"\\n\\t\\trole=\"button\"\\n\\t\\taria-haspopup=\"true\"\\n\\t\\tdata-event-name=\"ui.dropdown-p-cactions\"\\n\\t\\tclass=\" vector-menu-checkbox\" aria-labelledby=\"p-cactions-label\" />\\n\\t<h3 id=\"p-cactions-label\" aria-label=\"\" class=\"vector-menu-heading\" >\\n\\t\\t\\n\\t\\t<span>More</span>\\n\\t\\t\\t<span class=\"vector-menu-checkbox-expanded\">expanded</span>\\n\\t\\t\\t<span class=\"vector-menu-checkbox-collapsed\">collapsed</span>\\n\\t</h3>\\n\\t<div class=\"vector-menu-content\">\\n\\t\\t\\n\\t\\t<ul class=\"vector-menu-content-list\"></ul>\\n\\t\\t\\n\\t</div>\\n</nav>\\n\\n\\t\\t\\t<div id=\"p-search\" role=\"search\" class=\"vector-search-box\">\\n\\t<div>\\n\\t\\t\\t<h3 >\\n\\t\\t\\t\\t<label for=\"searchInput\">Search</label>\\n\\t\\t\\t</h3>\\n\\t\\t<form action=\"/w/index.php\" id=\"searchform\">\\n\\t\\t\\t<div id=\"simpleSearch\" data-search-loc=\"header-navigation\">\\n\\t\\t\\t\\t<input type=\"search\" name=\"search\" placeholder=\"Search Wikipedia\" autocapitalize=\"sentences\" title=\"Search Wikipedia [f]\" accesskey=\"f\" id=\"searchInput\"/>\\n\\t\\t\\t\\t<input type=\"hidden\" name=\"title\" value=\"Special:Search\"/>\\n\\t\\t\\t\\t<input type=\"submit\" name=\"fulltext\" value=\"Search\" title=\"Search Wikipedia for this text\" class=\"searchButton mw-fallbackSearchButton\" id=\"mw-searchButton\"/>\\n\\t\\t\\t\\t<input type=\"submit\" name=\"go\" value=\"Go\" title=\"Go to a page with this exact name if it exists\" class=\"searchButton\" id=\"searchButton\"/>\\n\\t\\t\\t</div>\\n\\t\\t</form>\\n\\t</div>\\n</div>\\n\\n\\t\\t</div>\\n\\t</div>\\n\\t\\n<div id=\"mw-panel\">\\n\\t<div id=\"p-logo\" role=\"banner\">\\n\\t\\t<a class=\"mw-wiki-logo\" href=\"/wiki/Main_Page\"\\n\\t\\t\\ttitle=\"Visit the main page\"></a>\\n\\t</div>\\n\\t<nav id=\"p-navigation\" class=\"mw-portlet mw-portlet-navigation vector-menu vector-menu-portal portal\" aria-labelledby=\"p-navigation-label\" role=\"navigation\" \\n\\t >\\n\\t<h3 id=\"p-navigation-label\" aria-label=\"\" class=\"vector-menu-heading\" >\\n\\t\\t\\n\\t\\t<span>Navigation</span>\\n\\t</h3>\\n\\t<div class=\"vector-menu-content\">\\n\\t\\t\\n\\t\\t<ul class=\"vector-menu-content-list\"><li id=\"n-mainpage-description\" class=\"mw-list-item\"><a href=\"/wiki/Main_Page\" title=\"Visit the main page [z]\" accesskey=\"z\">Main page</a></li><li id=\"n-contents\" class=\"mw-list-item\"><a href=\"/wiki/Wikipedia:Contents\" title=\"Guides to browsing Wikipedia\">Contents</a></li><li id=\"n-currentevents\" class=\"mw-list-item\"><a href=\"/wiki/Portal:Current_events\" title=\"Articles related to current events\">Current events</a></li><li id=\"n-randompage\" class=\"mw-list-item\"><a href=\"/wiki/Special:Random\" title=\"Visit a randomly selected article [x]\" accesskey=\"x\">Random article</a></li><li id=\"n-aboutsite\" class=\"mw-list-item\"><a href=\"/wiki/Wikipedia:About\" title=\"Learn about Wikipedia and how it works\">About Wikipedia</a></li><li id=\"n-contactpage\" class=\"mw-list-item\"><a href=\"//en.wikipedia.org/wiki/Wikipedia:Contact_us\" title=\"How to contact Wikipedia\">Contact us</a></li><li id=\"n-sitesupport\" class=\"mw-list-item\"><a href=\"https://donate.wikimedia.org/wiki/Special:FundraiserRedirector?utm_source=donate&amp;utm_medium=sidebar&amp;utm_campaign=C13_en.wikipedia.org&amp;uselang=en\" title=\"Support us by donating to the Wikimedia Foundation\">Donate</a></li></ul>\\n\\t\\t\\n\\t</div>\\n</nav>\\n\\n\\t<nav id=\"p-interaction\" class=\"mw-portlet mw-portlet-interaction vector-menu vector-menu-portal portal\" aria-labelledby=\"p-interaction-label\" role=\"navigation\" \\n\\t >\\n\\t<h3 id=\"p-interaction-label\" aria-label=\"\" class=\"vector-menu-heading\" >\\n\\t\\t\\n\\t\\t<span>Contribute</span>\\n\\t</h3>\\n\\t<div class=\"vector-menu-content\">\\n\\t\\t\\n\\t\\t<ul class=\"vector-menu-content-list\"><li id=\"n-help\" class=\"mw-list-item\"><a href=\"/wiki/Help:Contents\" title=\"Guidance on how to use and edit Wikipedia\">Help</a></li><li id=\"n-introduction\" class=\"mw-list-item\"><a href=\"/wiki/Help:Introduction\" title=\"Learn how to edit Wikipedia\">Learn to edit</a></li><li id=\"n-portal\" class=\"mw-list-item\"><a href=\"/wiki/Wikipedia:Community_portal\" title=\"The hub for editors\">Community portal</a></li><li id=\"n-recentchanges\" class=\"mw-list-item\"><a href=\"/wiki/Special:RecentChanges\" title=\"A list of recent changes to Wikipedia [r]\" accesskey=\"r\">Recent changes</a></li><li id=\"n-upload\" class=\"mw-list-item\"><a href=\"/wiki/Wikipedia:File_Upload_Wizard\" title=\"Add images or other media for use on Wikipedia\">Upload file</a></li></ul>\\n\\t\\t\\n\\t</div>\\n</nav>\\n<nav id=\"p-tb\" class=\"mw-portlet mw-portlet-tb vector-menu vector-menu-portal portal\" aria-labelledby=\"p-tb-label\" role=\"navigation\" \\n\\t >\\n\\t<h3 id=\"p-tb-label\" aria-label=\"\" class=\"vector-menu-heading\" >\\n\\t\\t\\n\\t\\t<span>Tools</span>\\n\\t</h3>\\n\\t<div class=\"vector-menu-content\">\\n\\t\\t\\n\\t\\t<ul class=\"vector-menu-content-list\"><li id=\"t-whatlinkshere\" class=\"mw-list-item\"><a href=\"/wiki/Special:WhatLinksHere/Main_Page\" title=\"List of all English Wikipedia pages containing links to this page [j]\" accesskey=\"j\">What links here</a></li><li id=\"t-recentchangeslinked\" class=\"mw-list-item\"><a href=\"/wiki/Special:RecentChangesLinked/Main_Page\" rel=\"nofollow\" title=\"Recent changes in pages linked from this page [k]\" accesskey=\"k\">Related changes</a></li><li id=\"t-upload\" class=\"mw-list-item\"><a href=\"/wiki/Wikipedia:File_Upload_Wizard\" title=\"Upload files [u]\" accesskey=\"u\">Upload file</a></li><li id=\"t-specialpages\" class=\"mw-list-item\"><a href=\"/wiki/Special:SpecialPages\" title=\"A list of all special pages [q]\" accesskey=\"q\">Special pages</a></li><li id=\"t-permalink\" class=\"mw-list-item\"><a href=\"/w/index.php?title=Main_Page&amp;oldid=1004593520\" title=\"Permanent link to this revision of this page\">Permanent link</a></li><li id=\"t-info\" class=\"mw-list-item\"><a href=\"/w/index.php?title=Main_Page&amp;action=info\" title=\"More information about this page\">Page information</a></li><li id=\"t-cite\" class=\"mw-list-item\"><a href=\"/w/index.php?title=Special:CiteThisPage&amp;page=Main_Page&amp;id=1004593520&amp;wpFormIdentifier=titleform\" title=\"Information on how to cite this page\">Cite this page</a></li><li id=\"t-wikibase\" class=\"mw-list-item\"><a href=\"https://www.wikidata.org/wiki/Special:EntityPage/Q5296\" title=\"Structured data on this page hosted by Wikidata [g]\" accesskey=\"g\">Wikidata item</a></li></ul>\\n\\t\\t\\n\\t</div>\\n</nav>\\n<nav id=\"p-coll-print_export\" class=\"mw-portlet mw-portlet-coll-print_export vector-menu vector-menu-portal portal\" aria-labelledby=\"p-coll-print_export-label\" role=\"navigation\" \\n\\t >\\n\\t<h3 id=\"p-coll-print_export-label\" aria-label=\"\" class=\"vector-menu-heading\" >\\n\\t\\t\\n\\t\\t<span>Print/export</span>\\n\\t</h3>\\n\\t<div class=\"vector-menu-content\">\\n\\t\\t\\n\\t\\t<ul class=\"vector-menu-content-list\"><li id=\"coll-download-as-rl\" class=\"mw-list-item\"><a href=\"/w/index.php?title=Special:DownloadAsPdf&amp;page=Main_Page&amp;action=show-download-screen\" title=\"Download this page as a PDF file\">Download as PDF</a></li><li id=\"t-print\" class=\"mw-list-item\"><a href=\"/w/index.php?title=Main_Page&amp;printable=yes\" title=\"Printable version of this page [p]\" accesskey=\"p\">Printable version</a></li></ul>\\n\\t\\t\\n\\t</div>\\n</nav>\\n<nav id=\"p-wikibase-otherprojects\" class=\"mw-portlet mw-portlet-wikibase-otherprojects vector-menu vector-menu-portal portal\" aria-labelledby=\"p-wikibase-otherprojects-label\" role=\"navigation\" \\n\\t >\\n\\t<h3 id=\"p-wikibase-otherprojects-label\" aria-label=\"\" class=\"vector-menu-heading\" >\\n\\t\\t\\n\\t\\t<span>In other projects</span>\\n\\t</h3>\\n\\t<div class=\"vector-menu-content\">\\n\\t\\t\\n\\t\\t<ul class=\"vector-menu-content-list\"><li class=\"wb-otherproject-link wb-otherproject-commons mw-list-item\"><a href=\"https://commons.wikimedia.org/wiki/Main_Page\" hreflang=\"en\">Wikimedia Commons</a></li><li class=\"wb-otherproject-link wb-otherproject-mediawiki mw-list-item\"><a href=\"https://www.mediawiki.org/wiki/MediaWiki\" hreflang=\"en\">MediaWiki</a></li><li class=\"wb-otherproject-link wb-otherproject-meta mw-list-item\"><a href=\"https://meta.wikimedia.org/wiki/Main_Page\" hreflang=\"en\">Meta-Wiki</a></li><li class=\"wb-otherproject-link wb-otherproject-sources mw-list-item\"><a href=\"https://wikisource.org/wiki/Main_Page\" hreflang=\"en\">Multilingual Wikisource</a></li><li class=\"wb-otherproject-link wb-otherproject-species mw-list-item\"><a href=\"https://species.wikimedia.org/wiki/Main_Page\" hreflang=\"en\">Wikispecies</a></li><li class=\"wb-otherproject-link wb-otherproject-wikibooks mw-list-item\"><a href=\"https://en.wikibooks.org/wiki/Main_Page\" hreflang=\"en\">Wikibooks</a></li><li class=\"wb-otherproject-link wb-otherproject-wikidata mw-list-item\"><a href=\"https://www.wikidata.org/wiki/Wikidata:Main_Page\" hreflang=\"en\">Wikidata</a></li><li class=\"wb-otherproject-link wb-otherproject-wikimania mw-list-item\"><a href=\"https://wikimania.wikimedia.org/wiki/Wikimania\" hreflang=\"en\">Wikimania</a></li><li class=\"wb-otherproject-link wb-otherproject-wikinews mw-list-item\"><a href=\"https://en.wikinews.org/wiki/Main_Page\" hreflang=\"en\">Wikinews</a></li><li class=\"wb-otherproject-link wb-otherproject-wikiquote mw-list-item\"><a href=\"https://en.wikiquote.org/wiki/Main_Page\" hreflang=\"en\">Wikiquote</a></li><li class=\"wb-otherproject-link wb-otherproject-wikisource mw-list-item\"><a href=\"https://en.wikisource.org/wiki/Main_Page\" hreflang=\"en\">Wikisource</a></li><li class=\"wb-otherproject-link wb-otherproject-wikiversity mw-list-item\"><a href=\"https://en.wikiversity.org/wiki/Wikiversity:Main_Page\" hreflang=\"en\">Wikiversity</a></li><li class=\"wb-otherproject-link wb-otherproject-wikivoyage mw-list-item\"><a href=\"https://en.wikivoyage.org/wiki/Main_Page\" hreflang=\"en\">Wikivoyage</a></li><li class=\"wb-otherproject-link wb-otherproject-wiktionary mw-list-item\"><a href=\"https://en.wiktionary.org/wiki/Wiktionary:Main_Page\" hreflang=\"en\">Wiktionary</a></li></ul>\\n\\t\\t\\n\\t</div>\\n</nav>\\n\\n\\t<nav id=\"p-lang\" class=\"mw-portlet mw-portlet-lang vector-menu vector-menu-portal portal\" aria-labelledby=\"p-lang-label\" role=\"navigation\" \\n\\t >\\n\\t<h3 id=\"p-lang-label\" aria-label=\"\" class=\"vector-menu-heading\" >\\n\\t\\t\\n\\t\\t<span>Languages</span>\\n\\t</h3>\\n\\t<div class=\"vector-menu-content\">\\n\\t\\t\\n\\t\\t<ul class=\"vector-menu-content-list\"><li class=\"interlanguage-link interwiki-ar mw-list-item\"><a href=\"https://ar.wikipedia.org/wiki/\" title=\"Arabic\" lang=\"ar\" hreflang=\"ar\" class=\"interlanguage-link-target\">\\xd8\\xa7\\xd9\\x84\\xd8\\xb9\\xd8\\xb1\\xd8\\xa8\\xd9\\x8a\\xd8\\xa9</a></li><li class=\"interlanguage-link interwiki-bn mw-list-item\"><a href=\"https://bn.wikipedia.org/wiki/\" title=\"Bangla\" lang=\"bn\" hreflang=\"bn\" class=\"interlanguage-link-target\">\\xe0\\xa6\\xac\\xe0\\xa6\\xbe\\xe0\\xa6\\x82\\xe0\\xa6\\xb2\\xe0\\xa6\\xbe</a></li><li class=\"interlanguage-link interwiki-bg mw-list-item\"><a href=\"https://bg.wikipedia.org/wiki/\" title=\"Bulgarian\" lang=\"bg\" hreflang=\"bg\" class=\"interlanguage-link-target\">\\xd0\\x91\\xd1\\x8a\\xd0\\xbb\\xd0\\xb3\\xd0\\xb0\\xd1\\x80\\xd1\\x81\\xd0\\xba\\xd0\\xb8</a></li><li class=\"interlanguage-link interwiki-bs mw-list-item\"><a href=\"https://bs.wikipedia.org/wiki/\" title=\"Bosnian\" lang=\"bs\" hreflang=\"bs\" class=\"interlanguage-link-target\">Bosanski</a></li><li class=\"interlanguage-link interwiki-ca mw-list-item\"><a href=\"https://ca.wikipedia.org/wiki/\" title=\"Catalan\" lang=\"ca\" hreflang=\"ca\" class=\"interlanguage-link-target\">Catal\\xc3\\xa0</a></li><li class=\"interlanguage-link interwiki-cs mw-list-item\"><a href=\"https://cs.wikipedia.org/wiki/\" title=\"Czech\" lang=\"cs\" hreflang=\"cs\" class=\"interlanguage-link-target\">\\xc4\\x8ce\\xc5\\xa1tina</a></li><li class=\"interlanguage-link interwiki-da mw-list-item\"><a href=\"https://da.wikipedia.org/wiki/\" title=\"Danish\" lang=\"da\" hreflang=\"da\" class=\"interlanguage-link-target\">Dansk</a></li><li class=\"interlanguage-link interwiki-de mw-list-item\"><a href=\"https://de.wikipedia.org/wiki/\" title=\"German\" lang=\"de\" hreflang=\"de\" class=\"interlanguage-link-target\">Deutsch</a></li><li class=\"interlanguage-link interwiki-et mw-list-item\"><a href=\"https://et.wikipedia.org/wiki/\" title=\"Estonian\" lang=\"et\" hreflang=\"et\" class=\"interlanguage-link-target\">Eesti</a></li><li class=\"interlanguage-link interwiki-el mw-list-item\"><a href=\"https://el.wikipedia.org/wiki/\" title=\"Greek\" lang=\"el\" hreflang=\"el\" class=\"interlanguage-link-target\">\\xce\\x95\\xce\\xbb\\xce\\xbb\\xce\\xb7\\xce\\xbd\\xce\\xb9\\xce\\xba\\xce\\xac</a></li><li class=\"interlanguage-link interwiki-es mw-list-item\"><a href=\"https://es.wikipedia.org/wiki/\" title=\"Spanish\" lang=\"es\" hreflang=\"es\" class=\"interlanguage-link-target\">Espa\\xc3\\xb1ol</a></li><li class=\"interlanguage-link interwiki-eo mw-list-item\"><a href=\"https://eo.wikipedia.org/wiki/\" title=\"Esperanto\" lang=\"eo\" hreflang=\"eo\" class=\"interlanguage-link-target\">Esperanto</a></li><li class=\"interlanguage-link interwiki-eu mw-list-item\"><a href=\"https://eu.wikipedia.org/wiki/\" title=\"Basque\" lang=\"eu\" hreflang=\"eu\" class=\"interlanguage-link-target\">Euskara</a></li><li class=\"interlanguage-link interwiki-fa mw-list-item\"><a href=\"https://fa.wikipedia.org/wiki/\" title=\"Persian\" lang=\"fa\" hreflang=\"fa\" class=\"interlanguage-link-target\">\\xd9\\x81\\xd8\\xa7\\xd8\\xb1\\xd8\\xb3\\xdb\\x8c</a></li><li class=\"interlanguage-link interwiki-fr mw-list-item\"><a href=\"https://fr.wikipedia.org/wiki/\" title=\"French\" lang=\"fr\" hreflang=\"fr\" class=\"interlanguage-link-target\">Fran\\xc3\\xa7ais</a></li><li class=\"interlanguage-link interwiki-gl mw-list-item\"><a href=\"https://gl.wikipedia.org/wiki/\" title=\"Galician\" lang=\"gl\" hreflang=\"gl\" class=\"interlanguage-link-target\">Galego</a></li><li class=\"interlanguage-link interwiki-ko mw-list-item\"><a href=\"https://ko.wikipedia.org/wiki/\" title=\"Korean\" lang=\"ko\" hreflang=\"ko\" class=\"interlanguage-link-target\">\\xed\\x95\\x9c\\xea\\xb5\\xad\\xec\\x96\\xb4</a></li><li class=\"interlanguage-link interwiki-hr mw-list-item\"><a href=\"https://hr.wikipedia.org/wiki/\" title=\"Croatian\" lang=\"hr\" hreflang=\"hr\" class=\"interlanguage-link-target\">Hrvatski</a></li><li class=\"interlanguage-link interwiki-id mw-list-item\"><a href=\"https://id.wikipedia.org/wiki/\" title=\"Indonesian\" lang=\"id\" hreflang=\"id\" class=\"interlanguage-link-target\">Bahasa Indonesia</a></li><li class=\"interlanguage-link interwiki-it mw-list-item\"><a href=\"https://it.wikipedia.org/wiki/\" title=\"Italian\" lang=\"it\" hreflang=\"it\" class=\"interlanguage-link-target\">Italiano</a></li><li class=\"interlanguage-link interwiki-he mw-list-item\"><a href=\"https://he.wikipedia.org/wiki/\" title=\"Hebrew\" lang=\"he\" hreflang=\"he\" class=\"interlanguage-link-target\">\\xd7\\xa2\\xd7\\x91\\xd7\\xa8\\xd7\\x99\\xd7\\xaa</a></li><li class=\"interlanguage-link interwiki-ka mw-list-item\"><a href=\"https://ka.wikipedia.org/wiki/\" title=\"Georgian\" lang=\"ka\" hreflang=\"ka\" class=\"interlanguage-link-target\">\\xe1\\x83\\xa5\\xe1\\x83\\x90\\xe1\\x83\\xa0\\xe1\\x83\\x97\\xe1\\x83\\xa3\\xe1\\x83\\x9a\\xe1\\x83\\x98</a></li><li class=\"interlanguage-link interwiki-lv mw-list-item\"><a href=\"https://lv.wikipedia.org/wiki/\" title=\"Latvian\" lang=\"lv\" hreflang=\"lv\" class=\"interlanguage-link-target\">Latvie\\xc5\\xa1u</a></li><li class=\"interlanguage-link interwiki-lt mw-list-item\"><a href=\"https://lt.wikipedia.org/wiki/\" title=\"Lithuanian\" lang=\"lt\" hreflang=\"lt\" class=\"interlanguage-link-target\">Lietuvi\\xc5\\xb3</a></li><li class=\"interlanguage-link interwiki-hu mw-list-item\"><a href=\"https://hu.wikipedia.org/wiki/\" title=\"Hungarian\" lang=\"hu\" hreflang=\"hu\" class=\"interlanguage-link-target\">Magyar</a></li><li class=\"interlanguage-link interwiki-mk mw-list-item\"><a href=\"https://mk.wikipedia.org/wiki/\" title=\"Macedonian\" lang=\"mk\" hreflang=\"mk\" class=\"interlanguage-link-target\">\\xd0\\x9c\\xd0\\xb0\\xd0\\xba\\xd0\\xb5\\xd0\\xb4\\xd0\\xbe\\xd0\\xbd\\xd1\\x81\\xd0\\xba\\xd0\\xb8</a></li><li class=\"interlanguage-link interwiki-ms mw-list-item\"><a href=\"https://ms.wikipedia.org/wiki/\" title=\"Malay\" lang=\"ms\" hreflang=\"ms\" class=\"interlanguage-link-target\">Bahasa Melayu</a></li><li class=\"interlanguage-link interwiki-nl mw-list-item\"><a href=\"https://nl.wikipedia.org/wiki/\" title=\"Dutch\" lang=\"nl\" hreflang=\"nl\" class=\"interlanguage-link-target\">Nederlands</a></li><li class=\"interlanguage-link interwiki-ja mw-list-item\"><a href=\"https://ja.wikipedia.org/wiki/\" title=\"Japanese\" lang=\"ja\" hreflang=\"ja\" class=\"interlanguage-link-target\">\\xe6\\x97\\xa5\\xe6\\x9c\\xac\\xe8\\xaa\\x9e</a></li><li class=\"interlanguage-link interwiki-no mw-list-item\"><a href=\"https://no.wikipedia.org/wiki/\" title=\"Norwegian Bokm\\xc3\\xa5l\" lang=\"nb\" hreflang=\"nb\" class=\"interlanguage-link-target\">Norsk bokm\\xc3\\xa5l</a></li><li class=\"interlanguage-link interwiki-nn mw-list-item\"><a href=\"https://nn.wikipedia.org/wiki/\" title=\"Norwegian Nynorsk\" lang=\"nn\" hreflang=\"nn\" class=\"interlanguage-link-target\">Norsk nynorsk</a></li><li class=\"interlanguage-link interwiki-pl mw-list-item\"><a href=\"https://pl.wikipedia.org/wiki/\" title=\"Polish\" lang=\"pl\" hreflang=\"pl\" class=\"interlanguage-link-target\">Polski</a></li><li class=\"interlanguage-link interwiki-pt mw-list-item\"><a href=\"https://pt.wikipedia.org/wiki/\" title=\"Portuguese\" lang=\"pt\" hreflang=\"pt\" class=\"interlanguage-link-target\">Portugu\\xc3\\xaas</a></li><li class=\"interlanguage-link interwiki-ro mw-list-item\"><a href=\"https://ro.wikipedia.org/wiki/\" title=\"Romanian\" lang=\"ro\" hreflang=\"ro\" class=\"interlanguage-link-target\">Rom\\xc3\\xa2n\\xc4\\x83</a></li><li class=\"interlanguage-link interwiki-ru mw-list-item\"><a href=\"https://ru.wikipedia.org/wiki/\" title=\"Russian\" lang=\"ru\" hreflang=\"ru\" class=\"interlanguage-link-target\">\\xd0\\xa0\\xd1\\x83\\xd1\\x81\\xd1\\x81\\xd0\\xba\\xd0\\xb8\\xd0\\xb9</a></li><li class=\"interlanguage-link interwiki-simple mw-list-item\"><a href=\"https://simple.wikipedia.org/wiki/\" title=\"Simple English\" lang=\"en-simple\" hreflang=\"en-simple\" class=\"interlanguage-link-target\">Simple English</a></li><li class=\"interlanguage-link interwiki-sk mw-list-item\"><a href=\"https://sk.wikipedia.org/wiki/\" title=\"Slovak\" lang=\"sk\" hreflang=\"sk\" class=\"interlanguage-link-target\">Sloven\\xc4\\x8dina</a></li><li class=\"interlanguage-link interwiki-sl mw-list-item\"><a href=\"https://sl.wikipedia.org/wiki/\" title=\"Slovenian\" lang=\"sl\" hreflang=\"sl\" class=\"interlanguage-link-target\">Sloven\\xc5\\xa1\\xc4\\x8dina</a></li><li class=\"interlanguage-link interwiki-sr mw-list-item\"><a href=\"https://sr.wikipedia.org/wiki/\" title=\"Serbian\" lang=\"sr\" hreflang=\"sr\" class=\"interlanguage-link-target\">\\xd0\\xa1\\xd1\\x80\\xd0\\xbf\\xd1\\x81\\xd0\\xba\\xd0\\xb8 / srpski</a></li><li class=\"interlanguage-link interwiki-sh mw-list-item\"><a href=\"https://sh.wikipedia.org/wiki/\" title=\"Serbo-Croatian\" lang=\"sh\" hreflang=\"sh\" class=\"interlanguage-link-target\">Srpskohrvatski / \\xd1\\x81\\xd1\\x80\\xd0\\xbf\\xd1\\x81\\xd0\\xba\\xd0\\xbe\\xd1\\x85\\xd1\\x80\\xd0\\xb2\\xd0\\xb0\\xd1\\x82\\xd1\\x81\\xd0\\xba\\xd0\\xb8</a></li><li class=\"interlanguage-link interwiki-fi mw-list-item\"><a href=\"https://fi.wikipedia.org/wiki/\" title=\"Finnish\" lang=\"fi\" hreflang=\"fi\" class=\"interlanguage-link-target\">Suomi</a></li><li class=\"interlanguage-link interwiki-sv mw-list-item\"><a href=\"https://sv.wikipedia.org/wiki/\" title=\"Swedish\" lang=\"sv\" hreflang=\"sv\" class=\"interlanguage-link-target\">Svenska</a></li><li class=\"interlanguage-link interwiki-th mw-list-item\"><a href=\"https://th.wikipedia.org/wiki/\" title=\"Thai\" lang=\"th\" hreflang=\"th\" class=\"interlanguage-link-target\">\\xe0\\xb9\\x84\\xe0\\xb8\\x97\\xe0\\xb8\\xa2</a></li><li class=\"interlanguage-link interwiki-tr mw-list-item\"><a href=\"https://tr.wikipedia.org/wiki/\" title=\"Turkish\" lang=\"tr\" hreflang=\"tr\" class=\"interlanguage-link-target\">T\\xc3\\xbcrk\\xc3\\xa7e</a></li><li class=\"interlanguage-link interwiki-uk mw-list-item\"><a href=\"https://uk.wikipedia.org/wiki/\" title=\"Ukrainian\" lang=\"uk\" hreflang=\"uk\" class=\"interlanguage-link-target\">\\xd0\\xa3\\xd0\\xba\\xd1\\x80\\xd0\\xb0\\xd1\\x97\\xd0\\xbd\\xd1\\x81\\xd1\\x8c\\xd0\\xba\\xd0\\xb0</a></li><li class=\"interlanguage-link interwiki-vi mw-list-item\"><a href=\"https://vi.wikipedia.org/wiki/\" title=\"Vietnamese\" lang=\"vi\" hreflang=\"vi\" class=\"interlanguage-link-target\">Ti\\xe1\\xba\\xbfng Vi\\xe1\\xbb\\x87t</a></li><li class=\"interlanguage-link interwiki-zh mw-list-item\"><a href=\"https://zh.wikipedia.org/wiki/\" title=\"Chinese\" lang=\"zh\" hreflang=\"zh\" class=\"interlanguage-link-target\">\\xe4\\xb8\\xad\\xe6\\x96\\x87</a></li></ul>\\n\\t\\t\\n\\t</div>\\n</nav>\\n\\n</div>\\n\\n</div>\\n<footer id=\"footer\" class=\"mw-footer\" role=\"contentinfo\" >\\n\\t<ul id=\"footer-info\" >\\n\\t<li id=\"footer-info-lastmod\"> This page was last edited on 3 February 2021, at 11:11<span class=\"anonymous-show\">&#160;(UTC)</span>.</li>\\n\\t<li id=\"footer-info-copyright\">Text is available under the <a rel=\"license\" href=\"//en.wikipedia.org/wiki/Wikipedia:Text_of_Creative_Commons_Attribution-ShareAlike_3.0_Unported_License\">Creative Commons Attribution-ShareAlike License</a><a rel=\"license\" href=\"//creativecommons.org/licenses/by-sa/3.0/\" style=\"display:none;\"></a>;\\nadditional terms may apply.  By using this site, you agree to the <a href=\"//foundation.wikimedia.org/wiki/Terms_of_Use\">Terms of Use</a> and <a href=\"//foundation.wikimedia.org/wiki/Privacy_policy\">Privacy Policy</a>. Wikipedia\\xc2\\xae is a registered trademark of the <a href=\"//www.wikimediafoundation.org/\">Wikimedia Foundation, Inc.</a>, a non-profit organization.</li>\\n</ul>\\n\\n\\t<ul id=\"footer-places\" >\\n\\t<li id=\"footer-places-privacy\"><a href=\"https://foundation.wikimedia.org/wiki/Privacy_policy\" class=\"extiw\" title=\"wmf:Privacy policy\">Privacy policy</a></li>\\n\\t<li id=\"footer-places-about\"><a href=\"/wiki/Wikipedia:About\" title=\"Wikipedia:About\">About Wikipedia</a></li>\\n\\t<li id=\"footer-places-disclaimer\"><a href=\"/wiki/Wikipedia:General_disclaimer\" title=\"Wikipedia:General disclaimer\">Disclaimers</a></li>\\n\\t<li id=\"footer-places-contact\"><a href=\"//en.wikipedia.org/wiki/Wikipedia:Contact_us\">Contact Wikipedia</a></li>\\n\\t<li id=\"footer-places-mobileview\"><a href=\"//en.m.wikipedia.org/w/index.php?title=Main_Page&amp;mobileaction=toggle_view_mobile\" class=\"noprint stopMobileRedirectToggle\">Mobile view</a></li>\\n\\t<li id=\"footer-places-developers\"><a href=\"https://www.mediawiki.org/wiki/Special:MyLanguage/How_to_contribute\">Developers</a></li>\\n\\t<li id=\"footer-places-statslink\"><a href=\"https://stats.wikimedia.org/#/en.wikipedia.org\">Statistics</a></li>\\n\\t<li id=\"footer-places-cookiestatement\"><a href=\"https://foundation.wikimedia.org/wiki/Cookie_statement\">Cookie statement</a></li>\\n</ul>\\n\\n\\t<ul id=\"footer-icons\" class=\"noprint\">\\n\\t<li id=\"footer-copyrightico\"><a href=\"https://wikimediafoundation.org/\"><img src=\"/static/images/footer/wikimedia-button.png\" srcset=\"/static/images/footer/wikimedia-button-1.5x.png 1.5x, /static/images/footer/wikimedia-button-2x.png 2x\" width=\"88\" height=\"31\" alt=\"Wikimedia Foundation\" loading=\"lazy\" /></a></li>\\n\\t<li id=\"footer-poweredbyico\"><a href=\"https://www.mediawiki.org/\"><img src=\"/static/images/footer/poweredby_mediawiki_88x31.png\" alt=\"Powered by MediaWiki\" srcset=\"/static/images/footer/poweredby_mediawiki_132x47.png 1.5x, /static/images/footer/poweredby_mediawiki_176x62.png 2x\" width=\"88\" height=\"31\" loading=\"lazy\"/></a></li>\\n</ul>\\n\\n</footer>\\n\\n\\n<script>(RLQ=window.RLQ||[]).push(function(){mw.config.set({\"wgPageParseReport\":{\"limitreport\":{\"cputime\":\"0.471\",\"walltime\":\"0.583\",\"ppvisitednodes\":{\"value\":4339,\"limit\":1000000},\"postexpandincludesize\":{\"value\":133347,\"limit\":2097152},\"templateargumentsize\":{\"value\":10205,\"limit\":2097152},\"expansiondepth\":{\"value\":23,\"limit\":40},\"expensivefunctioncount\":{\"value\":15,\"limit\":500},\"unstrip-depth\":{\"value\":0,\"limit\":20},\"unstrip-size\":{\"value\":5370,\"limit\":5000000},\"entityaccesscount\":{\"value\":0,\"limit\":400},\"timingprofile\":[\"100.00%  423.805      1 -total\",\" 43.46%  184.206      1 Wikipedia:Main_Page/Tomorrow\",\" 40.72%  172.556      9 Template:Main_page_image\",\" 24.80%  105.116      9 Template:Str_number/trim\",\" 20.26%   85.856     27 Template:If_empty\",\" 18.44%   78.136      2 Template:Main_page_image/TFA\",\" 18.03%   76.391      1 Wikipedia:Today\\'s_featured_article/September_30,_2021\",\" 16.48%   69.858      1 Template:Did_you_know/Queue/5\",\" 12.11%   51.322      2 Template:Wikipedia_languages\",\" 11.82%   50.111      1 Wikipedia:Selected_anniversaries/September_30\"]},\"scribunto\":{\"limitreport-timeusage\":{\"value\":\"0.107\",\"limit\":\"10.000\"},\"limitreport-memusage\":{\"value\":2363401,\"limit\":52428800}},\"cachereport\":{\"origin\":\"mw1353\",\"timestamp\":\"20210930000710\",\"ttl\":3600,\"transientcontent\":true}}});});</script>\\n<script type=\"application/ld+json\">{\"@context\":\"https:\\\\/\\\\/schema.org\",\"@type\":\"Article\",\"name\":\"Main Page\",\"url\":\"https:\\\\/\\\\/en.wikipedia.org\\\\/wiki\\\\/Main_Page\",\"sameAs\":\"http:\\\\/\\\\/www.wikidata.org\\\\/entity\\\\/Q5296\",\"mainEntity\":\"http:\\\\/\\\\/www.wikidata.org\\\\/entity\\\\/Q5296\",\"author\":{\"@type\":\"Organization\",\"name\":\"Contributors to Wikimedia projects\"},\"publisher\":{\"@type\":\"Organization\",\"name\":\"Wikimedia Foundation, Inc.\",\"logo\":{\"@type\":\"ImageObject\",\"url\":\"https:\\\\/\\\\/www.wikimedia.org\\\\/static\\\\/images\\\\/wmf-hor-googpub.png\"}},\"datePublished\":\"2002-01-26T15:28:12Z\",\"dateModified\":\"2021-02-03T11:11:30Z\",\"image\":\"https:\\\\/\\\\/upload.wikimedia.org\\\\/wikipedia\\\\/commons\\\\/e\\\\/ee\\\\/Wall_Painting_of_Muhammad_al-Durrah_who_Killed_by_the_Israeli_Occupation_forces.jpg\",\"headline\":\"Wikimedia project page\"}</script>\\n<script>(RLQ=window.RLQ||[]).push(function(){mw.config.set({\"wgBackendResponseTime\":117,\"wgHostname\":\"mw1431\"});});</script>\\n</body></html>'"
      ]
     },
     "execution_count": 3,
     "metadata": {},
     "output_type": "execute_result"
    }
   ],
   "source": [
    "data.content #displaying all the content fetched from the page "
   ]
  },
  {
   "cell_type": "code",
   "execution_count": 4,
   "metadata": {},
   "outputs": [],
   "source": [
    "soup=BeautifulSoup(data.content) # intitiating bs  with data from the page \n",
    "tags=soup.find_all(\"span\",class_=\"mw-headline\")  "
   ]
  },
  {
   "cell_type": "code",
   "execution_count": 5,
   "metadata": {},
   "outputs": [
    {
     "data": {
      "text/plain": [
       "[<span class=\"mw-headline\" id=\"From_today's_featured_article\">From today's featured article</span>,\n",
       " <span class=\"mw-headline\" id=\"Did_you_know_...\">Did you know ...</span>,\n",
       " <span class=\"mw-headline\" id=\"In_the_news\">In the news</span>,\n",
       " <span class=\"mw-headline\" id=\"On_this_day\">On this day</span>,\n",
       " <span class=\"mw-headline\" id=\"Today's_featured_picture\">Today's featured picture</span>,\n",
       " <span class=\"mw-headline\" id=\"Other_areas_of_Wikipedia\">Other areas of Wikipedia</span>,\n",
       " <span class=\"mw-headline\" id=\"Wikipedia's_sister_projects\">Wikipedia's sister projects</span>,\n",
       " <span class=\"mw-headline\" id=\"Wikipedia_languages\">Wikipedia languages</span>]"
      ]
     },
     "execution_count": 5,
     "metadata": {},
     "output_type": "execute_result"
    }
   ],
   "source": [
    "tags"
   ]
  },
  {
   "cell_type": "code",
   "execution_count": 6,
   "metadata": {},
   "outputs": [
    {
     "name": "stdout",
     "output_type": "stream",
     "text": [
      "<bound method Tag.prettify of <!DOCTYPE html>\n",
      "<html class=\"client-nojs\" dir=\"ltr\" lang=\"en\">\n",
      "<head>\n",
      "<meta charset=\"utf-8\"/>\n",
      "<title>Wikipedia, the free encyclopedia</title>\n",
      "<script>document.documentElement.className=\"client-js\";RLCONF={\"wgBreakFrames\":!1,\"wgSeparatorTransformTable\":[\"\",\"\"],\"wgDigitTransformTable\":[\"\",\"\"],\"wgDefaultDateFormat\":\"dmy\",\"wgMonthNames\":[\"\",\"January\",\"February\",\"March\",\"April\",\"May\",\"June\",\"July\",\"August\",\"September\",\"October\",\"November\",\"December\"],\"wgRequestId\":\"1aa30443-fcc8-4523-bd2d-8601931d8f9c\",\"wgCSPNonce\":!1,\"wgCanonicalNamespace\":\"\",\"wgCanonicalSpecialPageName\":!1,\"wgNamespaceNumber\":0,\"wgPageName\":\"Main_Page\",\"wgTitle\":\"Main Page\",\"wgCurRevisionId\":1004593520,\"wgRevisionId\":1004593520,\"wgArticleId\":15580374,\"wgIsArticle\":!0,\"wgIsRedirect\":!1,\"wgAction\":\"view\",\"wgUserName\":null,\"wgUserGroups\":[\"*\"],\"wgCategories\":[],\"wgPageContentLanguage\":\"en\",\"wgPageContentModel\":\"wikitext\",\"wgRelevantPageName\":\"Main_Page\",\"wgRelevantArticleId\":15580374,\"wgIsProbablyEditable\":!1,\"wgRelevantPageIsProbablyEditable\":!1,\"wgRestrictionEdit\":[\"sysop\"],\"wgRestrictionMove\":[\"sysop\"],\"wgIsMainPage\":!0,\"wgFlaggedRevsParams\":{\n",
      "\"tags\":{\"status\":{\"levels\":-1}}},\"wgMediaViewerOnClick\":!0,\"wgMediaViewerEnabledByDefault\":!0,\"wgPopupsFlags\":10,\"wgVisualEditor\":{\"pageLanguageCode\":\"en\",\"pageLanguageDir\":\"ltr\",\"pageVariantFallbacks\":\"en\"},\"wgMFDisplayWikibaseDescriptions\":{\"search\":!0,\"nearby\":!0,\"watchlist\":!0,\"tagline\":!1},\"wgWMESchemaEditAttemptStepOversample\":!1,\"wgULSCurrentAutonym\":\"English\",\"wgNoticeProject\":\"wikipedia\",\"wgEditSubmitButtonLabelPublish\":!0,\"wgULSPosition\":\"interlanguage\",\"wgULSisCompactLinksEnabled\":!0,\"wgGENewcomerTasksGuidanceEnabled\":!0,\"wgGEAskQuestionEnabled\":!1,\"wgGELinkRecommendationsFrontendEnabled\":!1,\"wgCentralAuthMobileDomain\":!1,\"wgWikibaseItemId\":\"Q5296\"};RLSTATE={\"ext.globalCssJs.user.styles\":\"ready\",\"site.styles\":\"ready\",\"noscript\":\"ready\",\"user.styles\":\"ready\",\"ext.globalCssJs.user\":\"ready\",\"user\":\"ready\",\"user.options\":\"loading\",\"skins.vector.styles.legacy\":\"ready\",\"ext.visualEditor.desktopArticleTarget.noscript\":\"ready\",\"ext.uls.interlanguage\":\n",
      "\"ready\",\"ext.wikimediaBadges\":\"ready\"};RLPAGEMODULES=[\"site\",\"mediawiki.page.ready\",\"skins.vector.legacy.js\",\"ext.gadget.ReferenceTooltips\",\"ext.gadget.charinsert\",\"ext.gadget.extra-toolbar-buttons\",\"ext.gadget.refToolbar\",\"ext.gadget.switcher\",\"mmv.head\",\"mmv.bootstrap.autostart\",\"ext.popups\",\"ext.visualEditor.desktopArticleTarget.init\",\"ext.visualEditor.targetLoader\",\"ext.eventLogging\",\"ext.wikimediaEvents\",\"ext.navigationTiming\",\"ext.uls.interface\",\"ext.cx.eventlogging.campaigns\",\"ext.centralNotice.geoIP\",\"ext.centralNotice.startUp\",\"ext.centralauth.centralautologin\",\"ext.growthExperiments.SuggestedEditSession\"];</script>\n",
      "<script>(RLQ=window.RLQ||[]).push(function(){mw.loader.implement(\"user.options@1hzgi\",function($,jQuery,require,module){/*@nomin*/mw.user.tokens.set({\"patrolToken\":\"+\\\\\",\"watchToken\":\"+\\\\\",\"csrfToken\":\"+\\\\\"});\n",
      "});});</script>\n",
      "<link href=\"/w/load.php?lang=en&amp;modules=ext.uls.interlanguage%7Cext.visualEditor.desktopArticleTarget.noscript%7Cext.wikimediaBadges%7Cskins.vector.styles.legacy&amp;only=styles&amp;skin=vector\" rel=\"stylesheet\"/>\n",
      "<script async=\"\" src=\"/w/load.php?lang=en&amp;modules=startup&amp;only=scripts&amp;raw=1&amp;skin=vector\"></script>\n",
      "<meta content=\"\" name=\"ResourceLoaderDynamicStyles\"/>\n",
      "<link href=\"/w/load.php?lang=en&amp;modules=site.styles&amp;only=styles&amp;skin=vector\" rel=\"stylesheet\"/>\n",
      "<meta content=\"MediaWiki 1.38.0-wmf.1\" name=\"generator\"/>\n",
      "<meta content=\"origin\" name=\"referrer\"/>\n",
      "<meta content=\"origin-when-crossorigin\" name=\"referrer\"/>\n",
      "<meta content=\"origin-when-cross-origin\" name=\"referrer\"/>\n",
      "<meta content=\"telephone=no\" name=\"format-detection\"/>\n",
      "<meta content=\"https://upload.wikimedia.org/wikipedia/commons/e/ee/Wall_Painting_of_Muhammad_al-Durrah_who_Killed_by_the_Israeli_Occupation_forces.jpg\" property=\"og:image\"/>\n",
      "<meta content=\"Wikipedia, the free encyclopedia\" property=\"og:title\"/>\n",
      "<meta content=\"website\" property=\"og:type\"/>\n",
      "<link href=\"//upload.wikimedia.org\" rel=\"preconnect\"/>\n",
      "<link href=\"//en.m.wikipedia.org/wiki/Main_Page\" media=\"only screen and (max-width: 720px)\" rel=\"alternate\"/>\n",
      "<link href=\"/w/api.php?action=featuredfeed&amp;feed=potd&amp;feedformat=atom\" rel=\"alternate\" title=\"Wikipedia picture of the day feed\" type=\"application/atom+xml\"/>\n",
      "<link href=\"/w/api.php?action=featuredfeed&amp;feed=featured&amp;feedformat=atom\" rel=\"alternate\" title=\"Wikipedia featured articles feed\" type=\"application/atom+xml\"/>\n",
      "<link href=\"/w/api.php?action=featuredfeed&amp;feed=onthisday&amp;feedformat=atom\" rel=\"alternate\" title='Wikipedia \"On this day...\" feed' type=\"application/atom+xml\"/>\n",
      "<link href=\"/static/apple-touch/wikipedia.png\" rel=\"apple-touch-icon\"/>\n",
      "<link href=\"/static/favicon/wikipedia.ico\" rel=\"shortcut icon\"/>\n",
      "<link href=\"/w/opensearch_desc.php\" rel=\"search\" title=\"Wikipedia (en)\" type=\"application/opensearchdescription+xml\"/>\n",
      "<link href=\"//en.wikipedia.org/w/api.php?action=rsd\" rel=\"EditURI\" type=\"application/rsd+xml\"/>\n",
      "<link href=\"//creativecommons.org/licenses/by-sa/3.0/\" rel=\"license\"/>\n",
      "<link href=\"https://en.wikipedia.org/wiki/Main_Page\" rel=\"canonical\"/>\n",
      "<link href=\"//meta.wikimedia.org\" rel=\"dns-prefetch\"/>\n",
      "<link href=\"//login.wikimedia.org\" rel=\"dns-prefetch\"/>\n",
      "</head>\n",
      "<body class=\"mediawiki ltr sitedir-ltr mw-hide-empty-elt ns-0 ns-subject page-Main_Page rootpage-Main_Page skin-vector action-view skin-vector-legacy\"><div class=\"noprint\" id=\"mw-page-base\"></div>\n",
      "<div class=\"noprint\" id=\"mw-head-base\"></div>\n",
      "<div class=\"mw-body\" id=\"content\" role=\"main\">\n",
      "<a id=\"top\"></a>\n",
      "<div id=\"siteNotice\"><!-- CentralNotice --></div>\n",
      "<div class=\"mw-indicators\">\n",
      "</div>\n",
      "<h1 class=\"firstHeading\" id=\"firstHeading\">Main Page</h1>\n",
      "<div class=\"vector-body\" id=\"bodyContent\">\n",
      "<div class=\"noprint\" id=\"siteSub\">From Wikipedia, the free encyclopedia</div>\n",
      "<div id=\"contentSub\"></div>\n",
      "<div id=\"contentSub2\"></div>\n",
      "<div id=\"jump-to-nav\"></div>\n",
      "<a class=\"mw-jump-link\" href=\"#mw-head\">Jump to navigation</a>\n",
      "<a class=\"mw-jump-link\" href=\"#searchInput\">Jump to search</a>\n",
      "<div class=\"mw-body-content mw-content-ltr\" dir=\"ltr\" id=\"mw-content-text\" lang=\"en\"><div class=\"mw-parser-output\"><style data-mw-deduplicate=\"TemplateStyles:r1004580458\">.mw-parser-output #mp-topbanner{position:relative;box-sizing:border-box;min-width:47em;border-color:#ddd;background-color:#f9f9f9;white-space:nowrap}.mw-parser-output .mp-bordered,.mw-parser-output .mp-h2,body.skin-timeless .mw-parser-output .mp-h2{border-width:1px;border-style:solid}.mw-parser-output #mp-topbanner,.mw-parser-output .mp-h2,.mw-parser-output #mp-left{color:#000}.mw-parser-output #mp-welcomecount{margin:0.4em;width:22em;text-align:center}.mw-parser-output #mp-welcome{font-size:162%;padding:0.1em}.mw-parser-output #mp-free{font-size:95%}.mw-parser-output #articlecount{font-size:85%}.mw-parser-output #mp-portals{position:absolute;right:-1em;top:50%;margin-top:-2.4em;width:38%;min-width:25em;font-size:95%}.mw-parser-output #mp-portals li{position:absolute;left:0;top:0}.mw-parser-output #mp-portals .portal-hmid{left:33%}.mw-parser-output #mp-portals .portal-hright{left:66%}.mw-parser-output #mp-portals .portal-vmid{top:1.6em}.mw-parser-output #mp-portals .portal-vbot{top:3.2em}.mw-parser-output #mp-portals li:last-child{font-weight:bold}.mw-parser-output #mp-banner{margin-top:4px;padding:0.5em;background-color:#fffaf5;border-color:#f2e0ce}.mw-parser-output .mp-h2,body.skin-timeless .mw-parser-output .mp-h2{margin:0.5em;padding:0.2em 0.4em;font-size:120%;font-weight:bold;font-family:inherit}.mw-parser-output h2.mp-h2::after{border:none}.mw-parser-output .mp-later{font-size:85%;font-weight:normal}.mw-parser-output #mp-upper{width:100%;margin-top:4px;margin-bottom:0;border-spacing:0;border-collapse:separate}.mw-parser-output #mp-upper .mid-table{border-color:transparent}.mw-parser-output #mp-left{width:55%;border-color:#cef2e0;background:#f5fffa}.mw-parser-output #mp-right{width:45%;border-color:#cedff2;background:#f5faff}.mw-parser-output #mp-left,.mw-parser-output #mp-right{padding:0;vertical-align:top}.mw-parser-output #mp-left .mp-h2{background:#cef2e0;border-color:#a3bfb1}.mw-parser-output #mp-right .mp-h2{background:#cedff2;border-color:#a3b0bf}.mw-parser-output #mp-tfa,.mw-parser-output #mp-dyk,.mw-parser-output #mp-itn,.mw-parser-output #mp-otd,.mw-parser-output #mp-other-lower>div{padding:0.1em 0.6em}.mw-parser-output #mp-dyk-h2,.mw-parser-output #mp-otd-h2{clear:both}.mw-parser-output #mp-middle{margin-top:4px;border-color:#f2cedd;background:#fff5fa}.mw-parser-output #mp-middle,.mw-parser-output #mp-lower,.mw-parser-output #mp-other-lower{overflow:auto}.mw-parser-output #mp-tfl-h2{background:#f2cedd;border-color:#bfa3af}.mw-parser-output #mp-tfl{padding:0.3em 0.7em}.mw-parser-output #mp-lower{margin-top:4px;border-color:#ddcef2;background:#faf5ff}.mw-parser-output #mp-tfp-h2{background:#ddcef2;border-color:#afa3bf}.mw-parser-output #mp-tfp{margin:0.1em 0.4em 0.6em}.mw-parser-output #mp-other-lower{padding:0;border-color:#e2e2e2;margin-top:4px}.mw-parser-output #mp-dyk,.mw-parser-output #mp-otd,.mw-parser-output #mp-other-lower{padding-bottom:0.5em}.mw-parser-output #mp-other-lower .mp-h2{background:#eee;border-color:#ddd;color:#222}@media(max-width:875px){body.skin--responsive .mw-parser-output #mp-welcomecount{width:auto}body.skin--responsive .mw-parser-output #mp-topbanner{min-width:0;white-space:normal}body.skin--responsive .mw-parser-output #mp-portals{position:static;width:auto;min-width:0;text-align:center;border-top:1px solid #ddd;padding:0.4em 0;margin:0 0.4em}body.skin--responsive .mw-parser-output #mp-portals li{position:static;display:inline;padding:0 5px;white-space:nowrap}body.skin--responsive .mw-parser-output table,body.skin--responsive .mw-parser-output tr,body.skin--responsive .mw-parser-output td,body.skin--responsive .mw-parser-output tbody{display:block!important;width:100%!important;box-sizing:border-box}body.skin--responsive .mw-parser-output #mp-tfp tr:first-child td:first-child a{text-align:center;display:table;margin:0 auto}}</style>\n",
      "<div class=\"mp-bordered\" id=\"mp-topbanner\">\n",
      "<div id=\"mp-welcomecount\">\n",
      "<div id=\"mp-welcome\">Welcome to <a href=\"/wiki/Wikipedia\" title=\"Wikipedia\">Wikipedia</a>,</div>\n",
      "<div id=\"mp-free\">the <a href=\"/wiki/Free_content\" title=\"Free content\">free</a> <a href=\"/wiki/Encyclopedia\" title=\"Encyclopedia\">encyclopedia</a> that <a href=\"/wiki/Help:Introduction_to_Wikipedia\" title=\"Help:Introduction to Wikipedia\">anyone can edit</a>.</div>\n",
      "<div id=\"articlecount\"><a href=\"/wiki/Special:Statistics\" title=\"Special:Statistics\">6,384,932</a> articles in <a href=\"/wiki/English_language\" title=\"English language\">English</a></div>\n",
      "</div>\n",
      "<ul id=\"mp-portals\">\n",
      "<li><a href=\"/wiki/Portal:The_arts\" title=\"Portal:The arts\">The arts</a></li>\n",
      "<li class=\"portal-vmid\"><a href=\"/wiki/Portal:Biography\" title=\"Portal:Biography\">Biography</a></li>\n",
      "<li class=\"portal-vbot\"><a href=\"/wiki/Portal:Geography\" title=\"Portal:Geography\">Geography</a></li>\n",
      "<li class=\"portal-hmid\"><a href=\"/wiki/Portal:History\" title=\"Portal:History\">History</a></li>\n",
      "<li class=\"portal-hmid portal-vmid\"><a href=\"/wiki/Portal:Mathematics\" title=\"Portal:Mathematics\">Mathematics</a></li>\n",
      "<li class=\"portal-hmid portal-vbot\"><a href=\"/wiki/Portal:Science\" title=\"Portal:Science\">Science</a></li>\n",
      "<li class=\"portal-hright\"><a href=\"/wiki/Portal:Society\" title=\"Portal:Society\">Society</a></li>\n",
      "<li class=\"portal-hright portal-vmid\"><a href=\"/wiki/Portal:Technology\" title=\"Portal:Technology\">Technology</a></li>\n",
      "<li class=\"portal-hright portal-vbot\"><a href=\"/wiki/Wikipedia:Contents/Portals\" title=\"Wikipedia:Contents/Portals\">All portals</a></li>\n",
      "</ul>\n",
      "</div>\n",
      "<table id=\"mp-upper\" role=\"presentation\">\n",
      "<tbody><tr>\n",
      "<td class=\"MainPageBG mp-bordered\" id=\"mp-left\">\n",
      "<h2 class=\"mp-h2\" id=\"mp-tfa-h2\"><span id=\"From_today.27s_featured_article\"></span><span class=\"mw-headline\" id=\"From_today's_featured_article\">From today's featured article</span></h2>\n",
      "<div id=\"mp-tfa\"><div id=\"mp-tfa-img\" style=\"float: left; margin: 0.5em 0.9em 0.4em 0em;\">\n",
      "<div class=\"thumbinner mp-thumb\" style=\"background: transparent; border: none; padding: 0; max-width: 163px;\">\n",
      "<a class=\"image\" href=\"/wiki/File:Wall_Painting_of_Muhammad_al-Durrah_who_Killed_by_the_Israeli_Occupation_forces.jpg\" title=\"Wall painting of the incident in Gaza\"><img alt=\"Wall painting of the incident in Gaza\" data-file-height=\"577\" data-file-width=\"782\" decoding=\"async\" height=\"120\" src=\"//upload.wikimedia.org/wikipedia/commons/thumb/e/ee/Wall_Painting_of_Muhammad_al-Durrah_who_Killed_by_the_Israeli_Occupation_forces.jpg/163px-Wall_Painting_of_Muhammad_al-Durrah_who_Killed_by_the_Israeli_Occupation_forces.jpg\" srcset=\"//upload.wikimedia.org/wikipedia/commons/thumb/e/ee/Wall_Painting_of_Muhammad_al-Durrah_who_Killed_by_the_Israeli_Occupation_forces.jpg/245px-Wall_Painting_of_Muhammad_al-Durrah_who_Killed_by_the_Israeli_Occupation_forces.jpg 1.5x, //upload.wikimedia.org/wikipedia/commons/thumb/e/ee/Wall_Painting_of_Muhammad_al-Durrah_who_Killed_by_the_Israeli_Occupation_forces.jpg/326px-Wall_Painting_of_Muhammad_al-Durrah_who_Killed_by_the_Israeli_Occupation_forces.jpg 2x\" width=\"163\"/></a><div class=\"thumbcaption\" style=\"padding: 0.25em 0; word-wrap: break-word;\">Wall painting of the incident in Gaza</div></div>\n",
      "</div>\n",
      "<p>The <b><a href=\"/wiki/Killing_of_Muhammad_al-Durrah\" title=\"Killing of Muhammad al-Durrah\">killing of Muhammad al-Durrah</a></b> took place in the <a href=\"/wiki/Gaza_Strip\" title=\"Gaza Strip\">Gaza Strip</a> on 30 September 2000, during the widespread protests and riots of the <a href=\"/wiki/Second_Intifada\" title=\"Second Intifada\">Second Intifada</a>. Jamal al-Durrah and his 12-year-old son Muhammad were filmed by Talal Abu Rahma, a Palestinian television cameraman freelancing for <a href=\"/wiki/France_2\" title=\"France 2\">France 2</a>, as the two were caught in crossfire between Israeli and Palestinian forces. The footage shows the pair crouching behind a concrete cylinder, the boy crying and the father waving, then a burst of gunfire and dust, with the boy slumping over. Some of the footage was broadcast  in France with a voiceover from <a href=\"/wiki/Charles_Enderlin\" title=\"Charles Enderlin\">Charles Enderlin</a>, who told viewers that the al-Durrahs had been the target of Israeli fire, killing the boy. This interpretation has been questioned by critics and by the <a href=\"/wiki/Israel_Defense_Forces\" title=\"Israel Defense Forces\">Israel Defense Forces</a>, which retracted an initial apology. After an emotional public funeral, Muhammad was hailed throughout the Muslim world as a <a href=\"/wiki/Shahid\" title=\"Shahid\">martyr</a>, with the scene appearing on postage stamps. (<b><a href=\"/wiki/Killing_of_Muhammad_al-Durrah\" title=\"Killing of Muhammad al-Durrah\">Full article...</a></b>)\n",
      "</p>\n",
      "<div class=\"tfa-recent\" style=\"text-align: right;\">\n",
      "Recently featured: <div class=\"hlist hlist-separated inline\">\n",
      "<ul><li><a href=\"/wiki/U-1-class_submarine_(Austria-Hungary)\" title=\"U-1-class submarine (Austria-Hungary)\"><i><span class=\"nowrap\">U-1</span></i>-class submarine (Austria-Hungary)</a></li>\n",
      "<li><a href=\"/wiki/Lettuce\" title=\"Lettuce\">Lettuce</a></li>\n",
      "<li><i><a href=\"/wiki/Transandinomys\" title=\"Transandinomys\">Transandinomys</a></i></li></ul>\n",
      "</div></div>\n",
      "<div class=\"tfa-footer hlist hlist-separated noprint\" style=\"text-align: right;\">\n",
      "<ul><li><b><a href=\"/wiki/Wikipedia:Today%27s_featured_article/September_2021\" title=\"Wikipedia:Today's featured article/September 2021\">Archive</a></b></li>\n",
      "<li><b><a class=\"extiw\" href=\"https://lists.wikimedia.org/mailman/listinfo/daily-article-l\" title=\"mail:daily-article-l\">By email</a></b></li>\n",
      "<li><b><a href=\"/wiki/Wikipedia:Featured_articles\" title=\"Wikipedia:Featured articles\">More featured articles</a></b></li></ul>\n",
      "</div></div>\n",
      "<h2 class=\"mp-h2\" id=\"mp-dyk-h2\"><span class=\"mw-headline\" id=\"Did_you_know_...\">Did you know ...</span></h2>\n",
      "<div id=\"mp-dyk\">\n",
      "<div class=\"dyk-img\" style=\"float: right; margin-left: 0.5em;\">\n",
      "<div class=\"thumbinner mp-thumb\" style=\"background: transparent; border: none; padding: 0; max-width: 151px;\">\n",
      "<a class=\"image\" href=\"/wiki/File:Antarctic_Fur_Seal_at_St._Andrews_Bay,_South_Georgia_(5846698672).jpg\" title=\"Antarctic fur seal\"><img alt=\"Antarctic fur seal\" data-file-height=\"3120\" data-file-width=\"3616\" decoding=\"async\" height=\"130\" src=\"//upload.wikimedia.org/wikipedia/commons/thumb/5/59/Antarctic_Fur_Seal_at_St._Andrews_Bay%2C_South_Georgia_%285846698672%29.jpg/151px-Antarctic_Fur_Seal_at_St._Andrews_Bay%2C_South_Georgia_%285846698672%29.jpg\" srcset=\"//upload.wikimedia.org/wikipedia/commons/thumb/5/59/Antarctic_Fur_Seal_at_St._Andrews_Bay%2C_South_Georgia_%285846698672%29.jpg/227px-Antarctic_Fur_Seal_at_St._Andrews_Bay%2C_South_Georgia_%285846698672%29.jpg 1.5x, //upload.wikimedia.org/wikipedia/commons/thumb/5/59/Antarctic_Fur_Seal_at_St._Andrews_Bay%2C_South_Georgia_%285846698672%29.jpg/302px-Antarctic_Fur_Seal_at_St._Andrews_Bay%2C_South_Georgia_%285846698672%29.jpg 2x\" width=\"151\"/></a><div class=\"thumbcaption\" style=\"padding: 0.25em 0; word-wrap: break-word;\">Antarctic fur seal</div></div>\n",
      "</div>\n",
      "<ul><li>... that <b><a href=\"/wiki/Nigel_Bonner\" title=\"Nigel Bonner\">Nigel Bonner</a></b>, an Antarctic marine mammal specialist and <a href=\"/wiki/Polar_Medal\" title=\"Polar Medal\">Polar Medal</a> recipient, researched the <a href=\"/wiki/Antarctic_fur_seal\" title=\"Antarctic fur seal\">Antarctic fur seal</a> and published \"the first modern scientific study of the species\" in 1968?</li>\n",
      "<li>... that the South American plant <i><b><a href=\"/wiki/Phyla_canescens\" title=\"Phyla canescens\">Phyla canescens</a></b></i> has invaded wetlands and floodplains in the <a href=\"/wiki/Murray_Darling\" title=\"Murray Darling\">Murray Darling</a> basin of Australia?</li>\n",
      "<li>... that <b><a href=\"/wiki/Winchester_Highlands_station\" title=\"Winchester Highlands station\">Winchester Highlands station</a></b> was used for church meetings in the 1880s?</li>\n",
      "<li>... that <b><a href=\"/wiki/Bob_Jahnke\" title=\"Bob Jahnke\">Bob Jahnke</a></b> started the first <a href=\"/wiki/M%C4%81ori_culture\" title=\"Māori culture\">Māori</a> visual arts degree programme in New Zealand in 1991?</li>\n",
      "<li>... that Kathryn Gromatski was the first <b><a href=\"/wiki/Miss_Wool_of_America_Pageant\" title=\"Miss Wool of America Pageant\">Miss Wool</a></b> of Texas in 1952?</li>\n",
      "<li>... that <b><a href=\"/wiki/Zhang_Shangwu\" title=\"Zhang Shangwu\">Zhang Shangwu</a></b>, a two-time gold medal <a href=\"/wiki/Gymnastics\" title=\"Gymnastics\">gymnast</a> at the <a href=\"/wiki/Universiade\" title=\"Universiade\">Universiade</a>, turned to stealing and begging in the streets after his competitive career ended with an injury?</li>\n",
      "<li>... that <a href=\"/wiki/The_Rolling_Stones\" title=\"The Rolling Stones\">The Rolling Stones</a>' single \"<b><a href=\"/wiki/Good_Time_Women\" title=\"Good Time Women\">Good Time Women</a></b>\", released in 2010, formed the basis for their 1972 hit single \"<a href=\"/wiki/Tumbling_Dice\" title=\"Tumbling Dice\">Tumbling Dice</a>\"?</li>\n",
      "<li>... that criticism of <a href=\"/wiki/Armchair_theorizing\" title=\"Armchair theorizing\">armchair theorizing</a> in anthropology has resulted in scholars \"coming down <b><a href=\"/wiki/Off_the_verandah\" title=\"Off the verandah\">off the verandah</a></b>\"?</li></ul>\n",
      "<div class=\"dyk-footer hlist noprint\" style=\"margin-top: 0.5em; text-align: right;\">\n",
      "<ul><li><b><a href=\"/wiki/Wikipedia:Recent_additions\" title=\"Wikipedia:Recent additions\">Archive</a></b></li>\n",
      "<li><b><a href=\"/wiki/Help:Your_first_article\" title=\"Help:Your first article\">Start a new article</a></b></li>\n",
      "<li><b><a href=\"/wiki/Template_talk:Did_you_know\" title=\"Template talk:Did you know\">Nominate an article</a></b></li></ul>\n",
      "</div>\n",
      "</div>\n",
      "</td>\n",
      "<td class=\"mp-bordered mid-table\">\n",
      "</td>\n",
      "<td class=\"MainPageBG mp-bordered\" id=\"mp-right\">\n",
      "<h2 class=\"mp-h2\" id=\"mp-itn-h2\"><span class=\"mw-headline\" id=\"In_the_news\">In the news</span></h2>\n",
      "<div id=\"mp-itn\"><div class=\"itn-img\" role=\"figure\" style=\"float: right; margin-left: 0.5em; margin-top: 0.2em;\">\n",
      "<div class=\"thumbinner mp-thumb\" style=\"background: transparent; border: none; padding: 0; max-width: 126px;\">\n",
      "<a class=\"image\" href=\"/wiki/File:Michael-Spavor-2010_(cropped).jpg\" title=\"Michael Spavor in 2010\"><img alt=\"Michael Spavor in 2010\" data-file-height=\"939\" data-file-width=\"755\" decoding=\"async\" height=\"157\" src=\"//upload.wikimedia.org/wikipedia/commons/thumb/7/78/Michael-Spavor-2010_%28cropped%29.jpg/126px-Michael-Spavor-2010_%28cropped%29.jpg\" srcset=\"//upload.wikimedia.org/wikipedia/commons/thumb/7/78/Michael-Spavor-2010_%28cropped%29.jpg/189px-Michael-Spavor-2010_%28cropped%29.jpg 1.5x, //upload.wikimedia.org/wikipedia/commons/thumb/7/78/Michael-Spavor-2010_%28cropped%29.jpg/252px-Michael-Spavor-2010_%28cropped%29.jpg 2x\" width=\"126\"/></a><div class=\"thumbcaption\" style=\"padding: 0.25em 0; word-wrap: break-word; text-align: left;\">Michael Spavor</div></div>\n",
      "</div>\n",
      "<ul><li>The <a href=\"/wiki/Social_Democratic_Party_of_Germany\" title=\"Social Democratic Party of Germany\">Social Democratic Party</a> wins the most seats in the <b><a href=\"/wiki/2021_German_federal_election\" title=\"2021 German federal election\">German federal election</a></b>.</li>\n",
      "<li>Canadians <a href=\"/wiki/Michael_Spavor\" title=\"Michael Spavor\">Michael Spavor</a> <i>(pictured)</i> and Michael Kovrig are <b><a href=\"/wiki/Detention_of_Michael_Spavor_and_Michael_Kovrig\" title=\"Detention of Michael Spavor and Michael Kovrig\">released from detention</a></b> in China shortly after the release of <a href=\"/wiki/Huawei\" title=\"Huawei\">Huawei</a> executive <b><a href=\"/wiki/Meng_Wanzhou\" title=\"Meng Wanzhou\">Meng Wanzhou</a></b> from house arrest in Canada.</li>\n",
      "<li>The <a href=\"/wiki/Liberal_Party_of_Canada\" title=\"Liberal Party of Canada\">Liberal Party of Canada</a>, led by <a href=\"/wiki/Justin_Trudeau\" title=\"Justin Trudeau\">Justin Trudeau</a>, is <b><a href=\"/wiki/2021_Canadian_federal_election\" title=\"2021 Canadian federal election\">re-elected</a></b> to a <a href=\"/wiki/Minority_government\" title=\"Minority government\">minority government</a>.</li>\n",
      "<li>Former <a href=\"/wiki/President_of_Algeria\" title=\"President of Algeria\">President of Algeria</a> <b><a href=\"/wiki/Abdelaziz_Bouteflika\" title=\"Abdelaziz Bouteflika\">Abdelaziz Bouteflika</a></b> dies at the age of 84.</li></ul>\n",
      "<div class=\"itn-footer\" style=\"margin-top: 0.5em;\">\n",
      "<div><b><a href=\"/wiki/Portal:Current_events\" title=\"Portal:Current events\">Ongoing</a></b>: <div class=\"hlist hlist-separated inline\">\n",
      "<ul><li><a href=\"/wiki/COVID-19_pandemic\" title=\"COVID-19 pandemic\">COVID-19 pandemic</a></li></ul></div></div>\n",
      "<div><b><a href=\"/wiki/Deaths_in_2021\" title=\"Deaths in 2021\">Recent deaths</a></b>: <div class=\"hlist hlist-separated inline\">\n",
      "<ul><li><a href=\"/wiki/Charles_Grier_Sellers\" title=\"Charles Grier Sellers\">Charles Grier Sellers</a></li>\n",
      "<li><a href=\"/wiki/Roger_Hunt\" title=\"Roger Hunt\">Roger Hunt</a></li>\n",
      "<li><a href=\"/wiki/Caressing_(horse)\" title=\"Caressing (horse)\">Caressing</a></li>\n",
      "<li><span class=\"nowrap\"><a href=\"/wiki/Charles_W._Mills\" title=\"Charles W. Mills\">Charles W. Mills</a></span></li>\n",
      "<li><a href=\"/wiki/Len_Ashurst\" title=\"Len Ashurst\">Len Ashurst</a></li>\n",
      "<li><a href=\"/wiki/Marcia_Freedman\" title=\"Marcia Freedman\">Marcia Freedman</a></li></ul></div></div></div>\n",
      "<div class=\"itn-footer hlist hlist-separated noprint\" style=\"text-align: right;\">\n",
      "<ul><li><b><a href=\"/wiki/Wikipedia:In_the_news/Candidates\" title=\"Wikipedia:In the news/Candidates\">Nominate an article</a></b></li></ul></div></div>\n",
      "<h2 class=\"mp-h2\" id=\"mp-otd-h2\"><span class=\"mw-headline\" id=\"On_this_day\">On this day</span></h2>\n",
      "<div id=\"mp-otd\">\n",
      "<p><b><a href=\"/wiki/September_30\" title=\"September 30\">September 30</a></b>: <b><a href=\"/wiki/Orange_Shirt_Day\" title=\"Orange Shirt Day\">Orange Shirt Day</a></b> in Canada\n",
      "</p>\n",
      "<div id=\"mp-otd-img\" style=\"float:right;margin-left:0.5em;\">\n",
      "<div class=\"thumbinner mp-thumb\" style=\"background: transparent; border: none; padding: 0; max-width: 205px;\">\n",
      "<a class=\"image\" href=\"/wiki/File:Hughes_experimental_copter.jpg\" title=\"AH-64 Apache prototype\"><img alt=\"AH-64 Apache prototype\" data-file-height=\"481\" data-file-width=\"1030\" decoding=\"async\" height=\"96\" src=\"//upload.wikimedia.org/wikipedia/commons/thumb/5/5c/Hughes_experimental_copter.jpg/205px-Hughes_experimental_copter.jpg\" srcset=\"//upload.wikimedia.org/wikipedia/commons/thumb/5/5c/Hughes_experimental_copter.jpg/308px-Hughes_experimental_copter.jpg 1.5x, //upload.wikimedia.org/wikipedia/commons/thumb/5/5c/Hughes_experimental_copter.jpg/410px-Hughes_experimental_copter.jpg 2x\" width=\"205\"/></a><div class=\"thumbcaption\" style=\"padding: 0.25em 0; word-wrap: break-word;\"><span class=\"nowrap\">AH-64</span> Apache prototype</div></div>\n",
      "</div>\n",
      "<ul><li><a href=\"/wiki/1551\" title=\"1551\">1551</a> – <a href=\"/wiki/Sue_Harukata\" title=\"Sue Harukata\">Sue Takafusa</a>, a retainer of the <a href=\"/wiki/%C5%8Cuchi_clan\" title=\"Ōuchi clan\">Ōuchi clan</a> in western Japan, <b><a href=\"/wiki/Tainei-ji_incident\" title=\"Tainei-ji incident\">led a coup</a></b> against the <i><a href=\"/wiki/Daimyo\" title=\"Daimyo\">daimyō</a></i> <a href=\"/wiki/%C5%8Cuchi_Yoshitaka\" title=\"Ōuchi Yoshitaka\">Ōuchi Yoshitaka</a>, leading to the latter's <a href=\"/wiki/Seppuku\" title=\"Seppuku\">forced suicide</a>.</li>\n",
      "<li><a href=\"/wiki/1882\" title=\"1882\">1882</a> – The <b><a href=\"/wiki/Vulcan_Street_Plant\" title=\"Vulcan Street Plant\">Vulcan Street Plant</a></b> in <a href=\"/wiki/Appleton,_Wisconsin\" title=\"Appleton, Wisconsin\">Appleton, Wisconsin</a>, the first <a href=\"/wiki/Hydroelectricity\" title=\"Hydroelectricity\">hydroelectric</a> central station to serve a system of private and commercial customers in North America, went online.</li>\n",
      "<li><a href=\"/wiki/1938\" title=\"1938\">1938</a> – <a href=\"/wiki/Adolf_Hitler\" title=\"Adolf Hitler\">Adolf Hitler</a>, <a href=\"/wiki/Benito_Mussolini\" title=\"Benito Mussolini\">Benito Mussolini</a>, <a href=\"/wiki/Neville_Chamberlain\" title=\"Neville Chamberlain\">Neville Chamberlain</a>, and <a href=\"/wiki/%C3%89douard_Daladier\" title=\"Édouard Daladier\">Édouard Daladier</a> signed the <b><a href=\"/wiki/Munich_Agreement\" title=\"Munich Agreement\">Munich Agreement</a></b>, stipulating that Czechoslovakia must cede the <a href=\"/wiki/Sudetenland\" title=\"Sudetenland\">Sudetenland</a> to Germany.</li>\n",
      "<li><a href=\"/wiki/1975\" title=\"1975\">1975</a> – The <b><a href=\"/wiki/Boeing_AH-64_Apache\" title=\"Boeing AH-64 Apache\">Boeing <span class=\"nowrap\">AH-64</span> Apache</a></b> <i>(example pictured)</i>, the primary <a href=\"/wiki/Attack_helicopter\" title=\"Attack helicopter\">attack helicopter</a> for a number of countries, made its first flight.</li>\n",
      "<li><a href=\"/wiki/2019\" title=\"2019\">2019</a> – President <a href=\"/wiki/Mart%C3%ADn_Vizcarra\" title=\"Martín Vizcarra\">Martín Vizcarra</a> dissolved the <a href=\"/wiki/Congress_of_the_Republic_of_Peru\" title=\"Congress of the Republic of Peru\">Congress of Peru</a>, resulting in <b><a href=\"/wiki/2019%E2%80%932020_Peruvian_constitutional_crisis\" title=\"2019–2020 Peruvian constitutional crisis\">a constitutional crisis</a></b>.</li></ul>\n",
      "<div class=\"hlist hlist-separated\" style=\"margin-top: 0.5em;\"><ul><li><b><a href=\"/wiki/Charlotte_Wolff\" title=\"Charlotte Wolff\">Charlotte Wolff</a></b>  (<abbr title=\"born\">b.</abbr> 1897)</li><li><b><a href=\"/wiki/Catie_Ball\" title=\"Catie Ball\">Catie Ball</a></b>  (<abbr title=\"born\">b.</abbr> 1951)</li><li><b><a href=\"/wiki/Anwar_al-Awlaki\" title=\"Anwar al-Awlaki\">Anwar al-Awlaki</a></b>  (<abbr title=\"died\">d.</abbr> 2011)</li></ul></div>\n",
      "<div style=\"margin-top: 0.5em;\">\n",
      "More anniversaries: <div class=\"hlist hlist-separated inline nowraplinks\">\n",
      "<ul><li><a href=\"/wiki/September_29\" title=\"September 29\">September 29</a></li>\n",
      "<li><b><a href=\"/wiki/September_30\" title=\"September 30\">September 30</a></b></li>\n",
      "<li><a href=\"/wiki/October_1\" title=\"October 1\">October 1</a></li></ul>\n",
      "</div></div>\n",
      "<div class=\"otd-footer hlist hlist-separated noprint\" style=\"text-align: right;\">\n",
      "<ul><li><b><a href=\"/wiki/Wikipedia:Selected_anniversaries/September\" title=\"Wikipedia:Selected anniversaries/September\">Archive</a></b></li>\n",
      "<li><b><a class=\"extiw\" href=\"https://lists.wikimedia.org/mailman/listinfo/daily-article-l\" title=\"mail:daily-article-l\">By email</a></b></li>\n",
      "<li><b><a href=\"/wiki/List_of_days_of_the_year\" title=\"List of days of the year\">List of days of the year</a></b></li></ul>\n",
      "</div></div>\n",
      "</td></tr></tbody></table>\n",
      "<div class=\"MainPageBG mp-bordered\" id=\"mp-lower\">\n",
      "<div id=\"mp-bottom\">\n",
      "<h2 class=\"mp-h2\" id=\"mp-tfp-h2\"><span id=\"Today.27s_featured_picture\"></span><span class=\"mw-headline\" id=\"Today's_featured_picture\">Today's featured picture</span></h2>\n",
      "<div id=\"mp-tfp\">\n",
      "<table role=\"presentation\" style=\"margin:0 3px 3px; width:100%; box-sizing:border-box; text-align:left; background-color:transparent; border-collapse:collapse;\">\n",
      "<tbody><tr>\n",
      "<td style=\"padding:0 0.9em 0 0; width:300px;\"><a class=\"image\" href=\"/wiki/File:Georges_Ernest_Boulanger_by_Atelier_Nadar.jpg\" title=\"Georges Ernest Boulanger\"><img alt=\"Georges Ernest Boulanger\" data-file-height=\"3395\" data-file-width=\"2417\" decoding=\"async\" height=\"421\" src=\"//upload.wikimedia.org/wikipedia/commons/thumb/f/f8/Georges_Ernest_Boulanger_by_Atelier_Nadar.jpg/300px-Georges_Ernest_Boulanger_by_Atelier_Nadar.jpg\" srcset=\"//upload.wikimedia.org/wikipedia/commons/thumb/f/f8/Georges_Ernest_Boulanger_by_Atelier_Nadar.jpg/450px-Georges_Ernest_Boulanger_by_Atelier_Nadar.jpg 1.5x, //upload.wikimedia.org/wikipedia/commons/thumb/f/f8/Georges_Ernest_Boulanger_by_Atelier_Nadar.jpg/600px-Georges_Ernest_Boulanger_by_Atelier_Nadar.jpg 2x\" width=\"300\"/></a>\n",
      "</td>\n",
      "<td style=\"padding:0 6px 0 0\">\n",
      "<p><b><a href=\"/wiki/Georges_Ernest_Boulanger\" title=\"Georges Ernest Boulanger\">Georges Ernest Boulanger</a></b> (29 April 1837 – 30 September 1891), nicknamed Général Revanche, was a French general and politician. An enormously popular public figure during the <a href=\"/wiki/French_Third_Republic\" title=\"French Third Republic\">Third Republic</a>, he won a series of elections and was feared to be powerful enough to establish himself as dictator at the zenith of his popularity in January 1889. This photograph of Boulanger was produced by the <a href=\"/wiki/Atelier\" title=\"Atelier\">atelier</a> of the French photographer <a href=\"/wiki/Nadar\" title=\"Nadar\">Nadar</a>.\n",
      "</p>\n",
      "<p style=\"text-align:left;\"><small>Photograph credit: <a href=\"/wiki/Nadar\" title=\"Nadar\">Atelier Nadar</a>; restored by <a href=\"/wiki/User:Adam_Cuerden\" title=\"User:Adam Cuerden\">Adam Cuerden</a></small></p>\n",
      "<div class=\"potd-recent\" style=\"text-align:right;\">\n",
      "Recently featured: <div class=\"hlist hlist-separated inline\">\n",
      "<ul><li><a href=\"/wiki/Template:POTD/2021-09-29\" title=\"Template:POTD/2021-09-29\">Parson's chameleon</a></li>\n",
      "<li><a href=\"/wiki/Template:POTD/2021-09-28\" title=\"Template:POTD/2021-09-28\">Atari 2600</a></li>\n",
      "<li><a href=\"/wiki/Template:POTD/2021-09-27\" title=\"Template:POTD/2021-09-27\">War pigeon</a></li></ul>\n",
      "</div></div>\n",
      "<div class=\"potd-footer hlist hlist-separated noprint\" style=\"text-align:right;\">\n",
      "<ul><li><b><a href=\"/wiki/Wikipedia:Picture_of_the_day/Archive\" title=\"Wikipedia:Picture of the day/Archive\">Archive</a></b></li>\n",
      "<li><b><a href=\"/wiki/Wikipedia:Featured_pictures\" title=\"Wikipedia:Featured pictures\">More featured pictures</a></b></li></ul>\n",
      "</div>\n",
      "</td></tr></tbody></table></div>\n",
      "</div>\n",
      "</div>\n",
      "<div class=\"mp-bordered\" id=\"mp-other-lower\">\n",
      "<h2 class=\"mp-h2\" id=\"mp-other\"><span class=\"mw-headline\" id=\"Other_areas_of_Wikipedia\">Other areas of Wikipedia</span></h2>\n",
      "<div id=\"mp-other-content\">\n",
      "<ul><li><b><a href=\"/wiki/Wikipedia:Community_portal\" title=\"Wikipedia:Community portal\">Community portal</a></b> – Bulletin board, projects, resources and activities covering a wide range of Wikipedia areas.</li>\n",
      "<li><b><a href=\"/wiki/Wikipedia:Help_desk\" title=\"Wikipedia:Help desk\">Help desk</a></b> – Ask questions about using Wikipedia.</li>\n",
      "<li><b><a href=\"/wiki/Wikipedia:Reference_desk\" title=\"Wikipedia:Reference desk\">Reference desk</a></b> – Serving as virtual librarians, Wikipedia volunteers tackle your questions on a wide range of subjects.</li>\n",
      "<li><b><a href=\"/wiki/Wikipedia:News\" title=\"Wikipedia:News\">Site news</a></b> – Announcements, updates, articles and press releases on Wikipedia and the Wikimedia Foundation.</li>\n",
      "<li><b><a href=\"/wiki/Wikipedia:Village_pump\" title=\"Wikipedia:Village pump\">Village pump</a></b> – For discussions about Wikipedia itself, including areas for technical issues and policies.</li></ul>\n",
      "</div>\n",
      "<h2 class=\"mp-h2\" id=\"mp-sister\"><span id=\"Wikipedia.27s_sister_projects\"></span><span class=\"mw-headline\" id=\"Wikipedia's_sister_projects\">Wikipedia's sister projects</span></h2>\n",
      "<div id=\"mp-sister-content\"><style data-mw-deduplicate=\"TemplateStyles:r1007624485\">.mw-parser-output #sister-projects-list{display:flex;flex-wrap:wrap}.mw-parser-output #sister-projects-list li{display:inline-block}.mw-parser-output #sister-projects-list li span{font-weight:bold}.mw-parser-output #sister-projects-list li>div{display:inline-block;vertical-align:middle;padding:6px 4px}.mw-parser-output #sister-projects-list li>div:first-child{text-align:center}@media(min-width:360px){.mw-parser-output #sister-projects-list li{width:33%;min-width:20em;white-space:nowrap;flex:1 0 25%}.mw-parser-output #sister-projects-list li>div:first-child{min-width:50px}}</style>\n",
      "<p>Wikipedia is hosted by the <a href=\"/wiki/Wikimedia_Foundation\" title=\"Wikimedia Foundation\">Wikimedia Foundation</a>, a non-profit organization that also hosts a range of other <a class=\"extiw\" href=\"https://wikimediafoundation.org/our-work/wikimedia-projects/\" title=\"foundationsite:our-work/wikimedia-projects/\">projects</a>:\n",
      "</p>\n",
      "<div class=\"plainlist\">\n",
      "<ul id=\"sister-projects-list\">\n",
      "<li>\n",
      "<div><a href=\"https://commons.wikimedia.org/wiki/\" title=\"Commons\"><img alt=\"Commons logo\" data-file-height=\"1376\" data-file-width=\"1024\" decoding=\"async\" height=\"42\" src=\"//upload.wikimedia.org/wikipedia/en/thumb/4/4a/Commons-logo.svg/31px-Commons-logo.svg.png\" srcset=\"//upload.wikimedia.org/wikipedia/en/thumb/4/4a/Commons-logo.svg/47px-Commons-logo.svg.png 1.5x, //upload.wikimedia.org/wikipedia/en/thumb/4/4a/Commons-logo.svg/62px-Commons-logo.svg.png 2x\" width=\"31\"/></a></div>\n",
      "<div><span><a class=\"extiw\" href=\"https://commons.wikimedia.org/wiki/\" title=\"c:\">Commons</a></span><br/>Free media repository</div>\n",
      "</li>\n",
      "<li>\n",
      "<div><a href=\"https://www.mediawiki.org/wiki/\" title=\"MediaWiki\"><img alt=\"MediaWiki logo\" data-file-height=\"100\" data-file-width=\"100\" decoding=\"async\" height=\"35\" src=\"//upload.wikimedia.org/wikipedia/commons/thumb/a/a6/MediaWiki-2020-icon.svg/35px-MediaWiki-2020-icon.svg.png\" srcset=\"//upload.wikimedia.org/wikipedia/commons/thumb/a/a6/MediaWiki-2020-icon.svg/53px-MediaWiki-2020-icon.svg.png 1.5x, //upload.wikimedia.org/wikipedia/commons/thumb/a/a6/MediaWiki-2020-icon.svg/70px-MediaWiki-2020-icon.svg.png 2x\" width=\"35\"/></a></div>\n",
      "<div><span><a class=\"extiw\" href=\"https://www.mediawiki.org/wiki/\" title=\"mw:\">MediaWiki</a></span><br/>Wiki software development</div>\n",
      "</li>\n",
      "<li>\n",
      "<div><a href=\"https://meta.wikimedia.org/wiki/\" title=\"Meta-Wiki\"><img alt=\"Meta-Wiki logo\" data-file-height=\"900\" data-file-width=\"900\" decoding=\"async\" height=\"35\" src=\"//upload.wikimedia.org/wikipedia/commons/thumb/7/75/Wikimedia_Community_Logo.svg/35px-Wikimedia_Community_Logo.svg.png\" srcset=\"//upload.wikimedia.org/wikipedia/commons/thumb/7/75/Wikimedia_Community_Logo.svg/53px-Wikimedia_Community_Logo.svg.png 1.5x, //upload.wikimedia.org/wikipedia/commons/thumb/7/75/Wikimedia_Community_Logo.svg/70px-Wikimedia_Community_Logo.svg.png 2x\" width=\"35\"/></a></div>\n",
      "<div><span><a class=\"extiw\" href=\"https://meta.wikimedia.org/wiki/\" title=\"m:\">Meta-Wiki</a></span><br/>Wikimedia project coordination</div>\n",
      "</li>\n",
      "<li>\n",
      "<div><a href=\"https://en.wikibooks.org/wiki/\" title=\"Wikibooks\"><img alt=\"Wikibooks logo\" data-file-height=\"300\" data-file-width=\"300\" decoding=\"async\" height=\"35\" src=\"//upload.wikimedia.org/wikipedia/commons/thumb/f/fa/Wikibooks-logo.svg/35px-Wikibooks-logo.svg.png\" srcset=\"//upload.wikimedia.org/wikipedia/commons/thumb/f/fa/Wikibooks-logo.svg/53px-Wikibooks-logo.svg.png 1.5x, //upload.wikimedia.org/wikipedia/commons/thumb/f/fa/Wikibooks-logo.svg/70px-Wikibooks-logo.svg.png 2x\" width=\"35\"/></a></div>\n",
      "<div><span><a class=\"extiw\" href=\"https://en.wikibooks.org/wiki/\" title=\"b:\">Wikibooks</a></span><br/>Free textbooks and manuals</div>\n",
      "</li>\n",
      "<li>\n",
      "<div><a href=\"https://www.wikidata.org/wiki/\" title=\"Wikidata\"><img alt=\"Wikidata logo\" data-file-height=\"590\" data-file-width=\"1050\" decoding=\"async\" height=\"26\" src=\"//upload.wikimedia.org/wikipedia/commons/thumb/f/ff/Wikidata-logo.svg/47px-Wikidata-logo.svg.png\" srcset=\"//upload.wikimedia.org/wikipedia/commons/thumb/f/ff/Wikidata-logo.svg/71px-Wikidata-logo.svg.png 1.5x, //upload.wikimedia.org/wikipedia/commons/thumb/f/ff/Wikidata-logo.svg/94px-Wikidata-logo.svg.png 2x\" width=\"47\"/></a></div>\n",
      "<div><span><a class=\"extiw\" href=\"https://www.wikidata.org/wiki/\" title=\"d:\">Wikidata</a></span><br/>Free knowledge base</div>\n",
      "</li>\n",
      "<li>\n",
      "<div><a href=\"https://en.wikinews.org/wiki/\" title=\"Wikinews\"><img alt=\"Wikinews logo\" data-file-height=\"415\" data-file-width=\"759\" decoding=\"async\" height=\"28\" src=\"//upload.wikimedia.org/wikipedia/commons/thumb/2/24/Wikinews-logo.svg/51px-Wikinews-logo.svg.png\" srcset=\"//upload.wikimedia.org/wikipedia/commons/thumb/2/24/Wikinews-logo.svg/77px-Wikinews-logo.svg.png 1.5x, //upload.wikimedia.org/wikipedia/commons/thumb/2/24/Wikinews-logo.svg/102px-Wikinews-logo.svg.png 2x\" width=\"51\"/></a></div>\n",
      "<div><span><a class=\"extiw\" href=\"https://en.wikinews.org/wiki/\" title=\"n:\">Wikinews</a></span><br/>Free-content news</div>\n",
      "</li>\n",
      "<li>\n",
      "<div><a href=\"https://en.wikiquote.org/wiki/\" title=\"Wikiquote\"><img alt=\"Wikiquote logo\" data-file-height=\"355\" data-file-width=\"300\" decoding=\"async\" height=\"41\" src=\"//upload.wikimedia.org/wikipedia/commons/thumb/f/fa/Wikiquote-logo.svg/35px-Wikiquote-logo.svg.png\" srcset=\"//upload.wikimedia.org/wikipedia/commons/thumb/f/fa/Wikiquote-logo.svg/53px-Wikiquote-logo.svg.png 1.5x, //upload.wikimedia.org/wikipedia/commons/thumb/f/fa/Wikiquote-logo.svg/70px-Wikiquote-logo.svg.png 2x\" width=\"35\"/></a></div>\n",
      "<div><span><a class=\"extiw\" href=\"https://en.wikiquote.org/wiki/\" title=\"q:\">Wikiquote</a></span><br/>Collection of quotations</div>\n",
      "</li>\n",
      "<li>\n",
      "<div><a href=\"https://en.wikisource.org/wiki/\" title=\"Wikisource\"><img alt=\"Wikisource logo\" data-file-height=\"430\" data-file-width=\"410\" decoding=\"async\" height=\"37\" src=\"//upload.wikimedia.org/wikipedia/commons/thumb/4/4c/Wikisource-logo.svg/35px-Wikisource-logo.svg.png\" srcset=\"//upload.wikimedia.org/wikipedia/commons/thumb/4/4c/Wikisource-logo.svg/53px-Wikisource-logo.svg.png 1.5x, //upload.wikimedia.org/wikipedia/commons/thumb/4/4c/Wikisource-logo.svg/70px-Wikisource-logo.svg.png 2x\" width=\"35\"/></a></div>\n",
      "<div><span><a class=\"extiw\" href=\"https://en.wikisource.org/wiki/\" title=\"s:\">Wikisource</a></span><br/>Free-content library</div>\n",
      "</li>\n",
      "<li>\n",
      "<div><a href=\"https://species.wikimedia.org/wiki/\" title=\"Wikispecies\"><img alt=\"Wikispecies logo\" data-file-height=\"1103\" data-file-width=\"941\" decoding=\"async\" height=\"41\" src=\"//upload.wikimedia.org/wikipedia/commons/thumb/d/df/Wikispecies-logo.svg/35px-Wikispecies-logo.svg.png\" srcset=\"//upload.wikimedia.org/wikipedia/commons/thumb/d/df/Wikispecies-logo.svg/53px-Wikispecies-logo.svg.png 1.5x, //upload.wikimedia.org/wikipedia/commons/thumb/d/df/Wikispecies-logo.svg/70px-Wikispecies-logo.svg.png 2x\" width=\"35\"/></a></div>\n",
      "<div><span><a class=\"extiw\" href=\"https://species.wikimedia.org/wiki/\" title=\"species:\">Wikispecies</a></span><br/>Directory of species</div>\n",
      "</li>\n",
      "<li>\n",
      "<div><a href=\"https://en.wikiversity.org/wiki/\" title=\"Wikiversity\"><img alt=\"Wikiversity logo\" data-file-height=\"512\" data-file-width=\"626\" decoding=\"async\" height=\"34\" src=\"//upload.wikimedia.org/wikipedia/commons/thumb/0/0b/Wikiversity_logo_2017.svg/41px-Wikiversity_logo_2017.svg.png\" srcset=\"//upload.wikimedia.org/wikipedia/commons/thumb/0/0b/Wikiversity_logo_2017.svg/62px-Wikiversity_logo_2017.svg.png 1.5x, //upload.wikimedia.org/wikipedia/commons/thumb/0/0b/Wikiversity_logo_2017.svg/82px-Wikiversity_logo_2017.svg.png 2x\" width=\"41\"/></a></div>\n",
      "<div><span><a class=\"extiw\" href=\"https://en.wikiversity.org/wiki/\" title=\"v:\">Wikiversity</a></span><br/>Free learning tools</div>\n",
      "</li>\n",
      "<li>\n",
      "<div><a href=\"https://en.wikivoyage.org/wiki/\" title=\"Wikivoyage\"><img alt=\"Wikivoyage logo\" data-file-height=\"193\" data-file-width=\"193\" decoding=\"async\" height=\"35\" src=\"//upload.wikimedia.org/wikipedia/commons/thumb/d/dd/Wikivoyage-Logo-v3-icon.svg/35px-Wikivoyage-Logo-v3-icon.svg.png\" srcset=\"//upload.wikimedia.org/wikipedia/commons/thumb/d/dd/Wikivoyage-Logo-v3-icon.svg/53px-Wikivoyage-Logo-v3-icon.svg.png 1.5x, //upload.wikimedia.org/wikipedia/commons/thumb/d/dd/Wikivoyage-Logo-v3-icon.svg/70px-Wikivoyage-Logo-v3-icon.svg.png 2x\" width=\"35\"/></a></div>\n",
      "<div><span><a class=\"extiw\" href=\"https://en.wikivoyage.org/wiki/\" title=\"voy:\">Wikivoyage</a></span><br/>Free travel guide</div>\n",
      "</li>\n",
      "<li>\n",
      "<div><a href=\"https://en.wiktionary.org/wiki/\" title=\"Wiktionary\"><img alt=\"Wiktionary logo\" data-file-height=\"391\" data-file-width=\"391\" decoding=\"async\" height=\"35\" src=\"//upload.wikimedia.org/wikipedia/en/thumb/0/06/Wiktionary-logo-v2.svg/35px-Wiktionary-logo-v2.svg.png\" srcset=\"//upload.wikimedia.org/wikipedia/en/thumb/0/06/Wiktionary-logo-v2.svg/53px-Wiktionary-logo-v2.svg.png 1.5x, //upload.wikimedia.org/wikipedia/en/thumb/0/06/Wiktionary-logo-v2.svg/70px-Wiktionary-logo-v2.svg.png 2x\" width=\"35\"/></a></div>\n",
      "<div><span><a class=\"extiw\" href=\"https://en.wiktionary.org/wiki/\" title=\"wikt:\">Wiktionary</a></span><br/>Dictionary and thesaurus</div>\n",
      "</li>\n",
      "</ul>\n",
      "</div></div>\n",
      "<h2 class=\"mp-h2\" id=\"mp-lang\"><span class=\"mw-headline\" id=\"Wikipedia_languages\">Wikipedia languages</span></h2>\n",
      "<div><style data-mw-deduplicate=\"TemplateStyles:r997272951\">.mw-parser-output .wikipedia-languages-complete{font-weight:bold}.mw-parser-output .wikipedia-languages ul{margin-left:0}.mw-parser-output .wikipedia-languages ul a{white-space:nowrap}.mw-parser-output .wikipedia-languages>ul{list-style:none;text-align:center;clear:both}.mw-parser-output .wikipedia-languages-count-container{width:90%;display:flex;justify-content:center;padding-top:1em;margin:0 auto}.mw-parser-output .wikipedia-languages-prettybars{width:100%;height:1px;margin:0.5em 0;background-color:#c8ccd1;flex-shrink:1;align-self:center}.mw-parser-output .wikipedia-languages-count{padding:0 1em;white-space:nowrap}</style>\n",
      "<div class=\"wikipedia-languages nourlexpansion\">\n",
      "<p>This Wikipedia is written in <a href=\"/wiki/English_language\" title=\"English language\">English</a>. Many <a class=\"extiw\" href=\"https://meta.wikimedia.org/wiki/List_of_Wikipedias\" title=\"meta:List of Wikipedias\">other Wikipedias are available</a>; some of the largest are listed below.\n",
      "</p>\n",
      "<ul class=\"plainlinks\">\n",
      "<li>\n",
      "<div class=\"wikipedia-languages-count-container\">\n",
      "<div class=\"wikipedia-languages-prettybars\"></div>\n",
      "<div class=\"wikipedia-languages-count\" role=\"heading\">1,000,000+ articles</div>\n",
      "<div class=\"wikipedia-languages-prettybars\"></div>\n",
      "</div>\n",
      "<ul class=\"wikipedia-languages-langs hlist hlist-separated inline\">\n",
      "<li><a class=\"external text\" href=\"https://ar.wikipedia.org/wiki/\"><span class=\"autonym\" lang=\"ar\" title=\"Arabic (ar:)\">العربية</span></a></li>\n",
      "<li><a class=\"external text\" href=\"https://de.wikipedia.org/wiki/\"><span class=\"autonym\" lang=\"de\" title=\"German (de:)\">Deutsch</span></a></li>\n",
      "<li><a class=\"external text\" href=\"https://es.wikipedia.org/wiki/\"><span class=\"autonym\" lang=\"es\" title=\"Spanish (es:)\">Español</span></a></li>\n",
      "<li><a class=\"external text\" href=\"https://fr.wikipedia.org/wiki/\"><span class=\"autonym\" lang=\"fr\" title=\"French (fr:)\">Français</span></a></li>\n",
      "<li><a class=\"external text\" href=\"https://it.wikipedia.org/wiki/\"><span class=\"autonym\" lang=\"it\" title=\"Italian (it:)\">Italiano</span></a></li>\n",
      "<li><a class=\"external text\" href=\"https://nl.wikipedia.org/wiki/\"><span class=\"autonym\" lang=\"nl\" title=\"Dutch (nl:)\">Nederlands</span></a></li>\n",
      "<li><a class=\"external text\" href=\"https://ja.wikipedia.org/wiki/\"><span class=\"autonym\" lang=\"ja\" title=\"Japanese (ja:)\">日本語</span></a></li>\n",
      "<li><a class=\"external text\" href=\"https://pl.wikipedia.org/wiki/\"><span class=\"autonym\" lang=\"pl\" title=\"Polish (pl:)\">Polski</span></a></li>\n",
      "<li><a class=\"external text\" href=\"https://pt.wikipedia.org/wiki/\"><span class=\"autonym\" lang=\"pt\" title=\"Portuguese (pt:)\">Português</span></a></li>\n",
      "<li><a class=\"external text\" href=\"https://ru.wikipedia.org/wiki/\"><span class=\"autonym\" lang=\"ru\" title=\"Russian (ru:)\">Русский</span></a></li>\n",
      "<li><a class=\"external text\" href=\"https://sv.wikipedia.org/wiki/\"><span class=\"autonym\" lang=\"sv\" title=\"Swedish (sv:)\">Svenska</span></a></li>\n",
      "<li><a class=\"external text\" href=\"https://uk.wikipedia.org/wiki/\"><span class=\"autonym\" lang=\"uk\" title=\"Ukrainian (uk:)\">Українська</span></a></li>\n",
      "<li><a class=\"external text\" href=\"https://vi.wikipedia.org/wiki/\"><span class=\"autonym\" lang=\"vi\" title=\"Vietnamese (vi:)\">Tiếng Việt</span></a></li>\n",
      "<li><a class=\"external text\" href=\"https://zh.wikipedia.org/wiki/\"><span class=\"autonym\" lang=\"zh\" title=\"Chinese (zh:)\">中文</span></a></li>\n",
      "</ul>\n",
      "</li>\n",
      "<li>\n",
      "<div class=\"wikipedia-languages-count-container\">\n",
      "<div class=\"wikipedia-languages-prettybars\"></div>\n",
      "<div class=\"wikipedia-languages-count\" role=\"heading\">250,000+ articles</div>\n",
      "<div class=\"wikipedia-languages-prettybars\"></div>\n",
      "</div>\n",
      "<ul class=\"wikipedia-languages-langs hlist hlist-separated inline\">\n",
      "<li><a class=\"external text\" href=\"https://id.wikipedia.org/wiki/\"><span class=\"autonym\" lang=\"id\" title=\"Indonesian (id:)\">Bahasa Indonesia</span></a></li>\n",
      "<li><a class=\"external text\" href=\"https://ms.wikipedia.org/wiki/\"><span class=\"autonym\" lang=\"ms\" title=\"Malay (ms:)\">Bahasa Melayu</span></a></li>\n",
      "<li><a class=\"external text\" href=\"https://zh-min-nan.wikipedia.org/wiki/\"><span class=\"autonym\" lang=\"nan\" title=\"Min Nan Chinese (nan:)\">Bân-lâm-gú</span></a></li>\n",
      "<li><a class=\"external text\" href=\"https://bg.wikipedia.org/wiki/\"><span class=\"autonym\" lang=\"bg\" title=\"Bulgarian (bg:)\">Български</span></a></li>\n",
      "<li><a class=\"external text\" href=\"https://ca.wikipedia.org/wiki/\"><span class=\"autonym\" lang=\"ca\" title=\"Catalan (ca:)\">Català</span></a></li>\n",
      "<li><a class=\"external text\" href=\"https://cs.wikipedia.org/wiki/\"><span class=\"autonym\" lang=\"cs\" title=\"Czech (cs:)\">Čeština</span></a></li>\n",
      "<li><a class=\"external text\" href=\"https://da.wikipedia.org/wiki/\"><span class=\"autonym\" lang=\"da\" title=\"Danish (da:)\">Dansk</span></a></li>\n",
      "<li><a class=\"external text\" href=\"https://eo.wikipedia.org/wiki/\"><span class=\"autonym\" lang=\"eo\" title=\"Esperanto (eo:)\">Esperanto</span></a></li>\n",
      "<li><a class=\"external text\" href=\"https://eu.wikipedia.org/wiki/\"><span class=\"autonym\" lang=\"eu\" title=\"Basque (eu:)\">Euskara</span></a></li>\n",
      "<li><a class=\"external text\" href=\"https://fa.wikipedia.org/wiki/\"><span class=\"autonym\" lang=\"fa\" title=\"Persian (fa:)\">فارسی</span></a>‎</li>\n",
      "<li><a class=\"external text\" href=\"https://he.wikipedia.org/wiki/\"><span class=\"autonym\" lang=\"he\" title=\"Hebrew (he:)\">עברית</span></a></li>\n",
      "<li><a class=\"external text\" href=\"https://ko.wikipedia.org/wiki/\"><span class=\"autonym\" lang=\"ko\" title=\"Korean (ko:)\">한국어</span></a></li>\n",
      "<li><a class=\"external text\" href=\"https://hu.wikipedia.org/wiki/\"><span class=\"autonym\" lang=\"hu\" title=\"Hungarian (hu:)\">Magyar</span></a></li>\n",
      "<li><a class=\"external text\" href=\"https://no.wikipedia.org/wiki/\"><span class=\"autonym\" lang=\"no\" title=\"Norwegian (no:)\">Norsk Bokmål</span></a></li>\n",
      "<li><a class=\"external text\" href=\"https://ro.wikipedia.org/wiki/\"><span class=\"autonym\" lang=\"ro\" title=\"Romanian (ro:)\">Română</span></a></li>\n",
      "<li><a class=\"external text\" href=\"https://sr.wikipedia.org/wiki/\"><span class=\"autonym\" lang=\"sr\" title=\"Serbian (sr:)\">Srpski</span></a></li>\n",
      "<li><a class=\"external text\" href=\"https://sh.wikipedia.org/wiki/\"><span class=\"autonym\" lang=\"sh\" title=\"Serbo-Croatian (sh:)\">Srpskohrvatski</span></a></li>\n",
      "<li><a class=\"external text\" href=\"https://fi.wikipedia.org/wiki/\"><span class=\"autonym\" lang=\"fi\" title=\"Finnish (fi:)\">Suomi</span></a></li>\n",
      "<li><a class=\"external text\" href=\"https://tr.wikipedia.org/wiki/\"><span class=\"autonym\" lang=\"tr\" title=\"Turkish (tr:)\">Türkçe</span></a></li>\n",
      "</ul>\n",
      "</li>\n",
      "<li>\n",
      "<div class=\"wikipedia-languages-count-container\">\n",
      "<div class=\"wikipedia-languages-prettybars\"></div>\n",
      "<div class=\"wikipedia-languages-count\" role=\"heading\">50,000+ articles</div>\n",
      "<div class=\"wikipedia-languages-prettybars\"></div>\n",
      "</div>\n",
      "<ul class=\"wikipedia-languages-langs hlist hlist-separated inline\">\n",
      "<li><a class=\"external text\" href=\"https://ast.wikipedia.org/wiki/\"><span class=\"autonym\" lang=\"ast\" title=\"Asturian (ast:)\">Asturianu</span></a></li>\n",
      "<li><a class=\"external text\" href=\"https://bs.wikipedia.org/wiki/\"><span class=\"autonym\" lang=\"bs\" title=\"Bosnian (bs:)\">Bosanski</span></a></li>\n",
      "<li><a class=\"external text\" href=\"https://et.wikipedia.org/wiki/\"><span class=\"autonym\" lang=\"et\" title=\"Estonian (et:)\">Eesti</span></a></li>\n",
      "<li><a class=\"external text\" href=\"https://el.wikipedia.org/wiki/\"><span class=\"autonym\" lang=\"el\" title=\"Greek (el:)\">Ελληνικά</span></a></li>\n",
      "<li><a class=\"external text\" href=\"https://simple.wikipedia.org/wiki/\"><span class=\"autonym\" lang=\"simple\" title=\"Simple English (simple:)\">Simple English</span></a></li>\n",
      "<li><a class=\"external text\" href=\"https://gl.wikipedia.org/wiki/\"><span class=\"autonym\" lang=\"gl\" title=\"Galician (gl:)\">Galego</span></a></li>\n",
      "<li><a class=\"external text\" href=\"https://hr.wikipedia.org/wiki/\"><span class=\"autonym\" lang=\"hr\" title=\"Croatian (hr:)\">Hrvatski</span></a></li>\n",
      "<li><a class=\"external text\" href=\"https://lv.wikipedia.org/wiki/\"><span class=\"autonym\" lang=\"lv\" title=\"Latvian (lv:)\">Latviešu</span></a></li>\n",
      "<li><a class=\"external text\" href=\"https://lt.wikipedia.org/wiki/\"><span class=\"autonym\" lang=\"lt\" title=\"Lithuanian (lt:)\">Lietuvių</span></a></li>\n",
      "<li><a class=\"external text\" href=\"https://ml.wikipedia.org/wiki/\"><span class=\"autonym\" lang=\"ml\" title=\"Malayalam (ml:)\">മലയാളം</span></a></li>\n",
      "<li><a class=\"external text\" href=\"https://mk.wikipedia.org/wiki/\"><span class=\"autonym\" lang=\"mk\" title=\"Macedonian (mk:)\">Македонски</span></a></li>\n",
      "<li><a class=\"external text\" href=\"https://nn.wikipedia.org/wiki/\"><span class=\"autonym\" lang=\"nn\" title=\"Norwegian Nynorsk (nn:)\">Norsk nynorsk</span></a></li>\n",
      "<li><a class=\"external text\" href=\"https://sq.wikipedia.org/wiki/\"><span class=\"autonym\" lang=\"sq\" title=\"Albanian (sq:)\">Shqip</span></a></li>\n",
      "<li><a class=\"external text\" href=\"https://sk.wikipedia.org/wiki/\"><span class=\"autonym\" lang=\"sk\" title=\"Slovak (sk:)\">Slovenčina</span></a></li>\n",
      "<li><a class=\"external text\" href=\"https://sl.wikipedia.org/wiki/\"><span class=\"autonym\" lang=\"sl\" title=\"Slovenian (sl:)\">Slovenščina</span></a></li>\n",
      "<li><a class=\"external text\" href=\"https://th.wikipedia.org/wiki/\"><span class=\"autonym\" lang=\"th\" title=\"Thai (th:)\">ไทย</span></a></li>\n",
      "</ul>\n",
      "</li>\n",
      "</ul>\n",
      "</div></div>\n",
      "</div>\n",
      "<!-- \n",
      "NewPP limit report\n",
      "Parsed by mw1353\n",
      "Cached time: 20210930000710\n",
      "Cache expiry: 3600\n",
      "Reduced expiry: true\n",
      "Complications: []\n",
      "CPU time usage: 0.471 seconds\n",
      "Real time usage: 0.583 seconds\n",
      "Preprocessor visited node count: 4339/1000000\n",
      "Post‐expand include size: 133347/2097152 bytes\n",
      "Template argument size: 10205/2097152 bytes\n",
      "Highest expansion depth: 23/40\n",
      "Expensive parser function count: 15/500\n",
      "Unstrip recursion depth: 0/20\n",
      "Unstrip post‐expand size: 5370/5000000 bytes\n",
      "Lua time usage: 0.107/10.000 seconds\n",
      "Lua memory usage: 2363401/52428800 bytes\n",
      "Number of Wikibase entities loaded: 0/400\n",
      "-->\n",
      "<!--\n",
      "Transclusion expansion time report (%,ms,calls,template)\n",
      "100.00%  423.805      1 -total\n",
      " 43.46%  184.206      1 Wikipedia:Main_Page/Tomorrow\n",
      " 40.72%  172.556      9 Template:Main_page_image\n",
      " 24.80%  105.116      9 Template:Str_number/trim\n",
      " 20.26%   85.856     27 Template:If_empty\n",
      " 18.44%   78.136      2 Template:Main_page_image/TFA\n",
      " 18.03%   76.391      1 Wikipedia:Today's_featured_article/September_30,_2021\n",
      " 16.48%   69.858      1 Template:Did_you_know/Queue/5\n",
      " 12.11%   51.322      2 Template:Wikipedia_languages\n",
      " 11.82%   50.111      1 Wikipedia:Selected_anniversaries/September_30\n",
      "-->\n",
      "<!-- Saved in parser cache with key enwiki:pcache:idhash:15580374-0!canonical and timestamp 20210930000710 and revision id 1004593520. Serialized with JSON.\n",
      " -->\n",
      "</div><noscript><img alt=\"\" height=\"1\" src=\"//en.wikipedia.org/wiki/Special:CentralAutoLogin/start?type=1x1\" style=\"border: none; position: absolute;\" title=\"\" width=\"1\"/></noscript>\n",
      "<div class=\"printfooter\">Retrieved from \"<a dir=\"ltr\" href=\"https://en.wikipedia.org/w/index.php?title=Main_Page&amp;oldid=1004593520\">https://en.wikipedia.org/w/index.php?title=Main_Page&amp;oldid=1004593520</a>\"</div></div>\n",
      "<div class=\"catlinks catlinks-allhidden\" data-mw=\"interface\" id=\"catlinks\"></div>\n",
      "</div>\n",
      "</div>\n",
      "<div id=\"mw-data-after-content\">\n",
      "<div class=\"read-more-container\"></div>\n",
      "</div>\n",
      "<div id=\"mw-navigation\">\n",
      "<h2>Navigation menu</h2>\n",
      "<div id=\"mw-head\">\n",
      "<nav aria-labelledby=\"p-personal-label\" class=\"mw-portlet mw-portlet-personal vector-user-menu-legacy vector-menu\" id=\"p-personal\" role=\"navigation\">\n",
      "<h3 aria-label=\"\" class=\"vector-menu-heading\" id=\"p-personal-label\">\n",
      "<span>Personal tools</span>\n",
      "</h3>\n",
      "<div class=\"vector-menu-content\">\n",
      "<ul class=\"vector-menu-content-list\"><li class=\"mw-list-item\" id=\"pt-anonuserpage\">Not logged in</li><li class=\"mw-list-item\" id=\"pt-anontalk\"><a accesskey=\"n\" href=\"/wiki/Special:MyTalk\" title=\"Discussion about edits from this IP address [n]\">Talk</a></li><li class=\"mw-list-item\" id=\"pt-anoncontribs\"><a accesskey=\"y\" href=\"/wiki/Special:MyContributions\" title=\"A list of edits made from this IP address [y]\">Contributions</a></li><li class=\"mw-list-item\" id=\"pt-createaccount\"><a href=\"/w/index.php?title=Special:CreateAccount&amp;returnto=Main+Page\" title=\"You are encouraged to create an account and log in; however, it is not mandatory\">Create account</a></li><li class=\"mw-list-item\" id=\"pt-login\"><a accesskey=\"o\" href=\"/w/index.php?title=Special:UserLogin&amp;returnto=Main+Page\" title=\"You're encouraged to log in; however, it's not mandatory. [o]\">Log in</a></li></ul>\n",
      "</div>\n",
      "</nav>\n",
      "<div id=\"left-navigation\">\n",
      "<nav aria-labelledby=\"p-namespaces-label\" class=\"mw-portlet mw-portlet-namespaces vector-menu vector-menu-tabs\" id=\"p-namespaces\" role=\"navigation\">\n",
      "<h3 aria-label=\"\" class=\"vector-menu-heading\" id=\"p-namespaces-label\">\n",
      "<span>Namespaces</span>\n",
      "</h3>\n",
      "<div class=\"vector-menu-content\">\n",
      "<ul class=\"vector-menu-content-list\"><li class=\"selected mw-list-item\" id=\"ca-nstab-main\"><a accesskey=\"c\" href=\"/wiki/Main_Page\" title=\"View the content page [c]\">Main Page</a></li><li class=\"mw-list-item\" id=\"ca-talk\"><a accesskey=\"t\" href=\"/wiki/Talk:Main_Page\" rel=\"discussion\" title=\"Discuss improvements to the content page [t]\">Talk</a></li></ul>\n",
      "</div>\n",
      "</nav>\n",
      "<nav aria-labelledby=\"p-variants-label\" class=\"mw-portlet mw-portlet-variants emptyPortlet vector-menu-dropdown-noicon vector-menu vector-menu-dropdown\" id=\"p-variants\" role=\"navigation\">\n",
      "<input aria-haspopup=\"true\" aria-labelledby=\"p-variants-label\" class=\"vector-menu-checkbox\" data-event-name=\"ui.dropdown-p-variants\" id=\"p-variants-checkbox\" role=\"button\" type=\"checkbox\"/>\n",
      "<h3 aria-label=\"Change language variant\" class=\"vector-menu-heading\" id=\"p-variants-label\">\n",
      "<span>Variants</span>\n",
      "<span class=\"vector-menu-checkbox-expanded\">expanded</span>\n",
      "<span class=\"vector-menu-checkbox-collapsed\">collapsed</span>\n",
      "</h3>\n",
      "<div class=\"vector-menu-content\">\n",
      "<ul class=\"vector-menu-content-list\"></ul>\n",
      "</div>\n",
      "</nav>\n",
      "</div>\n",
      "<div id=\"right-navigation\">\n",
      "<nav aria-labelledby=\"p-views-label\" class=\"mw-portlet mw-portlet-views vector-menu vector-menu-tabs\" id=\"p-views\" role=\"navigation\">\n",
      "<h3 aria-label=\"\" class=\"vector-menu-heading\" id=\"p-views-label\">\n",
      "<span>Views</span>\n",
      "</h3>\n",
      "<div class=\"vector-menu-content\">\n",
      "<ul class=\"vector-menu-content-list\"><li class=\"selected mw-list-item\" id=\"ca-view\"><a href=\"/wiki/Main_Page\">Read</a></li><li class=\"mw-list-item\" id=\"ca-viewsource\"><a accesskey=\"e\" href=\"/w/index.php?title=Main_Page&amp;action=edit\" title=\"This page is protected.\n",
      "You can view its source [e]\">View source</a></li><li class=\"mw-list-item\" id=\"ca-history\"><a accesskey=\"h\" href=\"/w/index.php?title=Main_Page&amp;action=history\" title=\"Past revisions of this page [h]\">View history</a></li></ul>\n",
      "</div>\n",
      "</nav>\n",
      "<nav aria-labelledby=\"p-cactions-label\" class=\"mw-portlet mw-portlet-cactions emptyPortlet vector-menu-dropdown-noicon vector-menu vector-menu-dropdown\" id=\"p-cactions\" role=\"navigation\" title=\"More options\">\n",
      "<input aria-haspopup=\"true\" aria-labelledby=\"p-cactions-label\" class=\"vector-menu-checkbox\" data-event-name=\"ui.dropdown-p-cactions\" id=\"p-cactions-checkbox\" role=\"button\" type=\"checkbox\"/>\n",
      "<h3 aria-label=\"\" class=\"vector-menu-heading\" id=\"p-cactions-label\">\n",
      "<span>More</span>\n",
      "<span class=\"vector-menu-checkbox-expanded\">expanded</span>\n",
      "<span class=\"vector-menu-checkbox-collapsed\">collapsed</span>\n",
      "</h3>\n",
      "<div class=\"vector-menu-content\">\n",
      "<ul class=\"vector-menu-content-list\"></ul>\n",
      "</div>\n",
      "</nav>\n",
      "<div class=\"vector-search-box\" id=\"p-search\" role=\"search\">\n",
      "<div>\n",
      "<h3>\n",
      "<label for=\"searchInput\">Search</label>\n",
      "</h3>\n",
      "<form action=\"/w/index.php\" id=\"searchform\">\n",
      "<div data-search-loc=\"header-navigation\" id=\"simpleSearch\">\n",
      "<input accesskey=\"f\" autocapitalize=\"sentences\" id=\"searchInput\" name=\"search\" placeholder=\"Search Wikipedia\" title=\"Search Wikipedia [f]\" type=\"search\"/>\n",
      "<input name=\"title\" type=\"hidden\" value=\"Special:Search\"/>\n",
      "<input class=\"searchButton mw-fallbackSearchButton\" id=\"mw-searchButton\" name=\"fulltext\" title=\"Search Wikipedia for this text\" type=\"submit\" value=\"Search\"/>\n",
      "<input class=\"searchButton\" id=\"searchButton\" name=\"go\" title=\"Go to a page with this exact name if it exists\" type=\"submit\" value=\"Go\"/>\n",
      "</div>\n",
      "</form>\n",
      "</div>\n",
      "</div>\n",
      "</div>\n",
      "</div>\n",
      "<div id=\"mw-panel\">\n",
      "<div id=\"p-logo\" role=\"banner\">\n",
      "<a class=\"mw-wiki-logo\" href=\"/wiki/Main_Page\" title=\"Visit the main page\"></a>\n",
      "</div>\n",
      "<nav aria-labelledby=\"p-navigation-label\" class=\"mw-portlet mw-portlet-navigation vector-menu vector-menu-portal portal\" id=\"p-navigation\" role=\"navigation\">\n",
      "<h3 aria-label=\"\" class=\"vector-menu-heading\" id=\"p-navigation-label\">\n",
      "<span>Navigation</span>\n",
      "</h3>\n",
      "<div class=\"vector-menu-content\">\n",
      "<ul class=\"vector-menu-content-list\"><li class=\"mw-list-item\" id=\"n-mainpage-description\"><a accesskey=\"z\" href=\"/wiki/Main_Page\" title=\"Visit the main page [z]\">Main page</a></li><li class=\"mw-list-item\" id=\"n-contents\"><a href=\"/wiki/Wikipedia:Contents\" title=\"Guides to browsing Wikipedia\">Contents</a></li><li class=\"mw-list-item\" id=\"n-currentevents\"><a href=\"/wiki/Portal:Current_events\" title=\"Articles related to current events\">Current events</a></li><li class=\"mw-list-item\" id=\"n-randompage\"><a accesskey=\"x\" href=\"/wiki/Special:Random\" title=\"Visit a randomly selected article [x]\">Random article</a></li><li class=\"mw-list-item\" id=\"n-aboutsite\"><a href=\"/wiki/Wikipedia:About\" title=\"Learn about Wikipedia and how it works\">About Wikipedia</a></li><li class=\"mw-list-item\" id=\"n-contactpage\"><a href=\"//en.wikipedia.org/wiki/Wikipedia:Contact_us\" title=\"How to contact Wikipedia\">Contact us</a></li><li class=\"mw-list-item\" id=\"n-sitesupport\"><a href=\"https://donate.wikimedia.org/wiki/Special:FundraiserRedirector?utm_source=donate&amp;utm_medium=sidebar&amp;utm_campaign=C13_en.wikipedia.org&amp;uselang=en\" title=\"Support us by donating to the Wikimedia Foundation\">Donate</a></li></ul>\n",
      "</div>\n",
      "</nav>\n",
      "<nav aria-labelledby=\"p-interaction-label\" class=\"mw-portlet mw-portlet-interaction vector-menu vector-menu-portal portal\" id=\"p-interaction\" role=\"navigation\">\n",
      "<h3 aria-label=\"\" class=\"vector-menu-heading\" id=\"p-interaction-label\">\n",
      "<span>Contribute</span>\n",
      "</h3>\n",
      "<div class=\"vector-menu-content\">\n",
      "<ul class=\"vector-menu-content-list\"><li class=\"mw-list-item\" id=\"n-help\"><a href=\"/wiki/Help:Contents\" title=\"Guidance on how to use and edit Wikipedia\">Help</a></li><li class=\"mw-list-item\" id=\"n-introduction\"><a href=\"/wiki/Help:Introduction\" title=\"Learn how to edit Wikipedia\">Learn to edit</a></li><li class=\"mw-list-item\" id=\"n-portal\"><a href=\"/wiki/Wikipedia:Community_portal\" title=\"The hub for editors\">Community portal</a></li><li class=\"mw-list-item\" id=\"n-recentchanges\"><a accesskey=\"r\" href=\"/wiki/Special:RecentChanges\" title=\"A list of recent changes to Wikipedia [r]\">Recent changes</a></li><li class=\"mw-list-item\" id=\"n-upload\"><a href=\"/wiki/Wikipedia:File_Upload_Wizard\" title=\"Add images or other media for use on Wikipedia\">Upload file</a></li></ul>\n",
      "</div>\n",
      "</nav>\n",
      "<nav aria-labelledby=\"p-tb-label\" class=\"mw-portlet mw-portlet-tb vector-menu vector-menu-portal portal\" id=\"p-tb\" role=\"navigation\">\n",
      "<h3 aria-label=\"\" class=\"vector-menu-heading\" id=\"p-tb-label\">\n",
      "<span>Tools</span>\n",
      "</h3>\n",
      "<div class=\"vector-menu-content\">\n",
      "<ul class=\"vector-menu-content-list\"><li class=\"mw-list-item\" id=\"t-whatlinkshere\"><a accesskey=\"j\" href=\"/wiki/Special:WhatLinksHere/Main_Page\" title=\"List of all English Wikipedia pages containing links to this page [j]\">What links here</a></li><li class=\"mw-list-item\" id=\"t-recentchangeslinked\"><a accesskey=\"k\" href=\"/wiki/Special:RecentChangesLinked/Main_Page\" rel=\"nofollow\" title=\"Recent changes in pages linked from this page [k]\">Related changes</a></li><li class=\"mw-list-item\" id=\"t-upload\"><a accesskey=\"u\" href=\"/wiki/Wikipedia:File_Upload_Wizard\" title=\"Upload files [u]\">Upload file</a></li><li class=\"mw-list-item\" id=\"t-specialpages\"><a accesskey=\"q\" href=\"/wiki/Special:SpecialPages\" title=\"A list of all special pages [q]\">Special pages</a></li><li class=\"mw-list-item\" id=\"t-permalink\"><a href=\"/w/index.php?title=Main_Page&amp;oldid=1004593520\" title=\"Permanent link to this revision of this page\">Permanent link</a></li><li class=\"mw-list-item\" id=\"t-info\"><a href=\"/w/index.php?title=Main_Page&amp;action=info\" title=\"More information about this page\">Page information</a></li><li class=\"mw-list-item\" id=\"t-cite\"><a href=\"/w/index.php?title=Special:CiteThisPage&amp;page=Main_Page&amp;id=1004593520&amp;wpFormIdentifier=titleform\" title=\"Information on how to cite this page\">Cite this page</a></li><li class=\"mw-list-item\" id=\"t-wikibase\"><a accesskey=\"g\" href=\"https://www.wikidata.org/wiki/Special:EntityPage/Q5296\" title=\"Structured data on this page hosted by Wikidata [g]\">Wikidata item</a></li></ul>\n",
      "</div>\n",
      "</nav>\n",
      "<nav aria-labelledby=\"p-coll-print_export-label\" class=\"mw-portlet mw-portlet-coll-print_export vector-menu vector-menu-portal portal\" id=\"p-coll-print_export\" role=\"navigation\">\n",
      "<h3 aria-label=\"\" class=\"vector-menu-heading\" id=\"p-coll-print_export-label\">\n",
      "<span>Print/export</span>\n",
      "</h3>\n",
      "<div class=\"vector-menu-content\">\n",
      "<ul class=\"vector-menu-content-list\"><li class=\"mw-list-item\" id=\"coll-download-as-rl\"><a href=\"/w/index.php?title=Special:DownloadAsPdf&amp;page=Main_Page&amp;action=show-download-screen\" title=\"Download this page as a PDF file\">Download as PDF</a></li><li class=\"mw-list-item\" id=\"t-print\"><a accesskey=\"p\" href=\"/w/index.php?title=Main_Page&amp;printable=yes\" title=\"Printable version of this page [p]\">Printable version</a></li></ul>\n",
      "</div>\n",
      "</nav>\n",
      "<nav aria-labelledby=\"p-wikibase-otherprojects-label\" class=\"mw-portlet mw-portlet-wikibase-otherprojects vector-menu vector-menu-portal portal\" id=\"p-wikibase-otherprojects\" role=\"navigation\">\n",
      "<h3 aria-label=\"\" class=\"vector-menu-heading\" id=\"p-wikibase-otherprojects-label\">\n",
      "<span>In other projects</span>\n",
      "</h3>\n",
      "<div class=\"vector-menu-content\">\n",
      "<ul class=\"vector-menu-content-list\"><li class=\"wb-otherproject-link wb-otherproject-commons mw-list-item\"><a href=\"https://commons.wikimedia.org/wiki/Main_Page\" hreflang=\"en\">Wikimedia Commons</a></li><li class=\"wb-otherproject-link wb-otherproject-mediawiki mw-list-item\"><a href=\"https://www.mediawiki.org/wiki/MediaWiki\" hreflang=\"en\">MediaWiki</a></li><li class=\"wb-otherproject-link wb-otherproject-meta mw-list-item\"><a href=\"https://meta.wikimedia.org/wiki/Main_Page\" hreflang=\"en\">Meta-Wiki</a></li><li class=\"wb-otherproject-link wb-otherproject-sources mw-list-item\"><a href=\"https://wikisource.org/wiki/Main_Page\" hreflang=\"en\">Multilingual Wikisource</a></li><li class=\"wb-otherproject-link wb-otherproject-species mw-list-item\"><a href=\"https://species.wikimedia.org/wiki/Main_Page\" hreflang=\"en\">Wikispecies</a></li><li class=\"wb-otherproject-link wb-otherproject-wikibooks mw-list-item\"><a href=\"https://en.wikibooks.org/wiki/Main_Page\" hreflang=\"en\">Wikibooks</a></li><li class=\"wb-otherproject-link wb-otherproject-wikidata mw-list-item\"><a href=\"https://www.wikidata.org/wiki/Wikidata:Main_Page\" hreflang=\"en\">Wikidata</a></li><li class=\"wb-otherproject-link wb-otherproject-wikimania mw-list-item\"><a href=\"https://wikimania.wikimedia.org/wiki/Wikimania\" hreflang=\"en\">Wikimania</a></li><li class=\"wb-otherproject-link wb-otherproject-wikinews mw-list-item\"><a href=\"https://en.wikinews.org/wiki/Main_Page\" hreflang=\"en\">Wikinews</a></li><li class=\"wb-otherproject-link wb-otherproject-wikiquote mw-list-item\"><a href=\"https://en.wikiquote.org/wiki/Main_Page\" hreflang=\"en\">Wikiquote</a></li><li class=\"wb-otherproject-link wb-otherproject-wikisource mw-list-item\"><a href=\"https://en.wikisource.org/wiki/Main_Page\" hreflang=\"en\">Wikisource</a></li><li class=\"wb-otherproject-link wb-otherproject-wikiversity mw-list-item\"><a href=\"https://en.wikiversity.org/wiki/Wikiversity:Main_Page\" hreflang=\"en\">Wikiversity</a></li><li class=\"wb-otherproject-link wb-otherproject-wikivoyage mw-list-item\"><a href=\"https://en.wikivoyage.org/wiki/Main_Page\" hreflang=\"en\">Wikivoyage</a></li><li class=\"wb-otherproject-link wb-otherproject-wiktionary mw-list-item\"><a href=\"https://en.wiktionary.org/wiki/Wiktionary:Main_Page\" hreflang=\"en\">Wiktionary</a></li></ul>\n",
      "</div>\n",
      "</nav>\n",
      "<nav aria-labelledby=\"p-lang-label\" class=\"mw-portlet mw-portlet-lang vector-menu vector-menu-portal portal\" id=\"p-lang\" role=\"navigation\">\n",
      "<h3 aria-label=\"\" class=\"vector-menu-heading\" id=\"p-lang-label\">\n",
      "<span>Languages</span>\n",
      "</h3>\n",
      "<div class=\"vector-menu-content\">\n",
      "<ul class=\"vector-menu-content-list\"><li class=\"interlanguage-link interwiki-ar mw-list-item\"><a class=\"interlanguage-link-target\" href=\"https://ar.wikipedia.org/wiki/\" hreflang=\"ar\" lang=\"ar\" title=\"Arabic\">العربية</a></li><li class=\"interlanguage-link interwiki-bn mw-list-item\"><a class=\"interlanguage-link-target\" href=\"https://bn.wikipedia.org/wiki/\" hreflang=\"bn\" lang=\"bn\" title=\"Bangla\">বাংলা</a></li><li class=\"interlanguage-link interwiki-bg mw-list-item\"><a class=\"interlanguage-link-target\" href=\"https://bg.wikipedia.org/wiki/\" hreflang=\"bg\" lang=\"bg\" title=\"Bulgarian\">Български</a></li><li class=\"interlanguage-link interwiki-bs mw-list-item\"><a class=\"interlanguage-link-target\" href=\"https://bs.wikipedia.org/wiki/\" hreflang=\"bs\" lang=\"bs\" title=\"Bosnian\">Bosanski</a></li><li class=\"interlanguage-link interwiki-ca mw-list-item\"><a class=\"interlanguage-link-target\" href=\"https://ca.wikipedia.org/wiki/\" hreflang=\"ca\" lang=\"ca\" title=\"Catalan\">Català</a></li><li class=\"interlanguage-link interwiki-cs mw-list-item\"><a class=\"interlanguage-link-target\" href=\"https://cs.wikipedia.org/wiki/\" hreflang=\"cs\" lang=\"cs\" title=\"Czech\">Čeština</a></li><li class=\"interlanguage-link interwiki-da mw-list-item\"><a class=\"interlanguage-link-target\" href=\"https://da.wikipedia.org/wiki/\" hreflang=\"da\" lang=\"da\" title=\"Danish\">Dansk</a></li><li class=\"interlanguage-link interwiki-de mw-list-item\"><a class=\"interlanguage-link-target\" href=\"https://de.wikipedia.org/wiki/\" hreflang=\"de\" lang=\"de\" title=\"German\">Deutsch</a></li><li class=\"interlanguage-link interwiki-et mw-list-item\"><a class=\"interlanguage-link-target\" href=\"https://et.wikipedia.org/wiki/\" hreflang=\"et\" lang=\"et\" title=\"Estonian\">Eesti</a></li><li class=\"interlanguage-link interwiki-el mw-list-item\"><a class=\"interlanguage-link-target\" href=\"https://el.wikipedia.org/wiki/\" hreflang=\"el\" lang=\"el\" title=\"Greek\">Ελληνικά</a></li><li class=\"interlanguage-link interwiki-es mw-list-item\"><a class=\"interlanguage-link-target\" href=\"https://es.wikipedia.org/wiki/\" hreflang=\"es\" lang=\"es\" title=\"Spanish\">Español</a></li><li class=\"interlanguage-link interwiki-eo mw-list-item\"><a class=\"interlanguage-link-target\" href=\"https://eo.wikipedia.org/wiki/\" hreflang=\"eo\" lang=\"eo\" title=\"Esperanto\">Esperanto</a></li><li class=\"interlanguage-link interwiki-eu mw-list-item\"><a class=\"interlanguage-link-target\" href=\"https://eu.wikipedia.org/wiki/\" hreflang=\"eu\" lang=\"eu\" title=\"Basque\">Euskara</a></li><li class=\"interlanguage-link interwiki-fa mw-list-item\"><a class=\"interlanguage-link-target\" href=\"https://fa.wikipedia.org/wiki/\" hreflang=\"fa\" lang=\"fa\" title=\"Persian\">فارسی</a></li><li class=\"interlanguage-link interwiki-fr mw-list-item\"><a class=\"interlanguage-link-target\" href=\"https://fr.wikipedia.org/wiki/\" hreflang=\"fr\" lang=\"fr\" title=\"French\">Français</a></li><li class=\"interlanguage-link interwiki-gl mw-list-item\"><a class=\"interlanguage-link-target\" href=\"https://gl.wikipedia.org/wiki/\" hreflang=\"gl\" lang=\"gl\" title=\"Galician\">Galego</a></li><li class=\"interlanguage-link interwiki-ko mw-list-item\"><a class=\"interlanguage-link-target\" href=\"https://ko.wikipedia.org/wiki/\" hreflang=\"ko\" lang=\"ko\" title=\"Korean\">한국어</a></li><li class=\"interlanguage-link interwiki-hr mw-list-item\"><a class=\"interlanguage-link-target\" href=\"https://hr.wikipedia.org/wiki/\" hreflang=\"hr\" lang=\"hr\" title=\"Croatian\">Hrvatski</a></li><li class=\"interlanguage-link interwiki-id mw-list-item\"><a class=\"interlanguage-link-target\" href=\"https://id.wikipedia.org/wiki/\" hreflang=\"id\" lang=\"id\" title=\"Indonesian\">Bahasa Indonesia</a></li><li class=\"interlanguage-link interwiki-it mw-list-item\"><a class=\"interlanguage-link-target\" href=\"https://it.wikipedia.org/wiki/\" hreflang=\"it\" lang=\"it\" title=\"Italian\">Italiano</a></li><li class=\"interlanguage-link interwiki-he mw-list-item\"><a class=\"interlanguage-link-target\" href=\"https://he.wikipedia.org/wiki/\" hreflang=\"he\" lang=\"he\" title=\"Hebrew\">עברית</a></li><li class=\"interlanguage-link interwiki-ka mw-list-item\"><a class=\"interlanguage-link-target\" href=\"https://ka.wikipedia.org/wiki/\" hreflang=\"ka\" lang=\"ka\" title=\"Georgian\">ქართული</a></li><li class=\"interlanguage-link interwiki-lv mw-list-item\"><a class=\"interlanguage-link-target\" href=\"https://lv.wikipedia.org/wiki/\" hreflang=\"lv\" lang=\"lv\" title=\"Latvian\">Latviešu</a></li><li class=\"interlanguage-link interwiki-lt mw-list-item\"><a class=\"interlanguage-link-target\" href=\"https://lt.wikipedia.org/wiki/\" hreflang=\"lt\" lang=\"lt\" title=\"Lithuanian\">Lietuvių</a></li><li class=\"interlanguage-link interwiki-hu mw-list-item\"><a class=\"interlanguage-link-target\" href=\"https://hu.wikipedia.org/wiki/\" hreflang=\"hu\" lang=\"hu\" title=\"Hungarian\">Magyar</a></li><li class=\"interlanguage-link interwiki-mk mw-list-item\"><a class=\"interlanguage-link-target\" href=\"https://mk.wikipedia.org/wiki/\" hreflang=\"mk\" lang=\"mk\" title=\"Macedonian\">Македонски</a></li><li class=\"interlanguage-link interwiki-ms mw-list-item\"><a class=\"interlanguage-link-target\" href=\"https://ms.wikipedia.org/wiki/\" hreflang=\"ms\" lang=\"ms\" title=\"Malay\">Bahasa Melayu</a></li><li class=\"interlanguage-link interwiki-nl mw-list-item\"><a class=\"interlanguage-link-target\" href=\"https://nl.wikipedia.org/wiki/\" hreflang=\"nl\" lang=\"nl\" title=\"Dutch\">Nederlands</a></li><li class=\"interlanguage-link interwiki-ja mw-list-item\"><a class=\"interlanguage-link-target\" href=\"https://ja.wikipedia.org/wiki/\" hreflang=\"ja\" lang=\"ja\" title=\"Japanese\">日本語</a></li><li class=\"interlanguage-link interwiki-no mw-list-item\"><a class=\"interlanguage-link-target\" href=\"https://no.wikipedia.org/wiki/\" hreflang=\"nb\" lang=\"nb\" title=\"Norwegian Bokmål\">Norsk bokmål</a></li><li class=\"interlanguage-link interwiki-nn mw-list-item\"><a class=\"interlanguage-link-target\" href=\"https://nn.wikipedia.org/wiki/\" hreflang=\"nn\" lang=\"nn\" title=\"Norwegian Nynorsk\">Norsk nynorsk</a></li><li class=\"interlanguage-link interwiki-pl mw-list-item\"><a class=\"interlanguage-link-target\" href=\"https://pl.wikipedia.org/wiki/\" hreflang=\"pl\" lang=\"pl\" title=\"Polish\">Polski</a></li><li class=\"interlanguage-link interwiki-pt mw-list-item\"><a class=\"interlanguage-link-target\" href=\"https://pt.wikipedia.org/wiki/\" hreflang=\"pt\" lang=\"pt\" title=\"Portuguese\">Português</a></li><li class=\"interlanguage-link interwiki-ro mw-list-item\"><a class=\"interlanguage-link-target\" href=\"https://ro.wikipedia.org/wiki/\" hreflang=\"ro\" lang=\"ro\" title=\"Romanian\">Română</a></li><li class=\"interlanguage-link interwiki-ru mw-list-item\"><a class=\"interlanguage-link-target\" href=\"https://ru.wikipedia.org/wiki/\" hreflang=\"ru\" lang=\"ru\" title=\"Russian\">Русский</a></li><li class=\"interlanguage-link interwiki-simple mw-list-item\"><a class=\"interlanguage-link-target\" href=\"https://simple.wikipedia.org/wiki/\" hreflang=\"en-simple\" lang=\"en-simple\" title=\"Simple English\">Simple English</a></li><li class=\"interlanguage-link interwiki-sk mw-list-item\"><a class=\"interlanguage-link-target\" href=\"https://sk.wikipedia.org/wiki/\" hreflang=\"sk\" lang=\"sk\" title=\"Slovak\">Slovenčina</a></li><li class=\"interlanguage-link interwiki-sl mw-list-item\"><a class=\"interlanguage-link-target\" href=\"https://sl.wikipedia.org/wiki/\" hreflang=\"sl\" lang=\"sl\" title=\"Slovenian\">Slovenščina</a></li><li class=\"interlanguage-link interwiki-sr mw-list-item\"><a class=\"interlanguage-link-target\" href=\"https://sr.wikipedia.org/wiki/\" hreflang=\"sr\" lang=\"sr\" title=\"Serbian\">Српски / srpski</a></li><li class=\"interlanguage-link interwiki-sh mw-list-item\"><a class=\"interlanguage-link-target\" href=\"https://sh.wikipedia.org/wiki/\" hreflang=\"sh\" lang=\"sh\" title=\"Serbo-Croatian\">Srpskohrvatski / српскохрватски</a></li><li class=\"interlanguage-link interwiki-fi mw-list-item\"><a class=\"interlanguage-link-target\" href=\"https://fi.wikipedia.org/wiki/\" hreflang=\"fi\" lang=\"fi\" title=\"Finnish\">Suomi</a></li><li class=\"interlanguage-link interwiki-sv mw-list-item\"><a class=\"interlanguage-link-target\" href=\"https://sv.wikipedia.org/wiki/\" hreflang=\"sv\" lang=\"sv\" title=\"Swedish\">Svenska</a></li><li class=\"interlanguage-link interwiki-th mw-list-item\"><a class=\"interlanguage-link-target\" href=\"https://th.wikipedia.org/wiki/\" hreflang=\"th\" lang=\"th\" title=\"Thai\">ไทย</a></li><li class=\"interlanguage-link interwiki-tr mw-list-item\"><a class=\"interlanguage-link-target\" href=\"https://tr.wikipedia.org/wiki/\" hreflang=\"tr\" lang=\"tr\" title=\"Turkish\">Türkçe</a></li><li class=\"interlanguage-link interwiki-uk mw-list-item\"><a class=\"interlanguage-link-target\" href=\"https://uk.wikipedia.org/wiki/\" hreflang=\"uk\" lang=\"uk\" title=\"Ukrainian\">Українська</a></li><li class=\"interlanguage-link interwiki-vi mw-list-item\"><a class=\"interlanguage-link-target\" href=\"https://vi.wikipedia.org/wiki/\" hreflang=\"vi\" lang=\"vi\" title=\"Vietnamese\">Tiếng Việt</a></li><li class=\"interlanguage-link interwiki-zh mw-list-item\"><a class=\"interlanguage-link-target\" href=\"https://zh.wikipedia.org/wiki/\" hreflang=\"zh\" lang=\"zh\" title=\"Chinese\">中文</a></li></ul>\n",
      "</div>\n",
      "</nav>\n",
      "</div>\n",
      "</div>\n",
      "<footer class=\"mw-footer\" id=\"footer\" role=\"contentinfo\">\n",
      "<ul id=\"footer-info\">\n",
      "<li id=\"footer-info-lastmod\"> This page was last edited on 3 February 2021, at 11:11<span class=\"anonymous-show\"> (UTC)</span>.</li>\n",
      "<li id=\"footer-info-copyright\">Text is available under the <a href=\"//en.wikipedia.org/wiki/Wikipedia:Text_of_Creative_Commons_Attribution-ShareAlike_3.0_Unported_License\" rel=\"license\">Creative Commons Attribution-ShareAlike License</a><a href=\"//creativecommons.org/licenses/by-sa/3.0/\" rel=\"license\" style=\"display:none;\"></a>;\n",
      "additional terms may apply.  By using this site, you agree to the <a href=\"//foundation.wikimedia.org/wiki/Terms_of_Use\">Terms of Use</a> and <a href=\"//foundation.wikimedia.org/wiki/Privacy_policy\">Privacy Policy</a>. Wikipedia® is a registered trademark of the <a href=\"//www.wikimediafoundation.org/\">Wikimedia Foundation, Inc.</a>, a non-profit organization.</li>\n",
      "</ul>\n",
      "<ul id=\"footer-places\">\n",
      "<li id=\"footer-places-privacy\"><a class=\"extiw\" href=\"https://foundation.wikimedia.org/wiki/Privacy_policy\" title=\"wmf:Privacy policy\">Privacy policy</a></li>\n",
      "<li id=\"footer-places-about\"><a href=\"/wiki/Wikipedia:About\" title=\"Wikipedia:About\">About Wikipedia</a></li>\n",
      "<li id=\"footer-places-disclaimer\"><a href=\"/wiki/Wikipedia:General_disclaimer\" title=\"Wikipedia:General disclaimer\">Disclaimers</a></li>\n",
      "<li id=\"footer-places-contact\"><a href=\"//en.wikipedia.org/wiki/Wikipedia:Contact_us\">Contact Wikipedia</a></li>\n",
      "<li id=\"footer-places-mobileview\"><a class=\"noprint stopMobileRedirectToggle\" href=\"//en.m.wikipedia.org/w/index.php?title=Main_Page&amp;mobileaction=toggle_view_mobile\">Mobile view</a></li>\n",
      "<li id=\"footer-places-developers\"><a href=\"https://www.mediawiki.org/wiki/Special:MyLanguage/How_to_contribute\">Developers</a></li>\n",
      "<li id=\"footer-places-statslink\"><a href=\"https://stats.wikimedia.org/#/en.wikipedia.org\">Statistics</a></li>\n",
      "<li id=\"footer-places-cookiestatement\"><a href=\"https://foundation.wikimedia.org/wiki/Cookie_statement\">Cookie statement</a></li>\n",
      "</ul>\n",
      "<ul class=\"noprint\" id=\"footer-icons\">\n",
      "<li id=\"footer-copyrightico\"><a href=\"https://wikimediafoundation.org/\"><img alt=\"Wikimedia Foundation\" height=\"31\" loading=\"lazy\" src=\"/static/images/footer/wikimedia-button.png\" srcset=\"/static/images/footer/wikimedia-button-1.5x.png 1.5x, /static/images/footer/wikimedia-button-2x.png 2x\" width=\"88\"/></a></li>\n",
      "<li id=\"footer-poweredbyico\"><a href=\"https://www.mediawiki.org/\"><img alt=\"Powered by MediaWiki\" height=\"31\" loading=\"lazy\" src=\"/static/images/footer/poweredby_mediawiki_88x31.png\" srcset=\"/static/images/footer/poweredby_mediawiki_132x47.png 1.5x, /static/images/footer/poweredby_mediawiki_176x62.png 2x\" width=\"88\"/></a></li>\n",
      "</ul>\n",
      "</footer>\n",
      "<script>(RLQ=window.RLQ||[]).push(function(){mw.config.set({\"wgPageParseReport\":{\"limitreport\":{\"cputime\":\"0.471\",\"walltime\":\"0.583\",\"ppvisitednodes\":{\"value\":4339,\"limit\":1000000},\"postexpandincludesize\":{\"value\":133347,\"limit\":2097152},\"templateargumentsize\":{\"value\":10205,\"limit\":2097152},\"expansiondepth\":{\"value\":23,\"limit\":40},\"expensivefunctioncount\":{\"value\":15,\"limit\":500},\"unstrip-depth\":{\"value\":0,\"limit\":20},\"unstrip-size\":{\"value\":5370,\"limit\":5000000},\"entityaccesscount\":{\"value\":0,\"limit\":400},\"timingprofile\":[\"100.00%  423.805      1 -total\",\" 43.46%  184.206      1 Wikipedia:Main_Page/Tomorrow\",\" 40.72%  172.556      9 Template:Main_page_image\",\" 24.80%  105.116      9 Template:Str_number/trim\",\" 20.26%   85.856     27 Template:If_empty\",\" 18.44%   78.136      2 Template:Main_page_image/TFA\",\" 18.03%   76.391      1 Wikipedia:Today's_featured_article/September_30,_2021\",\" 16.48%   69.858      1 Template:Did_you_know/Queue/5\",\" 12.11%   51.322      2 Template:Wikipedia_languages\",\" 11.82%   50.111      1 Wikipedia:Selected_anniversaries/September_30\"]},\"scribunto\":{\"limitreport-timeusage\":{\"value\":\"0.107\",\"limit\":\"10.000\"},\"limitreport-memusage\":{\"value\":2363401,\"limit\":52428800}},\"cachereport\":{\"origin\":\"mw1353\",\"timestamp\":\"20210930000710\",\"ttl\":3600,\"transientcontent\":true}}});});</script>\n",
      "<script type=\"application/ld+json\">{\"@context\":\"https:\\/\\/schema.org\",\"@type\":\"Article\",\"name\":\"Main Page\",\"url\":\"https:\\/\\/en.wikipedia.org\\/wiki\\/Main_Page\",\"sameAs\":\"http:\\/\\/www.wikidata.org\\/entity\\/Q5296\",\"mainEntity\":\"http:\\/\\/www.wikidata.org\\/entity\\/Q5296\",\"author\":{\"@type\":\"Organization\",\"name\":\"Contributors to Wikimedia projects\"},\"publisher\":{\"@type\":\"Organization\",\"name\":\"Wikimedia Foundation, Inc.\",\"logo\":{\"@type\":\"ImageObject\",\"url\":\"https:\\/\\/www.wikimedia.org\\/static\\/images\\/wmf-hor-googpub.png\"}},\"datePublished\":\"2002-01-26T15:28:12Z\",\"dateModified\":\"2021-02-03T11:11:30Z\",\"image\":\"https:\\/\\/upload.wikimedia.org\\/wikipedia\\/commons\\/e\\/ee\\/Wall_Painting_of_Muhammad_al-Durrah_who_Killed_by_the_Israeli_Occupation_forces.jpg\",\"headline\":\"Wikimedia project page\"}</script>\n",
      "<script>(RLQ=window.RLQ||[]).push(function(){mw.config.set({\"wgBackendResponseTime\":117,\"wgHostname\":\"mw1431\"});});</script>\n",
      "</body></html>>\n"
     ]
    }
   ],
   "source": [
    "print(soup.prettify)"
   ]
  },
  {
   "cell_type": "code",
   "execution_count": null,
   "metadata": {},
   "outputs": [],
   "source": []
  },
  {
   "cell_type": "code",
   "execution_count": 7,
   "metadata": {},
   "outputs": [],
   "source": [
    "tag_names=[]"
   ]
  },
  {
   "cell_type": "code",
   "execution_count": 8,
   "metadata": {},
   "outputs": [
    {
     "data": {
      "text/plain": [
       "[\"From today's featured article\",\n",
       " 'Did you know\\xa0...',\n",
       " 'In the news',\n",
       " 'On this day',\n",
       " \"Today's featured picture\",\n",
       " 'Other areas of Wikipedia',\n",
       " \"Wikipedia's sister projects\",\n",
       " 'Wikipedia languages']"
      ]
     },
     "execution_count": 8,
     "metadata": {},
     "output_type": "execute_result"
    }
   ],
   "source": [
    "for i in tags:\n",
    "    tag_names.append(i.text.strip())\n",
    "\n",
    "tag_names"
   ]
  },
  {
   "cell_type": "code",
   "execution_count": 9,
   "metadata": {},
   "outputs": [],
   "source": [
    "Wikipedia=pd.DataFrame({})\n",
    "Wikipedia[\"header_tags\"]=tag_names"
   ]
  },
  {
   "cell_type": "code",
   "execution_count": 10,
   "metadata": {},
   "outputs": [
    {
     "data": {
      "text/html": [
       "<div>\n",
       "<style scoped>\n",
       "    .dataframe tbody tr th:only-of-type {\n",
       "        vertical-align: middle;\n",
       "    }\n",
       "\n",
       "    .dataframe tbody tr th {\n",
       "        vertical-align: top;\n",
       "    }\n",
       "\n",
       "    .dataframe thead th {\n",
       "        text-align: right;\n",
       "    }\n",
       "</style>\n",
       "<table border=\"1\" class=\"dataframe\">\n",
       "  <thead>\n",
       "    <tr style=\"text-align: right;\">\n",
       "      <th></th>\n",
       "      <th>header_tags</th>\n",
       "    </tr>\n",
       "  </thead>\n",
       "  <tbody>\n",
       "    <tr>\n",
       "      <th>0</th>\n",
       "      <td>From today's featured article</td>\n",
       "    </tr>\n",
       "    <tr>\n",
       "      <th>1</th>\n",
       "      <td>Did you know ...</td>\n",
       "    </tr>\n",
       "    <tr>\n",
       "      <th>2</th>\n",
       "      <td>In the news</td>\n",
       "    </tr>\n",
       "    <tr>\n",
       "      <th>3</th>\n",
       "      <td>On this day</td>\n",
       "    </tr>\n",
       "    <tr>\n",
       "      <th>4</th>\n",
       "      <td>Today's featured picture</td>\n",
       "    </tr>\n",
       "    <tr>\n",
       "      <th>5</th>\n",
       "      <td>Other areas of Wikipedia</td>\n",
       "    </tr>\n",
       "    <tr>\n",
       "      <th>6</th>\n",
       "      <td>Wikipedia's sister projects</td>\n",
       "    </tr>\n",
       "    <tr>\n",
       "      <th>7</th>\n",
       "      <td>Wikipedia languages</td>\n",
       "    </tr>\n",
       "  </tbody>\n",
       "</table>\n",
       "</div>"
      ],
      "text/plain": [
       "                     header_tags\n",
       "0  From today's featured article\n",
       "1               Did you know ...\n",
       "2                    In the news\n",
       "3                    On this day\n",
       "4       Today's featured picture\n",
       "5       Other areas of Wikipedia\n",
       "6    Wikipedia's sister projects\n",
       "7            Wikipedia languages"
      ]
     },
     "execution_count": 10,
     "metadata": {},
     "output_type": "execute_result"
    }
   ],
   "source": [
    "Wikipedia"
   ]
  },
  {
   "cell_type": "markdown",
   "metadata": {},
   "source": [
    "### 2. Write a python program to display IMDB’s Top rated 100 movies’ data (i.e. Name, IMDB rating, Year of release)."
   ]
  },
  {
   "cell_type": "code",
   "execution_count": 11,
   "metadata": {},
   "outputs": [],
   "source": [
    "url= \"https://www.imdb.com/chart/top/\""
   ]
  },
  {
   "cell_type": "code",
   "execution_count": 12,
   "metadata": {},
   "outputs": [
    {
     "data": {
      "text/plain": [
       "<Response [200]>"
      ]
     },
     "execution_count": 12,
     "metadata": {},
     "output_type": "execute_result"
    }
   ],
   "source": [
    "rating_page=requests.get(url)\n",
    "rating_page"
   ]
  },
  {
   "cell_type": "code",
   "execution_count": 141,
   "metadata": {},
   "outputs": [],
   "source": [
    "#get movie names \n",
    "soup1=BeautifulSoup(rating_page.content) \n",
    "  \n",
    "movies=soup1.find_all(\"td\",class_=\"titleColumn\")  "
   ]
  },
  {
   "cell_type": "code",
   "execution_count": 142,
   "metadata": {},
   "outputs": [],
   "source": [
    "#print(soup1.prettify)"
   ]
  },
  {
   "cell_type": "code",
   "execution_count": 143,
   "metadata": {},
   "outputs": [],
   "source": [
    "movie_names=[]"
   ]
  },
  {
   "cell_type": "code",
   "execution_count": 144,
   "metadata": {},
   "outputs": [],
   "source": [
    "for i in movies:\n",
    "    i=i.get_text().replace(\"\\n\",\"\")\n",
    "    i=i.strip()\n",
    "    movie_names.append(i)"
   ]
  },
  {
   "cell_type": "code",
   "execution_count": 145,
   "metadata": {},
   "outputs": [
    {
     "data": {
      "text/plain": [
       "250"
      ]
     },
     "execution_count": 145,
     "metadata": {},
     "output_type": "execute_result"
    }
   ],
   "source": [
    "len(movie_names)"
   ]
  },
  {
   "cell_type": "code",
   "execution_count": 18,
   "metadata": {},
   "outputs": [
    {
     "data": {
      "text/plain": [
       "bs4.element.ResultSet"
      ]
     },
     "execution_count": 18,
     "metadata": {},
     "output_type": "execute_result"
    }
   ],
   "source": [
    "#get ratings \n",
    "ratings=soup1.find_all(\"td\",class_=\"ratingColumn imdbRating\") \n",
    "type(ratings)"
   ]
  },
  {
   "cell_type": "code",
   "execution_count": 19,
   "metadata": {},
   "outputs": [],
   "source": [
    "movie_rating=[] # blank list "
   ]
  },
  {
   "cell_type": "code",
   "execution_count": 20,
   "metadata": {},
   "outputs": [],
   "source": [
    "for rate in ratings:\n",
    "    rate=rate.get_text().replace(\"\\n\",\"\")\n",
    "    rate=rate.strip()\n",
    "    movie_rating.append(rate)"
   ]
  },
  {
   "cell_type": "code",
   "execution_count": 21,
   "metadata": {},
   "outputs": [
    {
     "data": {
      "text/plain": [
       "250"
      ]
     },
     "execution_count": 21,
     "metadata": {},
     "output_type": "execute_result"
    }
   ],
   "source": [
    "len(movie_rating)"
   ]
  },
  {
   "cell_type": "code",
   "execution_count": 22,
   "metadata": {},
   "outputs": [],
   "source": [
    "\n",
    "#yearof release \n",
    "\n",
    "yor=soup1.find_all(\"span\",class_=\"secondaryInfo\")\n"
   ]
  },
  {
   "cell_type": "code",
   "execution_count": 23,
   "metadata": {},
   "outputs": [],
   "source": [
    "Year_of_release=[]\n",
    "for year in yor:\n",
    "    year=year.get_text().replace(\"(\",\"\")\n",
    "    year=year.replace(\")\",\"\")\n",
    "    Year_of_release.append(year) \n",
    "   \n",
    "    "
   ]
  },
  {
   "cell_type": "code",
   "execution_count": 24,
   "metadata": {},
   "outputs": [
    {
     "data": {
      "text/plain": [
       "250"
      ]
     },
     "execution_count": 24,
     "metadata": {},
     "output_type": "execute_result"
    }
   ],
   "source": [
    "len(Year_of_release)"
   ]
  },
  {
   "cell_type": "code",
   "execution_count": 25,
   "metadata": {},
   "outputs": [],
   "source": [
    "movie_list=pd.DataFrame({})\n",
    "movie_list[\"names\"]=movie_names\n",
    "movie_list[\"ratings\"]=movie_rating\n",
    "movie_list[\"releasing_year\"]=Year_of_release\n",
    "movie_list.index=np.arange(1,len(movie_list)+1)\n"
   ]
  },
  {
   "cell_type": "code",
   "execution_count": null,
   "metadata": {},
   "outputs": [],
   "source": []
  },
  {
   "cell_type": "code",
   "execution_count": 26,
   "metadata": {
    "scrolled": true
   },
   "outputs": [
    {
     "data": {
      "text/html": [
       "<div>\n",
       "<style scoped>\n",
       "    .dataframe tbody tr th:only-of-type {\n",
       "        vertical-align: middle;\n",
       "    }\n",
       "\n",
       "    .dataframe tbody tr th {\n",
       "        vertical-align: top;\n",
       "    }\n",
       "\n",
       "    .dataframe thead th {\n",
       "        text-align: right;\n",
       "    }\n",
       "</style>\n",
       "<table border=\"1\" class=\"dataframe\">\n",
       "  <thead>\n",
       "    <tr style=\"text-align: right;\">\n",
       "      <th></th>\n",
       "      <th>names</th>\n",
       "      <th>ratings</th>\n",
       "      <th>releasing_year</th>\n",
       "    </tr>\n",
       "  </thead>\n",
       "  <tbody>\n",
       "    <tr>\n",
       "      <th>1</th>\n",
       "      <td>1.      The Shawshank Redemption(1994)</td>\n",
       "      <td>9.2</td>\n",
       "      <td>1994</td>\n",
       "    </tr>\n",
       "    <tr>\n",
       "      <th>2</th>\n",
       "      <td>2.      The Godfather(1972)</td>\n",
       "      <td>9.1</td>\n",
       "      <td>1972</td>\n",
       "    </tr>\n",
       "    <tr>\n",
       "      <th>3</th>\n",
       "      <td>3.      The Godfather: Part II(1974)</td>\n",
       "      <td>9.0</td>\n",
       "      <td>1974</td>\n",
       "    </tr>\n",
       "    <tr>\n",
       "      <th>4</th>\n",
       "      <td>4.      The Dark Knight(2008)</td>\n",
       "      <td>9.0</td>\n",
       "      <td>2008</td>\n",
       "    </tr>\n",
       "    <tr>\n",
       "      <th>5</th>\n",
       "      <td>5.      12 Angry Men(1957)</td>\n",
       "      <td>8.9</td>\n",
       "      <td>1957</td>\n",
       "    </tr>\n",
       "    <tr>\n",
       "      <th>...</th>\n",
       "      <td>...</td>\n",
       "      <td>...</td>\n",
       "      <td>...</td>\n",
       "    </tr>\n",
       "    <tr>\n",
       "      <th>96</th>\n",
       "      <td>96.      Dune(2021)</td>\n",
       "      <td>8.3</td>\n",
       "      <td>2021</td>\n",
       "    </tr>\n",
       "    <tr>\n",
       "      <th>97</th>\n",
       "      <td>97.      Requiem for a Dream(2000)</td>\n",
       "      <td>8.3</td>\n",
       "      <td>2000</td>\n",
       "    </tr>\n",
       "    <tr>\n",
       "      <th>98</th>\n",
       "      <td>98.      Singin' in the Rain(1952)</td>\n",
       "      <td>8.3</td>\n",
       "      <td>1952</td>\n",
       "    </tr>\n",
       "    <tr>\n",
       "      <th>99</th>\n",
       "      <td>99.      North by Northwest(1959)</td>\n",
       "      <td>8.3</td>\n",
       "      <td>1959</td>\n",
       "    </tr>\n",
       "    <tr>\n",
       "      <th>100</th>\n",
       "      <td>100.      Eternal Sunshine of the Spotless Min...</td>\n",
       "      <td>8.3</td>\n",
       "      <td>2004</td>\n",
       "    </tr>\n",
       "  </tbody>\n",
       "</table>\n",
       "<p>100 rows × 3 columns</p>\n",
       "</div>"
      ],
      "text/plain": [
       "                                                 names ratings releasing_year\n",
       "1               1.      The Shawshank Redemption(1994)     9.2           1994\n",
       "2                          2.      The Godfather(1972)     9.1           1972\n",
       "3                 3.      The Godfather: Part II(1974)     9.0           1974\n",
       "4                        4.      The Dark Knight(2008)     9.0           2008\n",
       "5                           5.      12 Angry Men(1957)     8.9           1957\n",
       "..                                                 ...     ...            ...\n",
       "96                                 96.      Dune(2021)     8.3           2021\n",
       "97                  97.      Requiem for a Dream(2000)     8.3           2000\n",
       "98                  98.      Singin' in the Rain(1952)     8.3           1952\n",
       "99                   99.      North by Northwest(1959)     8.3           1959\n",
       "100  100.      Eternal Sunshine of the Spotless Min...     8.3           2004\n",
       "\n",
       "[100 rows x 3 columns]"
      ]
     },
     "execution_count": 26,
     "metadata": {},
     "output_type": "execute_result"
    }
   ],
   "source": [
    "#as the data was collected from the movie rating page  so  the ratings are already in decending order with respect to the index \n",
    "movie_list.head(100)"
   ]
  },
  {
   "cell_type": "markdown",
   "metadata": {},
   "source": [
    "# movie code needs  refiing for only  movie names . \n"
   ]
  },
  {
   "cell_type": "markdown",
   "metadata": {},
   "source": [
    "# 3. Write a python program to display IMDB’s Top rated 100 Indian movies’ data (i.e. Name, IMDB rating, Year of release)."
   ]
  },
  {
   "cell_type": "code",
   "execution_count": 27,
   "metadata": {},
   "outputs": [],
   "source": [
    "url3=\"https://www.imdb.com/india/top-rated-indian-movies/?pf_rd_m=A2FGELUUNOQJNL&pf_rd_p=2e9dfa9b-3e4d-4d39-acd2-8af11f252a59&pf_rd_r=ZW5B3NN95TWCT66B28B0&pf_rd_s=right-5&pf_rd_t=15506&pf_rd_i=top&ref_=chttp_india_tr_rhs_1\""
   ]
  },
  {
   "cell_type": "code",
   "execution_count": 28,
   "metadata": {},
   "outputs": [
    {
     "data": {
      "text/plain": [
       "<Response [200]>"
      ]
     },
     "execution_count": 28,
     "metadata": {},
     "output_type": "execute_result"
    }
   ],
   "source": [
    "page3=requests.get(url3)\n",
    "page3"
   ]
  },
  {
   "cell_type": "code",
   "execution_count": 29,
   "metadata": {},
   "outputs": [],
   "source": [
    "soup3=BeautifulSoup(page3.content)\n",
    "ind_movies=soup3.find_all(\"td\",class_=\"titleColumn\")  "
   ]
  },
  {
   "cell_type": "code",
   "execution_count": 30,
   "metadata": {},
   "outputs": [],
   "source": [
    "ind_movie=[]"
   ]
  },
  {
   "cell_type": "code",
   "execution_count": 31,
   "metadata": {},
   "outputs": [],
   "source": [
    "for k in ind_movies:\n",
    "    k=k.get_text().replace(\"\\n\",\"\")\n",
    "    k=k.strip()\n",
    "    ind_movie.append(k)"
   ]
  },
  {
   "cell_type": "code",
   "execution_count": 32,
   "metadata": {},
   "outputs": [],
   "source": [
    "ratings_bolly=soup3.find_all(\"td\",class_=\"ratingColumn imdbRating\") "
   ]
  },
  {
   "cell_type": "code",
   "execution_count": 33,
   "metadata": {},
   "outputs": [],
   "source": [
    "bolly_rating=[]"
   ]
  },
  {
   "cell_type": "code",
   "execution_count": 34,
   "metadata": {},
   "outputs": [],
   "source": [
    "for stars in ratings_bolly:\n",
    "    stars=stars.get_text().replace('\\n',\"\")\n",
    "    stars=stars.strip()\n",
    "    bolly_rating.append(stars)"
   ]
  },
  {
   "cell_type": "code",
   "execution_count": 35,
   "metadata": {},
   "outputs": [],
   "source": [
    "year_of_release =soup3.find_all(\"span\",class_=\"secondaryInfo\")\n",
    "\n"
   ]
  },
  {
   "cell_type": "code",
   "execution_count": 36,
   "metadata": {},
   "outputs": [],
   "source": [
    "ReleasingYear=[]"
   ]
  },
  {
   "cell_type": "code",
   "execution_count": 37,
   "metadata": {},
   "outputs": [],
   "source": [
    "for years in year_of_release:\n",
    "    years=years.get_text().replace('(',\"\")\n",
    "    years=years.replace(')',\"\")\n",
    "    years=years.strip()\n",
    "    ReleasingYear.append(years)"
   ]
  },
  {
   "cell_type": "code",
   "execution_count": 38,
   "metadata": {},
   "outputs": [
    {
     "data": {
      "text/html": [
       "<div>\n",
       "<style scoped>\n",
       "    .dataframe tbody tr th:only-of-type {\n",
       "        vertical-align: middle;\n",
       "    }\n",
       "\n",
       "    .dataframe tbody tr th {\n",
       "        vertical-align: top;\n",
       "    }\n",
       "\n",
       "    .dataframe thead th {\n",
       "        text-align: right;\n",
       "    }\n",
       "</style>\n",
       "<table border=\"1\" class=\"dataframe\">\n",
       "  <thead>\n",
       "    <tr style=\"text-align: right;\">\n",
       "      <th></th>\n",
       "      <th>Movie Names</th>\n",
       "      <th>Movie Ratings</th>\n",
       "      <th>Releasing Year</th>\n",
       "    </tr>\n",
       "  </thead>\n",
       "  <tbody>\n",
       "    <tr>\n",
       "      <th>1</th>\n",
       "      <td>1.      Nayakan(1987)</td>\n",
       "      <td>8.5</td>\n",
       "      <td>1987</td>\n",
       "    </tr>\n",
       "    <tr>\n",
       "      <th>2</th>\n",
       "      <td>2.      Anbe Sivam(2003)</td>\n",
       "      <td>8.5</td>\n",
       "      <td>2003</td>\n",
       "    </tr>\n",
       "    <tr>\n",
       "      <th>3</th>\n",
       "      <td>3.      Pariyerum Perumal(2018)</td>\n",
       "      <td>8.5</td>\n",
       "      <td>2018</td>\n",
       "    </tr>\n",
       "    <tr>\n",
       "      <th>4</th>\n",
       "      <td>4.      C/o Kancharapalem(2018)</td>\n",
       "      <td>8.5</td>\n",
       "      <td>2018</td>\n",
       "    </tr>\n",
       "    <tr>\n",
       "      <th>5</th>\n",
       "      <td>5.      Golmaal(1979)</td>\n",
       "      <td>8.5</td>\n",
       "      <td>1979</td>\n",
       "    </tr>\n",
       "    <tr>\n",
       "      <th>...</th>\n",
       "      <td>...</td>\n",
       "      <td>...</td>\n",
       "      <td>...</td>\n",
       "    </tr>\n",
       "    <tr>\n",
       "      <th>96</th>\n",
       "      <td>96.      Rang De Basanti(2006)</td>\n",
       "      <td>8.1</td>\n",
       "      <td>2006</td>\n",
       "    </tr>\n",
       "    <tr>\n",
       "      <th>97</th>\n",
       "      <td>97.      OMG: Oh My God!(2012)</td>\n",
       "      <td>8.1</td>\n",
       "      <td>2012</td>\n",
       "    </tr>\n",
       "    <tr>\n",
       "      <th>98</th>\n",
       "      <td>98.      Roja(1992)</td>\n",
       "      <td>8.1</td>\n",
       "      <td>1992</td>\n",
       "    </tr>\n",
       "    <tr>\n",
       "      <th>99</th>\n",
       "      <td>99.      Uri: The Surgical Strike(2019)</td>\n",
       "      <td>8.1</td>\n",
       "      <td>2019</td>\n",
       "    </tr>\n",
       "    <tr>\n",
       "      <th>100</th>\n",
       "      <td>100.      Lagaan: Once Upon a Time in India(2001)</td>\n",
       "      <td>8.1</td>\n",
       "      <td>2001</td>\n",
       "    </tr>\n",
       "  </tbody>\n",
       "</table>\n",
       "<p>100 rows × 3 columns</p>\n",
       "</div>"
      ],
      "text/plain": [
       "                                          Movie Names  Movie Ratings    \\\n",
       "1                                1.      Nayakan(1987)             8.5   \n",
       "2                             2.      Anbe Sivam(2003)             8.5   \n",
       "3                      3.      Pariyerum Perumal(2018)             8.5   \n",
       "4                      4.      C/o Kancharapalem(2018)             8.5   \n",
       "5                                5.      Golmaal(1979)             8.5   \n",
       "..                                                 ...             ...   \n",
       "96                      96.      Rang De Basanti(2006)             8.1   \n",
       "97                      97.      OMG: Oh My God!(2012)             8.1   \n",
       "98                                 98.      Roja(1992)             8.1   \n",
       "99             99.      Uri: The Surgical Strike(2019)             8.1   \n",
       "100  100.      Lagaan: Once Upon a Time in India(2001)             8.1   \n",
       "\n",
       "    Releasing Year  \n",
       "1             1987  \n",
       "2             2003  \n",
       "3             2018  \n",
       "4             2018  \n",
       "5             1979  \n",
       "..             ...  \n",
       "96            2006  \n",
       "97            2012  \n",
       "98            1992  \n",
       "99            2019  \n",
       "100           2001  \n",
       "\n",
       "[100 rows x 3 columns]"
      ]
     },
     "execution_count": 38,
     "metadata": {},
     "output_type": "execute_result"
    }
   ],
   "source": [
    "Bollywood =pd.DataFrame ({})\n",
    "Bollywood[\"Movie Names \"]=ind_movie\n",
    "Bollywood[\"Movie Ratings  \"]=bolly_rating\n",
    "Bollywood[\"Releasing Year\"]=ReleasingYear\n",
    "Bollywood.index=np.arange(1,len(Bollywood)+1)\n",
    "Bollywood.head (100)\n"
   ]
  },
  {
   "cell_type": "markdown",
   "metadata": {},
   "source": [
    "# 4.Write a python program to scrap book name, author name, genre and book review of any 5 books from ‘www.bookpage.com’"
   ]
  },
  {
   "cell_type": "code",
   "execution_count": 39,
   "metadata": {},
   "outputs": [],
   "source": [
    "url4=\"https://bookpage.com/reviews?page=4\""
   ]
  },
  {
   "cell_type": "code",
   "execution_count": 40,
   "metadata": {},
   "outputs": [
    {
     "data": {
      "text/plain": [
       "<Response [200]>"
      ]
     },
     "execution_count": 40,
     "metadata": {},
     "output_type": "execute_result"
    }
   ],
   "source": [
    "page4=requests.get(url4)\n",
    "page4"
   ]
  },
  {
   "cell_type": "code",
   "execution_count": 41,
   "metadata": {},
   "outputs": [],
   "source": [
    "soup4=BeautifulSoup(page4.content)\n",
    "bookpage=soup4.find_all(\"h4\",class_=\"italic\")"
   ]
  },
  {
   "cell_type": "code",
   "execution_count": 42,
   "metadata": {},
   "outputs": [],
   "source": [
    "book_name=[]"
   ]
  },
  {
   "cell_type": "code",
   "execution_count": 43,
   "metadata": {},
   "outputs": [],
   "source": [
    "for book in bookpage:\n",
    "    book=book.get_text().replace(\"\\n\",\"\")\n",
    "    book=book.strip()\n",
    "    book_name.append(book)"
   ]
  },
  {
   "cell_type": "code",
   "execution_count": 44,
   "metadata": {},
   "outputs": [
    {
     "data": {
      "text/plain": [
       "['Travels With George',\n",
       " '★ Harrow',\n",
       " '★ Slewfoot',\n",
       " 'Time Is a Flower',\n",
       " 'The Dressmakers of Auschwitz',\n",
       " 'The Spectacular',\n",
       " 'Saga Boy',\n",
       " 'The Madness of Crowds',\n",
       " '★ Fuzz',\n",
       " '★ The Sweetness of Water']"
      ]
     },
     "execution_count": 44,
     "metadata": {},
     "output_type": "execute_result"
    }
   ],
   "source": [
    "book_name"
   ]
  },
  {
   "cell_type": "code",
   "execution_count": 45,
   "metadata": {},
   "outputs": [],
   "source": [
    "soup4=BeautifulSoup(page4.content)\n",
    "Auth=soup4.find_all(\"p\",class_=\"sans bold\")"
   ]
  },
  {
   "cell_type": "code",
   "execution_count": 46,
   "metadata": {},
   "outputs": [],
   "source": [
    "Author_name=[]"
   ]
  },
  {
   "cell_type": "code",
   "execution_count": 47,
   "metadata": {},
   "outputs": [],
   "source": [
    "for author in Auth:\n",
    "    author=author.get_text().replace(\"\\n\",\"\")\n",
    "    author=author.strip()\n",
    "    Author_name.append(author)"
   ]
  },
  {
   "cell_type": "code",
   "execution_count": 48,
   "metadata": {},
   "outputs": [
    {
     "data": {
      "text/plain": [
       "['Nathaniel Philbrick',\n",
       " 'Joy Williams',\n",
       " 'Brom',\n",
       " 'Julie Morstad',\n",
       " 'Lucy Adlington',\n",
       " 'Zoe Whittall',\n",
       " 'Antonio Michael Downing',\n",
       " 'Louise Penny, Robert Bathurst',\n",
       " 'Mary Roach',\n",
       " 'Nathan Harris, William DeMeritt']"
      ]
     },
     "execution_count": 48,
     "metadata": {},
     "output_type": "execute_result"
    }
   ],
   "source": [
    "Author_name"
   ]
  },
  {
   "cell_type": "code",
   "execution_count": 49,
   "metadata": {},
   "outputs": [
    {
     "data": {
      "text/plain": [
       "10"
      ]
     },
     "execution_count": 49,
     "metadata": {},
     "output_type": "execute_result"
    }
   ],
   "source": [
    "len(Author_name)"
   ]
  },
  {
   "cell_type": "code",
   "execution_count": null,
   "metadata": {},
   "outputs": [],
   "source": []
  },
  {
   "cell_type": "code",
   "execution_count": 50,
   "metadata": {},
   "outputs": [],
   "source": [
    "genre=soup4.find_all(\"p\",class_=\"genre-links hidden-phone\")\n",
    "#genre=soup4.find_all(\"a\",href=True)\n"
   ]
  },
  {
   "cell_type": "code",
   "execution_count": 51,
   "metadata": {},
   "outputs": [],
   "source": [
    "genres=[]"
   ]
  },
  {
   "cell_type": "code",
   "execution_count": 52,
   "metadata": {},
   "outputs": [],
   "source": [
    "for genr in genre:\n",
    "    genr=genr.get_text().replace(\"\\n\",\"\")\n",
    "    genr=genr.strip()\n",
    "    genres.append(genr)"
   ]
  },
  {
   "cell_type": "code",
   "execution_count": 53,
   "metadata": {},
   "outputs": [
    {
     "data": {
      "text/plain": [
       "['Nonfiction / History / American History',\n",
       " 'Fiction / Literary Fiction',\n",
       " 'Science Fiction & Fantasy / Horror',\n",
       " \"Children's / Picture Book\",\n",
       " 'Nonfiction / History / European History',\n",
       " 'Fiction / Family Drama',\n",
       " 'Nonfiction / Memoir / Music',\n",
       " 'Audio / Mystery & Suspense / Mystery',\n",
       " 'Nonfiction / Science & Nature / Animals',\n",
       " 'Audio / Fiction / Historical Fiction']"
      ]
     },
     "execution_count": 53,
     "metadata": {},
     "output_type": "execute_result"
    }
   ],
   "source": [
    "genres"
   ]
  },
  {
   "cell_type": "code",
   "execution_count": 54,
   "metadata": {},
   "outputs": [
    {
     "data": {
      "text/plain": [
       "10"
      ]
     },
     "execution_count": 54,
     "metadata": {},
     "output_type": "execute_result"
    }
   ],
   "source": [
    "len(genres)"
   ]
  },
  {
   "cell_type": "code",
   "execution_count": 55,
   "metadata": {},
   "outputs": [],
   "source": [
    "#add book rating "
   ]
  },
  {
   "cell_type": "code",
   "execution_count": 56,
   "metadata": {},
   "outputs": [],
   "source": [
    "bookpage=pd.DataFrame({})\n",
    "bookpage[\"Book name\"]=book_name\n",
    "bookpage[\"Author name \"]=Author_name\n",
    "bookpage[\"Genre\"]=genres"
   ]
  },
  {
   "cell_type": "code",
   "execution_count": 57,
   "metadata": {},
   "outputs": [
    {
     "data": {
      "text/html": [
       "<div>\n",
       "<style scoped>\n",
       "    .dataframe tbody tr th:only-of-type {\n",
       "        vertical-align: middle;\n",
       "    }\n",
       "\n",
       "    .dataframe tbody tr th {\n",
       "        vertical-align: top;\n",
       "    }\n",
       "\n",
       "    .dataframe thead th {\n",
       "        text-align: right;\n",
       "    }\n",
       "</style>\n",
       "<table border=\"1\" class=\"dataframe\">\n",
       "  <thead>\n",
       "    <tr style=\"text-align: right;\">\n",
       "      <th></th>\n",
       "      <th>Book name</th>\n",
       "      <th>Author name</th>\n",
       "      <th>Genre</th>\n",
       "    </tr>\n",
       "  </thead>\n",
       "  <tbody>\n",
       "    <tr>\n",
       "      <th>3</th>\n",
       "      <td>Time Is a Flower</td>\n",
       "      <td>Julie Morstad</td>\n",
       "      <td>Children's / Picture Book</td>\n",
       "    </tr>\n",
       "    <tr>\n",
       "      <th>9</th>\n",
       "      <td>★ The Sweetness of Water</td>\n",
       "      <td>Nathan Harris, William DeMeritt</td>\n",
       "      <td>Audio / Fiction / Historical Fiction</td>\n",
       "    </tr>\n",
       "    <tr>\n",
       "      <th>0</th>\n",
       "      <td>Travels With George</td>\n",
       "      <td>Nathaniel Philbrick</td>\n",
       "      <td>Nonfiction / History / American History</td>\n",
       "    </tr>\n",
       "    <tr>\n",
       "      <th>8</th>\n",
       "      <td>★ Fuzz</td>\n",
       "      <td>Mary Roach</td>\n",
       "      <td>Nonfiction / Science &amp; Nature / Animals</td>\n",
       "    </tr>\n",
       "    <tr>\n",
       "      <th>2</th>\n",
       "      <td>★ Slewfoot</td>\n",
       "      <td>Brom</td>\n",
       "      <td>Science Fiction &amp; Fantasy / Horror</td>\n",
       "    </tr>\n",
       "  </tbody>\n",
       "</table>\n",
       "</div>"
      ],
      "text/plain": [
       "                  Book name                     Author name   \\\n",
       "3          Time Is a Flower                    Julie Morstad   \n",
       "9  ★ The Sweetness of Water  Nathan Harris, William DeMeritt   \n",
       "0       Travels With George              Nathaniel Philbrick   \n",
       "8                    ★ Fuzz                       Mary Roach   \n",
       "2                ★ Slewfoot                             Brom   \n",
       "\n",
       "                                     Genre  \n",
       "3                Children's / Picture Book  \n",
       "9     Audio / Fiction / Historical Fiction  \n",
       "0  Nonfiction / History / American History  \n",
       "8  Nonfiction / Science & Nature / Animals  \n",
       "2       Science Fiction & Fantasy / Horror  "
      ]
     },
     "execution_count": 57,
     "metadata": {},
     "output_type": "execute_result"
    }
   ],
   "source": [
    "bookpage.sample(5)"
   ]
  },
  {
   "cell_type": "markdown",
   "metadata": {},
   "source": [
    "# 5.Write a python program to scrape cricket rankings from ‘www.icc-cricket.com’. You have to scrape:\n"
   ]
  },
  {
   "cell_type": "markdown",
   "metadata": {},
   "source": [
    "# i) Top 10 ODI teams in men’s cricket along with the records for matches, points and rating.\n"
   ]
  },
  {
   "cell_type": "code",
   "execution_count": 58,
   "metadata": {},
   "outputs": [
    {
     "data": {
      "text/plain": [
       "<Response [200]>"
      ]
     },
     "execution_count": 58,
     "metadata": {},
     "output_type": "execute_result"
    }
   ],
   "source": [
    "url5=\"https://www.icc-cricket.com/rankings/mens/team-rankings/odi\"\n",
    "page5=requests.get(url5)\n",
    "page5"
   ]
  },
  {
   "cell_type": "code",
   "execution_count": 59,
   "metadata": {},
   "outputs": [],
   "source": [
    "soup5=BeautifulSoup(page5.content)\n",
    "teams=soup5.find_all(\"span\",class_=\"u-hide-phablet\") #name contains social links which are to be deleted \n",
    "\n",
    "#match count -1\n",
    "matches=soup5.find_all(\"td\",class_=\"rankings-block__banner--matches\")\n",
    "#Points -1\n",
    "point=soup5.find_all(\"td\",class_=\"rankings-block__banner--points\")\n",
    "\n",
    "#sl 2-20\n",
    "Match_point=soup5.find_all(\"td\",class_=\"table-body__cell u-center-text\")\n",
    "\n",
    "#team rating \n",
    "tm_rating=soup5.find_all(\"td\",class_=\"rankings-block__banner--rating u-text-right\")\n",
    "t_rating=soup5.find_all(\"td\",class_=\"table-body__cell u-text-right rating\")\n"
   ]
  },
  {
   "cell_type": "code",
   "execution_count": 60,
   "metadata": {},
   "outputs": [],
   "source": [
    "datalist=[teams,matches,point,t_rating]\n",
    "team_name=[]\n",
    "Matches_played=[]\n",
    "points_earned=[]\n",
    "Team_rating=[]\n",
    "Mat_poi=[]\n"
   ]
  },
  {
   "cell_type": "code",
   "execution_count": 61,
   "metadata": {},
   "outputs": [],
   "source": [
    "for team in teams:\n",
    "            team=team.get_text().replace(\"\\n\",\"\")\n",
    "            team=team.strip()\n",
    "            team_name.append(team)\n",
    "\n",
    "            \n",
    "team_name[20:25]=[]"
   ]
  },
  {
   "cell_type": "code",
   "execution_count": 62,
   "metadata": {},
   "outputs": [],
   "source": [
    "\n",
    "for m in matches:\n",
    "        m=m.get_text().replace(\"\\n\",\"\")\n",
    "        m=m.strip()\n",
    "        Matches_played.append(m)\n"
   ]
  },
  {
   "cell_type": "code",
   "execution_count": 63,
   "metadata": {},
   "outputs": [],
   "source": [
    "for p in point:\n",
    "        p=p.get_text().replace(\"\\n\",\"\")\n",
    "        p=p.strip()\n",
    "        points_earned.append(p)\n",
    "    "
   ]
  },
  {
   "cell_type": "code",
   "execution_count": 64,
   "metadata": {},
   "outputs": [],
   "source": [
    "for ra in tm_rating:\n",
    "        ra=ra.get_text().replace(\"\\n\",\"\")\n",
    "        ra=ra.strip()\n",
    "        Team_rating.append(ra)\n",
    "\n",
    "for r in t_rating:\n",
    "        r=r.get_text().replace(\"\\n\",\"\")\n",
    "        r=r.strip()\n",
    "        Team_rating.append(r)\n",
    "            "
   ]
  },
  {
   "cell_type": "code",
   "execution_count": 65,
   "metadata": {},
   "outputs": [
    {
     "data": {
      "text/plain": [
       "38"
      ]
     },
     "execution_count": 65,
     "metadata": {},
     "output_type": "execute_result"
    }
   ],
   "source": [
    "len(Match_point)"
   ]
  },
  {
   "cell_type": "code",
   "execution_count": 66,
   "metadata": {},
   "outputs": [],
   "source": [
    "ran=range(len(Match_point))\n",
    "\n",
    "for mp in Match_point :\n",
    "    mp=mp.get_text().replace(\"\\n\",\"\")\n",
    "    mp=mp.strip()\n",
    "    Mat_poi.append(mp)"
   ]
  },
  {
   "cell_type": "code",
   "execution_count": 67,
   "metadata": {},
   "outputs": [],
   "source": [
    "for i in range(0, len(Mat_poi)):\n",
    "        if i % 2==1:\n",
    "            Matches_played.append(Mat_poi[i])\n",
    "        else :\n",
    "            points_earned.append(Mat_poi[i])\n",
    "           "
   ]
  },
  {
   "cell_type": "code",
   "execution_count": 68,
   "metadata": {},
   "outputs": [],
   "source": [
    "team_data=pd.DataFrame({})\n",
    "team_data[\"Team Name\"]=team_name\n",
    "team_data[\"Matches\"]=Matches_played\n",
    "team_data[\"Points\"]=points_earned\n",
    "team_data[\"Rating\"]=Team_rating\n",
    "team_data.index = np.arange(1,len(team_data)+1)"
   ]
  },
  {
   "cell_type": "code",
   "execution_count": 69,
   "metadata": {},
   "outputs": [
    {
     "name": "stdout",
     "output_type": "stream",
     "text": [
      "Top 10 teams of ODI are\n"
     ]
    },
    {
     "data": {
      "text/html": [
       "<div>\n",
       "<style scoped>\n",
       "    .dataframe tbody tr th:only-of-type {\n",
       "        vertical-align: middle;\n",
       "    }\n",
       "\n",
       "    .dataframe tbody tr th {\n",
       "        vertical-align: top;\n",
       "    }\n",
       "\n",
       "    .dataframe thead th {\n",
       "        text-align: right;\n",
       "    }\n",
       "</style>\n",
       "<table border=\"1\" class=\"dataframe\">\n",
       "  <thead>\n",
       "    <tr style=\"text-align: right;\">\n",
       "      <th></th>\n",
       "      <th>Team Name</th>\n",
       "      <th>Matches</th>\n",
       "      <th>Points</th>\n",
       "      <th>Rating</th>\n",
       "    </tr>\n",
       "  </thead>\n",
       "  <tbody>\n",
       "    <tr>\n",
       "      <th>1</th>\n",
       "      <td>New Zealand</td>\n",
       "      <td>17</td>\n",
       "      <td>2,054</td>\n",
       "      <td>121</td>\n",
       "    </tr>\n",
       "    <tr>\n",
       "      <th>2</th>\n",
       "      <td>England</td>\n",
       "      <td>3,793</td>\n",
       "      <td>32</td>\n",
       "      <td>119</td>\n",
       "    </tr>\n",
       "    <tr>\n",
       "      <th>3</th>\n",
       "      <td>Australia</td>\n",
       "      <td>3,244</td>\n",
       "      <td>28</td>\n",
       "      <td>116</td>\n",
       "    </tr>\n",
       "    <tr>\n",
       "      <th>4</th>\n",
       "      <td>India</td>\n",
       "      <td>3,624</td>\n",
       "      <td>32</td>\n",
       "      <td>113</td>\n",
       "    </tr>\n",
       "    <tr>\n",
       "      <th>5</th>\n",
       "      <td>South Africa</td>\n",
       "      <td>2,459</td>\n",
       "      <td>25</td>\n",
       "      <td>98</td>\n",
       "    </tr>\n",
       "    <tr>\n",
       "      <th>6</th>\n",
       "      <td>Pakistan</td>\n",
       "      <td>2,524</td>\n",
       "      <td>27</td>\n",
       "      <td>93</td>\n",
       "    </tr>\n",
       "    <tr>\n",
       "      <th>7</th>\n",
       "      <td>Bangladesh</td>\n",
       "      <td>2,740</td>\n",
       "      <td>30</td>\n",
       "      <td>91</td>\n",
       "    </tr>\n",
       "    <tr>\n",
       "      <th>8</th>\n",
       "      <td>West Indies</td>\n",
       "      <td>2,523</td>\n",
       "      <td>30</td>\n",
       "      <td>84</td>\n",
       "    </tr>\n",
       "    <tr>\n",
       "      <th>9</th>\n",
       "      <td>Sri Lanka</td>\n",
       "      <td>2,657</td>\n",
       "      <td>32</td>\n",
       "      <td>83</td>\n",
       "    </tr>\n",
       "    <tr>\n",
       "      <th>10</th>\n",
       "      <td>Afghanistan</td>\n",
       "      <td>1,054</td>\n",
       "      <td>17</td>\n",
       "      <td>62</td>\n",
       "    </tr>\n",
       "  </tbody>\n",
       "</table>\n",
       "</div>"
      ],
      "text/plain": [
       "       Team Name Matches Points Rating\n",
       "1    New Zealand      17  2,054    121\n",
       "2        England   3,793     32    119\n",
       "3      Australia   3,244     28    116\n",
       "4          India   3,624     32    113\n",
       "5   South Africa   2,459     25     98\n",
       "6       Pakistan   2,524     27     93\n",
       "7     Bangladesh   2,740     30     91\n",
       "8    West Indies   2,523     30     84\n",
       "9      Sri Lanka   2,657     32     83\n",
       "10   Afghanistan   1,054     17     62"
      ]
     },
     "execution_count": 69,
     "metadata": {},
     "output_type": "execute_result"
    }
   ],
   "source": [
    "print ( \"Top 10 teams of ODI are\")\n",
    "team_data.head(10)"
   ]
  },
  {
   "cell_type": "markdown",
   "metadata": {},
   "source": [
    "# ii) Top 10 ODI Batsmen in men along with the records of their team and rating. \n"
   ]
  },
  {
   "cell_type": "code",
   "execution_count": 70,
   "metadata": {},
   "outputs": [
    {
     "data": {
      "text/plain": [
       "'https://www.icc-cricket.com/rankings/mens/player-rankings/odi'"
      ]
     },
     "execution_count": 70,
     "metadata": {},
     "output_type": "execute_result"
    }
   ],
   "source": [
    "url51=\"https://www.icc-cricket.com/rankings/mens/player-rankings/odi\"\n",
    "url51"
   ]
  },
  {
   "cell_type": "code",
   "execution_count": 71,
   "metadata": {},
   "outputs": [
    {
     "data": {
      "text/plain": [
       "<Response [200]>"
      ]
     },
     "execution_count": 71,
     "metadata": {},
     "output_type": "execute_result"
    }
   ],
   "source": [
    "batsman_page=requests.get(url51)\n",
    "batsman_page\n"
   ]
  },
  {
   "cell_type": "code",
   "execution_count": 72,
   "metadata": {},
   "outputs": [],
   "source": [
    "soup51=BeautifulSoup(batsman_page.content)"
   ]
  },
  {
   "cell_type": "code",
   "execution_count": 73,
   "metadata": {},
   "outputs": [
    {
     "name": "stdout",
     "output_type": "stream",
     "text": [
      "6\n",
      "54\n"
     ]
    }
   ],
   "source": [
    "#player name \n",
    "p_name=soup51.find_all(\"div\",class_=\"rankings-block__banner--name\") #banner data\n",
    "pl_name=soup51.find_all(\"td\",class_=\"table-body__cell name\") #table data \n",
    "print(len(p_name) )\n",
    "print(len(pl_name))\n"
   ]
  },
  {
   "cell_type": "code",
   "execution_count": 74,
   "metadata": {},
   "outputs": [
    {
     "name": "stdout",
     "output_type": "stream",
     "text": [
      "6\n",
      "54\n"
     ]
    }
   ],
   "source": [
    "#country\n",
    "con_name=soup51.find_all(\"div\",class_=\"rankings-block__banner--nationality\") #banner data \n",
    "cont_name=soup51.find_all(\"span\",class_=\"table-body__logo-text\") #table data \n",
    "print(len(con_name) )\n",
    "print(len(cont_name))"
   ]
  },
  {
   "cell_type": "code",
   "execution_count": 75,
   "metadata": {},
   "outputs": [
    {
     "name": "stdout",
     "output_type": "stream",
     "text": [
      "6\n",
      "54\n"
     ]
    }
   ],
   "source": [
    "#team rating \n",
    "batsman_rating=soup51.find_all(\"div\",class_=\"rankings-block__banner--rating\") #banner data \n",
    "batsman_ratting=soup51.find_all(\"td\",class_=\"table-body__cell u-text-right rating\")#table data\n",
    "print(len(batsman_rating) ) \n",
    "print(len(batsman_ratting))"
   ]
  },
  {
   "cell_type": "code",
   "execution_count": 76,
   "metadata": {},
   "outputs": [],
   "source": [
    "#POS\tPLAYER\tTEAM\tRATING\n",
    "#position to be given after removing the unwanted  rows \n",
    "\n",
    "Batsman_name=[]\n",
    "Team_country=[]\n",
    "Team_rating=[]"
   ]
  },
  {
   "cell_type": "code",
   "execution_count": 77,
   "metadata": {},
   "outputs": [],
   "source": [
    "for bat in p_name:\n",
    "        bat=bat.get_text().replace(\"\\n\",\"\")\n",
    "        bat=bat.strip()\n",
    "        Batsman_name.append(bat)\n",
    "\n",
    "for bats in pl_name:\n",
    "        bats=bats.get_text().replace(\"\\n\",\"\")\n",
    "        bats=bats.strip()\n",
    "        Batsman_name.append(bats)\n",
    "\n",
    "            "
   ]
  },
  {
   "cell_type": "code",
   "execution_count": 78,
   "metadata": {},
   "outputs": [],
   "source": [
    "for con in con_name:\n",
    "        con=con.get_text().replace(\"\\n\",\"\")\n",
    "        con=con.strip()\n",
    "        Team_country.append(con)\n",
    "for cont in cont_name:\n",
    "        cont=cont.get_text().replace(\"\\n\",\"\")\n",
    "        cont=cont.strip()\n",
    "        Team_country.append(cont)"
   ]
  },
  {
   "cell_type": "code",
   "execution_count": 79,
   "metadata": {},
   "outputs": [
    {
     "data": {
      "text/plain": [
       "[<div class=\"rankings-block__banner--nationality\">\n",
       " <div class=\"flag-15 PAK\"></div>\n",
       " <span class=\"rankings-block__banner--nation\"></span>PAK\n",
       "                             <div class=\"rankings-block__banner--rating\">873</div>\n",
       " </div>,\n",
       " <div class=\"rankings-block__banner--nationality\">\n",
       " <div class=\"flag-15 NZ\"></div>\n",
       " <span class=\"rankings-block__banner--nation\"></span>NZ\n",
       "                             <div class=\"rankings-block__banner--rating\">737</div>\n",
       " </div>,\n",
       " <div class=\"rankings-block__banner--nationality\">\n",
       " <div class=\"flag-15 BAN\"></div>\n",
       " <span class=\"rankings-block__banner--nation\"></span>BAN\n",
       "                             <div class=\"rankings-block__banner--rating\">416</div>\n",
       " </div>,\n",
       " <div class=\"rankings-block__banner--nationality\">\n",
       " <div class=\"flag-15 PAK\"></div>\n",
       " <span class=\"rankings-block__banner--nation\"></span>PAK\n",
       "                             <div class=\"rankings-block__banner--rating\">873</div>\n",
       " </div>,\n",
       " <div class=\"rankings-block__banner--nationality\">\n",
       " <div class=\"flag-15 NZ\"></div>\n",
       " <span class=\"rankings-block__banner--nation\"></span>NZ\n",
       "                             <div class=\"rankings-block__banner--rating\">737</div>\n",
       " </div>,\n",
       " <div class=\"rankings-block__banner--nationality\">\n",
       " <div class=\"flag-15 BAN\"></div>\n",
       " <span class=\"rankings-block__banner--nation\"></span>BAN\n",
       "                             <div class=\"rankings-block__banner--rating\">416</div>\n",
       " </div>]"
      ]
     },
     "execution_count": 79,
     "metadata": {},
     "output_type": "execute_result"
    }
   ],
   "source": [
    "con_name"
   ]
  },
  {
   "cell_type": "code",
   "execution_count": 80,
   "metadata": {},
   "outputs": [],
   "source": [
    "for rat in batsman_rating:\n",
    "        rat=rat.get_text().replace(\"\\n\",\"\")\n",
    "        rat=rat.strip()\n",
    "        Team_rating.append(rat)\n",
    "        \n",
    "for rats in batsman_ratting:\n",
    "        rats=rats.get_text().replace(\"\\n\",\"\")\n",
    "        rats=rats.strip()\n",
    "        Team_rating.append(rats)"
   ]
  },
  {
   "cell_type": "code",
   "execution_count": 81,
   "metadata": {},
   "outputs": [
    {
     "name": "stdout",
     "output_type": "stream",
     "text": [
      "60\n",
      "60\n",
      "60\n"
     ]
    }
   ],
   "source": [
    "print(len(Batsman_name))\n",
    "print(len(Team_rating))\n",
    "print(len(Team_rating))\n"
   ]
  },
  {
   "cell_type": "code",
   "execution_count": 82,
   "metadata": {},
   "outputs": [],
   "source": [
    "#Team_country\n",
    "#row 2 to 5 , to be deleted \n",
    "#rowbeyond 10 to be deletd "
   ]
  },
  {
   "cell_type": "code",
   "execution_count": 83,
   "metadata": {},
   "outputs": [],
   "source": [
    "Batsman_score_board=pd.DataFrame({})\n",
    "Batsman_score_board['Batsman_name']=Batsman_name\n",
    "Batsman_score_board['Team_country']=Team_country\n",
    "Batsman_score_board['Team_rating']=Team_rating"
   ]
  },
  {
   "cell_type": "code",
   "execution_count": 84,
   "metadata": {},
   "outputs": [],
   "source": [
    "\n",
    "\n",
    "#sl no 2 to 5  are from other  table  banners (drop)\n"
   ]
  },
  {
   "cell_type": "code",
   "execution_count": 85,
   "metadata": {},
   "outputs": [],
   "source": [
    "Batsman_score_board.drop([1,2,3,4,5],axis=0,inplace=True)"
   ]
  },
  {
   "cell_type": "code",
   "execution_count": 86,
   "metadata": {},
   "outputs": [
    {
     "data": {
      "text/html": [
       "<div>\n",
       "<style scoped>\n",
       "    .dataframe tbody tr th:only-of-type {\n",
       "        vertical-align: middle;\n",
       "    }\n",
       "\n",
       "    .dataframe tbody tr th {\n",
       "        vertical-align: top;\n",
       "    }\n",
       "\n",
       "    .dataframe thead th {\n",
       "        text-align: right;\n",
       "    }\n",
       "</style>\n",
       "<table border=\"1\" class=\"dataframe\">\n",
       "  <thead>\n",
       "    <tr style=\"text-align: right;\">\n",
       "      <th></th>\n",
       "      <th>Batsman_name</th>\n",
       "      <th>Team_country</th>\n",
       "      <th>Team_rating</th>\n",
       "    </tr>\n",
       "  </thead>\n",
       "  <tbody>\n",
       "    <tr>\n",
       "      <th>1</th>\n",
       "      <td>Babar Azam</td>\n",
       "      <td>PAK                            873</td>\n",
       "      <td>873</td>\n",
       "    </tr>\n",
       "    <tr>\n",
       "      <th>2</th>\n",
       "      <td>Virat Kohli</td>\n",
       "      <td>IND</td>\n",
       "      <td>844</td>\n",
       "    </tr>\n",
       "    <tr>\n",
       "      <th>3</th>\n",
       "      <td>Rohit Sharma</td>\n",
       "      <td>IND</td>\n",
       "      <td>813</td>\n",
       "    </tr>\n",
       "    <tr>\n",
       "      <th>4</th>\n",
       "      <td>Ross Taylor</td>\n",
       "      <td>NZ</td>\n",
       "      <td>801</td>\n",
       "    </tr>\n",
       "    <tr>\n",
       "      <th>5</th>\n",
       "      <td>Aaron Finch</td>\n",
       "      <td>AUS</td>\n",
       "      <td>779</td>\n",
       "    </tr>\n",
       "    <tr>\n",
       "      <th>6</th>\n",
       "      <td>Jonny Bairstow</td>\n",
       "      <td>ENG</td>\n",
       "      <td>775</td>\n",
       "    </tr>\n",
       "    <tr>\n",
       "      <th>7</th>\n",
       "      <td>David Warner</td>\n",
       "      <td>AUS</td>\n",
       "      <td>762</td>\n",
       "    </tr>\n",
       "    <tr>\n",
       "      <th>8</th>\n",
       "      <td>Shai Hope</td>\n",
       "      <td>WI</td>\n",
       "      <td>758</td>\n",
       "    </tr>\n",
       "    <tr>\n",
       "      <th>9</th>\n",
       "      <td>Kane Williamson</td>\n",
       "      <td>NZ</td>\n",
       "      <td>754</td>\n",
       "    </tr>\n",
       "    <tr>\n",
       "      <th>10</th>\n",
       "      <td>Quinton de Kock</td>\n",
       "      <td>SA</td>\n",
       "      <td>747</td>\n",
       "    </tr>\n",
       "    <tr>\n",
       "      <th>11</th>\n",
       "      <td>Josh Hazlewood</td>\n",
       "      <td>AUS</td>\n",
       "      <td>709</td>\n",
       "    </tr>\n",
       "    <tr>\n",
       "      <th>12</th>\n",
       "      <td>Mujeeb Ur Rahman</td>\n",
       "      <td>AFG</td>\n",
       "      <td>708</td>\n",
       "    </tr>\n",
       "    <tr>\n",
       "      <th>13</th>\n",
       "      <td>Chris Woakes</td>\n",
       "      <td>ENG</td>\n",
       "      <td>700</td>\n",
       "    </tr>\n",
       "    <tr>\n",
       "      <th>14</th>\n",
       "      <td>Mehedi Hasan</td>\n",
       "      <td>BAN</td>\n",
       "      <td>692</td>\n",
       "    </tr>\n",
       "    <tr>\n",
       "      <th>15</th>\n",
       "      <td>Matt Henry</td>\n",
       "      <td>NZ</td>\n",
       "      <td>691</td>\n",
       "    </tr>\n",
       "    <tr>\n",
       "      <th>16</th>\n",
       "      <td>Jasprit Bumrah</td>\n",
       "      <td>IND</td>\n",
       "      <td>679</td>\n",
       "    </tr>\n",
       "    <tr>\n",
       "      <th>17</th>\n",
       "      <td>Mitchell Starc</td>\n",
       "      <td>AUS</td>\n",
       "      <td>652</td>\n",
       "    </tr>\n",
       "    <tr>\n",
       "      <th>18</th>\n",
       "      <td>Shakib Al Hasan</td>\n",
       "      <td>BAN</td>\n",
       "      <td>650</td>\n",
       "    </tr>\n",
       "    <tr>\n",
       "      <th>19</th>\n",
       "      <td>Kagiso Rabada</td>\n",
       "      <td>SA</td>\n",
       "      <td>646</td>\n",
       "    </tr>\n",
       "    <tr>\n",
       "      <th>20</th>\n",
       "      <td>Mohammad Nabi</td>\n",
       "      <td>AFG</td>\n",
       "      <td>294</td>\n",
       "    </tr>\n",
       "  </tbody>\n",
       "</table>\n",
       "</div>"
      ],
      "text/plain": [
       "        Batsman_name                        Team_country Team_rating\n",
       "1         Babar Azam  PAK                            873         873\n",
       "2        Virat Kohli                                 IND         844\n",
       "3       Rohit Sharma                                 IND         813\n",
       "4        Ross Taylor                                  NZ         801\n",
       "5        Aaron Finch                                 AUS         779\n",
       "6     Jonny Bairstow                                 ENG         775\n",
       "7       David Warner                                 AUS         762\n",
       "8          Shai Hope                                  WI         758\n",
       "9    Kane Williamson                                  NZ         754\n",
       "10   Quinton de Kock                                  SA         747\n",
       "11    Josh Hazlewood                                 AUS         709\n",
       "12  Mujeeb Ur Rahman                                 AFG         708\n",
       "13      Chris Woakes                                 ENG         700\n",
       "14      Mehedi Hasan                                 BAN         692\n",
       "15        Matt Henry                                  NZ         691\n",
       "16    Jasprit Bumrah                                 IND         679\n",
       "17    Mitchell Starc                                 AUS         652\n",
       "18   Shakib Al Hasan                                 BAN         650\n",
       "19     Kagiso Rabada                                  SA         646\n",
       "20     Mohammad Nabi                                 AFG         294"
      ]
     },
     "execution_count": 86,
     "metadata": {},
     "output_type": "execute_result"
    }
   ],
   "source": [
    "\n",
    "Batsman_score_board.index = np.arange(1,len(Batsman_score_board)+1)\n",
    "Batsman_score_board.head(20)"
   ]
  },
  {
   "cell_type": "code",
   "execution_count": 87,
   "metadata": {},
   "outputs": [],
   "source": [
    "Batsman_score_board.drop(range(11,56),inplace=True)"
   ]
  },
  {
   "cell_type": "code",
   "execution_count": 88,
   "metadata": {},
   "outputs": [],
   "source": [
    "\n",
    "Batsman_score_board.iloc[0,1]=\"PAK\""
   ]
  },
  {
   "cell_type": "code",
   "execution_count": 89,
   "metadata": {},
   "outputs": [
    {
     "name": "stdout",
     "output_type": "stream",
     "text": [
      "10 best batsman in ODI\n"
     ]
    },
    {
     "data": {
      "text/html": [
       "<div>\n",
       "<style scoped>\n",
       "    .dataframe tbody tr th:only-of-type {\n",
       "        vertical-align: middle;\n",
       "    }\n",
       "\n",
       "    .dataframe tbody tr th {\n",
       "        vertical-align: top;\n",
       "    }\n",
       "\n",
       "    .dataframe thead th {\n",
       "        text-align: right;\n",
       "    }\n",
       "</style>\n",
       "<table border=\"1\" class=\"dataframe\">\n",
       "  <thead>\n",
       "    <tr style=\"text-align: right;\">\n",
       "      <th></th>\n",
       "      <th>Batsman_name</th>\n",
       "      <th>Team_country</th>\n",
       "      <th>Team_rating</th>\n",
       "    </tr>\n",
       "  </thead>\n",
       "  <tbody>\n",
       "    <tr>\n",
       "      <th>1</th>\n",
       "      <td>Babar Azam</td>\n",
       "      <td>PAK</td>\n",
       "      <td>873</td>\n",
       "    </tr>\n",
       "    <tr>\n",
       "      <th>2</th>\n",
       "      <td>Virat Kohli</td>\n",
       "      <td>IND</td>\n",
       "      <td>844</td>\n",
       "    </tr>\n",
       "    <tr>\n",
       "      <th>3</th>\n",
       "      <td>Rohit Sharma</td>\n",
       "      <td>IND</td>\n",
       "      <td>813</td>\n",
       "    </tr>\n",
       "    <tr>\n",
       "      <th>4</th>\n",
       "      <td>Ross Taylor</td>\n",
       "      <td>NZ</td>\n",
       "      <td>801</td>\n",
       "    </tr>\n",
       "    <tr>\n",
       "      <th>5</th>\n",
       "      <td>Aaron Finch</td>\n",
       "      <td>AUS</td>\n",
       "      <td>779</td>\n",
       "    </tr>\n",
       "    <tr>\n",
       "      <th>6</th>\n",
       "      <td>Jonny Bairstow</td>\n",
       "      <td>ENG</td>\n",
       "      <td>775</td>\n",
       "    </tr>\n",
       "    <tr>\n",
       "      <th>7</th>\n",
       "      <td>David Warner</td>\n",
       "      <td>AUS</td>\n",
       "      <td>762</td>\n",
       "    </tr>\n",
       "    <tr>\n",
       "      <th>8</th>\n",
       "      <td>Shai Hope</td>\n",
       "      <td>WI</td>\n",
       "      <td>758</td>\n",
       "    </tr>\n",
       "    <tr>\n",
       "      <th>9</th>\n",
       "      <td>Kane Williamson</td>\n",
       "      <td>NZ</td>\n",
       "      <td>754</td>\n",
       "    </tr>\n",
       "    <tr>\n",
       "      <th>10</th>\n",
       "      <td>Quinton de Kock</td>\n",
       "      <td>SA</td>\n",
       "      <td>747</td>\n",
       "    </tr>\n",
       "  </tbody>\n",
       "</table>\n",
       "</div>"
      ],
      "text/plain": [
       "       Batsman_name Team_country Team_rating\n",
       "1        Babar Azam          PAK         873\n",
       "2       Virat Kohli          IND         844\n",
       "3      Rohit Sharma          IND         813\n",
       "4       Ross Taylor           NZ         801\n",
       "5       Aaron Finch          AUS         779\n",
       "6    Jonny Bairstow          ENG         775\n",
       "7      David Warner          AUS         762\n",
       "8         Shai Hope           WI         758\n",
       "9   Kane Williamson           NZ         754\n",
       "10  Quinton de Kock           SA         747"
      ]
     },
     "execution_count": 89,
     "metadata": {},
     "output_type": "execute_result"
    }
   ],
   "source": [
    "print ( \"10 best batsman in ODI\" )\n",
    "Batsman_score_board\n"
   ]
  },
  {
   "cell_type": "markdown",
   "metadata": {},
   "source": [
    "#  iii) Top 10 ODI bowlers along with the records of their team and rating."
   ]
  },
  {
   "cell_type": "code",
   "execution_count": 90,
   "metadata": {},
   "outputs": [],
   "source": [
    "#refering to the  previous question \n",
    "#the data contained  details of ODI bowlers as well\n",
    "#using the same data for new df "
   ]
  },
  {
   "cell_type": "code",
   "execution_count": 91,
   "metadata": {},
   "outputs": [],
   "source": [
    "bowlers=pd.DataFrame({})\n",
    "\n",
    "bowlers['bowlers_name']=Batsman_name\n",
    "bowlers['bowlers_country']=Team_country\n",
    "bowlers['bowlers_rating']=Team_rating"
   ]
  },
  {
   "cell_type": "code",
   "execution_count": 92,
   "metadata": {},
   "outputs": [
    {
     "data": {
      "text/plain": [
       "<pandas.core.indexing._iLocIndexer at 0x1ccef4fef90>"
      ]
     },
     "execution_count": 92,
     "metadata": {},
     "output_type": "execute_result"
    }
   ],
   "source": [
    "bowlers.iloc"
   ]
  },
  {
   "cell_type": "code",
   "execution_count": 93,
   "metadata": {},
   "outputs": [],
   "source": [
    "bowlers.drop([0],axis=0,inplace=True)"
   ]
  },
  {
   "cell_type": "code",
   "execution_count": 94,
   "metadata": {},
   "outputs": [],
   "source": [
    "bowlers.drop(range(2,15),axis=0,inplace=True)\n",
    "bowlers.drop(range(24,60),axis=0,inplace=True)\n"
   ]
  },
  {
   "cell_type": "code",
   "execution_count": 95,
   "metadata": {},
   "outputs": [
    {
     "data": {
      "text/html": [
       "<div>\n",
       "<style scoped>\n",
       "    .dataframe tbody tr th:only-of-type {\n",
       "        vertical-align: middle;\n",
       "    }\n",
       "\n",
       "    .dataframe tbody tr th {\n",
       "        vertical-align: top;\n",
       "    }\n",
       "\n",
       "    .dataframe thead th {\n",
       "        text-align: right;\n",
       "    }\n",
       "</style>\n",
       "<table border=\"1\" class=\"dataframe\">\n",
       "  <thead>\n",
       "    <tr style=\"text-align: right;\">\n",
       "      <th></th>\n",
       "      <th>bowlers_name</th>\n",
       "      <th>bowlers_country</th>\n",
       "      <th>bowlers_rating</th>\n",
       "    </tr>\n",
       "  </thead>\n",
       "  <tbody>\n",
       "    <tr>\n",
       "      <th>1</th>\n",
       "      <td>Trent Boult</td>\n",
       "      <td>NZ                            737</td>\n",
       "      <td>737</td>\n",
       "    </tr>\n",
       "    <tr>\n",
       "      <th>2</th>\n",
       "      <td>Josh Hazlewood</td>\n",
       "      <td>AUS</td>\n",
       "      <td>709</td>\n",
       "    </tr>\n",
       "    <tr>\n",
       "      <th>3</th>\n",
       "      <td>Mujeeb Ur Rahman</td>\n",
       "      <td>AFG</td>\n",
       "      <td>708</td>\n",
       "    </tr>\n",
       "    <tr>\n",
       "      <th>4</th>\n",
       "      <td>Chris Woakes</td>\n",
       "      <td>ENG</td>\n",
       "      <td>700</td>\n",
       "    </tr>\n",
       "    <tr>\n",
       "      <th>5</th>\n",
       "      <td>Mehedi Hasan</td>\n",
       "      <td>BAN</td>\n",
       "      <td>692</td>\n",
       "    </tr>\n",
       "    <tr>\n",
       "      <th>6</th>\n",
       "      <td>Matt Henry</td>\n",
       "      <td>NZ</td>\n",
       "      <td>691</td>\n",
       "    </tr>\n",
       "    <tr>\n",
       "      <th>7</th>\n",
       "      <td>Jasprit Bumrah</td>\n",
       "      <td>IND</td>\n",
       "      <td>679</td>\n",
       "    </tr>\n",
       "    <tr>\n",
       "      <th>8</th>\n",
       "      <td>Mitchell Starc</td>\n",
       "      <td>AUS</td>\n",
       "      <td>652</td>\n",
       "    </tr>\n",
       "    <tr>\n",
       "      <th>9</th>\n",
       "      <td>Shakib Al Hasan</td>\n",
       "      <td>BAN</td>\n",
       "      <td>650</td>\n",
       "    </tr>\n",
       "    <tr>\n",
       "      <th>10</th>\n",
       "      <td>Kagiso Rabada</td>\n",
       "      <td>SA</td>\n",
       "      <td>646</td>\n",
       "    </tr>\n",
       "  </tbody>\n",
       "</table>\n",
       "</div>"
      ],
      "text/plain": [
       "        bowlers_name                    bowlers_country bowlers_rating\n",
       "1        Trent Boult  NZ                            737            737\n",
       "2     Josh Hazlewood                                AUS            709\n",
       "3   Mujeeb Ur Rahman                                AFG            708\n",
       "4       Chris Woakes                                ENG            700\n",
       "5       Mehedi Hasan                                BAN            692\n",
       "6         Matt Henry                                 NZ            691\n",
       "7     Jasprit Bumrah                                IND            679\n",
       "8     Mitchell Starc                                AUS            652\n",
       "9    Shakib Al Hasan                                BAN            650\n",
       "10     Kagiso Rabada                                 SA            646"
      ]
     },
     "execution_count": 95,
     "metadata": {},
     "output_type": "execute_result"
    }
   ],
   "source": [
    "bowlers.index = np.arange(1,len(bowlers)+1)\n",
    "bowlers"
   ]
  },
  {
   "cell_type": "markdown",
   "metadata": {},
   "source": [
    "# 6.Write a python program to scrape cricket rankings from ‘www.icc-cricket.com’. You have to scrape: "
   ]
  },
  {
   "cell_type": "markdown",
   "metadata": {},
   "source": [
    "# i) Top 10 ODI teams in women’s cricket along with the records for matches, points and rating."
   ]
  },
  {
   "cell_type": "code",
   "execution_count": 96,
   "metadata": {},
   "outputs": [
    {
     "data": {
      "text/plain": [
       "<Response [200]>"
      ]
     },
     "execution_count": 96,
     "metadata": {},
     "output_type": "execute_result"
    }
   ],
   "source": [
    "url61=\"https://www.icc-cricket.com/rankings/womens/team-rankings/odi\"\n",
    "page61=requests.get(url61)\n",
    "page61"
   ]
  },
  {
   "cell_type": "code",
   "execution_count": 97,
   "metadata": {},
   "outputs": [],
   "source": [
    "soup61=BeautifulSoup(page61.content)\n",
    "\n",
    "#team country name \n",
    "#should contain 15data initially \n",
    "wo_teams=soup61.find_all(\"span\",class_=\"u-show-phablet\") #name contains social links which are to be deleted \n",
    "\n",
    "# data from the banner \n",
    "#contains only 1 row\n",
    "w_match=soup61.find_all(\"td\",class_=\"rankings-block__banner--matches\")\n",
    "w_point=soup61.find_all(\"td\",class_=\"rankings-block__banner--points\")\n",
    "w_tm_rating=soup61.find_all(\"td\",class_=\"rankings-block__banner--rating u-text-right\")\n",
    "\n",
    "#data from the table \n",
    "#contains 2  to 20 row \n",
    "wm_p=soup61.find_all(\"td\",class_=\"table-body__cell u-center-text\") # contains match and point values ,18 values \n",
    "w_tm_ratings=soup61.find_all(\"td\",class_=\"table-body__cell u-text-right rating\") #9 values \n",
    "\n"
   ]
  },
  {
   "cell_type": "code",
   "execution_count": 98,
   "metadata": {},
   "outputs": [
    {
     "name": "stdout",
     "output_type": "stream",
     "text": [
      "10\n"
     ]
    },
    {
     "data": {
      "text/plain": [
       "['AUS', 'ENG', 'SA', 'IND', 'NZ', 'WI', 'PAK', 'BAN', 'SL', 'IRE']"
      ]
     },
     "execution_count": 98,
     "metadata": {},
     "output_type": "execute_result"
    }
   ],
   "source": [
    "#team names \n",
    "namee=[]\n",
    "\n",
    "for i in wo_teams:\n",
    "    i=i.get_text().strip()\n",
    "    namee.append(i)\n",
    "    \n",
    "\n",
    "namee[10:15]=[]\n",
    "print (len(namee))\n",
    "namee"
   ]
  },
  {
   "cell_type": "code",
   "execution_count": 99,
   "metadata": {},
   "outputs": [],
   "source": [
    "#match and point\n",
    "\n",
    "MATPOIN=[]\n",
    "\n",
    "for j in w_match:\n",
    "    j=j.get_text().strip()\n",
    "    MATPOIN.append(j)\n",
    "for j in w_point:\n",
    "    j=j.get_text().strip()\n",
    "    MATPOIN.append(j)\n",
    "for j in wm_p:\n",
    "    j=j.get_text().strip()\n",
    "    MATPOIN.append(j)"
   ]
  },
  {
   "cell_type": "code",
   "execution_count": 100,
   "metadata": {},
   "outputs": [
    {
     "data": {
      "text/plain": [
       "20"
      ]
     },
     "execution_count": 100,
     "metadata": {},
     "output_type": "execute_result"
    }
   ],
   "source": [
    "len(MATPOIN)"
   ]
  },
  {
   "cell_type": "code",
   "execution_count": 101,
   "metadata": {},
   "outputs": [],
   "source": [
    "Matchh=[]\n",
    "Pointt=[]\n",
    "\n",
    "for i in range(0, len(MATPOIN)):\n",
    "        if i % 2==1:\n",
    "            Pointt.append(MATPOIN[i])\n",
    "        else :\n",
    "            Matchh.append(MATPOIN[i])\n",
    "           \n"
   ]
  },
  {
   "cell_type": "code",
   "execution_count": 102,
   "metadata": {},
   "outputs": [
    {
     "data": {
      "text/plain": [
       "['21', '25', '29', '26', '26', '22', '20', '5', '11', '2']"
      ]
     },
     "execution_count": 102,
     "metadata": {},
     "output_type": "execute_result"
    }
   ],
   "source": [
    "Matchh"
   ]
  },
  {
   "cell_type": "code",
   "execution_count": 103,
   "metadata": {},
   "outputs": [
    {
     "data": {
      "text/plain": [
       "['3,379',\n",
       " '2,983',\n",
       " '3,390',\n",
       " '2,934',\n",
       " '2,392',\n",
       " '1,872',\n",
       " '1,496',\n",
       " '306',\n",
       " '519',\n",
       " '25']"
      ]
     },
     "execution_count": 103,
     "metadata": {},
     "output_type": "execute_result"
    }
   ],
   "source": [
    "Pointt"
   ]
  },
  {
   "cell_type": "code",
   "execution_count": 104,
   "metadata": {},
   "outputs": [],
   "source": [
    "ratingg=[]\n",
    "\n",
    "for i in w_tm_rating:\n",
    "    i=i.get_text().strip()\n",
    "    ratingg.append(i)\n",
    "for i in w_tm_ratings:\n",
    "    i=i.get_text().strip()\n",
    "    ratingg.append(i)"
   ]
  },
  {
   "cell_type": "code",
   "execution_count": 105,
   "metadata": {},
   "outputs": [
    {
     "data": {
      "text/plain": [
       "['161', '119', '117', '113', '92', '85', '75', '61', '47', '13']"
      ]
     },
     "execution_count": 105,
     "metadata": {},
     "output_type": "execute_result"
    }
   ],
   "source": [
    "ratingg"
   ]
  },
  {
   "cell_type": "code",
   "execution_count": 106,
   "metadata": {},
   "outputs": [],
   "source": [
    "w_oditeam=pd.DataFrame({}) \n",
    "\n",
    "w_oditeam[\"team\"]=namee\n",
    "w_oditeam[\"Matches\"]=Matchh\n",
    "w_oditeam[\"Points\"]=Pointt\n",
    "w_oditeam[\"rating\"]=ratingg"
   ]
  },
  {
   "cell_type": "code",
   "execution_count": 107,
   "metadata": {},
   "outputs": [
    {
     "data": {
      "text/html": [
       "<div>\n",
       "<style scoped>\n",
       "    .dataframe tbody tr th:only-of-type {\n",
       "        vertical-align: middle;\n",
       "    }\n",
       "\n",
       "    .dataframe tbody tr th {\n",
       "        vertical-align: top;\n",
       "    }\n",
       "\n",
       "    .dataframe thead th {\n",
       "        text-align: right;\n",
       "    }\n",
       "</style>\n",
       "<table border=\"1\" class=\"dataframe\">\n",
       "  <thead>\n",
       "    <tr style=\"text-align: right;\">\n",
       "      <th></th>\n",
       "      <th>team</th>\n",
       "      <th>Matches</th>\n",
       "      <th>Points</th>\n",
       "      <th>rating</th>\n",
       "    </tr>\n",
       "  </thead>\n",
       "  <tbody>\n",
       "    <tr>\n",
       "      <th>0</th>\n",
       "      <td>AUS</td>\n",
       "      <td>21</td>\n",
       "      <td>3,379</td>\n",
       "      <td>161</td>\n",
       "    </tr>\n",
       "    <tr>\n",
       "      <th>1</th>\n",
       "      <td>ENG</td>\n",
       "      <td>25</td>\n",
       "      <td>2,983</td>\n",
       "      <td>119</td>\n",
       "    </tr>\n",
       "    <tr>\n",
       "      <th>2</th>\n",
       "      <td>SA</td>\n",
       "      <td>29</td>\n",
       "      <td>3,390</td>\n",
       "      <td>117</td>\n",
       "    </tr>\n",
       "    <tr>\n",
       "      <th>3</th>\n",
       "      <td>IND</td>\n",
       "      <td>26</td>\n",
       "      <td>2,934</td>\n",
       "      <td>113</td>\n",
       "    </tr>\n",
       "    <tr>\n",
       "      <th>4</th>\n",
       "      <td>NZ</td>\n",
       "      <td>26</td>\n",
       "      <td>2,392</td>\n",
       "      <td>92</td>\n",
       "    </tr>\n",
       "    <tr>\n",
       "      <th>5</th>\n",
       "      <td>WI</td>\n",
       "      <td>22</td>\n",
       "      <td>1,872</td>\n",
       "      <td>85</td>\n",
       "    </tr>\n",
       "    <tr>\n",
       "      <th>6</th>\n",
       "      <td>PAK</td>\n",
       "      <td>20</td>\n",
       "      <td>1,496</td>\n",
       "      <td>75</td>\n",
       "    </tr>\n",
       "    <tr>\n",
       "      <th>7</th>\n",
       "      <td>BAN</td>\n",
       "      <td>5</td>\n",
       "      <td>306</td>\n",
       "      <td>61</td>\n",
       "    </tr>\n",
       "    <tr>\n",
       "      <th>8</th>\n",
       "      <td>SL</td>\n",
       "      <td>11</td>\n",
       "      <td>519</td>\n",
       "      <td>47</td>\n",
       "    </tr>\n",
       "    <tr>\n",
       "      <th>9</th>\n",
       "      <td>IRE</td>\n",
       "      <td>2</td>\n",
       "      <td>25</td>\n",
       "      <td>13</td>\n",
       "    </tr>\n",
       "  </tbody>\n",
       "</table>\n",
       "</div>"
      ],
      "text/plain": [
       "  team Matches Points rating\n",
       "0  AUS      21  3,379    161\n",
       "1  ENG      25  2,983    119\n",
       "2   SA      29  3,390    117\n",
       "3  IND      26  2,934    113\n",
       "4   NZ      26  2,392     92\n",
       "5   WI      22  1,872     85\n",
       "6  PAK      20  1,496     75\n",
       "7  BAN       5    306     61\n",
       "8   SL      11    519     47\n",
       "9  IRE       2     25     13"
      ]
     },
     "execution_count": 107,
     "metadata": {},
     "output_type": "execute_result"
    }
   ],
   "source": [
    "w_oditeam"
   ]
  },
  {
   "cell_type": "code",
   "execution_count": 108,
   "metadata": {},
   "outputs": [
    {
     "data": {
      "text/html": [
       "<div>\n",
       "<style scoped>\n",
       "    .dataframe tbody tr th:only-of-type {\n",
       "        vertical-align: middle;\n",
       "    }\n",
       "\n",
       "    .dataframe tbody tr th {\n",
       "        vertical-align: top;\n",
       "    }\n",
       "\n",
       "    .dataframe thead th {\n",
       "        text-align: right;\n",
       "    }\n",
       "</style>\n",
       "<table border=\"1\" class=\"dataframe\">\n",
       "  <thead>\n",
       "    <tr style=\"text-align: right;\">\n",
       "      <th></th>\n",
       "      <th>team</th>\n",
       "      <th>Matches</th>\n",
       "      <th>Points</th>\n",
       "      <th>rating</th>\n",
       "    </tr>\n",
       "  </thead>\n",
       "  <tbody>\n",
       "    <tr>\n",
       "      <th>1</th>\n",
       "      <td>AUS</td>\n",
       "      <td>21</td>\n",
       "      <td>3,379</td>\n",
       "      <td>161</td>\n",
       "    </tr>\n",
       "    <tr>\n",
       "      <th>2</th>\n",
       "      <td>ENG</td>\n",
       "      <td>25</td>\n",
       "      <td>2,983</td>\n",
       "      <td>119</td>\n",
       "    </tr>\n",
       "    <tr>\n",
       "      <th>3</th>\n",
       "      <td>SA</td>\n",
       "      <td>29</td>\n",
       "      <td>3,390</td>\n",
       "      <td>117</td>\n",
       "    </tr>\n",
       "    <tr>\n",
       "      <th>4</th>\n",
       "      <td>IND</td>\n",
       "      <td>26</td>\n",
       "      <td>2,934</td>\n",
       "      <td>113</td>\n",
       "    </tr>\n",
       "    <tr>\n",
       "      <th>5</th>\n",
       "      <td>NZ</td>\n",
       "      <td>26</td>\n",
       "      <td>2,392</td>\n",
       "      <td>92</td>\n",
       "    </tr>\n",
       "    <tr>\n",
       "      <th>6</th>\n",
       "      <td>WI</td>\n",
       "      <td>22</td>\n",
       "      <td>1,872</td>\n",
       "      <td>85</td>\n",
       "    </tr>\n",
       "    <tr>\n",
       "      <th>7</th>\n",
       "      <td>PAK</td>\n",
       "      <td>20</td>\n",
       "      <td>1,496</td>\n",
       "      <td>75</td>\n",
       "    </tr>\n",
       "    <tr>\n",
       "      <th>8</th>\n",
       "      <td>BAN</td>\n",
       "      <td>5</td>\n",
       "      <td>306</td>\n",
       "      <td>61</td>\n",
       "    </tr>\n",
       "    <tr>\n",
       "      <th>9</th>\n",
       "      <td>SL</td>\n",
       "      <td>11</td>\n",
       "      <td>519</td>\n",
       "      <td>47</td>\n",
       "    </tr>\n",
       "    <tr>\n",
       "      <th>10</th>\n",
       "      <td>IRE</td>\n",
       "      <td>2</td>\n",
       "      <td>25</td>\n",
       "      <td>13</td>\n",
       "    </tr>\n",
       "  </tbody>\n",
       "</table>\n",
       "</div>"
      ],
      "text/plain": [
       "   team Matches Points rating\n",
       "1   AUS      21  3,379    161\n",
       "2   ENG      25  2,983    119\n",
       "3    SA      29  3,390    117\n",
       "4   IND      26  2,934    113\n",
       "5    NZ      26  2,392     92\n",
       "6    WI      22  1,872     85\n",
       "7   PAK      20  1,496     75\n",
       "8   BAN       5    306     61\n",
       "9    SL      11    519     47\n",
       "10  IRE       2     25     13"
      ]
     },
     "execution_count": 108,
     "metadata": {},
     "output_type": "execute_result"
    }
   ],
   "source": [
    "w_oditeam.index = np.arange(1,len(bowlers)+1)\n",
    "w_oditeam"
   ]
  },
  {
   "cell_type": "markdown",
   "metadata": {},
   "source": [
    "# ii) Top 10 women’s ODI players along with the records of their team and rating. "
   ]
  },
  {
   "cell_type": "code",
   "execution_count": 109,
   "metadata": {},
   "outputs": [
    {
     "data": {
      "text/plain": [
       "'https://www.icc-cricket.com/rankings/womens/player-rankings/odi'"
      ]
     },
     "execution_count": 109,
     "metadata": {},
     "output_type": "execute_result"
    }
   ],
   "source": [
    "url71=\"https://www.icc-cricket.com/rankings/womens/player-rankings/odi\"\n",
    "url71"
   ]
  },
  {
   "cell_type": "code",
   "execution_count": 110,
   "metadata": {},
   "outputs": [
    {
     "data": {
      "text/plain": [
       "<Response [200]>"
      ]
     },
     "execution_count": 110,
     "metadata": {},
     "output_type": "execute_result"
    }
   ],
   "source": [
    "page_71=requests.get(url71)\n",
    "page_71"
   ]
  },
  {
   "cell_type": "code",
   "execution_count": 111,
   "metadata": {},
   "outputs": [],
   "source": [
    "soup71=BeautifulSoup(page_71.content)"
   ]
  },
  {
   "cell_type": "code",
   "execution_count": 112,
   "metadata": {
    "scrolled": true
   },
   "outputs": [
    {
     "name": "stdout",
     "output_type": "stream",
     "text": [
      "6\n",
      "54\n"
     ]
    }
   ],
   "source": [
    "#player name \n",
    "wp_name=soup71.find_all(\"div\",class_=\"rankings-block__banner--name\") #banner data\n",
    "wpl_name=soup71.find_all(\"td\",class_=\"table-body__cell name\") #table data \n",
    "print(len(p_name) )\n",
    "print(len(pl_name))"
   ]
  },
  {
   "cell_type": "code",
   "execution_count": 113,
   "metadata": {},
   "outputs": [
    {
     "name": "stdout",
     "output_type": "stream",
     "text": [
      "3\n",
      "27\n"
     ]
    }
   ],
   "source": [
    "#country\n",
    "wcon_name=soup71.find_all(\"div\",class_=\"rankings-block__banner--nationality\") #banner data \n",
    "wcont_name=soup71.find_all(\"span\",class_=\"table-body__logo-text\") #table data \n",
    "print(len(wcon_name) )\n",
    "print(len(wcont_name))\n"
   ]
  },
  {
   "cell_type": "code",
   "execution_count": 114,
   "metadata": {},
   "outputs": [
    {
     "data": {
      "text/plain": [
       "[<div class=\"rankings-block__banner--nationality\">\n",
       " <div class=\"flag-15 SA\"></div>\n",
       " <span class=\"rankings-block__banner--nation\"></span>SA\n",
       "                             <div class=\"rankings-block__banner--rating\">761</div>\n",
       " </div>,\n",
       " <div class=\"rankings-block__banner--nationality\">\n",
       " <div class=\"flag-15 AUS\"></div>\n",
       " <span class=\"rankings-block__banner--nation\"></span>AUS\n",
       "                             <div class=\"rankings-block__banner--rating\">760</div>\n",
       " </div>,\n",
       " <div class=\"rankings-block__banner--nationality\">\n",
       " <div class=\"flag-15 SA\"></div>\n",
       " <span class=\"rankings-block__banner--nation\"></span>SA\n",
       "                             <div class=\"rankings-block__banner--rating\">384</div>\n",
       " </div>]"
      ]
     },
     "execution_count": 114,
     "metadata": {},
     "output_type": "execute_result"
    }
   ],
   "source": [
    "wcon_name"
   ]
  },
  {
   "cell_type": "code",
   "execution_count": 115,
   "metadata": {},
   "outputs": [
    {
     "name": "stdout",
     "output_type": "stream",
     "text": [
      "3\n",
      "27\n"
     ]
    }
   ],
   "source": [
    "#team rating \n",
    "batswman_rating=soup71.find_all(\"div\",class_=\"rankings-block__banner--rating\") #banner data \n",
    "batswman_ratting=soup71.find_all(\"td\",class_=\"table-body__cell u-text-right rating\")#table data\n",
    "print(len(batswman_rating) ) \n",
    "print(len(batswman_ratting))"
   ]
  },
  {
   "cell_type": "code",
   "execution_count": 116,
   "metadata": {},
   "outputs": [],
   "source": [
    "#POS\tPLAYER\tTEAM\tRATING\n",
    "#position to be given after removing the unwanted  rows \n",
    "\n",
    "Batsmanw_name=[]\n",
    "Teamw_country=[]\n",
    "Teamw_rating=[]"
   ]
  },
  {
   "cell_type": "code",
   "execution_count": 117,
   "metadata": {},
   "outputs": [],
   "source": [
    "for bat in wp_name:\n",
    "        bat=bat.get_text().replace(\"\\n\",\"\")\n",
    "        bat=bat.strip()\n",
    "        Batsmanw_name.append(bat)\n",
    "\n",
    "for bats in wpl_name:\n",
    "        bats=bats.get_text().replace(\"\\n\",\"\")\n",
    "        bats=bats.strip()\n",
    "        Batsmanw_name.append(bats)\n"
   ]
  },
  {
   "cell_type": "code",
   "execution_count": 118,
   "metadata": {},
   "outputs": [],
   "source": [
    "for con in wcon_name:\n",
    "        con=con.get_text().replace(\"\\n\",\"\")\n",
    "        con=con.strip()\n",
    "        Teamw_country.append(con)\n",
    "        \n",
    "for cont in wcont_name:\n",
    "        cont=cont.get_text().replace(\"\\n\",\"\")\n",
    "        cont=cont.strip()\n",
    "        Teamw_country.append(cont)\n",
    "        "
   ]
  },
  {
   "cell_type": "code",
   "execution_count": 119,
   "metadata": {},
   "outputs": [],
   "source": [
    "for rat in batswman_rating:\n",
    "        rat=rat.get_text().replace(\"\\n\",\"\")\n",
    "        rat=rat.strip()\n",
    "        Teamw_rating.append(rat)\n",
    "        \n",
    "for rats in batswman_ratting:\n",
    "        rats=rats.get_text().replace(\"\\n\",\"\")\n",
    "        rats=rats.strip()\n",
    "        Teamw_rating.append(rats)"
   ]
  },
  {
   "cell_type": "code",
   "execution_count": 120,
   "metadata": {},
   "outputs": [
    {
     "data": {
      "text/plain": [
       "['761',\n",
       " '760',\n",
       " '384',\n",
       " '750',\n",
       " '738',\n",
       " '728',\n",
       " '717',\n",
       " '710',\n",
       " '699',\n",
       " '690',\n",
       " '674',\n",
       " '672',\n",
       " '727',\n",
       " '717',\n",
       " '715',\n",
       " '701',\n",
       " '688',\n",
       " '666',\n",
       " '643',\n",
       " '598',\n",
       " '589',\n",
       " '372',\n",
       " '365',\n",
       " '322',\n",
       " '299',\n",
       " '275',\n",
       " '274',\n",
       " '272',\n",
       " '272',\n",
       " '251']"
      ]
     },
     "execution_count": 120,
     "metadata": {},
     "output_type": "execute_result"
    }
   ],
   "source": [
    "Teamw_rating"
   ]
  },
  {
   "cell_type": "code",
   "execution_count": 121,
   "metadata": {},
   "outputs": [],
   "source": [
    "top10=pd.DataFrame({})\n",
    "top10[\"player namn\"]=Batsmanw_name\n",
    "top10[\"team\"]=Teamw_country\n",
    "top10[\"team rating\"]=Teamw_rating\n",
    "\n",
    "\n"
   ]
  },
  {
   "cell_type": "code",
   "execution_count": 122,
   "metadata": {
    "scrolled": true
   },
   "outputs": [
    {
     "data": {
      "text/html": [
       "<div>\n",
       "<style scoped>\n",
       "    .dataframe tbody tr th:only-of-type {\n",
       "        vertical-align: middle;\n",
       "    }\n",
       "\n",
       "    .dataframe tbody tr th {\n",
       "        vertical-align: top;\n",
       "    }\n",
       "\n",
       "    .dataframe thead th {\n",
       "        text-align: right;\n",
       "    }\n",
       "</style>\n",
       "<table border=\"1\" class=\"dataframe\">\n",
       "  <thead>\n",
       "    <tr style=\"text-align: right;\">\n",
       "      <th></th>\n",
       "      <th>player namn</th>\n",
       "      <th>team</th>\n",
       "      <th>team rating</th>\n",
       "    </tr>\n",
       "  </thead>\n",
       "  <tbody>\n",
       "    <tr>\n",
       "      <th>0</th>\n",
       "      <td>Lizelle Lee</td>\n",
       "      <td>SA</td>\n",
       "      <td>761</td>\n",
       "    </tr>\n",
       "    <tr>\n",
       "      <th>1</th>\n",
       "      <td>Jess Jonassen</td>\n",
       "      <td>AUS</td>\n",
       "      <td>760</td>\n",
       "    </tr>\n",
       "    <tr>\n",
       "      <th>2</th>\n",
       "      <td>Marizanne Kapp</td>\n",
       "      <td>SA</td>\n",
       "      <td>384</td>\n",
       "    </tr>\n",
       "    <tr>\n",
       "      <th>3</th>\n",
       "      <td>Alyssa Healy</td>\n",
       "      <td>AUS</td>\n",
       "      <td>750</td>\n",
       "    </tr>\n",
       "    <tr>\n",
       "      <th>4</th>\n",
       "      <td>Mithali Raj</td>\n",
       "      <td>IND</td>\n",
       "      <td>738</td>\n",
       "    </tr>\n",
       "    <tr>\n",
       "      <th>5</th>\n",
       "      <td>Tammy Beaumont</td>\n",
       "      <td>ENG</td>\n",
       "      <td>728</td>\n",
       "    </tr>\n",
       "    <tr>\n",
       "      <th>6</th>\n",
       "      <td>Amy Satterthwaite</td>\n",
       "      <td>NZ</td>\n",
       "      <td>717</td>\n",
       "    </tr>\n",
       "    <tr>\n",
       "      <th>7</th>\n",
       "      <td>Smriti Mandhana</td>\n",
       "      <td>IND</td>\n",
       "      <td>710</td>\n",
       "    </tr>\n",
       "    <tr>\n",
       "      <th>8</th>\n",
       "      <td>Meg Lanning</td>\n",
       "      <td>AUS</td>\n",
       "      <td>699</td>\n",
       "    </tr>\n",
       "    <tr>\n",
       "      <th>9</th>\n",
       "      <td>Beth Mooney</td>\n",
       "      <td>AUS</td>\n",
       "      <td>690</td>\n",
       "    </tr>\n",
       "    <tr>\n",
       "      <th>10</th>\n",
       "      <td>Heather Knight</td>\n",
       "      <td>ENG</td>\n",
       "      <td>674</td>\n",
       "    </tr>\n",
       "    <tr>\n",
       "      <th>11</th>\n",
       "      <td>Laura Wolvaardt</td>\n",
       "      <td>SA</td>\n",
       "      <td>672</td>\n",
       "    </tr>\n",
       "    <tr>\n",
       "      <th>12</th>\n",
       "      <td>Jhulan Goswami</td>\n",
       "      <td>IND</td>\n",
       "      <td>727</td>\n",
       "    </tr>\n",
       "    <tr>\n",
       "      <th>13</th>\n",
       "      <td>Megan Schutt</td>\n",
       "      <td>AUS</td>\n",
       "      <td>717</td>\n",
       "    </tr>\n",
       "    <tr>\n",
       "      <th>14</th>\n",
       "      <td>Marizanne Kapp</td>\n",
       "      <td>SA</td>\n",
       "      <td>715</td>\n",
       "    </tr>\n",
       "    <tr>\n",
       "      <th>15</th>\n",
       "      <td>Sophie Ecclestone</td>\n",
       "      <td>ENG</td>\n",
       "      <td>701</td>\n",
       "    </tr>\n",
       "    <tr>\n",
       "      <th>16</th>\n",
       "      <td>Shabnim Ismail</td>\n",
       "      <td>SA</td>\n",
       "      <td>688</td>\n",
       "    </tr>\n",
       "    <tr>\n",
       "      <th>17</th>\n",
       "      <td>Katherine Brunt</td>\n",
       "      <td>ENG</td>\n",
       "      <td>666</td>\n",
       "    </tr>\n",
       "    <tr>\n",
       "      <th>18</th>\n",
       "      <td>Ayabonga Khaka</td>\n",
       "      <td>SA</td>\n",
       "      <td>643</td>\n",
       "    </tr>\n",
       "    <tr>\n",
       "      <th>19</th>\n",
       "      <td>Anya Shrubsole</td>\n",
       "      <td>ENG</td>\n",
       "      <td>598</td>\n",
       "    </tr>\n",
       "    <tr>\n",
       "      <th>20</th>\n",
       "      <td>Kate Cross</td>\n",
       "      <td>ENG</td>\n",
       "      <td>589</td>\n",
       "    </tr>\n",
       "    <tr>\n",
       "      <th>21</th>\n",
       "      <td>Natalie Sciver</td>\n",
       "      <td>ENG</td>\n",
       "      <td>372</td>\n",
       "    </tr>\n",
       "    <tr>\n",
       "      <th>22</th>\n",
       "      <td>Ellyse Perry</td>\n",
       "      <td>AUS</td>\n",
       "      <td>365</td>\n",
       "    </tr>\n",
       "    <tr>\n",
       "      <th>23</th>\n",
       "      <td>Stafanie Taylor</td>\n",
       "      <td>WI</td>\n",
       "      <td>322</td>\n",
       "    </tr>\n",
       "    <tr>\n",
       "      <th>24</th>\n",
       "      <td>Deepti Sharma</td>\n",
       "      <td>IND</td>\n",
       "      <td>299</td>\n",
       "    </tr>\n",
       "    <tr>\n",
       "      <th>25</th>\n",
       "      <td>Ashleigh Gardner</td>\n",
       "      <td>AUS</td>\n",
       "      <td>275</td>\n",
       "    </tr>\n",
       "    <tr>\n",
       "      <th>26</th>\n",
       "      <td>Dane van Niekerk</td>\n",
       "      <td>SA</td>\n",
       "      <td>274</td>\n",
       "    </tr>\n",
       "    <tr>\n",
       "      <th>27</th>\n",
       "      <td>Jess Jonassen</td>\n",
       "      <td>AUS</td>\n",
       "      <td>272</td>\n",
       "    </tr>\n",
       "    <tr>\n",
       "      <th>28</th>\n",
       "      <td>Katherine Brunt</td>\n",
       "      <td>ENG</td>\n",
       "      <td>272</td>\n",
       "    </tr>\n",
       "    <tr>\n",
       "      <th>29</th>\n",
       "      <td>Jhulan Goswami</td>\n",
       "      <td>IND</td>\n",
       "      <td>251</td>\n",
       "    </tr>\n",
       "  </tbody>\n",
       "</table>\n",
       "</div>"
      ],
      "text/plain": [
       "          player namn team team rating\n",
       "0         Lizelle Lee   SA         761\n",
       "1       Jess Jonassen  AUS         760\n",
       "2      Marizanne Kapp   SA         384\n",
       "3        Alyssa Healy  AUS         750\n",
       "4         Mithali Raj  IND         738\n",
       "5      Tammy Beaumont  ENG         728\n",
       "6   Amy Satterthwaite   NZ         717\n",
       "7     Smriti Mandhana  IND         710\n",
       "8         Meg Lanning  AUS         699\n",
       "9         Beth Mooney  AUS         690\n",
       "10     Heather Knight  ENG         674\n",
       "11    Laura Wolvaardt   SA         672\n",
       "12     Jhulan Goswami  IND         727\n",
       "13       Megan Schutt  AUS         717\n",
       "14     Marizanne Kapp   SA         715\n",
       "15  Sophie Ecclestone  ENG         701\n",
       "16     Shabnim Ismail   SA         688\n",
       "17    Katherine Brunt  ENG         666\n",
       "18     Ayabonga Khaka   SA         643\n",
       "19     Anya Shrubsole  ENG         598\n",
       "20         Kate Cross  ENG         589\n",
       "21     Natalie Sciver  ENG         372\n",
       "22       Ellyse Perry  AUS         365\n",
       "23    Stafanie Taylor   WI         322\n",
       "24      Deepti Sharma  IND         299\n",
       "25   Ashleigh Gardner  AUS         275\n",
       "26   Dane van Niekerk   SA         274\n",
       "27      Jess Jonassen  AUS         272\n",
       "28    Katherine Brunt  ENG         272\n",
       "29     Jhulan Goswami  IND         251"
      ]
     },
     "execution_count": 122,
     "metadata": {},
     "output_type": "execute_result"
    }
   ],
   "source": [
    "top10[\"team\"][0]=\"SA\"\n",
    "top10[\"team\"][1]=\"AUS\"\n",
    "top10[\"team\"][2]=\"SA\"\n",
    "top10"
   ]
  },
  {
   "cell_type": "code",
   "execution_count": 123,
   "metadata": {},
   "outputs": [],
   "source": [
    "#keeping the 10 player\n",
    "top10.drop(range(1,3),axis=0,inplace=True)\n"
   ]
  },
  {
   "cell_type": "code",
   "execution_count": 124,
   "metadata": {},
   "outputs": [],
   "source": [
    "top10.drop(range(12,30),axis=0,inplace=True)"
   ]
  },
  {
   "cell_type": "code",
   "execution_count": 125,
   "metadata": {},
   "outputs": [
    {
     "name": "stdout",
     "output_type": "stream",
     "text": [
      "Top 10 Batting player  in women ODI cricket teams are \n"
     ]
    },
    {
     "data": {
      "text/html": [
       "<div>\n",
       "<style scoped>\n",
       "    .dataframe tbody tr th:only-of-type {\n",
       "        vertical-align: middle;\n",
       "    }\n",
       "\n",
       "    .dataframe tbody tr th {\n",
       "        vertical-align: top;\n",
       "    }\n",
       "\n",
       "    .dataframe thead th {\n",
       "        text-align: right;\n",
       "    }\n",
       "</style>\n",
       "<table border=\"1\" class=\"dataframe\">\n",
       "  <thead>\n",
       "    <tr style=\"text-align: right;\">\n",
       "      <th></th>\n",
       "      <th>player namn</th>\n",
       "      <th>team</th>\n",
       "      <th>team rating</th>\n",
       "    </tr>\n",
       "  </thead>\n",
       "  <tbody>\n",
       "    <tr>\n",
       "      <th>1</th>\n",
       "      <td>Lizelle Lee</td>\n",
       "      <td>SA</td>\n",
       "      <td>761</td>\n",
       "    </tr>\n",
       "    <tr>\n",
       "      <th>2</th>\n",
       "      <td>Alyssa Healy</td>\n",
       "      <td>AUS</td>\n",
       "      <td>750</td>\n",
       "    </tr>\n",
       "    <tr>\n",
       "      <th>3</th>\n",
       "      <td>Mithali Raj</td>\n",
       "      <td>IND</td>\n",
       "      <td>738</td>\n",
       "    </tr>\n",
       "    <tr>\n",
       "      <th>4</th>\n",
       "      <td>Tammy Beaumont</td>\n",
       "      <td>ENG</td>\n",
       "      <td>728</td>\n",
       "    </tr>\n",
       "    <tr>\n",
       "      <th>5</th>\n",
       "      <td>Amy Satterthwaite</td>\n",
       "      <td>NZ</td>\n",
       "      <td>717</td>\n",
       "    </tr>\n",
       "    <tr>\n",
       "      <th>6</th>\n",
       "      <td>Smriti Mandhana</td>\n",
       "      <td>IND</td>\n",
       "      <td>710</td>\n",
       "    </tr>\n",
       "    <tr>\n",
       "      <th>7</th>\n",
       "      <td>Meg Lanning</td>\n",
       "      <td>AUS</td>\n",
       "      <td>699</td>\n",
       "    </tr>\n",
       "    <tr>\n",
       "      <th>8</th>\n",
       "      <td>Beth Mooney</td>\n",
       "      <td>AUS</td>\n",
       "      <td>690</td>\n",
       "    </tr>\n",
       "    <tr>\n",
       "      <th>9</th>\n",
       "      <td>Heather Knight</td>\n",
       "      <td>ENG</td>\n",
       "      <td>674</td>\n",
       "    </tr>\n",
       "    <tr>\n",
       "      <th>10</th>\n",
       "      <td>Laura Wolvaardt</td>\n",
       "      <td>SA</td>\n",
       "      <td>672</td>\n",
       "    </tr>\n",
       "  </tbody>\n",
       "</table>\n",
       "</div>"
      ],
      "text/plain": [
       "          player namn team team rating\n",
       "1         Lizelle Lee   SA         761\n",
       "2        Alyssa Healy  AUS         750\n",
       "3         Mithali Raj  IND         738\n",
       "4      Tammy Beaumont  ENG         728\n",
       "5   Amy Satterthwaite   NZ         717\n",
       "6     Smriti Mandhana  IND         710\n",
       "7         Meg Lanning  AUS         699\n",
       "8         Beth Mooney  AUS         690\n",
       "9      Heather Knight  ENG         674\n",
       "10    Laura Wolvaardt   SA         672"
      ]
     },
     "execution_count": 125,
     "metadata": {},
     "output_type": "execute_result"
    }
   ],
   "source": [
    "top10.index = np.arange(1,len(Batsman_score_board)+1)\n",
    "print( \"Top 10 Batting player  in women ODI cricket teams are \")\n",
    "top10"
   ]
  },
  {
   "cell_type": "markdown",
   "metadata": {},
   "source": [
    "# iii) Top 10 women’s ODI all-rounder along with the records of their team and rating."
   ]
  },
  {
   "cell_type": "code",
   "execution_count": 126,
   "metadata": {},
   "outputs": [],
   "source": [
    "#taking the above data  for use \n",
    "top10_all=pd.DataFrame({})\n",
    "top10_all[\"player namn\"]=Batsmanw_name\n",
    "top10_all[\"team\"]=Teamw_country\n",
    "top10_all[\"team rating\"]=Teamw_rating\n"
   ]
  },
  {
   "cell_type": "code",
   "execution_count": 127,
   "metadata": {},
   "outputs": [
    {
     "data": {
      "text/html": [
       "<div>\n",
       "<style scoped>\n",
       "    .dataframe tbody tr th:only-of-type {\n",
       "        vertical-align: middle;\n",
       "    }\n",
       "\n",
       "    .dataframe tbody tr th {\n",
       "        vertical-align: top;\n",
       "    }\n",
       "\n",
       "    .dataframe thead th {\n",
       "        text-align: right;\n",
       "    }\n",
       "</style>\n",
       "<table border=\"1\" class=\"dataframe\">\n",
       "  <thead>\n",
       "    <tr style=\"text-align: right;\">\n",
       "      <th></th>\n",
       "      <th>player namn</th>\n",
       "      <th>team</th>\n",
       "      <th>team rating</th>\n",
       "    </tr>\n",
       "  </thead>\n",
       "  <tbody>\n",
       "    <tr>\n",
       "      <th>0</th>\n",
       "      <td>Lizelle Lee</td>\n",
       "      <td>SA                            761</td>\n",
       "      <td>761</td>\n",
       "    </tr>\n",
       "    <tr>\n",
       "      <th>1</th>\n",
       "      <td>Jess Jonassen</td>\n",
       "      <td>AUS                            760</td>\n",
       "      <td>760</td>\n",
       "    </tr>\n",
       "    <tr>\n",
       "      <th>2</th>\n",
       "      <td>Marizanne Kapp</td>\n",
       "      <td>SA                            384</td>\n",
       "      <td>384</td>\n",
       "    </tr>\n",
       "    <tr>\n",
       "      <th>3</th>\n",
       "      <td>Alyssa Healy</td>\n",
       "      <td>AUS</td>\n",
       "      <td>750</td>\n",
       "    </tr>\n",
       "    <tr>\n",
       "      <th>4</th>\n",
       "      <td>Mithali Raj</td>\n",
       "      <td>IND</td>\n",
       "      <td>738</td>\n",
       "    </tr>\n",
       "    <tr>\n",
       "      <th>5</th>\n",
       "      <td>Tammy Beaumont</td>\n",
       "      <td>ENG</td>\n",
       "      <td>728</td>\n",
       "    </tr>\n",
       "    <tr>\n",
       "      <th>6</th>\n",
       "      <td>Amy Satterthwaite</td>\n",
       "      <td>NZ</td>\n",
       "      <td>717</td>\n",
       "    </tr>\n",
       "    <tr>\n",
       "      <th>7</th>\n",
       "      <td>Smriti Mandhana</td>\n",
       "      <td>IND</td>\n",
       "      <td>710</td>\n",
       "    </tr>\n",
       "    <tr>\n",
       "      <th>8</th>\n",
       "      <td>Meg Lanning</td>\n",
       "      <td>AUS</td>\n",
       "      <td>699</td>\n",
       "    </tr>\n",
       "    <tr>\n",
       "      <th>9</th>\n",
       "      <td>Beth Mooney</td>\n",
       "      <td>AUS</td>\n",
       "      <td>690</td>\n",
       "    </tr>\n",
       "    <tr>\n",
       "      <th>10</th>\n",
       "      <td>Heather Knight</td>\n",
       "      <td>ENG</td>\n",
       "      <td>674</td>\n",
       "    </tr>\n",
       "    <tr>\n",
       "      <th>11</th>\n",
       "      <td>Laura Wolvaardt</td>\n",
       "      <td>SA</td>\n",
       "      <td>672</td>\n",
       "    </tr>\n",
       "    <tr>\n",
       "      <th>12</th>\n",
       "      <td>Jhulan Goswami</td>\n",
       "      <td>IND</td>\n",
       "      <td>727</td>\n",
       "    </tr>\n",
       "    <tr>\n",
       "      <th>13</th>\n",
       "      <td>Megan Schutt</td>\n",
       "      <td>AUS</td>\n",
       "      <td>717</td>\n",
       "    </tr>\n",
       "    <tr>\n",
       "      <th>14</th>\n",
       "      <td>Marizanne Kapp</td>\n",
       "      <td>SA</td>\n",
       "      <td>715</td>\n",
       "    </tr>\n",
       "  </tbody>\n",
       "</table>\n",
       "</div>"
      ],
      "text/plain": [
       "          player namn                                team team rating\n",
       "0         Lizelle Lee   SA                            761         761\n",
       "1       Jess Jonassen  AUS                            760         760\n",
       "2      Marizanne Kapp   SA                            384         384\n",
       "3        Alyssa Healy                                 AUS         750\n",
       "4         Mithali Raj                                 IND         738\n",
       "5      Tammy Beaumont                                 ENG         728\n",
       "6   Amy Satterthwaite                                  NZ         717\n",
       "7     Smriti Mandhana                                 IND         710\n",
       "8         Meg Lanning                                 AUS         699\n",
       "9         Beth Mooney                                 AUS         690\n",
       "10     Heather Knight                                 ENG         674\n",
       "11    Laura Wolvaardt                                  SA         672\n",
       "12     Jhulan Goswami                                 IND         727\n",
       "13       Megan Schutt                                 AUS         717\n",
       "14     Marizanne Kapp                                  SA         715"
      ]
     },
     "execution_count": 127,
     "metadata": {},
     "output_type": "execute_result"
    }
   ],
   "source": [
    "top10_all.head(15)"
   ]
  },
  {
   "cell_type": "code",
   "execution_count": 128,
   "metadata": {},
   "outputs": [],
   "source": [
    "top10_all.drop(range(0,2),axis=0,inplace=True)"
   ]
  },
  {
   "cell_type": "code",
   "execution_count": 129,
   "metadata": {},
   "outputs": [],
   "source": [
    "top10_all.drop(range(3,21),axis=0,inplace=True)\n"
   ]
  },
  {
   "cell_type": "code",
   "execution_count": 130,
   "metadata": {},
   "outputs": [
    {
     "name": "stdout",
     "output_type": "stream",
     "text": [
      "Top 10 All rounder in women ODI cricket teams are \n"
     ]
    },
    {
     "data": {
      "text/html": [
       "<div>\n",
       "<style scoped>\n",
       "    .dataframe tbody tr th:only-of-type {\n",
       "        vertical-align: middle;\n",
       "    }\n",
       "\n",
       "    .dataframe tbody tr th {\n",
       "        vertical-align: top;\n",
       "    }\n",
       "\n",
       "    .dataframe thead th {\n",
       "        text-align: right;\n",
       "    }\n",
       "</style>\n",
       "<table border=\"1\" class=\"dataframe\">\n",
       "  <thead>\n",
       "    <tr style=\"text-align: right;\">\n",
       "      <th></th>\n",
       "      <th>player namn</th>\n",
       "      <th>team</th>\n",
       "      <th>team rating</th>\n",
       "    </tr>\n",
       "  </thead>\n",
       "  <tbody>\n",
       "    <tr>\n",
       "      <th>1</th>\n",
       "      <td>Marizanne Kapp</td>\n",
       "      <td>SA</td>\n",
       "      <td>384</td>\n",
       "    </tr>\n",
       "    <tr>\n",
       "      <th>2</th>\n",
       "      <td>Natalie Sciver</td>\n",
       "      <td>ENG</td>\n",
       "      <td>372</td>\n",
       "    </tr>\n",
       "    <tr>\n",
       "      <th>3</th>\n",
       "      <td>Ellyse Perry</td>\n",
       "      <td>AUS</td>\n",
       "      <td>365</td>\n",
       "    </tr>\n",
       "    <tr>\n",
       "      <th>4</th>\n",
       "      <td>Stafanie Taylor</td>\n",
       "      <td>WI</td>\n",
       "      <td>322</td>\n",
       "    </tr>\n",
       "    <tr>\n",
       "      <th>5</th>\n",
       "      <td>Deepti Sharma</td>\n",
       "      <td>IND</td>\n",
       "      <td>299</td>\n",
       "    </tr>\n",
       "    <tr>\n",
       "      <th>6</th>\n",
       "      <td>Ashleigh Gardner</td>\n",
       "      <td>AUS</td>\n",
       "      <td>275</td>\n",
       "    </tr>\n",
       "    <tr>\n",
       "      <th>7</th>\n",
       "      <td>Dane van Niekerk</td>\n",
       "      <td>SA</td>\n",
       "      <td>274</td>\n",
       "    </tr>\n",
       "    <tr>\n",
       "      <th>8</th>\n",
       "      <td>Jess Jonassen</td>\n",
       "      <td>AUS</td>\n",
       "      <td>272</td>\n",
       "    </tr>\n",
       "    <tr>\n",
       "      <th>9</th>\n",
       "      <td>Katherine Brunt</td>\n",
       "      <td>ENG</td>\n",
       "      <td>272</td>\n",
       "    </tr>\n",
       "    <tr>\n",
       "      <th>10</th>\n",
       "      <td>Jhulan Goswami</td>\n",
       "      <td>IND</td>\n",
       "      <td>251</td>\n",
       "    </tr>\n",
       "  </tbody>\n",
       "</table>\n",
       "</div>"
      ],
      "text/plain": [
       "         player namn team team rating\n",
       "1     Marizanne Kapp   SA         384\n",
       "2     Natalie Sciver  ENG         372\n",
       "3       Ellyse Perry  AUS         365\n",
       "4    Stafanie Taylor   WI         322\n",
       "5      Deepti Sharma  IND         299\n",
       "6   Ashleigh Gardner  AUS         275\n",
       "7   Dane van Niekerk   SA         274\n",
       "8      Jess Jonassen  AUS         272\n",
       "9    Katherine Brunt  ENG         272\n",
       "10    Jhulan Goswami  IND         251"
      ]
     },
     "execution_count": 130,
     "metadata": {},
     "output_type": "execute_result"
    }
   ],
   "source": [
    "top10_all.index=np.arange(1,len(top10_all)+1)\n",
    "top10_all[\"team\"][1]=\"SA\"\n",
    "print( \"Top 10 All rounder in women ODI cricket teams are \")\n",
    "top10_all"
   ]
  },
  {
   "cell_type": "markdown",
   "metadata": {},
   "source": [
    "# 7. Write a python program to scrape details of all the mobile phones under Rs. 20,000 listed on Amazon.in. The scraped data should include Product Name, Price, Image URL and Average Rating."
   ]
  },
  {
   "cell_type": "code",
   "execution_count": 131,
   "metadata": {},
   "outputs": [],
   "source": [
    "amazon_url=\"https://www.amazon.in/s?i=electronics&bbn=1389432031&rh=n%3A1389432031%2Cp_36%3A100-2000000&dc&qid=1632752167&rnid=1318502031&ref=sr_nr_p_36_5\""
   ]
  },
  {
   "cell_type": "raw",
   "metadata": {},
   "source": [
    "reference 1 #mobile fones filtered in the website for <20k"
   ]
  },
  {
   "cell_type": "code",
   "execution_count": 132,
   "metadata": {},
   "outputs": [
    {
     "data": {
      "text/plain": [
       "<Response [503]>"
      ]
     },
     "execution_count": 132,
     "metadata": {},
     "output_type": "execute_result"
    }
   ],
   "source": [
    "\n",
    "mobile_page=requests.get(amazon_url)\n",
    "mobile_page"
   ]
  },
  {
   "cell_type": "code",
   "execution_count": 133,
   "metadata": {},
   "outputs": [],
   "source": [
    "soup7=BeautifulSoup(mobile_page.content)"
   ]
  },
  {
   "cell_type": "code",
   "execution_count": 134,
   "metadata": {},
   "outputs": [],
   "source": [
    "mobile_name=soup7.find_all(\"a\",class_=\"a-link-normal a-text-normal\")\n",
    "price=soup7.find_all(\"span\",class_=\"a-price-whole\") #done \n",
    "avg_rating=soup7.find_all(\"div\",class_=\"a-row a-size-small\")\n",
    "image_url=soup7.find_all(\"img\",class_=\"s-image\",src=True)\n",
    "mobile_rating=soup7.find_all(\"span\",class_=\"a-icon-alt\")\n"
   ]
  },
  {
   "cell_type": "markdown",
   "metadata": {},
   "source": [
    "<span class=\"a-icon-alt\">4.2 out of 5 stars</span>"
   ]
  },
  {
   "cell_type": "code",
   "execution_count": 135,
   "metadata": {},
   "outputs": [
    {
     "data": {
      "text/plain": [
       "[]"
      ]
     },
     "execution_count": 135,
     "metadata": {},
     "output_type": "execute_result"
    }
   ],
   "source": [
    "image_url"
   ]
  },
  {
   "cell_type": "markdown",
   "metadata": {},
   "source": [
    "#imahge url\n",
    "<img class=\"s-image\" src=\"https://m.media-amazon.com/images/I/81Vpy0XrvFL._AC_UL320_.jpg\" srcset=\"https://m.media-amazon.com/images/I/81Vpy0XrvFL._AC_UL320_.jpg 1x, https://m.media-amazon.com/images/I/81Vpy0XrvFL._AC_UL480_FMwebp_QL65_.jpg 1.5x, https://m.media-amazon.com/images/I/81Vpy0XrvFL._AC_UL640_FMwebp_QL65_.jpg 2x, https://m.media-amazon.com/images/I/81Vpy0XrvFL._AC_UL800_FMwebp_QL65_.jpg 2.5x, https://m.media-amazon.com/images/I/81Vpy0XrvFL._AC_UL960_FMwebp_QL65_.jpg 3x\" alt=\"Redmi Note 10 Pro Max (Dark Night, 6GB RAM, 128GB Storage) -108MP Quad Camera | 120Hz Super Amoled Display\" data-image-index=\"4\" data-image-load=\"\" data-image-latency=\"s-product-image\" data-image-source-density=\"1\">"
   ]
  },
  {
   "cell_type": "raw",
   "metadata": {},
   "source": [
    "reference2 # Above image is just the markdown  line of code of the image containing html ."
   ]
  },
  {
   "cell_type": "code",
   "execution_count": 136,
   "metadata": {},
   "outputs": [],
   "source": [
    "Phone_name=[]\n",
    "Phone_price=[]\n",
    "Img_rul=[]\n",
    "Average_rating=[]"
   ]
  },
  {
   "cell_type": "code",
   "execution_count": 137,
   "metadata": {},
   "outputs": [
    {
     "data": {
      "text/plain": [
       "0"
      ]
     },
     "execution_count": 137,
     "metadata": {},
     "output_type": "execute_result"
    }
   ],
   "source": [
    "for ph in mobile_name:\n",
    "    ph=ph.get_text().replace(\"\\n\",\"\")\n",
    "    ph=ph.strip()\n",
    "    Phone_name.append(ph)\n",
    "    \n",
    "len(Phone_name)\n",
    "    "
   ]
  },
  {
   "cell_type": "code",
   "execution_count": 138,
   "metadata": {},
   "outputs": [
    {
     "data": {
      "text/plain": [
       "0"
      ]
     },
     "execution_count": 138,
     "metadata": {},
     "output_type": "execute_result"
    }
   ],
   "source": [
    "for p in price:\n",
    "    p=p.get_text().replace(\"\\n\",\"\")\n",
    "    p=p.strip()\n",
    "    Phone_price.append(p)\n",
    "    \n",
    "len(Phone_price)    "
   ]
  },
  {
   "cell_type": "code",
   "execution_count": 146,
   "metadata": {},
   "outputs": [
    {
     "name": "stdout",
     "output_type": "stream",
     "text": [
      "0\n"
     ]
    },
    {
     "data": {
      "text/plain": [
       "[]"
      ]
     },
     "execution_count": 146,
     "metadata": {},
     "output_type": "execute_result"
    }
   ],
   "source": [
    "for p in mobile_rating:\n",
    "    p=p.get_text().replace(\"\\n\",\"\")\n",
    "    p=p.strip()\n",
    "    Average_rating.append(p)\n",
    "\n",
    "print(len(Average_rating))\n",
    "Average_rating\n"
   ]
  },
  {
   "cell_type": "code",
   "execution_count": 147,
   "metadata": {},
   "outputs": [
    {
     "ename": "IndexError",
     "evalue": "pop from empty list",
     "output_type": "error",
     "traceback": [
      "\u001b[1;31m---------------------------------------------------------------------------\u001b[0m",
      "\u001b[1;31mIndexError\u001b[0m                                Traceback (most recent call last)",
      "\u001b[1;32m<ipython-input-147-e310f06662dd>\u001b[0m in \u001b[0;36m<module>\u001b[1;34m\u001b[0m\n\u001b[0;32m      1\u001b[0m \u001b[0mnum\u001b[0m\u001b[1;33m=\u001b[0m\u001b[1;33m(\u001b[0m\u001b[1;36m25\u001b[0m\u001b[1;33m,\u001b[0m\u001b[1;36m26\u001b[0m\u001b[1;33m,\u001b[0m\u001b[1;36m27\u001b[0m\u001b[1;33m,\u001b[0m\u001b[1;36m28\u001b[0m\u001b[1;33m)\u001b[0m\u001b[1;33m\u001b[0m\u001b[1;33m\u001b[0m\u001b[0m\n\u001b[0;32m      2\u001b[0m \u001b[1;32mfor\u001b[0m \u001b[0mi\u001b[0m \u001b[1;32min\u001b[0m \u001b[0mnum\u001b[0m\u001b[1;33m:\u001b[0m\u001b[1;33m\u001b[0m\u001b[1;33m\u001b[0m\u001b[0m\n\u001b[1;32m----> 3\u001b[1;33m     \u001b[0mAverage_rating\u001b[0m\u001b[1;33m.\u001b[0m\u001b[0mpop\u001b[0m\u001b[1;33m(\u001b[0m\u001b[1;33m)\u001b[0m\u001b[1;33m\u001b[0m\u001b[1;33m\u001b[0m\u001b[0m\n\u001b[0m",
      "\u001b[1;31mIndexError\u001b[0m: pop from empty list"
     ]
    }
   ],
   "source": [
    "num=(25,26,27,28)\n",
    "for i in num:\n",
    "    Average_rating.pop()"
   ]
  },
  {
   "cell_type": "code",
   "execution_count": 148,
   "metadata": {},
   "outputs": [
    {
     "data": {
      "text/plain": [
       "0"
      ]
     },
     "execution_count": 148,
     "metadata": {},
     "output_type": "execute_result"
    }
   ],
   "source": [
    "len(Average_rating)"
   ]
  },
  {
   "cell_type": "code",
   "execution_count": 149,
   "metadata": {},
   "outputs": [],
   "source": [
    "below20_k=pd.DataFrame({})\n",
    "below20_k[\"Phone_name\"]=Phone_name\n",
    "below20_k[\"Phone_Price\"]=Phone_price\n",
    "below20_k[\"Average_rating\"]=Average_rating\n"
   ]
  },
  {
   "cell_type": "code",
   "execution_count": 150,
   "metadata": {},
   "outputs": [
    {
     "data": {
      "text/html": [
       "<div>\n",
       "<style scoped>\n",
       "    .dataframe tbody tr th:only-of-type {\n",
       "        vertical-align: middle;\n",
       "    }\n",
       "\n",
       "    .dataframe tbody tr th {\n",
       "        vertical-align: top;\n",
       "    }\n",
       "\n",
       "    .dataframe thead th {\n",
       "        text-align: right;\n",
       "    }\n",
       "</style>\n",
       "<table border=\"1\" class=\"dataframe\">\n",
       "  <thead>\n",
       "    <tr style=\"text-align: right;\">\n",
       "      <th></th>\n",
       "      <th>Phone_name</th>\n",
       "      <th>Phone_Price</th>\n",
       "      <th>Average_rating</th>\n",
       "    </tr>\n",
       "  </thead>\n",
       "  <tbody>\n",
       "  </tbody>\n",
       "</table>\n",
       "</div>"
      ],
      "text/plain": [
       "Empty DataFrame\n",
       "Columns: [Phone_name, Phone_Price, Average_rating]\n",
       "Index: []"
      ]
     },
     "execution_count": 150,
     "metadata": {},
     "output_type": "execute_result"
    }
   ],
   "source": [
    "below20_k.index=np.arange(1,len(below20_k)+1)\n",
    "below20_k"
   ]
  },
  {
   "cell_type": "code",
   "execution_count": null,
   "metadata": {},
   "outputs": [],
   "source": [
    "#unable to fetch url "
   ]
  },
  {
   "cell_type": "markdown",
   "metadata": {},
   "source": [
    "# 8. Write a python program to extract information about the local weather from the National Weather Service website of USA, https://www.weather.gov/ for the city, San Francisco. You need to extract data about 7 day extended forecast display for the city. The data should include period, short description, temperature and description."
   ]
  },
  {
   "cell_type": "code",
   "execution_count": 151,
   "metadata": {},
   "outputs": [],
   "source": [
    "san_url=\"https://forecast.weather.gov/MapClick.php?lat=37.7771&lon=-122.4196&lg=english&FcstType=text#.YVNRFLgzbIU\"\n"
   ]
  },
  {
   "cell_type": "code",
   "execution_count": 152,
   "metadata": {},
   "outputs": [
    {
     "data": {
      "text/plain": [
       "<Response [200]>"
      ]
     },
     "execution_count": 152,
     "metadata": {},
     "output_type": "execute_result"
    }
   ],
   "source": [
    "san_page=requests.get(san_url)\n",
    "san_page"
   ]
  },
  {
   "cell_type": "code",
   "execution_count": 153,
   "metadata": {},
   "outputs": [],
   "source": [
    "soup_san=BeautifulSoup(san_page.content)"
   ]
  },
  {
   "cell_type": "code",
   "execution_count": 154,
   "metadata": {},
   "outputs": [
    {
     "data": {
      "text/plain": [
       "['Tonight',\n",
       " 'Thursday',\n",
       " 'ThursdayNight',\n",
       " 'Friday',\n",
       " 'FridayNight',\n",
       " 'Saturday',\n",
       " 'SaturdayNight',\n",
       " 'Sunday',\n",
       " 'SundayNight']"
      ]
     },
     "execution_count": 154,
     "metadata": {},
     "output_type": "execute_result"
    }
   ],
   "source": [
    "period=soup_san.find_all(\"p\", class_=\"period-name\")\n",
    "\n",
    "Period=[]\n",
    "for per in period:\n",
    "    per=per.get_text()\n",
    "    Period.append(per)\n",
    "\n",
    "Period\n"
   ]
  },
  {
   "cell_type": "code",
   "execution_count": 155,
   "metadata": {
    "scrolled": true
   },
   "outputs": [
    {
     "name": "stdout",
     "output_type": "stream",
     "text": [
      "9\n"
     ]
    },
    {
     "data": {
      "text/plain": [
       "['Mostly Clear',\n",
       " 'Sunny',\n",
       " 'Mostly Clear',\n",
       " 'Sunny',\n",
       " 'Partly Cloudy',\n",
       " 'Sunny',\n",
       " 'Mostly Clear',\n",
       " 'Sunny',\n",
       " 'Partly Cloudy']"
      ]
     },
     "execution_count": 155,
     "metadata": {},
     "output_type": "execute_result"
    }
   ],
   "source": [
    "short=soup_san.find_all(\"p\", class_=\"short-desc\")\n",
    "\n",
    "short_desc=[]\n",
    "for per in short:\n",
    "    per=per.get_text()\n",
    "    short_desc.append(per)\n",
    "\n",
    "\n",
    "print(len(short_desc))\n",
    "short_desc"
   ]
  },
  {
   "cell_type": "code",
   "execution_count": 166,
   "metadata": {},
   "outputs": [],
   "source": [
    "temph=soup_san.find_all(\"p\", class_=\"temp temp-high\")\n",
    "templ=soup_san.find_all(\"p\", class_=\"temp temp-low\")\n",
    "temph1=[]\n",
    "templ1=[]\n",
    "temp_both=[]\n",
    "count=range(len(temph))\n",
    "\n",
    "for i in temph:\n",
    "    i=i.get_text()\n",
    "    temph1.append(i)\n",
    "    \n",
    "for j in templ:\n",
    "    j=j.get_text()\n",
    "    templ1.append(j)    \n"
   ]
  },
  {
   "cell_type": "code",
   "execution_count": 167,
   "metadata": {},
   "outputs": [
    {
     "name": "stdout",
     "output_type": "stream",
     "text": [
      "4\n"
     ]
    },
    {
     "data": {
      "text/plain": [
       "['High: 76 °F', 'High: 74 °F', 'High: 74 °F', 'High: 74 °F']"
      ]
     },
     "execution_count": 167,
     "metadata": {},
     "output_type": "execute_result"
    }
   ],
   "source": [
    "print(len(temph1))\n",
    "temph1"
   ]
  },
  {
   "cell_type": "code",
   "execution_count": 168,
   "metadata": {},
   "outputs": [
    {
     "name": "stdout",
     "output_type": "stream",
     "text": [
      "5\n"
     ]
    },
    {
     "data": {
      "text/plain": [
       "['Low: 55 °F', 'Low: 56 °F', 'Low: 55 °F', 'Low: 55 °F', 'Low: 56 °F']"
      ]
     },
     "execution_count": 168,
     "metadata": {},
     "output_type": "execute_result"
    }
   ],
   "source": [
    "print(len(templ1))\n",
    "templ1"
   ]
  },
  {
   "cell_type": "code",
   "execution_count": 169,
   "metadata": {},
   "outputs": [],
   "source": [
    "for i in range(4):\n",
    "    if i<=3:\n",
    "        temp_both.append(temph1[i])\n",
    "        temp_both.append(templ1[i])       \n",
    "    else:\n",
    "        temp_both.append(temph1[i])\n",
    "        \n",
    "        \n",
    "\n",
    "    "
   ]
  },
  {
   "cell_type": "raw",
   "metadata": {},
   "source": [
    "observation #\n",
    "temp starts with high \n",
    "temp temp-high 5\n",
    "temp temp-low 4\n",
    "\n",
    "#might change based on the update in website "
   ]
  },
  {
   "cell_type": "code",
   "execution_count": 170,
   "metadata": {},
   "outputs": [
    {
     "data": {
      "text/plain": [
       "['High: 76 °F',\n",
       " 'Low: 55 °F',\n",
       " 'High: 74 °F',\n",
       " 'Low: 56 °F',\n",
       " 'High: 74 °F',\n",
       " 'Low: 55 °F',\n",
       " 'High: 74 °F',\n",
       " 'Low: 55 °F']"
      ]
     },
     "execution_count": 170,
     "metadata": {},
     "output_type": "execute_result"
    }
   ],
   "source": [
    "temp_both"
   ]
  },
  {
   "cell_type": "code",
   "execution_count": 171,
   "metadata": {},
   "outputs": [
    {
     "data": {
      "text/plain": [
       "8"
      ]
     },
     "execution_count": 171,
     "metadata": {},
     "output_type": "execute_result"
    }
   ],
   "source": [
    "len(temp_both)"
   ]
  },
  {
   "cell_type": "code",
   "execution_count": 172,
   "metadata": {},
   "outputs": [
    {
     "name": "stdout",
     "output_type": "stream",
     "text": [
      "9\n"
     ]
    },
    {
     "data": {
      "text/plain": [
       "['Mostly clear, with a low around 55. West wind 11 to 16 mph becoming light west southwest. Winds could gust as high as 22 mph. ',\n",
       " 'Sunny, with a high near 76. Light and variable wind becoming west 13 to 18 mph in the afternoon. Winds could gust as high as 24 mph. ',\n",
       " 'Mostly clear, with a low around 56. Southwest wind 12 to 17 mph decreasing to 6 to 11 mph after midnight. Winds could gust as high as 23 mph. ',\n",
       " 'Sunny, with a high near 74. Light and variable wind becoming west 6 to 11 mph in the afternoon. ',\n",
       " 'Partly cloudy, with a low around 55. West southwest wind 8 to 17 mph, with gusts as high as 22 mph. ',\n",
       " 'Sunny, with a high near 74.',\n",
       " 'Mostly clear, with a low around 55.',\n",
       " 'Sunny, with a high near 74.',\n",
       " 'Partly cloudy, with a low around 56.']"
      ]
     },
     "execution_count": 172,
     "metadata": {},
     "output_type": "execute_result"
    }
   ],
   "source": [
    "full_desc=soup_san.find_all(\"div\",class_=\"col-sm-10 forecast-text\")\n",
    "Description=[]\n",
    "\n",
    "for i in full_desc:\n",
    "    i=i.get_text()\n",
    "    Description.append(i)\n",
    "    \n",
    "Description=Description[0:9]    \n",
    "print(len(Description))\n",
    "Description"
   ]
  },
  {
   "cell_type": "code",
   "execution_count": 173,
   "metadata": {},
   "outputs": [
    {
     "ename": "ValueError",
     "evalue": "Length of values (8) does not match length of index (9)",
     "output_type": "error",
     "traceback": [
      "\u001b[1;31m---------------------------------------------------------------------------\u001b[0m",
      "\u001b[1;31mValueError\u001b[0m                                Traceback (most recent call last)",
      "\u001b[1;32m<ipython-input-173-e19825f8e8c9>\u001b[0m in \u001b[0;36m<module>\u001b[1;34m\u001b[0m\n\u001b[0;32m      3\u001b[0m \u001b[0msan_weather\u001b[0m\u001b[1;33m[\u001b[0m\u001b[1;34m\"period\"\u001b[0m\u001b[1;33m]\u001b[0m\u001b[1;33m=\u001b[0m\u001b[0mPeriod\u001b[0m\u001b[1;33m\u001b[0m\u001b[1;33m\u001b[0m\u001b[0m\n\u001b[0;32m      4\u001b[0m \u001b[0msan_weather\u001b[0m\u001b[1;33m[\u001b[0m\u001b[1;34m\"short description\"\u001b[0m\u001b[1;33m]\u001b[0m\u001b[1;33m=\u001b[0m\u001b[0mshort_desc\u001b[0m\u001b[1;33m\u001b[0m\u001b[1;33m\u001b[0m\u001b[0m\n\u001b[1;32m----> 5\u001b[1;33m \u001b[0msan_weather\u001b[0m\u001b[1;33m[\u001b[0m\u001b[1;34m\"temperature\"\u001b[0m\u001b[1;33m]\u001b[0m\u001b[1;33m=\u001b[0m\u001b[0mtemp_both\u001b[0m\u001b[1;33m\u001b[0m\u001b[1;33m\u001b[0m\u001b[0m\n\u001b[0m\u001b[0;32m      6\u001b[0m \u001b[0msan_weather\u001b[0m\u001b[1;33m[\u001b[0m\u001b[1;34m\"description\"\u001b[0m\u001b[1;33m]\u001b[0m\u001b[1;33m=\u001b[0m\u001b[0mDescription\u001b[0m\u001b[1;33m\u001b[0m\u001b[1;33m\u001b[0m\u001b[0m\n\u001b[0;32m      7\u001b[0m \u001b[1;33m\u001b[0m\u001b[0m\n",
      "\u001b[1;32m~\\anaconda3\\lib\\site-packages\\pandas\\core\\frame.py\u001b[0m in \u001b[0;36m__setitem__\u001b[1;34m(self, key, value)\u001b[0m\n\u001b[0;32m   3038\u001b[0m         \u001b[1;32melse\u001b[0m\u001b[1;33m:\u001b[0m\u001b[1;33m\u001b[0m\u001b[1;33m\u001b[0m\u001b[0m\n\u001b[0;32m   3039\u001b[0m             \u001b[1;31m# set column\u001b[0m\u001b[1;33m\u001b[0m\u001b[1;33m\u001b[0m\u001b[1;33m\u001b[0m\u001b[0m\n\u001b[1;32m-> 3040\u001b[1;33m             \u001b[0mself\u001b[0m\u001b[1;33m.\u001b[0m\u001b[0m_set_item\u001b[0m\u001b[1;33m(\u001b[0m\u001b[0mkey\u001b[0m\u001b[1;33m,\u001b[0m \u001b[0mvalue\u001b[0m\u001b[1;33m)\u001b[0m\u001b[1;33m\u001b[0m\u001b[1;33m\u001b[0m\u001b[0m\n\u001b[0m\u001b[0;32m   3041\u001b[0m \u001b[1;33m\u001b[0m\u001b[0m\n\u001b[0;32m   3042\u001b[0m     \u001b[1;32mdef\u001b[0m \u001b[0m_setitem_slice\u001b[0m\u001b[1;33m(\u001b[0m\u001b[0mself\u001b[0m\u001b[1;33m,\u001b[0m \u001b[0mkey\u001b[0m\u001b[1;33m:\u001b[0m \u001b[0mslice\u001b[0m\u001b[1;33m,\u001b[0m \u001b[0mvalue\u001b[0m\u001b[1;33m)\u001b[0m\u001b[1;33m:\u001b[0m\u001b[1;33m\u001b[0m\u001b[1;33m\u001b[0m\u001b[0m\n",
      "\u001b[1;32m~\\anaconda3\\lib\\site-packages\\pandas\\core\\frame.py\u001b[0m in \u001b[0;36m_set_item\u001b[1;34m(self, key, value)\u001b[0m\n\u001b[0;32m   3114\u001b[0m         \"\"\"\n\u001b[0;32m   3115\u001b[0m         \u001b[0mself\u001b[0m\u001b[1;33m.\u001b[0m\u001b[0m_ensure_valid_index\u001b[0m\u001b[1;33m(\u001b[0m\u001b[0mvalue\u001b[0m\u001b[1;33m)\u001b[0m\u001b[1;33m\u001b[0m\u001b[1;33m\u001b[0m\u001b[0m\n\u001b[1;32m-> 3116\u001b[1;33m         \u001b[0mvalue\u001b[0m \u001b[1;33m=\u001b[0m \u001b[0mself\u001b[0m\u001b[1;33m.\u001b[0m\u001b[0m_sanitize_column\u001b[0m\u001b[1;33m(\u001b[0m\u001b[0mkey\u001b[0m\u001b[1;33m,\u001b[0m \u001b[0mvalue\u001b[0m\u001b[1;33m)\u001b[0m\u001b[1;33m\u001b[0m\u001b[1;33m\u001b[0m\u001b[0m\n\u001b[0m\u001b[0;32m   3117\u001b[0m         \u001b[0mNDFrame\u001b[0m\u001b[1;33m.\u001b[0m\u001b[0m_set_item\u001b[0m\u001b[1;33m(\u001b[0m\u001b[0mself\u001b[0m\u001b[1;33m,\u001b[0m \u001b[0mkey\u001b[0m\u001b[1;33m,\u001b[0m \u001b[0mvalue\u001b[0m\u001b[1;33m)\u001b[0m\u001b[1;33m\u001b[0m\u001b[1;33m\u001b[0m\u001b[0m\n\u001b[0;32m   3118\u001b[0m \u001b[1;33m\u001b[0m\u001b[0m\n",
      "\u001b[1;32m~\\anaconda3\\lib\\site-packages\\pandas\\core\\frame.py\u001b[0m in \u001b[0;36m_sanitize_column\u001b[1;34m(self, key, value, broadcast)\u001b[0m\n\u001b[0;32m   3762\u001b[0m \u001b[1;33m\u001b[0m\u001b[0m\n\u001b[0;32m   3763\u001b[0m             \u001b[1;31m# turn me into an ndarray\u001b[0m\u001b[1;33m\u001b[0m\u001b[1;33m\u001b[0m\u001b[1;33m\u001b[0m\u001b[0m\n\u001b[1;32m-> 3764\u001b[1;33m             \u001b[0mvalue\u001b[0m \u001b[1;33m=\u001b[0m \u001b[0msanitize_index\u001b[0m\u001b[1;33m(\u001b[0m\u001b[0mvalue\u001b[0m\u001b[1;33m,\u001b[0m \u001b[0mself\u001b[0m\u001b[1;33m.\u001b[0m\u001b[0mindex\u001b[0m\u001b[1;33m)\u001b[0m\u001b[1;33m\u001b[0m\u001b[1;33m\u001b[0m\u001b[0m\n\u001b[0m\u001b[0;32m   3765\u001b[0m             \u001b[1;32mif\u001b[0m \u001b[1;32mnot\u001b[0m \u001b[0misinstance\u001b[0m\u001b[1;33m(\u001b[0m\u001b[0mvalue\u001b[0m\u001b[1;33m,\u001b[0m \u001b[1;33m(\u001b[0m\u001b[0mnp\u001b[0m\u001b[1;33m.\u001b[0m\u001b[0mndarray\u001b[0m\u001b[1;33m,\u001b[0m \u001b[0mIndex\u001b[0m\u001b[1;33m)\u001b[0m\u001b[1;33m)\u001b[0m\u001b[1;33m:\u001b[0m\u001b[1;33m\u001b[0m\u001b[1;33m\u001b[0m\u001b[0m\n\u001b[0;32m   3766\u001b[0m                 \u001b[1;32mif\u001b[0m \u001b[0misinstance\u001b[0m\u001b[1;33m(\u001b[0m\u001b[0mvalue\u001b[0m\u001b[1;33m,\u001b[0m \u001b[0mlist\u001b[0m\u001b[1;33m)\u001b[0m \u001b[1;32mand\u001b[0m \u001b[0mlen\u001b[0m\u001b[1;33m(\u001b[0m\u001b[0mvalue\u001b[0m\u001b[1;33m)\u001b[0m \u001b[1;33m>\u001b[0m \u001b[1;36m0\u001b[0m\u001b[1;33m:\u001b[0m\u001b[1;33m\u001b[0m\u001b[1;33m\u001b[0m\u001b[0m\n",
      "\u001b[1;32m~\\anaconda3\\lib\\site-packages\\pandas\\core\\internals\\construction.py\u001b[0m in \u001b[0;36msanitize_index\u001b[1;34m(data, index)\u001b[0m\n\u001b[0;32m    745\u001b[0m     \"\"\"\n\u001b[0;32m    746\u001b[0m     \u001b[1;32mif\u001b[0m \u001b[0mlen\u001b[0m\u001b[1;33m(\u001b[0m\u001b[0mdata\u001b[0m\u001b[1;33m)\u001b[0m \u001b[1;33m!=\u001b[0m \u001b[0mlen\u001b[0m\u001b[1;33m(\u001b[0m\u001b[0mindex\u001b[0m\u001b[1;33m)\u001b[0m\u001b[1;33m:\u001b[0m\u001b[1;33m\u001b[0m\u001b[1;33m\u001b[0m\u001b[0m\n\u001b[1;32m--> 747\u001b[1;33m         raise ValueError(\n\u001b[0m\u001b[0;32m    748\u001b[0m             \u001b[1;34m\"Length of values \"\u001b[0m\u001b[1;33m\u001b[0m\u001b[1;33m\u001b[0m\u001b[0m\n\u001b[0;32m    749\u001b[0m             \u001b[1;34mf\"({len(data)}) \"\u001b[0m\u001b[1;33m\u001b[0m\u001b[1;33m\u001b[0m\u001b[0m\n",
      "\u001b[1;31mValueError\u001b[0m: Length of values (8) does not match length of index (9)"
     ]
    }
   ],
   "source": [
    "san_weather=pd.DataFrame({})\n",
    "\n",
    "san_weather[\"period\"]=Period\n",
    "san_weather[\"short description\"]=short_desc\n",
    "san_weather[\"temperature\"]=temp_both\n",
    "san_weather[\"description\"]=Description\n",
    "\n",
    "print (\"Extended weather forcast of San Francisco for last 7 days is \")\n",
    "san_weather"
   ]
  },
  {
   "cell_type": "markdown",
   "metadata": {},
   "source": [
    "# 9. Write a python program to scrape fresher job listings from ‘https://internshala.com/’. It should include job title,company name, CTC, and apply date."
   ]
  },
  {
   "cell_type": "code",
   "execution_count": 174,
   "metadata": {},
   "outputs": [
    {
     "data": {
      "text/plain": [
       "<Response [200]>"
      ]
     },
     "execution_count": 174,
     "metadata": {},
     "output_type": "execute_result"
    }
   ],
   "source": [
    "job_url=\"https://internshala.com/fresher-jobs\"\n",
    "job_page=requests.get(job_url)\n",
    "job_page"
   ]
  },
  {
   "cell_type": "code",
   "execution_count": 175,
   "metadata": {},
   "outputs": [],
   "source": [
    "soup_job=BeautifulSoup(job_page.content)"
   ]
  },
  {
   "cell_type": "code",
   "execution_count": 176,
   "metadata": {},
   "outputs": [
    {
     "name": "stdout",
     "output_type": "stream",
     "text": [
      "40\n"
     ]
    },
    {
     "data": {
      "text/plain": [
       "['Management Trainee - Sales',\n",
       " 'Corporate Sales Associate',\n",
       " 'Front-End Engineer',\n",
       " 'Full Stack Engineer (MERN)',\n",
       " 'Content Writer',\n",
       " 'Associate Project Manager',\n",
       " 'Researcher & Content Writer',\n",
       " 'Senior Copywriter - Media Query Pitching Team',\n",
       " 'Educational Counselor And Coordinator',\n",
       " 'Software Engineer',\n",
       " 'Junior Software Engineer',\n",
       " 'Senior Executive - Talent Acquisition',\n",
       " 'Trainee Engineer',\n",
       " 'Business Development Associate',\n",
       " 'Motion Graphic Designer',\n",
       " 'Content Creator',\n",
       " 'Logistics And Operations Manager',\n",
       " 'Business Development Specialist',\n",
       " 'Trainee Engineer',\n",
       " 'Software Engineer - Flutter/Dart',\n",
       " 'Associate Java Developer',\n",
       " 'Android App Developer',\n",
       " 'Support & Installation Engineer',\n",
       " 'Assistant Brand Manager',\n",
       " 'Associate Recruiter',\n",
       " 'Student Mentor - English',\n",
       " 'Human Resources (HR) Manager',\n",
       " 'Software Engineer - Trainee',\n",
       " 'Embedded Systems Associate',\n",
       " 'Business Development Associate',\n",
       " 'Social Media Executive',\n",
       " 'Digital Marketing Executive',\n",
       " 'Market Research Associate',\n",
       " 'React Native Developer',\n",
       " 'Associate Software Developer',\n",
       " 'Associate Front End Developer',\n",
       " 'Business Development Associate',\n",
       " 'Lead Generation Associate',\n",
       " 'Business Development Associate',\n",
       " 'Accounts And MIS Manager']"
      ]
     },
     "execution_count": 176,
     "metadata": {},
     "output_type": "execute_result"
    }
   ],
   "source": [
    "job=soup_job.find_all(\"div\",class_=\"heading_4_5 profile\")\n",
    "\n",
    "job_title=[]\n",
    "\n",
    "for i in job:\n",
    "    i=i.get_text().replace(\"\\n\",\"\")\n",
    "    i=i.strip()\n",
    "    job_title.append(i)\n",
    "\n",
    "print(len(job_title))\n",
    "job_title"
   ]
  },
  {
   "cell_type": "code",
   "execution_count": 177,
   "metadata": {},
   "outputs": [
    {
     "name": "stdout",
     "output_type": "stream",
     "text": [
      "40\n"
     ]
    },
    {
     "data": {
      "text/plain": [
       "['CEAT Limited',\n",
       " 'SalesBlink',\n",
       " 'AffinityAnswers',\n",
       " 'Softway Solutions Private Limited',\n",
       " 'Goodera',\n",
       " 'Progresso Research & Analytics Private Limited',\n",
       " 'Cliff Coelho',\n",
       " 'Ranksoldier International Private Limited',\n",
       " 'Musale Classes',\n",
       " 'Shipsy',\n",
       " 'Monad InfoTech',\n",
       " 'Orange Umbrella',\n",
       " 'Active.ai',\n",
       " 'Open Door Education',\n",
       " 'UGLY',\n",
       " 'Picocrew',\n",
       " 'Little Olive',\n",
       " 'Apto Media Solutions',\n",
       " 'Moodraa',\n",
       " 'Aimed Labs',\n",
       " 'HostBooks Limited',\n",
       " 'WatchDeck',\n",
       " 'ENSOWT',\n",
       " 'Pet Project India Private Limited',\n",
       " 'Recruit CRM',\n",
       " 'Kid Aptivity Technologies',\n",
       " 'FreeCo Education Private Limited',\n",
       " 'RightRev India Private Limited',\n",
       " 'Limelight',\n",
       " 'StayQrious India Private Limited',\n",
       " 'Plix - The Plant Flix',\n",
       " 'Nebula Robotics',\n",
       " 'IndustryARC',\n",
       " 'Red Dot Apps',\n",
       " 'Chimera Technologies',\n",
       " 'Seventh Triangle Consulting',\n",
       " 'Regional Public Relations',\n",
       " 'CommVersion Solutions',\n",
       " 'Web Assets',\n",
       " 'Little Olive']"
      ]
     },
     "execution_count": 177,
     "metadata": {},
     "output_type": "execute_result"
    }
   ],
   "source": [
    "com=soup_job.find_all(\"div\",class_=\"heading_6 company_name\")\n",
    "\n",
    "Company_name=[]\n",
    "\n",
    "for i in com:\n",
    "    i=i.get_text().replace(\"\\n\",\"\")\n",
    "    i=i.strip()\n",
    "    Company_name.append(i)\n",
    "\n",
    "print(len(Company_name))\n",
    "Company_name"
   ]
  },
  {
   "cell_type": "code",
   "execution_count": 178,
   "metadata": {},
   "outputs": [
    {
     "name": "stdout",
     "output_type": "stream",
     "text": [
      "120\n"
     ]
    },
    {
     "data": {
      "text/plain": [
       "['Starts\\xa0Immediately',\n",
       " '5 LPA',\n",
       " \"29 Oct' 21\",\n",
       " 'Starts\\xa0Immediately',\n",
       " '3 - 5 LPA',\n",
       " \"29 Oct' 21\",\n",
       " 'Starts\\xa0Immediately',\n",
       " '5 - 6.5 LPA',\n",
       " \"29 Oct' 21\",\n",
       " 'Starts\\xa0Immediately',\n",
       " '5.5 - 8 LPA',\n",
       " \"29 Oct' 21\",\n",
       " 'Starts\\xa0Immediately',\n",
       " '4 - 7 LPA',\n",
       " \"29 Oct' 21\",\n",
       " 'Starts\\xa0Immediately',\n",
       " '3 - 3.5 LPA',\n",
       " \"29 Oct' 21\",\n",
       " 'Starts\\xa0Immediately',\n",
       " '3 - 3.2 LPA',\n",
       " \"29 Oct' 21\",\n",
       " 'Starts\\xa0Immediately',\n",
       " '3 LPA',\n",
       " \"29 Oct' 21\",\n",
       " 'Starts\\xa0Immediately',\n",
       " '3.6 - 4.8 LPA',\n",
       " \"29 Oct' 21\",\n",
       " 'Starts\\xa0Immediately',\n",
       " '12 - 20 LPA',\n",
       " \"29 Oct' 21\",\n",
       " 'Starts\\xa0Immediately',\n",
       " '3 LPA',\n",
       " \"29 Oct' 21\",\n",
       " 'Starts\\xa0Immediately',\n",
       " '3 - 3.6 LPA',\n",
       " \"29 Oct' 21\",\n",
       " 'Starts\\xa0Immediately',\n",
       " '4 - 5 LPA',\n",
       " \"29 Oct' 21\",\n",
       " 'Starts\\xa0Immediately',\n",
       " '4 - 5 LPA',\n",
       " \"29 Oct' 21\",\n",
       " 'Starts\\xa0Immediately',\n",
       " '3 - 4 LPA',\n",
       " \"29 Oct' 21\",\n",
       " 'Starts\\xa0Immediately',\n",
       " '3 LPA',\n",
       " \"29 Oct' 21\",\n",
       " 'Starts\\xa0Immediately',\n",
       " '3.2 - 3.5 LPA',\n",
       " \"29 Oct' 21\",\n",
       " 'Starts\\xa0Immediately',\n",
       " '3 - 5 LPA',\n",
       " \"29 Oct' 21\",\n",
       " 'Starts\\xa0Immediately',\n",
       " '3.5 - 4 LPA',\n",
       " \"28 Oct' 21\",\n",
       " 'Starts\\xa0Immediately',\n",
       " '3 - 4 LPA',\n",
       " \"28 Oct' 21\",\n",
       " 'Starts\\xa0Immediately',\n",
       " '3 - 3.5 LPA',\n",
       " \"28 Oct' 21\",\n",
       " 'Starts\\xa0Immediately',\n",
       " '4.5 - 6 LPA',\n",
       " \"28 Oct' 21\",\n",
       " 'Starts\\xa0Immediately',\n",
       " '3 LPA',\n",
       " \"28 Oct' 21\",\n",
       " 'Starts\\xa0Immediately',\n",
       " '4.5 - 5.5 LPA',\n",
       " \"28 Oct' 21\",\n",
       " 'Starts\\xa0Immediately',\n",
       " '4 LPA',\n",
       " \"28 Oct' 21\",\n",
       " 'Starts\\xa0Immediately',\n",
       " '3 - 3.6 LPA',\n",
       " \"28 Oct' 21\",\n",
       " 'Starts\\xa0Immediately',\n",
       " '3 - 4 LPA',\n",
       " \"28 Oct' 21\",\n",
       " 'Starts\\xa0Immediately',\n",
       " '3 - 5 LPA',\n",
       " \"28 Oct' 21\",\n",
       " 'Starts\\xa0Immediately',\n",
       " '3 - 5 LPA',\n",
       " \"28 Oct' 21\",\n",
       " 'Starts\\xa0Immediately',\n",
       " '4 - 5 LPA',\n",
       " \"28 Oct' 21\",\n",
       " 'Starts\\xa0Immediately',\n",
       " '3 - 3.1 LPA',\n",
       " \"28 Oct' 21\",\n",
       " 'Starts\\xa0Immediately',\n",
       " '3 LPA',\n",
       " \"28 Oct' 21\",\n",
       " 'Starts\\xa0Immediately',\n",
       " '3 - 3.5 LPA',\n",
       " \"28 Oct' 21\",\n",
       " 'Starts\\xa0Immediately',\n",
       " '3 - 5 LPA',\n",
       " \"27 Oct' 21\",\n",
       " 'Starts\\xa0Immediately',\n",
       " '3 - 5 LPA',\n",
       " \"27 Oct' 21\",\n",
       " 'Starts\\xa0Immediately',\n",
       " '3.5 - 3.7 LPA',\n",
       " \"27 Oct' 21\",\n",
       " 'Starts\\xa0Immediately',\n",
       " '3 - 3.6 LPA',\n",
       " \"27 Oct' 21\",\n",
       " 'Starts\\xa0Immediately',\n",
       " '3 - 6 LPA',\n",
       " \"27 Oct' 21\",\n",
       " 'Starts\\xa0Immediately',\n",
       " '3 - 8 LPA',\n",
       " \"27 Oct' 21\",\n",
       " 'Starts\\xa0Immediately',\n",
       " '3 - 3.2 LPA',\n",
       " \"27 Oct' 21\"]"
      ]
     },
     "execution_count": 178,
     "metadata": {},
     "output_type": "execute_result"
    }
   ],
   "source": [
    "ctc=soup_job.find_all(\"div\",class_=\"item_body\")\n",
    "\n",
    "CTC=[]\n",
    "\n",
    "for i in ctc:\n",
    "    i=i.get_text().replace(\"\\n\",\"\")\n",
    "    i=i.strip()\n",
    "    CTC.append(i)\n",
    "\n",
    "print(len(CTC))\n",
    "CTC"
   ]
  },
  {
   "cell_type": "code",
   "execution_count": 179,
   "metadata": {},
   "outputs": [
    {
     "data": {
      "text/plain": [
       "40"
      ]
     },
     "execution_count": 179,
     "metadata": {},
     "output_type": "execute_result"
    }
   ],
   "source": [
    "ctc_indexess=[]\n",
    "ctc_index=1\n",
    "while ctc_index<120:\n",
    "    ctc_indexess.append(ctc_index)\n",
    "    ctc_index+=3\n",
    "    \n",
    "len(ctc_indexess)"
   ]
  },
  {
   "cell_type": "code",
   "execution_count": 180,
   "metadata": {},
   "outputs": [
    {
     "name": "stdout",
     "output_type": "stream",
     "text": [
      "40\n"
     ]
    }
   ],
   "source": [
    "ctc_final=[]\n",
    "\n",
    "for i in ctc_indexess:\n",
    "    ctc_final.append(CTC[i])\n",
    "    \n",
    "print(len(ctc_final))\n"
   ]
  },
  {
   "cell_type": "code",
   "execution_count": 181,
   "metadata": {},
   "outputs": [
    {
     "data": {
      "text/plain": [
       "40"
      ]
     },
     "execution_count": 181,
     "metadata": {},
     "output_type": "execute_result"
    }
   ],
   "source": [
    "date_indexess=[]\n",
    "ctc_index=2\n",
    "while ctc_index<120:\n",
    "    date_indexess.append(ctc_index)\n",
    "    ctc_index+=3\n",
    "    \n",
    "len(date_indexess)"
   ]
  },
  {
   "cell_type": "code",
   "execution_count": 182,
   "metadata": {},
   "outputs": [
    {
     "name": "stdout",
     "output_type": "stream",
     "text": [
      "40\n"
     ]
    }
   ],
   "source": [
    "dateOfApply=[]\n",
    "\n",
    "for i in date_indexess:\n",
    "    dateOfApply.append(CTC[i])\n",
    "    \n",
    "print(len(dateOfApply))\n",
    "\n",
    "        "
   ]
  },
  {
   "cell_type": "code",
   "execution_count": 183,
   "metadata": {},
   "outputs": [
    {
     "data": {
      "text/html": [
       "<div>\n",
       "<style scoped>\n",
       "    .dataframe tbody tr th:only-of-type {\n",
       "        vertical-align: middle;\n",
       "    }\n",
       "\n",
       "    .dataframe tbody tr th {\n",
       "        vertical-align: top;\n",
       "    }\n",
       "\n",
       "    .dataframe thead th {\n",
       "        text-align: right;\n",
       "    }\n",
       "</style>\n",
       "<table border=\"1\" class=\"dataframe\">\n",
       "  <thead>\n",
       "    <tr style=\"text-align: right;\">\n",
       "      <th></th>\n",
       "      <th>job_title</th>\n",
       "      <th>Company_name</th>\n",
       "      <th>CTC</th>\n",
       "      <th>Date of apply</th>\n",
       "    </tr>\n",
       "  </thead>\n",
       "  <tbody>\n",
       "    <tr>\n",
       "      <th>1</th>\n",
       "      <td>Management Trainee - Sales</td>\n",
       "      <td>CEAT Limited</td>\n",
       "      <td>5 LPA</td>\n",
       "      <td>29 Oct' 21</td>\n",
       "    </tr>\n",
       "    <tr>\n",
       "      <th>2</th>\n",
       "      <td>Corporate Sales Associate</td>\n",
       "      <td>SalesBlink</td>\n",
       "      <td>3 - 5 LPA</td>\n",
       "      <td>29 Oct' 21</td>\n",
       "    </tr>\n",
       "    <tr>\n",
       "      <th>3</th>\n",
       "      <td>Front-End Engineer</td>\n",
       "      <td>AffinityAnswers</td>\n",
       "      <td>5 - 6.5 LPA</td>\n",
       "      <td>29 Oct' 21</td>\n",
       "    </tr>\n",
       "    <tr>\n",
       "      <th>4</th>\n",
       "      <td>Full Stack Engineer (MERN)</td>\n",
       "      <td>Softway Solutions Private Limited</td>\n",
       "      <td>5.5 - 8 LPA</td>\n",
       "      <td>29 Oct' 21</td>\n",
       "    </tr>\n",
       "    <tr>\n",
       "      <th>5</th>\n",
       "      <td>Content Writer</td>\n",
       "      <td>Goodera</td>\n",
       "      <td>4 - 7 LPA</td>\n",
       "      <td>29 Oct' 21</td>\n",
       "    </tr>\n",
       "    <tr>\n",
       "      <th>6</th>\n",
       "      <td>Associate Project Manager</td>\n",
       "      <td>Progresso Research &amp; Analytics Private Limited</td>\n",
       "      <td>3 - 3.5 LPA</td>\n",
       "      <td>29 Oct' 21</td>\n",
       "    </tr>\n",
       "    <tr>\n",
       "      <th>7</th>\n",
       "      <td>Researcher &amp; Content Writer</td>\n",
       "      <td>Cliff Coelho</td>\n",
       "      <td>3 - 3.2 LPA</td>\n",
       "      <td>29 Oct' 21</td>\n",
       "    </tr>\n",
       "    <tr>\n",
       "      <th>8</th>\n",
       "      <td>Senior Copywriter - Media Query Pitching Team</td>\n",
       "      <td>Ranksoldier International Private Limited</td>\n",
       "      <td>3 LPA</td>\n",
       "      <td>29 Oct' 21</td>\n",
       "    </tr>\n",
       "    <tr>\n",
       "      <th>9</th>\n",
       "      <td>Educational Counselor And Coordinator</td>\n",
       "      <td>Musale Classes</td>\n",
       "      <td>3.6 - 4.8 LPA</td>\n",
       "      <td>29 Oct' 21</td>\n",
       "    </tr>\n",
       "    <tr>\n",
       "      <th>10</th>\n",
       "      <td>Software Engineer</td>\n",
       "      <td>Shipsy</td>\n",
       "      <td>12 - 20 LPA</td>\n",
       "      <td>29 Oct' 21</td>\n",
       "    </tr>\n",
       "    <tr>\n",
       "      <th>11</th>\n",
       "      <td>Junior Software Engineer</td>\n",
       "      <td>Monad InfoTech</td>\n",
       "      <td>3 LPA</td>\n",
       "      <td>29 Oct' 21</td>\n",
       "    </tr>\n",
       "    <tr>\n",
       "      <th>12</th>\n",
       "      <td>Senior Executive - Talent Acquisition</td>\n",
       "      <td>Orange Umbrella</td>\n",
       "      <td>3 - 3.6 LPA</td>\n",
       "      <td>29 Oct' 21</td>\n",
       "    </tr>\n",
       "    <tr>\n",
       "      <th>13</th>\n",
       "      <td>Trainee Engineer</td>\n",
       "      <td>Active.ai</td>\n",
       "      <td>4 - 5 LPA</td>\n",
       "      <td>29 Oct' 21</td>\n",
       "    </tr>\n",
       "    <tr>\n",
       "      <th>14</th>\n",
       "      <td>Business Development Associate</td>\n",
       "      <td>Open Door Education</td>\n",
       "      <td>4 - 5 LPA</td>\n",
       "      <td>29 Oct' 21</td>\n",
       "    </tr>\n",
       "    <tr>\n",
       "      <th>15</th>\n",
       "      <td>Motion Graphic Designer</td>\n",
       "      <td>UGLY</td>\n",
       "      <td>3 - 4 LPA</td>\n",
       "      <td>29 Oct' 21</td>\n",
       "    </tr>\n",
       "    <tr>\n",
       "      <th>16</th>\n",
       "      <td>Content Creator</td>\n",
       "      <td>Picocrew</td>\n",
       "      <td>3 LPA</td>\n",
       "      <td>29 Oct' 21</td>\n",
       "    </tr>\n",
       "    <tr>\n",
       "      <th>17</th>\n",
       "      <td>Logistics And Operations Manager</td>\n",
       "      <td>Little Olive</td>\n",
       "      <td>3.2 - 3.5 LPA</td>\n",
       "      <td>29 Oct' 21</td>\n",
       "    </tr>\n",
       "    <tr>\n",
       "      <th>18</th>\n",
       "      <td>Business Development Specialist</td>\n",
       "      <td>Apto Media Solutions</td>\n",
       "      <td>3 - 5 LPA</td>\n",
       "      <td>29 Oct' 21</td>\n",
       "    </tr>\n",
       "    <tr>\n",
       "      <th>19</th>\n",
       "      <td>Trainee Engineer</td>\n",
       "      <td>Moodraa</td>\n",
       "      <td>3.5 - 4 LPA</td>\n",
       "      <td>28 Oct' 21</td>\n",
       "    </tr>\n",
       "    <tr>\n",
       "      <th>20</th>\n",
       "      <td>Software Engineer - Flutter/Dart</td>\n",
       "      <td>Aimed Labs</td>\n",
       "      <td>3 - 4 LPA</td>\n",
       "      <td>28 Oct' 21</td>\n",
       "    </tr>\n",
       "    <tr>\n",
       "      <th>21</th>\n",
       "      <td>Associate Java Developer</td>\n",
       "      <td>HostBooks Limited</td>\n",
       "      <td>3 - 3.5 LPA</td>\n",
       "      <td>28 Oct' 21</td>\n",
       "    </tr>\n",
       "    <tr>\n",
       "      <th>22</th>\n",
       "      <td>Android App Developer</td>\n",
       "      <td>WatchDeck</td>\n",
       "      <td>4.5 - 6 LPA</td>\n",
       "      <td>28 Oct' 21</td>\n",
       "    </tr>\n",
       "    <tr>\n",
       "      <th>23</th>\n",
       "      <td>Support &amp; Installation Engineer</td>\n",
       "      <td>ENSOWT</td>\n",
       "      <td>3 LPA</td>\n",
       "      <td>28 Oct' 21</td>\n",
       "    </tr>\n",
       "    <tr>\n",
       "      <th>24</th>\n",
       "      <td>Assistant Brand Manager</td>\n",
       "      <td>Pet Project India Private Limited</td>\n",
       "      <td>4.5 - 5.5 LPA</td>\n",
       "      <td>28 Oct' 21</td>\n",
       "    </tr>\n",
       "    <tr>\n",
       "      <th>25</th>\n",
       "      <td>Associate Recruiter</td>\n",
       "      <td>Recruit CRM</td>\n",
       "      <td>4 LPA</td>\n",
       "      <td>28 Oct' 21</td>\n",
       "    </tr>\n",
       "    <tr>\n",
       "      <th>26</th>\n",
       "      <td>Student Mentor - English</td>\n",
       "      <td>Kid Aptivity Technologies</td>\n",
       "      <td>3 - 3.6 LPA</td>\n",
       "      <td>28 Oct' 21</td>\n",
       "    </tr>\n",
       "    <tr>\n",
       "      <th>27</th>\n",
       "      <td>Human Resources (HR) Manager</td>\n",
       "      <td>FreeCo Education Private Limited</td>\n",
       "      <td>3 - 4 LPA</td>\n",
       "      <td>28 Oct' 21</td>\n",
       "    </tr>\n",
       "    <tr>\n",
       "      <th>28</th>\n",
       "      <td>Software Engineer - Trainee</td>\n",
       "      <td>RightRev India Private Limited</td>\n",
       "      <td>3 - 5 LPA</td>\n",
       "      <td>28 Oct' 21</td>\n",
       "    </tr>\n",
       "    <tr>\n",
       "      <th>29</th>\n",
       "      <td>Embedded Systems Associate</td>\n",
       "      <td>Limelight</td>\n",
       "      <td>3 - 5 LPA</td>\n",
       "      <td>28 Oct' 21</td>\n",
       "    </tr>\n",
       "    <tr>\n",
       "      <th>30</th>\n",
       "      <td>Business Development Associate</td>\n",
       "      <td>StayQrious India Private Limited</td>\n",
       "      <td>4 - 5 LPA</td>\n",
       "      <td>28 Oct' 21</td>\n",
       "    </tr>\n",
       "    <tr>\n",
       "      <th>31</th>\n",
       "      <td>Social Media Executive</td>\n",
       "      <td>Plix - The Plant Flix</td>\n",
       "      <td>3 - 3.1 LPA</td>\n",
       "      <td>28 Oct' 21</td>\n",
       "    </tr>\n",
       "    <tr>\n",
       "      <th>32</th>\n",
       "      <td>Digital Marketing Executive</td>\n",
       "      <td>Nebula Robotics</td>\n",
       "      <td>3 LPA</td>\n",
       "      <td>28 Oct' 21</td>\n",
       "    </tr>\n",
       "    <tr>\n",
       "      <th>33</th>\n",
       "      <td>Market Research Associate</td>\n",
       "      <td>IndustryARC</td>\n",
       "      <td>3 - 3.5 LPA</td>\n",
       "      <td>28 Oct' 21</td>\n",
       "    </tr>\n",
       "    <tr>\n",
       "      <th>34</th>\n",
       "      <td>React Native Developer</td>\n",
       "      <td>Red Dot Apps</td>\n",
       "      <td>3 - 5 LPA</td>\n",
       "      <td>27 Oct' 21</td>\n",
       "    </tr>\n",
       "    <tr>\n",
       "      <th>35</th>\n",
       "      <td>Associate Software Developer</td>\n",
       "      <td>Chimera Technologies</td>\n",
       "      <td>3 - 5 LPA</td>\n",
       "      <td>27 Oct' 21</td>\n",
       "    </tr>\n",
       "    <tr>\n",
       "      <th>36</th>\n",
       "      <td>Associate Front End Developer</td>\n",
       "      <td>Seventh Triangle Consulting</td>\n",
       "      <td>3.5 - 3.7 LPA</td>\n",
       "      <td>27 Oct' 21</td>\n",
       "    </tr>\n",
       "    <tr>\n",
       "      <th>37</th>\n",
       "      <td>Business Development Associate</td>\n",
       "      <td>Regional Public Relations</td>\n",
       "      <td>3 - 3.6 LPA</td>\n",
       "      <td>27 Oct' 21</td>\n",
       "    </tr>\n",
       "    <tr>\n",
       "      <th>38</th>\n",
       "      <td>Lead Generation Associate</td>\n",
       "      <td>CommVersion Solutions</td>\n",
       "      <td>3 - 6 LPA</td>\n",
       "      <td>27 Oct' 21</td>\n",
       "    </tr>\n",
       "    <tr>\n",
       "      <th>39</th>\n",
       "      <td>Business Development Associate</td>\n",
       "      <td>Web Assets</td>\n",
       "      <td>3 - 8 LPA</td>\n",
       "      <td>27 Oct' 21</td>\n",
       "    </tr>\n",
       "    <tr>\n",
       "      <th>40</th>\n",
       "      <td>Accounts And MIS Manager</td>\n",
       "      <td>Little Olive</td>\n",
       "      <td>3 - 3.2 LPA</td>\n",
       "      <td>27 Oct' 21</td>\n",
       "    </tr>\n",
       "  </tbody>\n",
       "</table>\n",
       "</div>"
      ],
      "text/plain": [
       "                                        job_title  \\\n",
       "1                      Management Trainee - Sales   \n",
       "2                       Corporate Sales Associate   \n",
       "3                              Front-End Engineer   \n",
       "4                      Full Stack Engineer (MERN)   \n",
       "5                                  Content Writer   \n",
       "6                       Associate Project Manager   \n",
       "7                     Researcher & Content Writer   \n",
       "8   Senior Copywriter - Media Query Pitching Team   \n",
       "9           Educational Counselor And Coordinator   \n",
       "10                              Software Engineer   \n",
       "11                       Junior Software Engineer   \n",
       "12          Senior Executive - Talent Acquisition   \n",
       "13                               Trainee Engineer   \n",
       "14                 Business Development Associate   \n",
       "15                        Motion Graphic Designer   \n",
       "16                                Content Creator   \n",
       "17               Logistics And Operations Manager   \n",
       "18                Business Development Specialist   \n",
       "19                               Trainee Engineer   \n",
       "20               Software Engineer - Flutter/Dart   \n",
       "21                       Associate Java Developer   \n",
       "22                          Android App Developer   \n",
       "23                Support & Installation Engineer   \n",
       "24                        Assistant Brand Manager   \n",
       "25                            Associate Recruiter   \n",
       "26                       Student Mentor - English   \n",
       "27                   Human Resources (HR) Manager   \n",
       "28                    Software Engineer - Trainee   \n",
       "29                     Embedded Systems Associate   \n",
       "30                 Business Development Associate   \n",
       "31                         Social Media Executive   \n",
       "32                    Digital Marketing Executive   \n",
       "33                      Market Research Associate   \n",
       "34                         React Native Developer   \n",
       "35                   Associate Software Developer   \n",
       "36                  Associate Front End Developer   \n",
       "37                 Business Development Associate   \n",
       "38                      Lead Generation Associate   \n",
       "39                 Business Development Associate   \n",
       "40                       Accounts And MIS Manager   \n",
       "\n",
       "                                      Company_name            CTC  \\\n",
       "1                                     CEAT Limited          5 LPA   \n",
       "2                                       SalesBlink      3 - 5 LPA   \n",
       "3                                  AffinityAnswers    5 - 6.5 LPA   \n",
       "4                Softway Solutions Private Limited    5.5 - 8 LPA   \n",
       "5                                          Goodera      4 - 7 LPA   \n",
       "6   Progresso Research & Analytics Private Limited    3 - 3.5 LPA   \n",
       "7                                     Cliff Coelho    3 - 3.2 LPA   \n",
       "8        Ranksoldier International Private Limited          3 LPA   \n",
       "9                                   Musale Classes  3.6 - 4.8 LPA   \n",
       "10                                          Shipsy    12 - 20 LPA   \n",
       "11                                  Monad InfoTech          3 LPA   \n",
       "12                                 Orange Umbrella    3 - 3.6 LPA   \n",
       "13                                       Active.ai      4 - 5 LPA   \n",
       "14                             Open Door Education      4 - 5 LPA   \n",
       "15                                            UGLY      3 - 4 LPA   \n",
       "16                                        Picocrew          3 LPA   \n",
       "17                                    Little Olive  3.2 - 3.5 LPA   \n",
       "18                            Apto Media Solutions      3 - 5 LPA   \n",
       "19                                         Moodraa    3.5 - 4 LPA   \n",
       "20                                      Aimed Labs      3 - 4 LPA   \n",
       "21                               HostBooks Limited    3 - 3.5 LPA   \n",
       "22                                       WatchDeck    4.5 - 6 LPA   \n",
       "23                                          ENSOWT          3 LPA   \n",
       "24               Pet Project India Private Limited  4.5 - 5.5 LPA   \n",
       "25                                     Recruit CRM          4 LPA   \n",
       "26                       Kid Aptivity Technologies    3 - 3.6 LPA   \n",
       "27                FreeCo Education Private Limited      3 - 4 LPA   \n",
       "28                  RightRev India Private Limited      3 - 5 LPA   \n",
       "29                                       Limelight      3 - 5 LPA   \n",
       "30                StayQrious India Private Limited      4 - 5 LPA   \n",
       "31                           Plix - The Plant Flix    3 - 3.1 LPA   \n",
       "32                                 Nebula Robotics          3 LPA   \n",
       "33                                     IndustryARC    3 - 3.5 LPA   \n",
       "34                                    Red Dot Apps      3 - 5 LPA   \n",
       "35                            Chimera Technologies      3 - 5 LPA   \n",
       "36                     Seventh Triangle Consulting  3.5 - 3.7 LPA   \n",
       "37                       Regional Public Relations    3 - 3.6 LPA   \n",
       "38                           CommVersion Solutions      3 - 6 LPA   \n",
       "39                                      Web Assets      3 - 8 LPA   \n",
       "40                                    Little Olive    3 - 3.2 LPA   \n",
       "\n",
       "   Date of apply  \n",
       "1     29 Oct' 21  \n",
       "2     29 Oct' 21  \n",
       "3     29 Oct' 21  \n",
       "4     29 Oct' 21  \n",
       "5     29 Oct' 21  \n",
       "6     29 Oct' 21  \n",
       "7     29 Oct' 21  \n",
       "8     29 Oct' 21  \n",
       "9     29 Oct' 21  \n",
       "10    29 Oct' 21  \n",
       "11    29 Oct' 21  \n",
       "12    29 Oct' 21  \n",
       "13    29 Oct' 21  \n",
       "14    29 Oct' 21  \n",
       "15    29 Oct' 21  \n",
       "16    29 Oct' 21  \n",
       "17    29 Oct' 21  \n",
       "18    29 Oct' 21  \n",
       "19    28 Oct' 21  \n",
       "20    28 Oct' 21  \n",
       "21    28 Oct' 21  \n",
       "22    28 Oct' 21  \n",
       "23    28 Oct' 21  \n",
       "24    28 Oct' 21  \n",
       "25    28 Oct' 21  \n",
       "26    28 Oct' 21  \n",
       "27    28 Oct' 21  \n",
       "28    28 Oct' 21  \n",
       "29    28 Oct' 21  \n",
       "30    28 Oct' 21  \n",
       "31    28 Oct' 21  \n",
       "32    28 Oct' 21  \n",
       "33    28 Oct' 21  \n",
       "34    27 Oct' 21  \n",
       "35    27 Oct' 21  \n",
       "36    27 Oct' 21  \n",
       "37    27 Oct' 21  \n",
       "38    27 Oct' 21  \n",
       "39    27 Oct' 21  \n",
       "40    27 Oct' 21  "
      ]
     },
     "execution_count": 183,
     "metadata": {},
     "output_type": "execute_result"
    }
   ],
   "source": [
    "Fresher_job=pd.DataFrame({})\n",
    "Fresher_job[\"job_title\"]=job_title\n",
    "Fresher_job[\"Company_name\"]=Company_name\n",
    "Fresher_job[\"CTC\"]=ctc_final\n",
    "Fresher_job[\"Date of apply\"]=dateOfApply\n",
    "\n",
    "Fresher_job.index=np.arange (1,len(Fresher_job)+1)\n",
    "Fresher_job"
   ]
  },
  {
   "cell_type": "markdown",
   "metadata": {},
   "source": [
    "# 10. Write a python program to scrape house details from https://www.nobroker.in/ for any location. It should include house title, location, area, emi and price.  "
   ]
  },
  {
   "cell_type": "code",
   "execution_count": 184,
   "metadata": {},
   "outputs": [],
   "source": [
    "noob_url=\"https://www.nobroker.in/property/rent/bangalore/Jayanagar?searchParam=W3sibGF0IjoxMi45MzA3NzM1LCJsb24iOjc3LjU4MzgzMDIsInBsYWNlSWQiOiJDaElKMmRkbFo1Z1ZyanNSaDFCT0FhZi1vcnMiLCJwbGFjZU5hbWUiOiJKYXlhbmFnYXIifV0=&radius=2.0&sharedAccomodation=0\""
   ]
  },
  {
   "cell_type": "code",
   "execution_count": 185,
   "metadata": {},
   "outputs": [
    {
     "data": {
      "text/plain": [
       "<Response [200]>"
      ]
     },
     "execution_count": 185,
     "metadata": {},
     "output_type": "execute_result"
    }
   ],
   "source": [
    "noob_page=requests.get(noob_url)\n",
    "noob_page"
   ]
  },
  {
   "cell_type": "code",
   "execution_count": 186,
   "metadata": {},
   "outputs": [],
   "source": [
    "noob_soup=BeautifulSoup(noob_page.content)"
   ]
  },
  {
   "cell_type": "code",
   "execution_count": 187,
   "metadata": {},
   "outputs": [],
   "source": [
    "h_title=noob_soup.find_all(\"span\", itemprop=\"name\")\n",
    "\n",
    "title=[]\n",
    "for i in h_title :\n",
    "    i=i.get_text().strip()\n",
    "    title.append(i)"
   ]
  },
  {
   "cell_type": "code",
   "execution_count": 188,
   "metadata": {},
   "outputs": [
    {
     "name": "stdout",
     "output_type": "stream",
     "text": [
      "36\n"
     ]
    }
   ],
   "source": [
    "title.remove(\"Home\")\n",
    "title.remove(\"Bangalore\")\n",
    "\n",
    "\n",
    "print (len(title))"
   ]
  },
  {
   "cell_type": "code",
   "execution_count": 189,
   "metadata": {},
   "outputs": [
    {
     "data": {
      "text/plain": [
       "range(0, 36, 3)"
      ]
     },
     "execution_count": 189,
     "metadata": {},
     "output_type": "execute_result"
    }
   ],
   "source": [
    "list1=(range(0,36,3))\n",
    "list1"
   ]
  },
  {
   "cell_type": "code",
   "execution_count": 190,
   "metadata": {},
   "outputs": [
    {
     "data": {
      "text/plain": [
       "'Flats in  Basavanagudi  for rent'"
      ]
     },
     "execution_count": 190,
     "metadata": {},
     "output_type": "execute_result"
    }
   ],
   "source": [
    "House_title=[]\n",
    "for i in list1:\n",
    "    House_title.append(title[i])\n",
    "House_title.pop()\n",
    "House_title.pop()"
   ]
  },
  {
   "cell_type": "code",
   "execution_count": 191,
   "metadata": {},
   "outputs": [
    {
     "data": {
      "text/plain": [
       "['3 BHK Apartment  For Rent  In Sterling Southend Rajta Apartment In Jayanagar',\n",
       " '1 BHK Flat  For Rent  In Jayanagar',\n",
       " '2 BHK Flat  For Rent  In Jayanagar',\n",
       " '3 BHK In Independent House  For Rent  In Jayanagar',\n",
       " '3 BHK Flat  For Rent  In Surabhi Apartments, Jp Nagar In Marenahalli',\n",
       " '3 BHK Flat  For Rent  In Prabhu Krupa In Jayanagar',\n",
       " '2 BHK Apartment  For Rent  In Shanthi Park Apartments In Jp Nagar',\n",
       " '4 BHK In Independent House  For Rent  In Jayanagar',\n",
       " '2 BHK Flat  For Rent  In Devakinandan Apartments In Jayanagar',\n",
       " '2 BHK In Independent House  For Rent  In Jayanagar']"
      ]
     },
     "execution_count": 191,
     "metadata": {},
     "output_type": "execute_result"
    }
   ],
   "source": [
    "House_title"
   ]
  },
  {
   "cell_type": "code",
   "execution_count": 192,
   "metadata": {},
   "outputs": [
    {
     "name": "stdout",
     "output_type": "stream",
     "text": [
      "10\n"
     ]
    },
    {
     "data": {
      "text/plain": [
       "['Sterling Southend Rajta Apartment\\xa0 Sterling Southend Rajta Apartment, 7th Block, Jayanagar, Bengaluru, Karnataka 560070, India',\n",
       " 'standalone building, 38th ACross Rd, 26 Main , Putlanpalya, Jayanagara 9th Block,  near  M. K. Ahmed Bazaar',\n",
       " 'standalone building, 38th A Cross Rd, Jayanagara 9th Block, Near M. K. Ahmed Bazaar',\n",
       " 'Independent House, 20 th main road, jayangar',\n",
       " 'JP nagar, 2nd phase, 21st main road',\n",
       " '5th Block, 11A MAIN Near Sri Raghavendra Swamy Mutt',\n",
       " 'Shanthi Park Apartments\\xa0 marenahalli road jayanagar 9th block 560069',\n",
       " 'Independent House, 22nd Main Road Near-Rajiv Gandhi Hospital Bengaluru,, Near Post Office Jayanagar 4th block',\n",
       " 'no 80, 32nd E Cross Rd, K V Layout, 4th T Block East, Jayanagar 3rd Block East, Jayanagar, Bengaluru, Karnataka 560041, India',\n",
       " 'Independent House, 14th main ,3rd Block East, Near  Brilliance English School']"
      ]
     },
     "execution_count": 192,
     "metadata": {},
     "output_type": "execute_result"
    }
   ],
   "source": [
    "loc=noob_soup.find_all(\"div\", class_=\"nb__2EXTx\")\n",
    "\n",
    "location=[]\n",
    "\n",
    "for i in loc:\n",
    "    i=i.get_text().strip()\n",
    "    location.append(i)\n",
    "    \n",
    "print(len(location))\n",
    "location"
   ]
  },
  {
   "cell_type": "code",
   "execution_count": 193,
   "metadata": {},
   "outputs": [
    {
     "name": "stdout",
     "output_type": "stream",
     "text": [
      "10\n"
     ]
    },
    {
     "data": {
      "text/plain": [
       "['IBC Knowledge ParkVidyarthi BhavanMeghana FoodsCool JointNR Colony',\n",
       " 'IBC Knowledge ParkKalyani Magnum Infotech ParkLakshmi TheatreMeghana FoodsMantri Elite',\n",
       " 'IBC Knowledge ParkKalyani Magnum Infotech ParkLakshmi TheatreMeghana FoodsMantri Elite',\n",
       " 'IBC Knowledge ParkMeghana FoodsInox TheatreCool JointNR Colony',\n",
       " 'Kalyani Magnum Infotech ParkIBC Knowledge ParkMeghana FoodsInox TheatreMantri Elite',\n",
       " 'Kalyani Magnum Infotech ParkIBC Knowledge ParkMeghana FoodsInox TheatreSarakki Signal B S',\n",
       " 'Kalyani Magnum Infotech ParkIBC Knowledge ParkMeghana FoodsInox TheatreMantri Elite',\n",
       " 'IBC Knowledge ParkKalyani Magnum Infotech ParkLakshmi TheatreMeghana FoodsSG Palya',\n",
       " 'IBC Knowledge ParkMeghana FoodsInox TheatreCool JointChrist University',\n",
       " 'IBC Knowledge ParkMeghana FoodsInox TheatreCool JointLakkasandra']"
      ]
     },
     "execution_count": 193,
     "metadata": {},
     "output_type": "execute_result"
    }
   ],
   "source": [
    "are=noob_soup.find_all(\"span\", class_=\"nb__2cBUL\")\n",
    "\n",
    "Area=[]\n",
    "\n",
    "for i in are:\n",
    "    i=i.get_text().strip()\n",
    "    Area.append(i)\n",
    "    \n",
    "print(len(Area))\n",
    "Area"
   ]
  },
  {
   "cell_type": "code",
   "execution_count": 194,
   "metadata": {},
   "outputs": [
    {
     "name": "stdout",
     "output_type": "stream",
     "text": [
      "10\n"
     ]
    },
    {
     "data": {
      "text/plain": [
       "['₹ 60,000 +₹ 5,000 Maintenance',\n",
       " '₹ 14,000 +₹ 1,500 Maintenance',\n",
       " '₹ 22,000No Extra Maintenance',\n",
       " '₹ 46,000 +₹ 2,000 Maintenance',\n",
       " '₹ 25,000 +₹ 1,500 Maintenance',\n",
       " '₹ 33,000 +₹ 3,000 Maintenance',\n",
       " '₹ 23,500 +₹ 2,000 Maintenance',\n",
       " '₹ 65,000No Extra Maintenance',\n",
       " '₹ 24,000 +₹ 2,500 Maintenance',\n",
       " '₹ 17,000 +₹ 500 Maintenance']"
      ]
     },
     "execution_count": 194,
     "metadata": {},
     "output_type": "execute_result"
    }
   ],
   "source": [
    "rent=noob_soup.find_all(\"div\", class_=\"nb__3vqcl\")\n",
    "\n",
    "EMI=[]\n",
    "\n",
    "for i in rent:\n",
    "    i=i.get_text().strip()\n",
    "    EMI.append(i)\n",
    "    \n",
    "print(len(EMI))\n",
    "EMI"
   ]
  },
  {
   "cell_type": "code",
   "execution_count": 195,
   "metadata": {},
   "outputs": [
    {
     "name": "stdout",
     "output_type": "stream",
     "text": [
      "30\n"
     ]
    },
    {
     "data": {
      "text/plain": [
       "['1,800 sqftBuiltup',\n",
       " '₹3,00,000',\n",
       " '₹ 60,000 +₹ 5,000 MaintenanceRent (Negotiable)',\n",
       " '500 sqftBuiltup',\n",
       " '₹1,50,000',\n",
       " '₹ 14,000 +₹ 1,500 MaintenanceRent (Negotiable)',\n",
       " '850 sqftBuiltup',\n",
       " '₹2,10,000',\n",
       " '₹ 22,000No Extra MaintenanceRent (Negotiable)',\n",
       " '1,750 sqftBuiltup',\n",
       " '₹3,50,000',\n",
       " '₹ 46,000 +₹ 2,000 MaintenanceRent (Non-Negotiable)',\n",
       " '1,500 sqftBuiltup',\n",
       " '₹2,50,000',\n",
       " '₹ 25,000 +₹ 1,500 MaintenanceRent (Non-Negotiable)',\n",
       " '1,380 sqftBuiltup',\n",
       " '₹3,00,000',\n",
       " '₹ 33,000 +₹ 3,000 MaintenanceRent (Non-Negotiable)',\n",
       " '1,000 sqftBuiltup',\n",
       " '₹1,75,000',\n",
       " '₹ 23,500 +₹ 2,000 MaintenanceRent (Negotiable)',\n",
       " '3,000 sqftBuiltup',\n",
       " '₹10,00,000',\n",
       " '₹ 65,000No Extra MaintenanceRent (Negotiable)',\n",
       " '1,800 sqftBuiltup',\n",
       " '₹1,50,000',\n",
       " '₹ 24,000 +₹ 2,500 MaintenanceRent (Negotiable)',\n",
       " '1,350 sqftBuiltup',\n",
       " '₹1,50,000',\n",
       " '₹ 17,000 +₹ 500 MaintenanceRent (Negotiable)']"
      ]
     },
     "execution_count": 195,
     "metadata": {},
     "output_type": "execute_result"
    }
   ],
   "source": [
    "cost=noob_soup.find_all(\"div\", class_=\"nb__l8B6u\")\n",
    "\n",
    "Price=[]\n",
    "\n",
    "for i in cost:\n",
    "    i=i.get_text().replace(\"Deposit\",\"\")\n",
    "    Price.append(i)\n",
    "    \n",
    "print(len(Price))\n",
    "Price\n"
   ]
  },
  {
   "cell_type": "code",
   "execution_count": 196,
   "metadata": {},
   "outputs": [
    {
     "name": "stdout",
     "output_type": "stream",
     "text": [
      "1\n",
      "4\n",
      "7\n",
      "10\n",
      "13\n",
      "16\n",
      "19\n",
      "22\n",
      "25\n",
      "28\n"
     ]
    }
   ],
   "source": [
    "index=range(1,30,3)\n",
    "\n",
    "for i in index:\n",
    "    print(i)"
   ]
  },
  {
   "cell_type": "code",
   "execution_count": 197,
   "metadata": {},
   "outputs": [
    {
     "data": {
      "text/plain": [
       "['₹3,00,000',\n",
       " '₹1,50,000',\n",
       " '₹2,10,000',\n",
       " '₹3,50,000',\n",
       " '₹2,50,000',\n",
       " '₹3,00,000',\n",
       " '₹1,75,000',\n",
       " '₹10,00,000',\n",
       " '₹1,50,000',\n",
       " '₹1,50,000']"
      ]
     },
     "execution_count": 197,
     "metadata": {},
     "output_type": "execute_result"
    }
   ],
   "source": [
    "House_price=[]\n",
    "for i in index:\n",
    "    House_price.append(Price[i])\n",
    "House_price"
   ]
  },
  {
   "cell_type": "code",
   "execution_count": 198,
   "metadata": {},
   "outputs": [],
   "source": [
    "house_data=pd.DataFrame({})\n",
    "house_data[\"House_title\"]=House_title\n",
    "house_data[\"location\"]=location\n",
    "house_data[\"Area\"]=Area\n",
    "house_data[\"House_price\"]=House_price\n",
    "house_data[\"EMI\"]=EMI\n",
    "house_data.index=np.arange(1,len(house_data)+1)"
   ]
  },
  {
   "cell_type": "code",
   "execution_count": 199,
   "metadata": {},
   "outputs": [
    {
     "name": "stdout",
     "output_type": "stream",
     "text": [
      "10\n",
      "10\n",
      "10\n",
      "10\n",
      "10\n"
     ]
    }
   ],
   "source": [
    "print(len(House_title))\n",
    "print(len(location))\n",
    "print(len(Area))\n",
    "print(len(House_price))\n",
    "print(len(EMI))"
   ]
  },
  {
   "cell_type": "code",
   "execution_count": 200,
   "metadata": {},
   "outputs": [
    {
     "data": {
      "text/html": [
       "<div>\n",
       "<style scoped>\n",
       "    .dataframe tbody tr th:only-of-type {\n",
       "        vertical-align: middle;\n",
       "    }\n",
       "\n",
       "    .dataframe tbody tr th {\n",
       "        vertical-align: top;\n",
       "    }\n",
       "\n",
       "    .dataframe thead th {\n",
       "        text-align: right;\n",
       "    }\n",
       "</style>\n",
       "<table border=\"1\" class=\"dataframe\">\n",
       "  <thead>\n",
       "    <tr style=\"text-align: right;\">\n",
       "      <th></th>\n",
       "      <th>House_title</th>\n",
       "      <th>location</th>\n",
       "      <th>Area</th>\n",
       "      <th>House_price</th>\n",
       "      <th>EMI</th>\n",
       "    </tr>\n",
       "  </thead>\n",
       "  <tbody>\n",
       "    <tr>\n",
       "      <th>1</th>\n",
       "      <td>3 BHK Apartment  For Rent  In Sterling Southen...</td>\n",
       "      <td>Sterling Southend Rajta Apartment  Sterling So...</td>\n",
       "      <td>IBC Knowledge ParkVidyarthi BhavanMeghana Food...</td>\n",
       "      <td>₹3,00,000</td>\n",
       "      <td>₹ 60,000 +₹ 5,000 Maintenance</td>\n",
       "    </tr>\n",
       "    <tr>\n",
       "      <th>2</th>\n",
       "      <td>1 BHK Flat  For Rent  In Jayanagar</td>\n",
       "      <td>standalone building, 38th ACross Rd, 26 Main ,...</td>\n",
       "      <td>IBC Knowledge ParkKalyani Magnum Infotech Park...</td>\n",
       "      <td>₹1,50,000</td>\n",
       "      <td>₹ 14,000 +₹ 1,500 Maintenance</td>\n",
       "    </tr>\n",
       "    <tr>\n",
       "      <th>3</th>\n",
       "      <td>2 BHK Flat  For Rent  In Jayanagar</td>\n",
       "      <td>standalone building, 38th A Cross Rd, Jayanaga...</td>\n",
       "      <td>IBC Knowledge ParkKalyani Magnum Infotech Park...</td>\n",
       "      <td>₹2,10,000</td>\n",
       "      <td>₹ 22,000No Extra Maintenance</td>\n",
       "    </tr>\n",
       "    <tr>\n",
       "      <th>4</th>\n",
       "      <td>3 BHK In Independent House  For Rent  In Jayan...</td>\n",
       "      <td>Independent House, 20 th main road, jayangar</td>\n",
       "      <td>IBC Knowledge ParkMeghana FoodsInox TheatreCoo...</td>\n",
       "      <td>₹3,50,000</td>\n",
       "      <td>₹ 46,000 +₹ 2,000 Maintenance</td>\n",
       "    </tr>\n",
       "    <tr>\n",
       "      <th>5</th>\n",
       "      <td>3 BHK Flat  For Rent  In Surabhi Apartments, J...</td>\n",
       "      <td>JP nagar, 2nd phase, 21st main road</td>\n",
       "      <td>Kalyani Magnum Infotech ParkIBC Knowledge Park...</td>\n",
       "      <td>₹2,50,000</td>\n",
       "      <td>₹ 25,000 +₹ 1,500 Maintenance</td>\n",
       "    </tr>\n",
       "    <tr>\n",
       "      <th>6</th>\n",
       "      <td>3 BHK Flat  For Rent  In Prabhu Krupa In Jayan...</td>\n",
       "      <td>5th Block, 11A MAIN Near Sri Raghavendra Swamy...</td>\n",
       "      <td>Kalyani Magnum Infotech ParkIBC Knowledge Park...</td>\n",
       "      <td>₹3,00,000</td>\n",
       "      <td>₹ 33,000 +₹ 3,000 Maintenance</td>\n",
       "    </tr>\n",
       "    <tr>\n",
       "      <th>7</th>\n",
       "      <td>2 BHK Apartment  For Rent  In Shanthi Park Apa...</td>\n",
       "      <td>Shanthi Park Apartments  marenahalli road jaya...</td>\n",
       "      <td>Kalyani Magnum Infotech ParkIBC Knowledge Park...</td>\n",
       "      <td>₹1,75,000</td>\n",
       "      <td>₹ 23,500 +₹ 2,000 Maintenance</td>\n",
       "    </tr>\n",
       "    <tr>\n",
       "      <th>8</th>\n",
       "      <td>4 BHK In Independent House  For Rent  In Jayan...</td>\n",
       "      <td>Independent House, 22nd Main Road Near-Rajiv G...</td>\n",
       "      <td>IBC Knowledge ParkKalyani Magnum Infotech Park...</td>\n",
       "      <td>₹10,00,000</td>\n",
       "      <td>₹ 65,000No Extra Maintenance</td>\n",
       "    </tr>\n",
       "    <tr>\n",
       "      <th>9</th>\n",
       "      <td>2 BHK Flat  For Rent  In Devakinandan Apartmen...</td>\n",
       "      <td>no 80, 32nd E Cross Rd, K V Layout, 4th T Bloc...</td>\n",
       "      <td>IBC Knowledge ParkMeghana FoodsInox TheatreCoo...</td>\n",
       "      <td>₹1,50,000</td>\n",
       "      <td>₹ 24,000 +₹ 2,500 Maintenance</td>\n",
       "    </tr>\n",
       "    <tr>\n",
       "      <th>10</th>\n",
       "      <td>2 BHK In Independent House  For Rent  In Jayan...</td>\n",
       "      <td>Independent House, 14th main ,3rd Block East, ...</td>\n",
       "      <td>IBC Knowledge ParkMeghana FoodsInox TheatreCoo...</td>\n",
       "      <td>₹1,50,000</td>\n",
       "      <td>₹ 17,000 +₹ 500 Maintenance</td>\n",
       "    </tr>\n",
       "  </tbody>\n",
       "</table>\n",
       "</div>"
      ],
      "text/plain": [
       "                                          House_title  \\\n",
       "1   3 BHK Apartment  For Rent  In Sterling Southen...   \n",
       "2                  1 BHK Flat  For Rent  In Jayanagar   \n",
       "3                  2 BHK Flat  For Rent  In Jayanagar   \n",
       "4   3 BHK In Independent House  For Rent  In Jayan...   \n",
       "5   3 BHK Flat  For Rent  In Surabhi Apartments, J...   \n",
       "6   3 BHK Flat  For Rent  In Prabhu Krupa In Jayan...   \n",
       "7   2 BHK Apartment  For Rent  In Shanthi Park Apa...   \n",
       "8   4 BHK In Independent House  For Rent  In Jayan...   \n",
       "9   2 BHK Flat  For Rent  In Devakinandan Apartmen...   \n",
       "10  2 BHK In Independent House  For Rent  In Jayan...   \n",
       "\n",
       "                                             location  \\\n",
       "1   Sterling Southend Rajta Apartment  Sterling So...   \n",
       "2   standalone building, 38th ACross Rd, 26 Main ,...   \n",
       "3   standalone building, 38th A Cross Rd, Jayanaga...   \n",
       "4        Independent House, 20 th main road, jayangar   \n",
       "5                 JP nagar, 2nd phase, 21st main road   \n",
       "6   5th Block, 11A MAIN Near Sri Raghavendra Swamy...   \n",
       "7   Shanthi Park Apartments  marenahalli road jaya...   \n",
       "8   Independent House, 22nd Main Road Near-Rajiv G...   \n",
       "9   no 80, 32nd E Cross Rd, K V Layout, 4th T Bloc...   \n",
       "10  Independent House, 14th main ,3rd Block East, ...   \n",
       "\n",
       "                                                 Area House_price  \\\n",
       "1   IBC Knowledge ParkVidyarthi BhavanMeghana Food...   ₹3,00,000   \n",
       "2   IBC Knowledge ParkKalyani Magnum Infotech Park...   ₹1,50,000   \n",
       "3   IBC Knowledge ParkKalyani Magnum Infotech Park...   ₹2,10,000   \n",
       "4   IBC Knowledge ParkMeghana FoodsInox TheatreCoo...   ₹3,50,000   \n",
       "5   Kalyani Magnum Infotech ParkIBC Knowledge Park...   ₹2,50,000   \n",
       "6   Kalyani Magnum Infotech ParkIBC Knowledge Park...   ₹3,00,000   \n",
       "7   Kalyani Magnum Infotech ParkIBC Knowledge Park...   ₹1,75,000   \n",
       "8   IBC Knowledge ParkKalyani Magnum Infotech Park...  ₹10,00,000   \n",
       "9   IBC Knowledge ParkMeghana FoodsInox TheatreCoo...   ₹1,50,000   \n",
       "10  IBC Knowledge ParkMeghana FoodsInox TheatreCoo...   ₹1,50,000   \n",
       "\n",
       "                              EMI  \n",
       "1   ₹ 60,000 +₹ 5,000 Maintenance  \n",
       "2   ₹ 14,000 +₹ 1,500 Maintenance  \n",
       "3    ₹ 22,000No Extra Maintenance  \n",
       "4   ₹ 46,000 +₹ 2,000 Maintenance  \n",
       "5   ₹ 25,000 +₹ 1,500 Maintenance  \n",
       "6   ₹ 33,000 +₹ 3,000 Maintenance  \n",
       "7   ₹ 23,500 +₹ 2,000 Maintenance  \n",
       "8    ₹ 65,000No Extra Maintenance  \n",
       "9   ₹ 24,000 +₹ 2,500 Maintenance  \n",
       "10    ₹ 17,000 +₹ 500 Maintenance  "
      ]
     },
     "execution_count": 200,
     "metadata": {},
     "output_type": "execute_result"
    }
   ],
   "source": [
    "house_data"
   ]
  },
  {
   "cell_type": "code",
   "execution_count": null,
   "metadata": {},
   "outputs": [],
   "source": []
  },
  {
   "cell_type": "code",
   "execution_count": null,
   "metadata": {},
   "outputs": [],
   "source": []
  },
  {
   "cell_type": "code",
   "execution_count": null,
   "metadata": {},
   "outputs": [],
   "source": []
  },
  {
   "cell_type": "code",
   "execution_count": null,
   "metadata": {},
   "outputs": [],
   "source": []
  },
  {
   "cell_type": "code",
   "execution_count": null,
   "metadata": {},
   "outputs": [],
   "source": []
  }
 ],
 "metadata": {
  "kernelspec": {
   "display_name": "Python 3",
   "language": "python",
   "name": "python3"
  },
  "language_info": {
   "codemirror_mode": {
    "name": "ipython",
    "version": 3
   },
   "file_extension": ".py",
   "mimetype": "text/x-python",
   "name": "python",
   "nbconvert_exporter": "python",
   "pygments_lexer": "ipython3",
   "version": "3.8.5"
  }
 },
 "nbformat": 4,
 "nbformat_minor": 4
}
