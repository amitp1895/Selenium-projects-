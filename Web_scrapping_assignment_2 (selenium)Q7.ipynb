{
 "cells": [
  {
   "cell_type": "raw",
   "metadata": {},
   "source": [
    "go the link: https://www.flipkart.com/apple-iphone-11-black-64-gb-includes-earpods-power-adapter/p/itm0f37c2240b217?pid=MOBFKCTSVZAXUHGR&lid=LSTMOBFKCTSVZAXUHGREPBFGI&marketplace."
   ]
  },
  {
   "cell_type": "raw",
   "metadata": {},
   "source": [
    "When you will open the above link you will reach to the below shown webpage.\n",
    "scrap-\n",
    "1. Rating\n",
    "2. Review_summary\n",
    "3. Full review\n",
    "You have to scrape this data for first 100 reviews.\n"
   ]
  },
  {
   "cell_type": "code",
   "execution_count": 14,
   "metadata": {},
   "outputs": [],
   "source": [
    "import numpy as np \n",
    "import pandas as pd \n",
    "import selenium \n",
    "from selenium import webdriver\n",
    "import time \n",
    "#Imporing exception\n",
    "from selenium.common.exceptions import NoSuchElementException"
   ]
  },
  {
   "cell_type": "code",
   "execution_count": 15,
   "metadata": {},
   "outputs": [],
   "source": [
    "driver6=webdriver.Chrome(\"chromedriver.exe\")"
   ]
  },
  {
   "cell_type": "code",
   "execution_count": 16,
   "metadata": {},
   "outputs": [],
   "source": [
    "page=(\"https://www.flipkart.com/apple-iphone-11-black-64-gb-includes-earpods-power-adapter/p/itm0f37c2240b217?pid=MOBFKCTSVZAXUHGR&lid=LSTMOBFKCTSVZAXUHGREPBFGI&marketplace.\")\n",
    "driver6.get(page)"
   ]
  },
  {
   "cell_type": "code",
   "execution_count": 17,
   "metadata": {},
   "outputs": [],
   "source": [
    "#clicking on next button \n",
    "driver6.find_element_by_xpath(\"//div[@class='_3UAT2v _16PBlm']\").click()\n"
   ]
  },
  {
   "cell_type": "code",
   "execution_count": 18,
   "metadata": {},
   "outputs": [
    {
     "name": "stdout",
     "output_type": "stream",
     "text": [
      "10\n"
     ]
    }
   ],
   "source": [
    "urls=[]\n",
    "url_tag=driver6.find_elements_by_xpath(\"//a[@class='ge-49M _2Kfbh8' or @class='ge-49M']\")\n",
    "for i in url_tag:\n",
    "    web=i.get_attribute(\"href\")\n",
    "    urls.append(web)\n",
    "print (len(urls))"
   ]
  },
  {
   "cell_type": "code",
   "execution_count": 23,
   "metadata": {
    "scrolled": true
   },
   "outputs": [
    {
     "name": "stdout",
     "output_type": "stream",
     "text": [
      "title 100\n",
      "full_review 100\n"
     ]
    }
   ],
   "source": [
    "title=[]\n",
    "full_review=[]\n",
    "\n",
    "for i in  urls:\n",
    "    driver6.get(i)\n",
    "\n",
    "        \n",
    "    title_tag=driver6.find_elements_by_xpath(\"//p[@class='_2-N8zT']\")\n",
    "    for k in title_tag:\n",
    "        titl=k.text\n",
    "        title.append(titl)\n",
    "    \n",
    "    review_tag=driver6.find_elements_by_xpath(\"//div[@class='t-ZTKy']\")\n",
    "    for l in review_tag:\n",
    "        rev=l.text\n",
    "        full_review.append(rev)\n",
    "\n",
    "print(\"title\" ,len(title))\n",
    "print(\"full_review\" ,len(full_review))"
   ]
  },
  {
   "cell_type": "code",
   "execution_count": 31,
   "metadata": {},
   "outputs": [
    {
     "name": "stdout",
     "output_type": "stream",
     "text": [
      "rating 100\n"
     ]
    }
   ],
   "source": [
    "#ref 1\n",
    "ratings=[]\n",
    "for i in urls:\n",
    "    driver6.get(i)\n",
    "    \n",
    "    rating_tag=driver6.find_elements_by_xpath(\"//div[@class='_3LWZlK _1BLPMq' or @class='_3LWZlK _1rdVr6 _1BLPMq']\")\n",
    "    for j in rating_tag:\n",
    "        try:\n",
    "            rt=j.text\n",
    "            ratings.append(rt)\n",
    "        except:\n",
    "            ratings.append(\"no rating\")   \n",
    "            \n",
    "print(\"rating\" ,len(ratings))\n",
    "\n",
    "            #reference code gives only 98 values \n",
    "            "
   ]
  },
  {
   "cell_type": "code",
   "execution_count": 32,
   "metadata": {},
   "outputs": [
    {
     "name": "stdout",
     "output_type": "stream",
     "text": [
      "100\n",
      "100\n",
      "100\n"
     ]
    }
   ],
   "source": [
    "print (len(ratings))\n",
    "print (len (title))\n",
    "print(len(full_review))"
   ]
  },
  {
   "cell_type": "code",
   "execution_count": 34,
   "metadata": {},
   "outputs": [],
   "source": [
    "iphone=pd.DataFrame({})\n",
    "iphone[\"rating\"]=ratings\n",
    "iphone[\"titles\"]=title\n",
    "iphone[\"full review\"]=full_review\n",
    "iphone.index=np.arange(1, len(iphone)+1)\n",
    "\n"
   ]
  },
  {
   "cell_type": "code",
   "execution_count": 35,
   "metadata": {},
   "outputs": [
    {
     "data": {
      "text/html": [
       "<div>\n",
       "<style scoped>\n",
       "    .dataframe tbody tr th:only-of-type {\n",
       "        vertical-align: middle;\n",
       "    }\n",
       "\n",
       "    .dataframe tbody tr th {\n",
       "        vertical-align: top;\n",
       "    }\n",
       "\n",
       "    .dataframe thead th {\n",
       "        text-align: right;\n",
       "    }\n",
       "</style>\n",
       "<table border=\"1\" class=\"dataframe\">\n",
       "  <thead>\n",
       "    <tr style=\"text-align: right;\">\n",
       "      <th></th>\n",
       "      <th>rating</th>\n",
       "      <th>titles</th>\n",
       "      <th>full review</th>\n",
       "    </tr>\n",
       "  </thead>\n",
       "  <tbody>\n",
       "    <tr>\n",
       "      <th>1</th>\n",
       "      <td>5</td>\n",
       "      <td>Brilliant</td>\n",
       "      <td>The Best Phone for the Money\\n\\nThe iPhone 11 ...</td>\n",
       "    </tr>\n",
       "    <tr>\n",
       "      <th>2</th>\n",
       "      <td>5</td>\n",
       "      <td>Simply awesome</td>\n",
       "      <td>Really satisfied with the Product I received.....</td>\n",
       "    </tr>\n",
       "    <tr>\n",
       "      <th>3</th>\n",
       "      <td>5</td>\n",
       "      <td>Perfect product!</td>\n",
       "      <td>Amazing phone with great cameras and better ba...</td>\n",
       "    </tr>\n",
       "    <tr>\n",
       "      <th>4</th>\n",
       "      <td>5</td>\n",
       "      <td>Fabulous!</td>\n",
       "      <td>This is my first iOS phone. I am very happy wi...</td>\n",
       "    </tr>\n",
       "    <tr>\n",
       "      <th>5</th>\n",
       "      <td>5</td>\n",
       "      <td>Best in the market!</td>\n",
       "      <td>Great iPhone very snappy experience as apple k...</td>\n",
       "    </tr>\n",
       "    <tr>\n",
       "      <th>...</th>\n",
       "      <td>...</td>\n",
       "      <td>...</td>\n",
       "      <td>...</td>\n",
       "    </tr>\n",
       "    <tr>\n",
       "      <th>96</th>\n",
       "      <td>5</td>\n",
       "      <td>Terrific purchase</td>\n",
       "      <td>I use a Note10+ and have been using both iOS a...</td>\n",
       "    </tr>\n",
       "    <tr>\n",
       "      <th>97</th>\n",
       "      <td>5</td>\n",
       "      <td>Awesome</td>\n",
       "      <td>The phone is completely good\\nAs far as camera...</td>\n",
       "    </tr>\n",
       "    <tr>\n",
       "      <th>98</th>\n",
       "      <td>3</td>\n",
       "      <td>Decent product</td>\n",
       "      <td>Everything u ll like it when u use this iPhone...</td>\n",
       "    </tr>\n",
       "    <tr>\n",
       "      <th>99</th>\n",
       "      <td>5</td>\n",
       "      <td>Awesome</td>\n",
       "      <td>Can’t beat the software and hardware integrati...</td>\n",
       "    </tr>\n",
       "    <tr>\n",
       "      <th>100</th>\n",
       "      <td>5</td>\n",
       "      <td>Brilliant</td>\n",
       "      <td>A wort full value for money decision it’s . Si...</td>\n",
       "    </tr>\n",
       "  </tbody>\n",
       "</table>\n",
       "<p>100 rows × 3 columns</p>\n",
       "</div>"
      ],
      "text/plain": [
       "    rating               titles  \\\n",
       "1        5            Brilliant   \n",
       "2        5       Simply awesome   \n",
       "3        5     Perfect product!   \n",
       "4        5            Fabulous!   \n",
       "5        5  Best in the market!   \n",
       "..     ...                  ...   \n",
       "96       5    Terrific purchase   \n",
       "97       5              Awesome   \n",
       "98       3       Decent product   \n",
       "99       5              Awesome   \n",
       "100      5            Brilliant   \n",
       "\n",
       "                                           full review  \n",
       "1    The Best Phone for the Money\\n\\nThe iPhone 11 ...  \n",
       "2    Really satisfied with the Product I received.....  \n",
       "3    Amazing phone with great cameras and better ba...  \n",
       "4    This is my first iOS phone. I am very happy wi...  \n",
       "5    Great iPhone very snappy experience as apple k...  \n",
       "..                                                 ...  \n",
       "96   I use a Note10+ and have been using both iOS a...  \n",
       "97   The phone is completely good\\nAs far as camera...  \n",
       "98   Everything u ll like it when u use this iPhone...  \n",
       "99   Can’t beat the software and hardware integrati...  \n",
       "100  A wort full value for money decision it’s . Si...  \n",
       "\n",
       "[100 rows x 3 columns]"
      ]
     },
     "execution_count": 35,
     "metadata": {},
     "output_type": "execute_result"
    }
   ],
   "source": [
    "iphone"
   ]
  },
  {
   "cell_type": "code",
   "execution_count": null,
   "metadata": {},
   "outputs": [],
   "source": []
  },
  {
   "cell_type": "code",
   "execution_count": null,
   "metadata": {},
   "outputs": [],
   "source": []
  }
 ],
 "metadata": {
  "kernelspec": {
   "display_name": "Python 3",
   "language": "python",
   "name": "python3"
  },
  "language_info": {
   "codemirror_mode": {
    "name": "ipython",
    "version": 3
   },
   "file_extension": ".py",
   "mimetype": "text/x-python",
   "name": "python",
   "nbconvert_exporter": "python",
   "pygments_lexer": "ipython3",
   "version": "3.8.5"
  }
 },
 "nbformat": 4,
 "nbformat_minor": 4
}
